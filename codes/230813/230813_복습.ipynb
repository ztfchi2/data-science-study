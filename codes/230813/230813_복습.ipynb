{
 "cells": [
  {
   "cell_type": "code",
   "execution_count": 1,
   "id": "31f1d0e2",
   "metadata": {},
   "outputs": [],
   "source": [
    "import numpy as np\n",
    "import pandas as pd\n",
    "\n",
    "from sklearn.ensemble import VotingClassifier\n",
    "from sklearn.linear_model import LogisticRegression\n",
    "from sklearn.neighbors import KNeighborsClassifier\n",
    "from sklearn.tree import DecisionTreeClassifier\n",
    "from sklearn.model_selection import train_test_split\n",
    "from sklearn.metrics import accuracy_score"
   ]
  },
  {
   "cell_type": "code",
   "execution_count": 2,
   "id": "8c689521",
   "metadata": {},
   "outputs": [],
   "source": [
    "import seaborn as sns\n",
    "df = sns.load_dataset(\"titanic\")"
   ]
  },
  {
   "cell_type": "code",
   "execution_count": 3,
   "id": "6354f0ee",
   "metadata": {},
   "outputs": [
    {
     "data": {
      "text/html": [
       "<div>\n",
       "<style scoped>\n",
       "    .dataframe tbody tr th:only-of-type {\n",
       "        vertical-align: middle;\n",
       "    }\n",
       "\n",
       "    .dataframe tbody tr th {\n",
       "        vertical-align: top;\n",
       "    }\n",
       "\n",
       "    .dataframe thead th {\n",
       "        text-align: right;\n",
       "    }\n",
       "</style>\n",
       "<table border=\"1\" class=\"dataframe\">\n",
       "  <thead>\n",
       "    <tr style=\"text-align: right;\">\n",
       "      <th></th>\n",
       "      <th>survived</th>\n",
       "      <th>pclass</th>\n",
       "      <th>sex</th>\n",
       "      <th>age</th>\n",
       "      <th>sibsp</th>\n",
       "      <th>parch</th>\n",
       "      <th>fare</th>\n",
       "      <th>embarked</th>\n",
       "      <th>class</th>\n",
       "      <th>who</th>\n",
       "      <th>adult_male</th>\n",
       "      <th>deck</th>\n",
       "      <th>embark_town</th>\n",
       "      <th>alive</th>\n",
       "      <th>alone</th>\n",
       "    </tr>\n",
       "  </thead>\n",
       "  <tbody>\n",
       "    <tr>\n",
       "      <th>0</th>\n",
       "      <td>0</td>\n",
       "      <td>3</td>\n",
       "      <td>male</td>\n",
       "      <td>22.0</td>\n",
       "      <td>1</td>\n",
       "      <td>0</td>\n",
       "      <td>7.2500</td>\n",
       "      <td>S</td>\n",
       "      <td>Third</td>\n",
       "      <td>man</td>\n",
       "      <td>True</td>\n",
       "      <td>NaN</td>\n",
       "      <td>Southampton</td>\n",
       "      <td>no</td>\n",
       "      <td>False</td>\n",
       "    </tr>\n",
       "    <tr>\n",
       "      <th>1</th>\n",
       "      <td>1</td>\n",
       "      <td>1</td>\n",
       "      <td>female</td>\n",
       "      <td>38.0</td>\n",
       "      <td>1</td>\n",
       "      <td>0</td>\n",
       "      <td>71.2833</td>\n",
       "      <td>C</td>\n",
       "      <td>First</td>\n",
       "      <td>woman</td>\n",
       "      <td>False</td>\n",
       "      <td>C</td>\n",
       "      <td>Cherbourg</td>\n",
       "      <td>yes</td>\n",
       "      <td>False</td>\n",
       "    </tr>\n",
       "    <tr>\n",
       "      <th>2</th>\n",
       "      <td>1</td>\n",
       "      <td>3</td>\n",
       "      <td>female</td>\n",
       "      <td>26.0</td>\n",
       "      <td>0</td>\n",
       "      <td>0</td>\n",
       "      <td>7.9250</td>\n",
       "      <td>S</td>\n",
       "      <td>Third</td>\n",
       "      <td>woman</td>\n",
       "      <td>False</td>\n",
       "      <td>NaN</td>\n",
       "      <td>Southampton</td>\n",
       "      <td>yes</td>\n",
       "      <td>True</td>\n",
       "    </tr>\n",
       "    <tr>\n",
       "      <th>3</th>\n",
       "      <td>1</td>\n",
       "      <td>1</td>\n",
       "      <td>female</td>\n",
       "      <td>35.0</td>\n",
       "      <td>1</td>\n",
       "      <td>0</td>\n",
       "      <td>53.1000</td>\n",
       "      <td>S</td>\n",
       "      <td>First</td>\n",
       "      <td>woman</td>\n",
       "      <td>False</td>\n",
       "      <td>C</td>\n",
       "      <td>Southampton</td>\n",
       "      <td>yes</td>\n",
       "      <td>False</td>\n",
       "    </tr>\n",
       "    <tr>\n",
       "      <th>4</th>\n",
       "      <td>0</td>\n",
       "      <td>3</td>\n",
       "      <td>male</td>\n",
       "      <td>35.0</td>\n",
       "      <td>0</td>\n",
       "      <td>0</td>\n",
       "      <td>8.0500</td>\n",
       "      <td>S</td>\n",
       "      <td>Third</td>\n",
       "      <td>man</td>\n",
       "      <td>True</td>\n",
       "      <td>NaN</td>\n",
       "      <td>Southampton</td>\n",
       "      <td>no</td>\n",
       "      <td>True</td>\n",
       "    </tr>\n",
       "    <tr>\n",
       "      <th>...</th>\n",
       "      <td>...</td>\n",
       "      <td>...</td>\n",
       "      <td>...</td>\n",
       "      <td>...</td>\n",
       "      <td>...</td>\n",
       "      <td>...</td>\n",
       "      <td>...</td>\n",
       "      <td>...</td>\n",
       "      <td>...</td>\n",
       "      <td>...</td>\n",
       "      <td>...</td>\n",
       "      <td>...</td>\n",
       "      <td>...</td>\n",
       "      <td>...</td>\n",
       "      <td>...</td>\n",
       "    </tr>\n",
       "    <tr>\n",
       "      <th>886</th>\n",
       "      <td>0</td>\n",
       "      <td>2</td>\n",
       "      <td>male</td>\n",
       "      <td>27.0</td>\n",
       "      <td>0</td>\n",
       "      <td>0</td>\n",
       "      <td>13.0000</td>\n",
       "      <td>S</td>\n",
       "      <td>Second</td>\n",
       "      <td>man</td>\n",
       "      <td>True</td>\n",
       "      <td>NaN</td>\n",
       "      <td>Southampton</td>\n",
       "      <td>no</td>\n",
       "      <td>True</td>\n",
       "    </tr>\n",
       "    <tr>\n",
       "      <th>887</th>\n",
       "      <td>1</td>\n",
       "      <td>1</td>\n",
       "      <td>female</td>\n",
       "      <td>19.0</td>\n",
       "      <td>0</td>\n",
       "      <td>0</td>\n",
       "      <td>30.0000</td>\n",
       "      <td>S</td>\n",
       "      <td>First</td>\n",
       "      <td>woman</td>\n",
       "      <td>False</td>\n",
       "      <td>B</td>\n",
       "      <td>Southampton</td>\n",
       "      <td>yes</td>\n",
       "      <td>True</td>\n",
       "    </tr>\n",
       "    <tr>\n",
       "      <th>888</th>\n",
       "      <td>0</td>\n",
       "      <td>3</td>\n",
       "      <td>female</td>\n",
       "      <td>NaN</td>\n",
       "      <td>1</td>\n",
       "      <td>2</td>\n",
       "      <td>23.4500</td>\n",
       "      <td>S</td>\n",
       "      <td>Third</td>\n",
       "      <td>woman</td>\n",
       "      <td>False</td>\n",
       "      <td>NaN</td>\n",
       "      <td>Southampton</td>\n",
       "      <td>no</td>\n",
       "      <td>False</td>\n",
       "    </tr>\n",
       "    <tr>\n",
       "      <th>889</th>\n",
       "      <td>1</td>\n",
       "      <td>1</td>\n",
       "      <td>male</td>\n",
       "      <td>26.0</td>\n",
       "      <td>0</td>\n",
       "      <td>0</td>\n",
       "      <td>30.0000</td>\n",
       "      <td>C</td>\n",
       "      <td>First</td>\n",
       "      <td>man</td>\n",
       "      <td>True</td>\n",
       "      <td>C</td>\n",
       "      <td>Cherbourg</td>\n",
       "      <td>yes</td>\n",
       "      <td>True</td>\n",
       "    </tr>\n",
       "    <tr>\n",
       "      <th>890</th>\n",
       "      <td>0</td>\n",
       "      <td>3</td>\n",
       "      <td>male</td>\n",
       "      <td>32.0</td>\n",
       "      <td>0</td>\n",
       "      <td>0</td>\n",
       "      <td>7.7500</td>\n",
       "      <td>Q</td>\n",
       "      <td>Third</td>\n",
       "      <td>man</td>\n",
       "      <td>True</td>\n",
       "      <td>NaN</td>\n",
       "      <td>Queenstown</td>\n",
       "      <td>no</td>\n",
       "      <td>True</td>\n",
       "    </tr>\n",
       "  </tbody>\n",
       "</table>\n",
       "<p>891 rows × 15 columns</p>\n",
       "</div>"
      ],
      "text/plain": [
       "     survived  pclass     sex   age  sibsp  parch     fare embarked   class  \\\n",
       "0           0       3    male  22.0      1      0   7.2500        S   Third   \n",
       "1           1       1  female  38.0      1      0  71.2833        C   First   \n",
       "2           1       3  female  26.0      0      0   7.9250        S   Third   \n",
       "3           1       1  female  35.0      1      0  53.1000        S   First   \n",
       "4           0       3    male  35.0      0      0   8.0500        S   Third   \n",
       "..        ...     ...     ...   ...    ...    ...      ...      ...     ...   \n",
       "886         0       2    male  27.0      0      0  13.0000        S  Second   \n",
       "887         1       1  female  19.0      0      0  30.0000        S   First   \n",
       "888         0       3  female   NaN      1      2  23.4500        S   Third   \n",
       "889         1       1    male  26.0      0      0  30.0000        C   First   \n",
       "890         0       3    male  32.0      0      0   7.7500        Q   Third   \n",
       "\n",
       "       who  adult_male deck  embark_town alive  alone  \n",
       "0      man        True  NaN  Southampton    no  False  \n",
       "1    woman       False    C    Cherbourg   yes  False  \n",
       "2    woman       False  NaN  Southampton   yes   True  \n",
       "3    woman       False    C  Southampton   yes  False  \n",
       "4      man        True  NaN  Southampton    no   True  \n",
       "..     ...         ...  ...          ...   ...    ...  \n",
       "886    man        True  NaN  Southampton    no   True  \n",
       "887  woman       False    B  Southampton   yes   True  \n",
       "888  woman       False  NaN  Southampton    no  False  \n",
       "889    man        True    C    Cherbourg   yes   True  \n",
       "890    man        True  NaN   Queenstown    no   True  \n",
       "\n",
       "[891 rows x 15 columns]"
      ]
     },
     "execution_count": 3,
     "metadata": {},
     "output_type": "execute_result"
    }
   ],
   "source": [
    "df"
   ]
  },
  {
   "cell_type": "markdown",
   "id": "72838a89",
   "metadata": {},
   "source": [
    "### 앙상블 중 voting\n",
    "- 실제 코드와 시각화를 통해서 어떤 식으로 구현되는지 확인해 보기!\n",
    "- 랜덤포레스트 배깅, 부트스트래핑에 대한 예시"
   ]
  },
  {
   "cell_type": "markdown",
   "id": "6f0d6402",
   "metadata": {},
   "source": [
    "- voting을 통해\n",
    "- LogisticRegression\n",
    "- KNeighborsClassifier\n",
    "- DecisionTreeClassifier"
   ]
  },
  {
   "cell_type": "code",
   "execution_count": 4,
   "id": "903d583c",
   "metadata": {},
   "outputs": [
    {
     "name": "stderr",
     "output_type": "stream",
     "text": [
      "C:\\Users\\doram\\AppData\\Local\\Temp\\ipykernel_22104\\2514477028.py:2: SettingWithCopyWarning: \n",
      "A value is trying to be set on a copy of a slice from a DataFrame\n",
      "\n",
      "See the caveats in the documentation: https://pandas.pydata.org/pandas-docs/stable/user_guide/indexing.html#returning-a-view-versus-a-copy\n",
      "  df_tt.dropna(inplace=True)\n"
     ]
    }
   ],
   "source": [
    "df_tt = df[[\"survived\",\"pclass\",\"fare\"]]\n",
    "df_tt.dropna(inplace=True)"
   ]
  },
  {
   "cell_type": "code",
   "execution_count": 5,
   "id": "c347400a",
   "metadata": {},
   "outputs": [
    {
     "data": {
      "text/html": [
       "<div>\n",
       "<style scoped>\n",
       "    .dataframe tbody tr th:only-of-type {\n",
       "        vertical-align: middle;\n",
       "    }\n",
       "\n",
       "    .dataframe tbody tr th {\n",
       "        vertical-align: top;\n",
       "    }\n",
       "\n",
       "    .dataframe thead th {\n",
       "        text-align: right;\n",
       "    }\n",
       "</style>\n",
       "<table border=\"1\" class=\"dataframe\">\n",
       "  <thead>\n",
       "    <tr style=\"text-align: right;\">\n",
       "      <th></th>\n",
       "      <th>survived</th>\n",
       "      <th>pclass</th>\n",
       "      <th>fare</th>\n",
       "    </tr>\n",
       "  </thead>\n",
       "  <tbody>\n",
       "    <tr>\n",
       "      <th>0</th>\n",
       "      <td>0</td>\n",
       "      <td>3</td>\n",
       "      <td>7.2500</td>\n",
       "    </tr>\n",
       "    <tr>\n",
       "      <th>1</th>\n",
       "      <td>1</td>\n",
       "      <td>1</td>\n",
       "      <td>71.2833</td>\n",
       "    </tr>\n",
       "    <tr>\n",
       "      <th>2</th>\n",
       "      <td>1</td>\n",
       "      <td>3</td>\n",
       "      <td>7.9250</td>\n",
       "    </tr>\n",
       "    <tr>\n",
       "      <th>3</th>\n",
       "      <td>1</td>\n",
       "      <td>1</td>\n",
       "      <td>53.1000</td>\n",
       "    </tr>\n",
       "    <tr>\n",
       "      <th>4</th>\n",
       "      <td>0</td>\n",
       "      <td>3</td>\n",
       "      <td>8.0500</td>\n",
       "    </tr>\n",
       "    <tr>\n",
       "      <th>...</th>\n",
       "      <td>...</td>\n",
       "      <td>...</td>\n",
       "      <td>...</td>\n",
       "    </tr>\n",
       "    <tr>\n",
       "      <th>886</th>\n",
       "      <td>0</td>\n",
       "      <td>2</td>\n",
       "      <td>13.0000</td>\n",
       "    </tr>\n",
       "    <tr>\n",
       "      <th>887</th>\n",
       "      <td>1</td>\n",
       "      <td>1</td>\n",
       "      <td>30.0000</td>\n",
       "    </tr>\n",
       "    <tr>\n",
       "      <th>888</th>\n",
       "      <td>0</td>\n",
       "      <td>3</td>\n",
       "      <td>23.4500</td>\n",
       "    </tr>\n",
       "    <tr>\n",
       "      <th>889</th>\n",
       "      <td>1</td>\n",
       "      <td>1</td>\n",
       "      <td>30.0000</td>\n",
       "    </tr>\n",
       "    <tr>\n",
       "      <th>890</th>\n",
       "      <td>0</td>\n",
       "      <td>3</td>\n",
       "      <td>7.7500</td>\n",
       "    </tr>\n",
       "  </tbody>\n",
       "</table>\n",
       "<p>891 rows × 3 columns</p>\n",
       "</div>"
      ],
      "text/plain": [
       "     survived  pclass     fare\n",
       "0           0       3   7.2500\n",
       "1           1       1  71.2833\n",
       "2           1       3   7.9250\n",
       "3           1       1  53.1000\n",
       "4           0       3   8.0500\n",
       "..        ...     ...      ...\n",
       "886         0       2  13.0000\n",
       "887         1       1  30.0000\n",
       "888         0       3  23.4500\n",
       "889         1       1  30.0000\n",
       "890         0       3   7.7500\n",
       "\n",
       "[891 rows x 3 columns]"
      ]
     },
     "execution_count": 5,
     "metadata": {},
     "output_type": "execute_result"
    }
   ],
   "source": [
    "df_tt"
   ]
  },
  {
   "cell_type": "code",
   "execution_count": 6,
   "id": "ee24ce9e",
   "metadata": {},
   "outputs": [
    {
     "name": "stdout",
     "output_type": "stream",
     "text": [
      "0.7206703910614525\n"
     ]
    }
   ],
   "source": [
    "##### soft voting #####\n",
    "# voting에 필요한 모델을 학습하자\n",
    "lr_clf = LogisticRegression(solver=\"liblinear\")\n",
    "knn_clf = KNeighborsClassifier(n_neighbors=3)\n",
    "dt_clf = DecisionTreeClassifier()\n",
    "\n",
    "# voting 불러오기\n",
    "vo_clf = VotingClassifier(estimators=[(\"LR\",lr_clf),(\"KNN\",knn_clf),(\"DT\",dt_clf)], \n",
    "                          voting=\"soft\") # soft\n",
    "\n",
    "feature = df_tt[[\"pclass\",\"fare\"]]\n",
    "feature = np.array(feature)\n",
    "X_train, X_test, y_train, y_test = train_test_split(feature, df_tt[\"survived\"], test_size=0.2, random_state=111)\n",
    "\n",
    "vo_clf.fit(X_train, y_train)\n",
    "pred = vo_clf.predict(X_test)\n",
    "print(accuracy_score(y_test, pred))"
   ]
  },
  {
   "cell_type": "markdown",
   "id": "e0b1a99f",
   "metadata": {},
   "source": [
    "### voting 하이퍼파라미터\n",
    "- estimators: 위의 모델링 선정하는 것\n",
    "- voting: soft, hard\n",
    "- weight: 가중치 (모델에 대한 가중치) [5,4,2] 가중치를 선정하는 것\n",
    "- n_jobs\n",
    "- 기타 구글링\n",
    "\n",
    "\n",
    "- voting classifier, regression\n",
    "- 2가지 가능하다.\n",
    "\n",
    "\n",
    "- 각각 개별적으로 성능을 확인해 보자!"
   ]
  },
  {
   "cell_type": "code",
   "execution_count": 7,
   "id": "f643ca71",
   "metadata": {},
   "outputs": [
    {
     "name": "stdout",
     "output_type": "stream",
     "text": [
      "LogisticRegression 정확도 0.6927\n",
      "KNeighborsClassifier 정확도 0.7263\n",
      "DecisionTreeClassifier 정확도 0.6983\n"
     ]
    }
   ],
   "source": [
    "cls_ct = [lr_clf, knn_clf, dt_clf]\n",
    "\n",
    "for cls in cls_ct:\n",
    "    cls.fit(X_train, y_train)\n",
    "    pred = cls.predict(X_test)\n",
    "    class_name = cls.__class__.__name__\n",
    "    print(\"{0} 정확도 {1:.4f}\".format(class_name, accuracy_score(y_test, pred)))"
   ]
  },
  {
   "cell_type": "markdown",
   "id": "439da054",
   "metadata": {},
   "source": [
    "- 데이터 800개밖에 안 되어서 voting이 좋아보이는 것\n",
    "- 절대 voting이 좋은 건 아니다."
   ]
  },
  {
   "cell_type": "markdown",
   "id": "625d5391",
   "metadata": {},
   "source": [
    "- voting의 파라미터를 수정해 보자!\n",
    "- voting 파라미터를 수정할 수 있지만, 추가로 각 모델링에 대해서도 파라미터를 수정할 수 있다.\n",
    "- 로지스틱, knn, dt에 대해서 최적의 파라미터를 찾고, 그것들을 다 모아서 voting으로 다시 돌릴 수 있다.\n",
    "- 다 같이 묶어서 보팅으로 다시 돌려서 결과가 어떻게 나오는 지 확인도 가능하다.\n",
    "- xgboost, lightgbm, cat, rf 묶어서 해보면 좋다."
   ]
  },
  {
   "cell_type": "code",
   "execution_count": 8,
   "id": "789fb709",
   "metadata": {},
   "outputs": [
    {
     "name": "stdout",
     "output_type": "stream",
     "text": [
      "0.6983240223463687\n"
     ]
    }
   ],
   "source": [
    "##### soft voting w/ weighting #####\n",
    "# voting에 필요한 모델을 학습하자\n",
    "lr_clf = LogisticRegression(solver=\"liblinear\")\n",
    "knn_clf = KNeighborsClassifier(n_neighbors=3)\n",
    "dt_clf = DecisionTreeClassifier()\n",
    "\n",
    "# voting 불러오기\n",
    "vo_clf = VotingClassifier(estimators=[(\"LR\",lr_clf),(\"KNN\",knn_clf),(\"DT\",dt_clf)], \n",
    "                          voting=\"soft\", weights=[1,5,3]) # soft\n",
    "\n",
    "feature = df_tt[[\"pclass\",\"fare\"]]\n",
    "feature = np.array(feature)\n",
    "X_train, X_test, y_train, y_test = train_test_split(feature, df_tt[\"survived\"], test_size=0.2, random_state=111)\n",
    "\n",
    "vo_clf.fit(X_train, y_train)\n",
    "pred = vo_clf.predict(X_test)\n",
    "print(accuracy_score(y_test, pred))"
   ]
  },
  {
   "cell_type": "markdown",
   "id": "99f4047a",
   "metadata": {},
   "source": [
    "- 가중치를 선정할 때 보팅을 사용할 모델이 정확한 파라미터와 성능이 1차로 보증되어야 한다.\n",
    "- 조금씩 수정을 하면서 변경할 수는 있을 것\n",
    "- 위에 나와있는 모델에서 과적합이나 파라미터가 최적이 아닌 상태면 더 좋은 성능을 못 낼 수도 있다.\n",
    "\n",
    "\n",
    "- 보팅이 너무나 좋은 성능을 보이는 건 아니다.\n",
    "- 다양한 알고리즘들이 섞이다보니 복잡한 문제를 해결할 때 좋은 성능을 보일 수는 있다."
   ]
  },
  {
   "cell_type": "markdown",
   "id": "e4d54549",
   "metadata": {},
   "source": [
    "### hard 보팅\n",
    "- soft 보팅을 사용했고, 이제는 hard 보팅을 사용해 보자!"
   ]
  },
  {
   "cell_type": "code",
   "execution_count": 9,
   "id": "0df0b56b",
   "metadata": {},
   "outputs": [
    {
     "name": "stdout",
     "output_type": "stream",
     "text": [
      "0.7262569832402235\n"
     ]
    }
   ],
   "source": [
    "##### hard voting w/ weighting #####\n",
    "# voting에 필요한 모델을 학습하자\n",
    "lr_clf = LogisticRegression(solver=\"liblinear\")\n",
    "knn_clf = KNeighborsClassifier(n_neighbors=3)\n",
    "dt_clf = DecisionTreeClassifier()\n",
    "\n",
    "# voting 불러오기\n",
    "vo_clf = VotingClassifier(estimators=[(\"LR\",lr_clf),(\"KNN\",knn_clf),(\"DT\",dt_clf)], \n",
    "                          voting=\"hard\", weights=[1,5,3]) # hard\n",
    "\n",
    "feature = df_tt[[\"pclass\",\"fare\"]]\n",
    "feature = np.array(feature)\n",
    "X_train, X_test, y_train, y_test = train_test_split(feature, df_tt[\"survived\"], test_size=0.2, random_state=111)\n",
    "\n",
    "vo_clf.fit(X_train, y_train)\n",
    "pred = vo_clf.predict(X_test)\n",
    "print(accuracy_score(y_test, pred))"
   ]
  },
  {
   "cell_type": "markdown",
   "id": "6535653a",
   "metadata": {},
   "source": [
    "- 하드 보팅과 소프트 보팅이 구체적으로 어떤 차이가 있을까?\n",
    "- 하드 보팅은\n",
    "- lr_clf 1 예측, knn_clf 1 예측, dt_clf 0 예측\n",
    "- 다수결로 진행하여 1로 예측\n",
    "- lr_clf, knn_clf 잘몯된 예측을 하면 잘못된 의사결정이 된다.\n",
    "\n",
    "- 소프트 보팅은\n",
    "- 0, 1을 예측 타이타닉\n",
    "- lr_clf [0,1] 확률로 바라보면 0.7 0.3\n",
    "- knn_clf [0,1] 확률로 바라보면 0.2, 0.8\n",
    "- df_clf [0,1] 확률로 바라보면 0.9, 0.1\n",
    "- class의 평균으로 바라본다.\n",
    "- [0,1] 0.6 0.4로 예측한다."
   ]
  },
  {
   "cell_type": "code",
   "execution_count": 10,
   "id": "d0f362bf",
   "metadata": {},
   "outputs": [
    {
     "data": {
      "text/plain": [
       "0.6"
      ]
     },
     "execution_count": 10,
     "metadata": {},
     "output_type": "execute_result"
    }
   ],
   "source": [
    "(0.7+0.2+0.9)/3"
   ]
  },
  {
   "cell_type": "code",
   "execution_count": 11,
   "id": "294fc6ad",
   "metadata": {},
   "outputs": [
    {
     "data": {
      "text/plain": [
       "0.4000000000000001"
      ]
     },
     "execution_count": 11,
     "metadata": {},
     "output_type": "execute_result"
    }
   ],
   "source": [
    "(0.3+0.8+0.1)/3"
   ]
  },
  {
   "cell_type": "code",
   "execution_count": 12,
   "id": "4e8614e9",
   "metadata": {},
   "outputs": [
    {
     "name": "stderr",
     "output_type": "stream",
     "text": [
      "C:\\Users\\doram\\AppData\\Roaming\\Python\\Python39\\site-packages\\sklearn\\inspection\\_plot\\decision_boundary.py:186: UserWarning: The following kwargs were not used by contour: 'response_predict'\n",
      "  self.surface_ = plot_func(self.xx0, self.xx1, self.response, **kwargs)\n",
      "C:\\Users\\doram\\AppData\\Roaming\\Python\\Python39\\site-packages\\sklearn\\inspection\\_plot\\decision_boundary.py:186: UserWarning: The following kwargs were not used by contour: 'response_predict'\n",
      "  self.surface_ = plot_func(self.xx0, self.xx1, self.response, **kwargs)\n",
      "C:\\Users\\doram\\AppData\\Roaming\\Python\\Python39\\site-packages\\sklearn\\inspection\\_plot\\decision_boundary.py:186: UserWarning: The following kwargs were not used by contour: 'response_predict'\n",
      "  self.surface_ = plot_func(self.xx0, self.xx1, self.response, **kwargs)\n",
      "C:\\Users\\doram\\AppData\\Roaming\\Python\\Python39\\site-packages\\sklearn\\inspection\\_plot\\decision_boundary.py:186: UserWarning: The following kwargs were not used by contour: 'response_predict'\n",
      "  self.surface_ = plot_func(self.xx0, self.xx1, self.response, **kwargs)\n"
     ]
    },
    {
     "data": {
      "image/png": "[encoded data removed]",
      "text/plain": [
       "<Figure size 1080x576 with 4 Axes>"
      ]
     },
     "metadata": {
      "needs_background": "light"
     },
     "output_type": "display_data"
    }
   ],
   "source": [
    "##### hard voting w/ weighting #####\n",
    "lr_clf = LogisticRegression(solver=\"liblinear\")\n",
    "knn_clf = KNeighborsClassifier(n_neighbors=3)\n",
    "dt_clf = DecisionTreeClassifier()\n",
    "vo_clf = VotingClassifier(estimators=[(\"LR\",lr_clf),(\"KNN\",knn_clf),(\"DT\",dt_clf)], \n",
    "                          voting=\"hard\", weights=[1,5,3]) # hard\n",
    "\n",
    "lr_clf.fit(X_train, y_train)\n",
    "knn_clf.fit(X_train, y_train)\n",
    "dt_clf.fit(X_train, y_train)\n",
    "vo_clf.fit(X_train, y_train)\n",
    "\n",
    "# 그래프 시각화 하기\n",
    "import matplotlib.pyplot as plt\n",
    "from itertools import product\n",
    "from sklearn.inspection import DecisionBoundaryDisplay\n",
    "\n",
    "f, ax_arr = plt.subplots(2, 2, sharex=\"col\", sharey=\"row\", figsize=(15,8))\n",
    "\n",
    "for idx, clf, tt in zip(product([0,1],[0,1]), \n",
    "                        [lr_clf, knn_clf, dt_clf, vo_clf], \n",
    "                        [\"LR\", \"KNN\", \"DT\", \"hard voting\"]):\n",
    "    DecisionBoundaryDisplay.from_estimator(\n",
    "    clf, X_train, alpha=0.5, ax=ax_arr[idx[0],idx[1]], response_predict=\"predict\")\n",
    "    ax_arr[idx[0], idx[1]].scatter(X_train[:,0], X_train[:,1], c=y_train, s=20, edgecolor=\"k\")\n",
    "    ax_arr[idx[0], idx[1]].set_title(tt)"
   ]
  },
  {
   "cell_type": "code",
   "execution_count": 13,
   "id": "9e383521",
   "metadata": {
    "scrolled": false
   },
   "outputs": [
    {
     "name": "stderr",
     "output_type": "stream",
     "text": [
      "C:\\Users\\doram\\AppData\\Roaming\\Python\\Python39\\site-packages\\sklearn\\inspection\\_plot\\decision_boundary.py:186: UserWarning: The following kwargs were not used by contour: 'response_predict'\n",
      "  self.surface_ = plot_func(self.xx0, self.xx1, self.response, **kwargs)\n",
      "C:\\Users\\doram\\AppData\\Roaming\\Python\\Python39\\site-packages\\sklearn\\inspection\\_plot\\decision_boundary.py:186: UserWarning: The following kwargs were not used by contour: 'response_predict'\n",
      "  self.surface_ = plot_func(self.xx0, self.xx1, self.response, **kwargs)\n",
      "C:\\Users\\doram\\AppData\\Roaming\\Python\\Python39\\site-packages\\sklearn\\inspection\\_plot\\decision_boundary.py:186: UserWarning: The following kwargs were not used by contour: 'response_predict'\n",
      "  self.surface_ = plot_func(self.xx0, self.xx1, self.response, **kwargs)\n",
      "C:\\Users\\doram\\AppData\\Roaming\\Python\\Python39\\site-packages\\sklearn\\inspection\\_plot\\decision_boundary.py:186: UserWarning: The following kwargs were not used by contour: 'response_predict'\n",
      "  self.surface_ = plot_func(self.xx0, self.xx1, self.response, **kwargs)\n"
     ]
    },
    {
     "data": {
      "image/png": "[encoded data removed]",
      "text/plain": [
       "<Figure size 1080x576 with 4 Axes>"
      ]
     },
     "metadata": {
      "needs_background": "light"
     },
     "output_type": "display_data"
    }
   ],
   "source": [
    "##### soft voting w/ weighting #####\n",
    "lr_clf = LogisticRegression(solver=\"liblinear\")\n",
    "knn_clf = KNeighborsClassifier(n_neighbors=3)\n",
    "dt_clf = DecisionTreeClassifier()\n",
    "vo_clf = VotingClassifier(estimators=[(\"LR\",lr_clf),(\"KNN\",knn_clf),(\"DT\",dt_clf)], \n",
    "                          voting=\"soft\", weights=[1,5,3]) # soft\n",
    "\n",
    "lr_clf.fit(X_train, y_train)\n",
    "knn_clf.fit(X_train, y_train)\n",
    "dt_clf.fit(X_train, y_train)\n",
    "vo_clf.fit(X_train, y_train)\n",
    "\n",
    "# 그래프 시각화 하기\n",
    "import matplotlib.pyplot as plt\n",
    "from itertools import product\n",
    "from sklearn.inspection import DecisionBoundaryDisplay\n",
    "\n",
    "f, ax_arr = plt.subplots(2, 2, sharex=\"col\", sharey=\"row\", figsize=(15,8))\n",
    "\n",
    "for idx, clf, tt in zip(product([0,1],[0,1]), \n",
    "                        [lr_clf, knn_clf, dt_clf, vo_clf], \n",
    "                        [\"LR\", \"KNN\", \"DT\", \"soft voting\"]):\n",
    "    DecisionBoundaryDisplay.from_estimator(\n",
    "    clf, X_train, alpha=0.5, ax=ax_arr[idx[0],idx[1]], response_predict=\"predict\")\n",
    "    ax_arr[idx[0], idx[1]].scatter(X_train[:,0], X_train[:,1], c=y_train, s=20, edgecolor=\"k\")\n",
    "    ax_arr[idx[0], idx[1]].set_title(tt)"
   ]
  },
  {
   "cell_type": "markdown",
   "id": "1d86dc0e",
   "metadata": {},
   "source": [
    "### 확률로 판단하여 시각화 확인하기\n",
    "- 클래스에 대한 값을 판단하는지 체크해 보기"
   ]
  },
  {
   "cell_type": "code",
   "execution_count": 14,
   "id": "446bdd69",
   "metadata": {},
   "outputs": [
    {
     "data": {
      "image/png": "[encoded data removed]",
      "text/plain": [
       "<Figure size 432x288 with 1 Axes>"
      ]
     },
     "metadata": {
      "needs_background": "light"
     },
     "output_type": "display_data"
    }
   ],
   "source": [
    "lr_clf = LogisticRegression(solver=\"liblinear\")\n",
    "knn_clf = KNeighborsClassifier(n_neighbors=3)\n",
    "dt_clf = DecisionTreeClassifier()\n",
    "vo_clf = VotingClassifier(estimators=[(\"LR\",lr_clf),(\"KNN\",knn_clf),(\"DT\",dt_clf)], \n",
    "                          voting=\"soft\") # soft\n",
    "probas = [c.fit(X_train, y_train).predict_proba(X_train) for c in (lr_clf, knn_clf, dt_clf, vo_clf)]\n",
    "\n",
    "# get class probabilities for the first sample in the dataset\n",
    "class1_1 = [pr[0, 0] for pr in probas]\n",
    "class2_1 = [pr[0, 1] for pr in probas]\n",
    "\n",
    "# plotting\n",
    "N = 4              # number of groups\n",
    "ind = np.arange(N) # group positions\n",
    "width = 0.35       # bar width\n",
    "\n",
    "fig, ax = plt.subplots()\n",
    "\n",
    "# bars for classifier 1-3\n",
    "p1 = ax.bar(ind, np.hstack(([class1_1[:-1], [0]])), width, color=\"green\", edgecolor=\"k\")\n",
    "p2 = ax.bar(ind + width, np.hstack(([class2_1[:-1], [0]])), width, color=\"lightgreen\", edgecolor=\"k\")\n",
    "\n",
    "# bars for VotingClassifier\n",
    "p3 = ax.bar(ind, [0, 0, 0, class1_1[-1]], width, color=\"blue\", edgecolor=\"k\")\n",
    "p4 = ax.bar(ind + width, [0, 0, 0, class2_1[-1]], width, color=\"steelblue\", edgecolor=\"k\")\n",
    "\n",
    "plt.axvline(2, 8, color=\"k\", linestyle=\"dashed\")\n",
    "ax.set_xticks(ind + width)\n",
    "ax.set_xticklabels([\"LR\", \"KNN\", \"DT\", \"soft Voting\"], rotation=50, ha=\"right\")\n",
    "\n",
    "plt.ylim([0, 1])\n",
    "plt.title(\"Soft Voting Classifier\")\n",
    "plt.legend([p1[0], p2[0]], [\"class 0\", \"class 1\"], loc=\"upper right\")\n",
    "plt.tight_layout()\n",
    "plt.show()"
   ]
  },
  {
   "cell_type": "markdown",
   "id": "63dab390",
   "metadata": {},
   "source": [
    "### 필수과제 1\n",
    "- 기존에 공유드렸던 데이터 중에 직접 voting 모델링을 진행하고, 시각화까지 비교하면서\n",
    "- 어떤 식으로 변화하는지에 대해서 정리해 주세요.\n",
    "- 기본 베이스로만 먼저 보팅을 해보고 -> 그 다음은 튜닝으로 진행\n",
    "- 우리가 배웠던 모델링의 하이퍼파라미터는 다 튜닝해 주셔야 합니다.\n",
    "- 어떤 식으로 바뀌는지를 꼭 정리해 주세요!"
   ]
  },
  {
   "cell_type": "markdown",
   "id": "48074eae",
   "metadata": {},
   "source": [
    "### 랜덤포레스트\n",
    "- 랜덤포레스트는 앙상블인데 배깅의 방식\n",
    "- 앙상블이지만 모델을 여러개 사용하는 게 아니라 데이터를 서브셋으로 나눠서 여러개로 쪼개고 하나의 모델로 학습시키는 방식\n",
    "- 데이터가 나눠지니까 부트스트래핑 방식 (bootstrapping) 분할 방식\n",
    "- 배깅 + bootstrap\n",
    "- 통계학에서 여러개의 작은 데이터셋을 임의로 만들어서 개별에 대한 평균이나 분산을 측정하기 위한 샘플링\n",
    "- 랜덤포레스트는 이 방식을 이용해서 진행하는 것\n",
    "- 데이터셋이 임의로 만들어지고 이 데이터셋을 여러개로 나눠서 학습한다.\n",
    "- 개별 데이터가 중첩되어서도 만들어진다.\n",
    "\n",
    "---\n",
    "- ex)\n",
    "- [파문기, 파문응, 데분기, 데분중, SQL]\n",
    "\n",
    "- 서브셋 1\n",
    "- [파문기, 파문기, 파문기, 파문응, 데분기]\n",
    "- 서브셋 2\n",
    "- [데분기, 파문응, 데분중, SQL, 파문응]\n",
    "- 서브셋 3\n",
    "- [파문기, 파문응, 파문응, 데분중, 데분중]\n",
    "\n",
    "---\n",
    "- 해당 서브셋이 나눠지면 그 데이터를 가지고 학습을 한다 -> 부트스트래핑 분할이라고 한다.\n",
    "- Random Forest라고 명칭하고 개별 데이터셋에 결정 트리 분류기를 적용하는 것\n",
    "- 기존 DT와는 다르게 얘는 데이터를 랜덤하게 서브로 나누기 때문에 과적합에 대해서 어느정도 안정성이 있다.\n",
    "- 과적합을 줄일 수 있다."
   ]
  },
  {
   "cell_type": "markdown",
   "id": "a6e0c765",
   "metadata": {},
   "source": [
    "### 프로젝트에 대해서 사전에 미리 준비하기\n",
    "- 주제는 자유주제\n",
    "- 개인 또는 팀별 진행\n",
    "- 팀이 진행하는 경우는 팀으로만 1번 제출하기\n",
    "- 네이버 카페에 꼭 제출해야 한다."
   ]
  }
 ],
 "metadata": {
  "kernelspec": {
   "display_name": "Python 3 (ipykernel)",
   "language": "python",
   "name": "python3"
  },
  "language_info": {
   "codemirror_mode": {
    "name": "ipython",
    "version": 3
   },
   "file_extension": ".py",
   "mimetype": "text/x-python",
   "name": "python",
   "nbconvert_exporter": "python",
   "pygments_lexer": "ipython3",
   "version": "3.9.12"
  }
 },
 "nbformat": 4,
 "nbformat_minor": 5
}
