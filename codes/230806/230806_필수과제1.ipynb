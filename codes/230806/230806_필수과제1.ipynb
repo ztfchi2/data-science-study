{
 "cells": [
  {
   "cell_type": "markdown",
   "id": "27a9c7c7",
   "metadata": {},
   "source": [
    "### 필수과제 1\n",
    "- 타이타닉 변수들을 바꿔서 시각화 후에 어떤 식으로 과적합이 되는지\n",
    "- 타이타닉 변수 인코딩 등 전처리해서 시각화를 해보시는 것도 추천드립니다."
   ]
  },
  {
   "cell_type": "code",
   "execution_count": 1,
   "id": "3586ab6b",
   "metadata": {},
   "outputs": [],
   "source": [
    "import seaborn as sns\n",
    "import numpy as np\n",
    "import pandas as pd\n",
    "import matplotlib.pyplot as plt"
   ]
  },
  {
   "cell_type": "code",
   "execution_count": 2,
   "id": "dab5a768",
   "metadata": {},
   "outputs": [],
   "source": [
    "from sklearn.tree import DecisionTreeClassifier\n",
    "from sklearn.model_selection import train_test_split\n",
    "import warnings\n",
    "warnings.filterwarnings(\"ignore\")"
   ]
  },
  {
   "cell_type": "code",
   "execution_count": 3,
   "id": "0ddcb640",
   "metadata": {},
   "outputs": [],
   "source": [
    "tt = sns.load_dataset(\"titanic\")"
   ]
  },
  {
   "cell_type": "code",
   "execution_count": 4,
   "id": "1102c78d",
   "metadata": {},
   "outputs": [
    {
     "data": {
      "text/html": [
       "<div>\n",
       "<style scoped>\n",
       "    .dataframe tbody tr th:only-of-type {\n",
       "        vertical-align: middle;\n",
       "    }\n",
       "\n",
       "    .dataframe tbody tr th {\n",
       "        vertical-align: top;\n",
       "    }\n",
       "\n",
       "    .dataframe thead th {\n",
       "        text-align: right;\n",
       "    }\n",
       "</style>\n",
       "<table border=\"1\" class=\"dataframe\">\n",
       "  <thead>\n",
       "    <tr style=\"text-align: right;\">\n",
       "      <th></th>\n",
       "      <th>survived</th>\n",
       "      <th>pclass</th>\n",
       "      <th>sex</th>\n",
       "      <th>age</th>\n",
       "      <th>sibsp</th>\n",
       "      <th>parch</th>\n",
       "      <th>fare</th>\n",
       "      <th>embarked</th>\n",
       "      <th>class</th>\n",
       "      <th>who</th>\n",
       "      <th>adult_male</th>\n",
       "      <th>deck</th>\n",
       "      <th>embark_town</th>\n",
       "      <th>alive</th>\n",
       "      <th>alone</th>\n",
       "    </tr>\n",
       "  </thead>\n",
       "  <tbody>\n",
       "    <tr>\n",
       "      <th>0</th>\n",
       "      <td>0</td>\n",
       "      <td>3</td>\n",
       "      <td>male</td>\n",
       "      <td>22.0</td>\n",
       "      <td>1</td>\n",
       "      <td>0</td>\n",
       "      <td>7.2500</td>\n",
       "      <td>S</td>\n",
       "      <td>Third</td>\n",
       "      <td>man</td>\n",
       "      <td>True</td>\n",
       "      <td>NaN</td>\n",
       "      <td>Southampton</td>\n",
       "      <td>no</td>\n",
       "      <td>False</td>\n",
       "    </tr>\n",
       "    <tr>\n",
       "      <th>1</th>\n",
       "      <td>1</td>\n",
       "      <td>1</td>\n",
       "      <td>female</td>\n",
       "      <td>38.0</td>\n",
       "      <td>1</td>\n",
       "      <td>0</td>\n",
       "      <td>71.2833</td>\n",
       "      <td>C</td>\n",
       "      <td>First</td>\n",
       "      <td>woman</td>\n",
       "      <td>False</td>\n",
       "      <td>C</td>\n",
       "      <td>Cherbourg</td>\n",
       "      <td>yes</td>\n",
       "      <td>False</td>\n",
       "    </tr>\n",
       "    <tr>\n",
       "      <th>2</th>\n",
       "      <td>1</td>\n",
       "      <td>3</td>\n",
       "      <td>female</td>\n",
       "      <td>26.0</td>\n",
       "      <td>0</td>\n",
       "      <td>0</td>\n",
       "      <td>7.9250</td>\n",
       "      <td>S</td>\n",
       "      <td>Third</td>\n",
       "      <td>woman</td>\n",
       "      <td>False</td>\n",
       "      <td>NaN</td>\n",
       "      <td>Southampton</td>\n",
       "      <td>yes</td>\n",
       "      <td>True</td>\n",
       "    </tr>\n",
       "    <tr>\n",
       "      <th>3</th>\n",
       "      <td>1</td>\n",
       "      <td>1</td>\n",
       "      <td>female</td>\n",
       "      <td>35.0</td>\n",
       "      <td>1</td>\n",
       "      <td>0</td>\n",
       "      <td>53.1000</td>\n",
       "      <td>S</td>\n",
       "      <td>First</td>\n",
       "      <td>woman</td>\n",
       "      <td>False</td>\n",
       "      <td>C</td>\n",
       "      <td>Southampton</td>\n",
       "      <td>yes</td>\n",
       "      <td>False</td>\n",
       "    </tr>\n",
       "    <tr>\n",
       "      <th>4</th>\n",
       "      <td>0</td>\n",
       "      <td>3</td>\n",
       "      <td>male</td>\n",
       "      <td>35.0</td>\n",
       "      <td>0</td>\n",
       "      <td>0</td>\n",
       "      <td>8.0500</td>\n",
       "      <td>S</td>\n",
       "      <td>Third</td>\n",
       "      <td>man</td>\n",
       "      <td>True</td>\n",
       "      <td>NaN</td>\n",
       "      <td>Southampton</td>\n",
       "      <td>no</td>\n",
       "      <td>True</td>\n",
       "    </tr>\n",
       "    <tr>\n",
       "      <th>...</th>\n",
       "      <td>...</td>\n",
       "      <td>...</td>\n",
       "      <td>...</td>\n",
       "      <td>...</td>\n",
       "      <td>...</td>\n",
       "      <td>...</td>\n",
       "      <td>...</td>\n",
       "      <td>...</td>\n",
       "      <td>...</td>\n",
       "      <td>...</td>\n",
       "      <td>...</td>\n",
       "      <td>...</td>\n",
       "      <td>...</td>\n",
       "      <td>...</td>\n",
       "      <td>...</td>\n",
       "    </tr>\n",
       "    <tr>\n",
       "      <th>886</th>\n",
       "      <td>0</td>\n",
       "      <td>2</td>\n",
       "      <td>male</td>\n",
       "      <td>27.0</td>\n",
       "      <td>0</td>\n",
       "      <td>0</td>\n",
       "      <td>13.0000</td>\n",
       "      <td>S</td>\n",
       "      <td>Second</td>\n",
       "      <td>man</td>\n",
       "      <td>True</td>\n",
       "      <td>NaN</td>\n",
       "      <td>Southampton</td>\n",
       "      <td>no</td>\n",
       "      <td>True</td>\n",
       "    </tr>\n",
       "    <tr>\n",
       "      <th>887</th>\n",
       "      <td>1</td>\n",
       "      <td>1</td>\n",
       "      <td>female</td>\n",
       "      <td>19.0</td>\n",
       "      <td>0</td>\n",
       "      <td>0</td>\n",
       "      <td>30.0000</td>\n",
       "      <td>S</td>\n",
       "      <td>First</td>\n",
       "      <td>woman</td>\n",
       "      <td>False</td>\n",
       "      <td>B</td>\n",
       "      <td>Southampton</td>\n",
       "      <td>yes</td>\n",
       "      <td>True</td>\n",
       "    </tr>\n",
       "    <tr>\n",
       "      <th>888</th>\n",
       "      <td>0</td>\n",
       "      <td>3</td>\n",
       "      <td>female</td>\n",
       "      <td>NaN</td>\n",
       "      <td>1</td>\n",
       "      <td>2</td>\n",
       "      <td>23.4500</td>\n",
       "      <td>S</td>\n",
       "      <td>Third</td>\n",
       "      <td>woman</td>\n",
       "      <td>False</td>\n",
       "      <td>NaN</td>\n",
       "      <td>Southampton</td>\n",
       "      <td>no</td>\n",
       "      <td>False</td>\n",
       "    </tr>\n",
       "    <tr>\n",
       "      <th>889</th>\n",
       "      <td>1</td>\n",
       "      <td>1</td>\n",
       "      <td>male</td>\n",
       "      <td>26.0</td>\n",
       "      <td>0</td>\n",
       "      <td>0</td>\n",
       "      <td>30.0000</td>\n",
       "      <td>C</td>\n",
       "      <td>First</td>\n",
       "      <td>man</td>\n",
       "      <td>True</td>\n",
       "      <td>C</td>\n",
       "      <td>Cherbourg</td>\n",
       "      <td>yes</td>\n",
       "      <td>True</td>\n",
       "    </tr>\n",
       "    <tr>\n",
       "      <th>890</th>\n",
       "      <td>0</td>\n",
       "      <td>3</td>\n",
       "      <td>male</td>\n",
       "      <td>32.0</td>\n",
       "      <td>0</td>\n",
       "      <td>0</td>\n",
       "      <td>7.7500</td>\n",
       "      <td>Q</td>\n",
       "      <td>Third</td>\n",
       "      <td>man</td>\n",
       "      <td>True</td>\n",
       "      <td>NaN</td>\n",
       "      <td>Queenstown</td>\n",
       "      <td>no</td>\n",
       "      <td>True</td>\n",
       "    </tr>\n",
       "  </tbody>\n",
       "</table>\n",
       "<p>891 rows × 15 columns</p>\n",
       "</div>"
      ],
      "text/plain": [
       "     survived  pclass     sex   age  sibsp  parch     fare embarked   class  \\\n",
       "0           0       3    male  22.0      1      0   7.2500        S   Third   \n",
       "1           1       1  female  38.0      1      0  71.2833        C   First   \n",
       "2           1       3  female  26.0      0      0   7.9250        S   Third   \n",
       "3           1       1  female  35.0      1      0  53.1000        S   First   \n",
       "4           0       3    male  35.0      0      0   8.0500        S   Third   \n",
       "..        ...     ...     ...   ...    ...    ...      ...      ...     ...   \n",
       "886         0       2    male  27.0      0      0  13.0000        S  Second   \n",
       "887         1       1  female  19.0      0      0  30.0000        S   First   \n",
       "888         0       3  female   NaN      1      2  23.4500        S   Third   \n",
       "889         1       1    male  26.0      0      0  30.0000        C   First   \n",
       "890         0       3    male  32.0      0      0   7.7500        Q   Third   \n",
       "\n",
       "       who  adult_male deck  embark_town alive  alone  \n",
       "0      man        True  NaN  Southampton    no  False  \n",
       "1    woman       False    C    Cherbourg   yes  False  \n",
       "2    woman       False  NaN  Southampton   yes   True  \n",
       "3    woman       False    C  Southampton   yes  False  \n",
       "4      man        True  NaN  Southampton    no   True  \n",
       "..     ...         ...  ...          ...   ...    ...  \n",
       "886    man        True  NaN  Southampton    no   True  \n",
       "887  woman       False    B  Southampton   yes   True  \n",
       "888  woman       False  NaN  Southampton    no  False  \n",
       "889    man        True    C    Cherbourg   yes   True  \n",
       "890    man        True  NaN   Queenstown    no   True  \n",
       "\n",
       "[891 rows x 15 columns]"
      ]
     },
     "execution_count": 4,
     "metadata": {},
     "output_type": "execute_result"
    }
   ],
   "source": [
    "tt"
   ]
  },
  {
   "cell_type": "code",
   "execution_count": 5,
   "id": "b939117f",
   "metadata": {},
   "outputs": [
    {
     "name": "stdout",
     "output_type": "stream",
     "text": [
      "<class 'pandas.core.frame.DataFrame'>\n",
      "RangeIndex: 891 entries, 0 to 890\n",
      "Data columns (total 15 columns):\n",
      " #   Column       Non-Null Count  Dtype   \n",
      "---  ------       --------------  -----   \n",
      " 0   survived     891 non-null    int64   \n",
      " 1   pclass       891 non-null    int64   \n",
      " 2   sex          891 non-null    object  \n",
      " 3   age          714 non-null    float64 \n",
      " 4   sibsp        891 non-null    int64   \n",
      " 5   parch        891 non-null    int64   \n",
      " 6   fare         891 non-null    float64 \n",
      " 7   embarked     889 non-null    object  \n",
      " 8   class        891 non-null    category\n",
      " 9   who          891 non-null    object  \n",
      " 10  adult_male   891 non-null    bool    \n",
      " 11  deck         203 non-null    category\n",
      " 12  embark_town  889 non-null    object  \n",
      " 13  alive        891 non-null    object  \n",
      " 14  alone        891 non-null    bool    \n",
      "dtypes: bool(2), category(2), float64(2), int64(4), object(5)\n",
      "memory usage: 80.7+ KB\n"
     ]
    }
   ],
   "source": [
    "tt.info()"
   ]
  },
  {
   "cell_type": "code",
   "execution_count": 6,
   "id": "002e723d",
   "metadata": {},
   "outputs": [
    {
     "data": {
      "text/html": [
       "<div>\n",
       "<style scoped>\n",
       "    .dataframe tbody tr th:only-of-type {\n",
       "        vertical-align: middle;\n",
       "    }\n",
       "\n",
       "    .dataframe tbody tr th {\n",
       "        vertical-align: top;\n",
       "    }\n",
       "\n",
       "    .dataframe thead th {\n",
       "        text-align: right;\n",
       "    }\n",
       "</style>\n",
       "<table border=\"1\" class=\"dataframe\">\n",
       "  <thead>\n",
       "    <tr style=\"text-align: right;\">\n",
       "      <th></th>\n",
       "      <th>survived</th>\n",
       "      <th>pclass</th>\n",
       "      <th>age</th>\n",
       "      <th>sibsp</th>\n",
       "      <th>parch</th>\n",
       "      <th>fare</th>\n",
       "    </tr>\n",
       "  </thead>\n",
       "  <tbody>\n",
       "    <tr>\n",
       "      <th>count</th>\n",
       "      <td>891.000000</td>\n",
       "      <td>891.000000</td>\n",
       "      <td>714.000000</td>\n",
       "      <td>891.000000</td>\n",
       "      <td>891.000000</td>\n",
       "      <td>891.000000</td>\n",
       "    </tr>\n",
       "    <tr>\n",
       "      <th>mean</th>\n",
       "      <td>0.383838</td>\n",
       "      <td>2.308642</td>\n",
       "      <td>29.699118</td>\n",
       "      <td>0.523008</td>\n",
       "      <td>0.381594</td>\n",
       "      <td>32.204208</td>\n",
       "    </tr>\n",
       "    <tr>\n",
       "      <th>std</th>\n",
       "      <td>0.486592</td>\n",
       "      <td>0.836071</td>\n",
       "      <td>14.526497</td>\n",
       "      <td>1.102743</td>\n",
       "      <td>0.806057</td>\n",
       "      <td>49.693429</td>\n",
       "    </tr>\n",
       "    <tr>\n",
       "      <th>min</th>\n",
       "      <td>0.000000</td>\n",
       "      <td>1.000000</td>\n",
       "      <td>0.420000</td>\n",
       "      <td>0.000000</td>\n",
       "      <td>0.000000</td>\n",
       "      <td>0.000000</td>\n",
       "    </tr>\n",
       "    <tr>\n",
       "      <th>25%</th>\n",
       "      <td>0.000000</td>\n",
       "      <td>2.000000</td>\n",
       "      <td>20.125000</td>\n",
       "      <td>0.000000</td>\n",
       "      <td>0.000000</td>\n",
       "      <td>7.910400</td>\n",
       "    </tr>\n",
       "    <tr>\n",
       "      <th>50%</th>\n",
       "      <td>0.000000</td>\n",
       "      <td>3.000000</td>\n",
       "      <td>28.000000</td>\n",
       "      <td>0.000000</td>\n",
       "      <td>0.000000</td>\n",
       "      <td>14.454200</td>\n",
       "    </tr>\n",
       "    <tr>\n",
       "      <th>75%</th>\n",
       "      <td>1.000000</td>\n",
       "      <td>3.000000</td>\n",
       "      <td>38.000000</td>\n",
       "      <td>1.000000</td>\n",
       "      <td>0.000000</td>\n",
       "      <td>31.000000</td>\n",
       "    </tr>\n",
       "    <tr>\n",
       "      <th>max</th>\n",
       "      <td>1.000000</td>\n",
       "      <td>3.000000</td>\n",
       "      <td>80.000000</td>\n",
       "      <td>8.000000</td>\n",
       "      <td>6.000000</td>\n",
       "      <td>512.329200</td>\n",
       "    </tr>\n",
       "  </tbody>\n",
       "</table>\n",
       "</div>"
      ],
      "text/plain": [
       "         survived      pclass         age       sibsp       parch        fare\n",
       "count  891.000000  891.000000  714.000000  891.000000  891.000000  891.000000\n",
       "mean     0.383838    2.308642   29.699118    0.523008    0.381594   32.204208\n",
       "std      0.486592    0.836071   14.526497    1.102743    0.806057   49.693429\n",
       "min      0.000000    1.000000    0.420000    0.000000    0.000000    0.000000\n",
       "25%      0.000000    2.000000   20.125000    0.000000    0.000000    7.910400\n",
       "50%      0.000000    3.000000   28.000000    0.000000    0.000000   14.454200\n",
       "75%      1.000000    3.000000   38.000000    1.000000    0.000000   31.000000\n",
       "max      1.000000    3.000000   80.000000    8.000000    6.000000  512.329200"
      ]
     },
     "execution_count": 6,
     "metadata": {},
     "output_type": "execute_result"
    }
   ],
   "source": [
    "tt.describe()"
   ]
  },
  {
   "cell_type": "code",
   "execution_count": 7,
   "id": "0c3a91b9",
   "metadata": {},
   "outputs": [
    {
     "data": {
      "text/plain": [
       "survived         0\n",
       "pclass           0\n",
       "sex              0\n",
       "age            177\n",
       "sibsp            0\n",
       "parch            0\n",
       "fare             0\n",
       "embarked         2\n",
       "class            0\n",
       "who              0\n",
       "adult_male       0\n",
       "deck           688\n",
       "embark_town      2\n",
       "alive            0\n",
       "alone            0\n",
       "dtype: int64"
      ]
     },
     "execution_count": 7,
     "metadata": {},
     "output_type": "execute_result"
    }
   ],
   "source": [
    "# 결측치 확인\n",
    "tt.isna().sum()"
   ]
  },
  {
   "cell_type": "markdown",
   "id": "84e4f254",
   "metadata": {},
   "source": [
    "- age는 중앙값, embarked와 embark_town은 최빈값으로 대체\n",
    "- deck는 결측치가 너무 많으므로 제거"
   ]
  },
  {
   "cell_type": "code",
   "execution_count": 8,
   "id": "17252213",
   "metadata": {},
   "outputs": [
    {
     "name": "stdout",
     "output_type": "stream",
     "text": [
      "28.0\n",
      "S\n",
      "Southampton\n"
     ]
    }
   ],
   "source": [
    "import statistics as stat\n",
    "\n",
    "print(np.nanmedian(tt.age))\n",
    "print(stat.mode(tt.embarked))\n",
    "print(stat.mode(tt.embark_town))"
   ]
  },
  {
   "cell_type": "code",
   "execution_count": 9,
   "id": "4f2903d6",
   "metadata": {},
   "outputs": [],
   "source": [
    "tt[\"age\"].fillna(28.0, inplace=True)\n",
    "tt[\"embarked\"].fillna(\"S\", inplace=True)\n",
    "tt[\"embark_town\"].fillna(\"Southampton\", inplace=True)"
   ]
  },
  {
   "cell_type": "code",
   "execution_count": 10,
   "id": "ddb1faf9",
   "metadata": {},
   "outputs": [],
   "source": [
    "tt.drop([\"deck\"], axis=1, inplace=True)"
   ]
  },
  {
   "cell_type": "code",
   "execution_count": 11,
   "id": "a40dc489",
   "metadata": {},
   "outputs": [
    {
     "data": {
      "text/plain": [
       "survived       0\n",
       "pclass         0\n",
       "sex            0\n",
       "age            0\n",
       "sibsp          0\n",
       "parch          0\n",
       "fare           0\n",
       "embarked       0\n",
       "class          0\n",
       "who            0\n",
       "adult_male     0\n",
       "embark_town    0\n",
       "alive          0\n",
       "alone          0\n",
       "dtype: int64"
      ]
     },
     "execution_count": 11,
     "metadata": {},
     "output_type": "execute_result"
    }
   ],
   "source": [
    "# 결측치가 성공적으로 제거됨\n",
    "tt.isna().sum()"
   ]
  },
  {
   "cell_type": "code",
   "execution_count": 12,
   "id": "f34feba8",
   "metadata": {},
   "outputs": [],
   "source": [
    "# 범주형 자료에 대해 레이블 인코딩 (중복 정보 제외)\n",
    "from sklearn.preprocessing import LabelEncoder\n",
    "\n",
    "encoder1 = LabelEncoder()\n",
    "encoder2 = LabelEncoder()\n",
    "tt[\"sex\"] = encoder1.fit_transform(tt[\"sex\"])\n",
    "tt[\"embarked\"] = encoder2.fit_transform(tt[\"embarked\"])"
   ]
  },
  {
   "cell_type": "code",
   "execution_count": 13,
   "id": "d6fcb854",
   "metadata": {},
   "outputs": [
    {
     "name": "stdout",
     "output_type": "stream",
     "text": [
      "<class 'pandas.core.frame.DataFrame'>\n",
      "RangeIndex: 891 entries, 0 to 890\n",
      "Data columns (total 14 columns):\n",
      " #   Column       Non-Null Count  Dtype   \n",
      "---  ------       --------------  -----   \n",
      " 0   survived     891 non-null    int64   \n",
      " 1   pclass       891 non-null    int64   \n",
      " 2   sex          891 non-null    int32   \n",
      " 3   age          891 non-null    float64 \n",
      " 4   sibsp        891 non-null    int64   \n",
      " 5   parch        891 non-null    int64   \n",
      " 6   fare         891 non-null    float64 \n",
      " 7   embarked     891 non-null    int32   \n",
      " 8   class        891 non-null    category\n",
      " 9   who          891 non-null    object  \n",
      " 10  adult_male   891 non-null    bool    \n",
      " 11  embark_town  891 non-null    object  \n",
      " 12  alive        891 non-null    object  \n",
      " 13  alone        891 non-null    bool    \n",
      "dtypes: bool(2), category(1), float64(2), int32(2), int64(4), object(3)\n",
      "memory usage: 72.5+ KB\n"
     ]
    }
   ],
   "source": [
    "# 성공적으로 인코딩됨\n",
    "tt.info()"
   ]
  },
  {
   "cell_type": "code",
   "execution_count": 14,
   "id": "4c20c9d6",
   "metadata": {},
   "outputs": [],
   "source": [
    "# Classifier의 Decision Boundary를 시각화하는 함수\n",
    "def visualize_boundary(model, X, y):\n",
    "    fig, ax = plt.subplots()\n",
    "    \n",
    "    # train data scatter plot으로 나타내기\n",
    "    ax.scatter(X.iloc[:, 0], X.iloc[:, 1], c=y, s=25, cmap=\"rainbow\", edgecolor=\"k\", \n",
    "               clim=(y.min(), y.max()), zorder=3)\n",
    "    ax.axis(\"tight\")\n",
    "    ax.axis(\"off\")\n",
    "    xlim_start, xlim_end = ax.get_xlim()\n",
    "    ylim_start, ylim_end = ax.get_ylim()\n",
    "    \n",
    "    # 호출 파라미터로 들어온 train data model 학습\n",
    "    model.fit(X, y)\n",
    "    \n",
    "    # meshgrid 형태인 모든 좌표값으로 예측 수행\n",
    "    xx, yy = np.meshgrid(np.linspace(xlim_start, xlim_end, num=200), np.linspace(ylim_start, ylim_end, num=200))\n",
    "    Z = model.predict(np.c_[xx.ravel(), yy.ravel()]).reshape(xx.shape)\n",
    "    \n",
    "    # contourf()를 이용하여 class boundary를 visualization 수행\n",
    "    n_classes = len(np.unique(y))\n",
    "    contours = ax.contourf(xx, yy, Z, alpha=0.3, \n",
    "                           levels=np.arange(n_classes + 1) - 0.5, \n",
    "                           cmap=\"rainbow\", clim=(y.min(), y.max()), zorder=1)"
   ]
  },
  {
   "cell_type": "code",
   "execution_count": 15,
   "id": "5f6bbe26",
   "metadata": {},
   "outputs": [
    {
     "data": {
      "image/png": "[encoded data removed]",
      "text/plain": [
       "<Figure size 432x288 with 1 Axes>"
      ]
     },
     "metadata": {
      "needs_background": "light"
     },
     "output_type": "display_data"
    }
   ],
   "source": [
    "# 학습 진행하기\n",
    "dt_clf = DecisionTreeClassifier(random_state=156)\n",
    "\n",
    "X_train, X_test, y_train, y_test = train_test_split(tt[[\"adult_male\",\"parch\"]], \n",
    "                                                    tt[\"survived\"], \n",
    "                                                    test_size=0.3, random_state=111)\n",
    "dt_clf.fit(X_train, y_train)\n",
    "\n",
    "df_clf = DecisionTreeClassifier().fit(X_train, y_train)\n",
    "visualize_boundary(dt_clf, tt[[\"adult_male\",\"parch\"]], tt[\"survived\"])"
   ]
  },
  {
   "cell_type": "code",
   "execution_count": 16,
   "id": "849a1a82",
   "metadata": {},
   "outputs": [
    {
     "data": {
      "image/png": "[encoded data removed]",
      "text/plain": [
       "<Figure size 432x288 with 1 Axes>"
      ]
     },
     "metadata": {
      "needs_background": "light"
     },
     "output_type": "display_data"
    }
   ],
   "source": [
    "dt_clf = DecisionTreeClassifier(random_state=156, max_depth=1)\n",
    "\n",
    "X_train, X_test, y_train, y_test = train_test_split(tt[[\"adult_male\",\"parch\"]], \n",
    "                                                    tt[\"survived\"], \n",
    "                                                    test_size=0.3, random_state=111)\n",
    "dt_clf.fit(X_train, y_train)\n",
    "\n",
    "df_clf = DecisionTreeClassifier().fit(X_train, y_train)\n",
    "visualize_boundary(dt_clf, tt[[\"adult_male\",\"parch\"]], tt[\"survived\"])"
   ]
  },
  {
   "cell_type": "code",
   "execution_count": 17,
   "id": "a364f52b",
   "metadata": {},
   "outputs": [
    {
     "data": {
      "image/png": "[encoded data removed]",
      "text/plain": [
       "<Figure size 432x288 with 1 Axes>"
      ]
     },
     "metadata": {
      "needs_background": "light"
     },
     "output_type": "display_data"
    }
   ],
   "source": [
    "dt_clf = DecisionTreeClassifier(random_state=156)\n",
    "\n",
    "X_train, X_test, y_train, y_test = train_test_split(tt[[\"pclass\",\"sibsp\"]], \n",
    "                                                    tt[\"survived\"], \n",
    "                                                    test_size=0.3, random_state=111)\n",
    "dt_clf.fit(X_train, y_train)\n",
    "\n",
    "df_clf = DecisionTreeClassifier().fit(X_train, y_train)\n",
    "visualize_boundary(dt_clf, tt[[\"pclass\",\"sibsp\"]], tt[\"survived\"])"
   ]
  },
  {
   "cell_type": "code",
   "execution_count": 18,
   "id": "360fc546",
   "metadata": {},
   "outputs": [
    {
     "data": {
      "image/png": "[encoded data removed]",
      "text/plain": [
       "<Figure size 432x288 with 1 Axes>"
      ]
     },
     "metadata": {
      "needs_background": "light"
     },
     "output_type": "display_data"
    }
   ],
   "source": [
    "dt_clf = DecisionTreeClassifier(random_state=156, max_depth=4)\n",
    "\n",
    "X_train, X_test, y_train, y_test = train_test_split(tt[[\"pclass\",\"sibsp\"]], \n",
    "                                                    tt[\"survived\"], \n",
    "                                                    test_size=0.3, random_state=111)\n",
    "dt_clf.fit(X_train, y_train)\n",
    "\n",
    "df_clf = DecisionTreeClassifier().fit(X_train, y_train)\n",
    "visualize_boundary(dt_clf, tt[[\"pclass\",\"sibsp\"]], tt[\"survived\"])"
   ]
  },
  {
   "cell_type": "code",
   "execution_count": 19,
   "id": "bdc5eb92",
   "metadata": {},
   "outputs": [
    {
     "data": {
      "image/png": "[encoded data removed]",
      "text/plain": [
       "<Figure size 432x288 with 1 Axes>"
      ]
     },
     "metadata": {
      "needs_background": "light"
     },
     "output_type": "display_data"
    }
   ],
   "source": [
    "dt_clf = DecisionTreeClassifier(random_state=156, max_depth=2)\n",
    "\n",
    "X_train, X_test, y_train, y_test = train_test_split(tt[[\"pclass\",\"sibsp\"]], \n",
    "                                                    tt[\"survived\"], \n",
    "                                                    test_size=0.3, random_state=111)\n",
    "dt_clf.fit(X_train, y_train)\n",
    "\n",
    "df_clf = DecisionTreeClassifier().fit(X_train, y_train)\n",
    "visualize_boundary(dt_clf, tt[[\"pclass\",\"sibsp\"]], tt[\"survived\"])"
   ]
  },
  {
   "cell_type": "code",
   "execution_count": 20,
   "id": "4861ba46",
   "metadata": {},
   "outputs": [
    {
     "data": {
      "image/png": "[encoded data removed]",
      "text/plain": [
       "<Figure size 432x288 with 1 Axes>"
      ]
     },
     "metadata": {
      "needs_background": "light"
     },
     "output_type": "display_data"
    }
   ],
   "source": [
    "dt_clf = DecisionTreeClassifier(random_state=156, max_depth=1)\n",
    "\n",
    "X_train, X_test, y_train, y_test = train_test_split(tt[[\"pclass\",\"sibsp\"]], \n",
    "                                                    tt[\"survived\"], \n",
    "                                                    test_size=0.3, random_state=111)\n",
    "dt_clf.fit(X_train, y_train)\n",
    "\n",
    "df_clf = DecisionTreeClassifier().fit(X_train, y_train)\n",
    "visualize_boundary(dt_clf, tt[[\"pclass\",\"sibsp\"]], tt[\"survived\"])"
   ]
  },
  {
   "cell_type": "code",
   "execution_count": 21,
   "id": "8b734e2e",
   "metadata": {},
   "outputs": [
    {
     "data": {
      "image/png": "[encoded data removed]",
      "text/plain": [
       "<Figure size 432x288 with 1 Axes>"
      ]
     },
     "metadata": {
      "needs_background": "light"
     },
     "output_type": "display_data"
    }
   ],
   "source": [
    "dt_clf = DecisionTreeClassifier(random_state=156)\n",
    "\n",
    "X_train, X_test, y_train, y_test = train_test_split(tt[[\"adult_male\",\"fare\"]], \n",
    "                                                    tt[\"survived\"], \n",
    "                                                    test_size=0.3, random_state=111)\n",
    "dt_clf.fit(X_train, y_train)\n",
    "\n",
    "df_clf = DecisionTreeClassifier().fit(X_train, y_train)\n",
    "visualize_boundary(dt_clf, tt[[\"adult_male\",\"fare\"]], tt[\"survived\"])"
   ]
  },
  {
   "cell_type": "code",
   "execution_count": 22,
   "id": "9e7743e5",
   "metadata": {},
   "outputs": [
    {
     "data": {
      "image/png": "[encoded data removed]",
      "text/plain": [
       "<Figure size 432x288 with 1 Axes>"
      ]
     },
     "metadata": {
      "needs_background": "light"
     },
     "output_type": "display_data"
    }
   ],
   "source": [
    "dt_clf = DecisionTreeClassifier(random_state=156, min_samples_leaf=5)\n",
    "\n",
    "X_train, X_test, y_train, y_test = train_test_split(tt[[\"adult_male\",\"fare\"]], \n",
    "                                                    tt[\"survived\"], \n",
    "                                                    test_size=0.3, random_state=111)\n",
    "dt_clf.fit(X_train, y_train)\n",
    "\n",
    "df_clf = DecisionTreeClassifier().fit(X_train, y_train)\n",
    "visualize_boundary(dt_clf, tt[[\"adult_male\",\"fare\"]], tt[\"survived\"])"
   ]
  },
  {
   "cell_type": "code",
   "execution_count": 23,
   "id": "8f8db303",
   "metadata": {},
   "outputs": [
    {
     "data": {
      "image/png": "[encoded data removed]",
      "text/plain": [
       "<Figure size 432x288 with 1 Axes>"
      ]
     },
     "metadata": {
      "needs_background": "light"
     },
     "output_type": "display_data"
    }
   ],
   "source": [
    "dt_clf = DecisionTreeClassifier(random_state=156, max_depth=5, min_samples_leaf=5)\n",
    "\n",
    "X_train, X_test, y_train, y_test = train_test_split(tt[[\"adult_male\",\"fare\"]], \n",
    "                                                    tt[\"survived\"], \n",
    "                                                    test_size=0.3, random_state=111)\n",
    "dt_clf.fit(X_train, y_train)\n",
    "\n",
    "df_clf = DecisionTreeClassifier().fit(X_train, y_train)\n",
    "visualize_boundary(dt_clf, tt[[\"adult_male\",\"fare\"]], tt[\"survived\"])"
   ]
  },
  {
   "cell_type": "code",
   "execution_count": 24,
   "id": "ee7d9d3e",
   "metadata": {},
   "outputs": [
    {
     "data": {
      "image/png": "[encoded data removed]",
      "text/plain": [
       "<Figure size 432x288 with 1 Axes>"
      ]
     },
     "metadata": {
      "needs_background": "light"
     },
     "output_type": "display_data"
    }
   ],
   "source": [
    "dt_clf = DecisionTreeClassifier(random_state=156, max_depth=2, min_samples_leaf=5)\n",
    "\n",
    "X_train, X_test, y_train, y_test = train_test_split(tt[[\"adult_male\",\"fare\"]], \n",
    "                                                    tt[\"survived\"], \n",
    "                                                    test_size=0.3, random_state=111)\n",
    "dt_clf.fit(X_train, y_train)\n",
    "\n",
    "df_clf = DecisionTreeClassifier().fit(X_train, y_train)\n",
    "visualize_boundary(dt_clf, tt[[\"adult_male\",\"fare\"]], tt[\"survived\"])"
   ]
  },
  {
   "cell_type": "code",
   "execution_count": 25,
   "id": "f4e4a5cc",
   "metadata": {},
   "outputs": [
    {
     "data": {
      "image/png": "[encoded data removed]",
      "text/plain": [
       "<Figure size 432x288 with 1 Axes>"
      ]
     },
     "metadata": {
      "needs_background": "light"
     },
     "output_type": "display_data"
    }
   ],
   "source": [
    "dt_clf = DecisionTreeClassifier(random_state=156)\n",
    "\n",
    "X_train, X_test, y_train, y_test = train_test_split(tt[[\"embarked\",\"age\"]], \n",
    "                                                    tt[\"survived\"], \n",
    "                                                    test_size=0.3, random_state=111)\n",
    "dt_clf.fit(X_train, y_train)\n",
    "\n",
    "df_clf = DecisionTreeClassifier().fit(X_train, y_train)\n",
    "visualize_boundary(dt_clf, tt[[\"embarked\",\"age\"]], tt[\"survived\"])"
   ]
  },
  {
   "cell_type": "code",
   "execution_count": 26,
   "id": "f7200e47",
   "metadata": {},
   "outputs": [
    {
     "data": {
      "image/png": "[encoded data removed]",
      "text/plain": [
       "<Figure size 432x288 with 1 Axes>"
      ]
     },
     "metadata": {
      "needs_background": "light"
     },
     "output_type": "display_data"
    }
   ],
   "source": [
    "dt_clf = DecisionTreeClassifier(random_state=156, ccp_alpha=0.5)\n",
    "\n",
    "X_train, X_test, y_train, y_test = train_test_split(tt[[\"embarked\",\"age\"]], \n",
    "                                                    tt[\"survived\"], \n",
    "                                                    test_size=0.3, random_state=111)\n",
    "dt_clf.fit(X_train, y_train)\n",
    "\n",
    "df_clf = DecisionTreeClassifier().fit(X_train, y_train)\n",
    "visualize_boundary(dt_clf, tt[[\"embarked\",\"age\"]], tt[\"survived\"])"
   ]
  },
  {
   "cell_type": "code",
   "execution_count": 27,
   "id": "1af44609",
   "metadata": {},
   "outputs": [
    {
     "data": {
      "image/png": "[encoded data removed]",
      "text/plain": [
       "<Figure size 432x288 with 1 Axes>"
      ]
     },
     "metadata": {
      "needs_background": "light"
     },
     "output_type": "display_data"
    }
   ],
   "source": [
    "dt_clf = DecisionTreeClassifier(random_state=156, max_depth=5)\n",
    "\n",
    "X_train, X_test, y_train, y_test = train_test_split(tt[[\"embarked\",\"age\"]], \n",
    "                                                    tt[\"survived\"], \n",
    "                                                    test_size=0.3, random_state=111)\n",
    "dt_clf.fit(X_train, y_train)\n",
    "\n",
    "df_clf = DecisionTreeClassifier().fit(X_train, y_train)\n",
    "visualize_boundary(dt_clf, tt[[\"embarked\",\"age\"]], tt[\"survived\"])"
   ]
  },
  {
   "cell_type": "code",
   "execution_count": 28,
   "id": "834921b8",
   "metadata": {},
   "outputs": [
    {
     "data": {
      "image/png": "[encoded data removed]",
      "text/plain": [
       "<Figure size 432x288 with 1 Axes>"
      ]
     },
     "metadata": {
      "needs_background": "light"
     },
     "output_type": "display_data"
    }
   ],
   "source": [
    "dt_clf = DecisionTreeClassifier(random_state=156, max_depth=5, min_samples_leaf=5)\n",
    "\n",
    "X_train, X_test, y_train, y_test = train_test_split(tt[[\"embarked\",\"age\"]], \n",
    "                                                    tt[\"survived\"], \n",
    "                                                    test_size=0.3, random_state=111)\n",
    "dt_clf.fit(X_train, y_train)\n",
    "\n",
    "df_clf = DecisionTreeClassifier().fit(X_train, y_train)\n",
    "visualize_boundary(dt_clf, tt[[\"embarked\",\"age\"]], tt[\"survived\"])"
   ]
  },
  {
   "cell_type": "code",
   "execution_count": 29,
   "id": "b9eedbd7",
   "metadata": {},
   "outputs": [
    {
     "data": {
      "image/png": "[encoded data removed]",
      "text/plain": [
       "<Figure size 432x288 with 1 Axes>"
      ]
     },
     "metadata": {
      "needs_background": "light"
     },
     "output_type": "display_data"
    }
   ],
   "source": [
    "dt_clf = DecisionTreeClassifier(random_state=156, max_depth=4, min_samples_leaf=5)\n",
    "\n",
    "X_train, X_test, y_train, y_test = train_test_split(tt[[\"embarked\",\"age\"]], \n",
    "                                                    tt[\"survived\"], \n",
    "                                                    test_size=0.3, random_state=111)\n",
    "dt_clf.fit(X_train, y_train)\n",
    "\n",
    "df_clf = DecisionTreeClassifier().fit(X_train, y_train)\n",
    "visualize_boundary(dt_clf, tt[[\"embarked\",\"age\"]], tt[\"survived\"])"
   ]
  },
  {
   "cell_type": "code",
   "execution_count": 30,
   "id": "901bed4e",
   "metadata": {},
   "outputs": [
    {
     "data": {
      "image/png": "[encoded data removed]",
      "text/plain": [
       "<Figure size 432x288 with 1 Axes>"
      ]
     },
     "metadata": {
      "needs_background": "light"
     },
     "output_type": "display_data"
    }
   ],
   "source": [
    "dt_clf = DecisionTreeClassifier(random_state=156, max_depth=3, min_samples_leaf=5)\n",
    "\n",
    "X_train, X_test, y_train, y_test = train_test_split(tt[[\"embarked\",\"age\"]], \n",
    "                                                    tt[\"survived\"], \n",
    "                                                    test_size=0.3, random_state=111)\n",
    "dt_clf.fit(X_train, y_train)\n",
    "\n",
    "df_clf = DecisionTreeClassifier().fit(X_train, y_train)\n",
    "visualize_boundary(dt_clf, tt[[\"embarked\",\"age\"]], tt[\"survived\"])"
   ]
  },
  {
   "cell_type": "code",
   "execution_count": 31,
   "id": "679afd67",
   "metadata": {},
   "outputs": [
    {
     "data": {
      "image/png": "[encoded data removed]",
      "text/plain": [
       "<Figure size 432x288 with 1 Axes>"
      ]
     },
     "metadata": {
      "needs_background": "light"
     },
     "output_type": "display_data"
    }
   ],
   "source": [
    "dt_clf = DecisionTreeClassifier(random_state=156)\n",
    "\n",
    "X_train, X_test, y_train, y_test = train_test_split(tt[[\"sex\",\"age\"]], \n",
    "                                                    tt[\"survived\"], \n",
    "                                                    test_size=0.3, random_state=111)\n",
    "dt_clf.fit(X_train, y_train)\n",
    "\n",
    "df_clf = DecisionTreeClassifier().fit(X_train, y_train)\n",
    "visualize_boundary(dt_clf, tt[[\"sex\",\"age\"]], tt[\"survived\"])"
   ]
  },
  {
   "cell_type": "code",
   "execution_count": 32,
   "id": "6fd5060b",
   "metadata": {},
   "outputs": [
    {
     "data": {
      "image/png": "[encoded data removed]",
      "text/plain": [
       "<Figure size 432x288 with 1 Axes>"
      ]
     },
     "metadata": {
      "needs_background": "light"
     },
     "output_type": "display_data"
    }
   ],
   "source": [
    "dt_clf = DecisionTreeClassifier(random_state=156, max_depth=5, min_samples_split=10)\n",
    "\n",
    "X_train, X_test, y_train, y_test = train_test_split(tt[[\"sex\",\"age\"]], \n",
    "                                                    tt[\"survived\"], \n",
    "                                                    test_size=0.3, random_state=111)\n",
    "dt_clf.fit(X_train, y_train)\n",
    "\n",
    "df_clf = DecisionTreeClassifier().fit(X_train, y_train)\n",
    "visualize_boundary(dt_clf, tt[[\"sex\",\"age\"]], tt[\"survived\"])"
   ]
  },
  {
   "cell_type": "code",
   "execution_count": 33,
   "id": "b8252a74",
   "metadata": {},
   "outputs": [
    {
     "data": {
      "image/png": "[encoded data removed]",
      "text/plain": [
       "<Figure size 432x288 with 1 Axes>"
      ]
     },
     "metadata": {
      "needs_background": "light"
     },
     "output_type": "display_data"
    }
   ],
   "source": [
    "dt_clf = DecisionTreeClassifier(random_state=156, max_depth=4, min_samples_split=10)\n",
    "\n",
    "X_train, X_test, y_train, y_test = train_test_split(tt[[\"sex\",\"age\"]], \n",
    "                                                    tt[\"survived\"], \n",
    "                                                    test_size=0.3, random_state=111)\n",
    "dt_clf.fit(X_train, y_train)\n",
    "\n",
    "df_clf = DecisionTreeClassifier().fit(X_train, y_train)\n",
    "visualize_boundary(dt_clf, tt[[\"sex\",\"age\"]], tt[\"survived\"])"
   ]
  },
  {
   "cell_type": "code",
   "execution_count": 34,
   "id": "ed1099e3",
   "metadata": {},
   "outputs": [
    {
     "data": {
      "image/png": "[encoded data removed]",
      "text/plain": [
       "<Figure size 432x288 with 1 Axes>"
      ]
     },
     "metadata": {
      "needs_background": "light"
     },
     "output_type": "display_data"
    }
   ],
   "source": [
    "dt_clf = DecisionTreeClassifier(random_state=156, max_depth=3, min_samples_split=10)\n",
    "\n",
    "X_train, X_test, y_train, y_test = train_test_split(tt[[\"sex\",\"age\"]], \n",
    "                                                    tt[\"survived\"], \n",
    "                                                    test_size=0.3, random_state=111)\n",
    "dt_clf.fit(X_train, y_train)\n",
    "\n",
    "df_clf = DecisionTreeClassifier().fit(X_train, y_train)\n",
    "visualize_boundary(dt_clf, tt[[\"sex\",\"age\"]], tt[\"survived\"])"
   ]
  },
  {
   "cell_type": "code",
   "execution_count": 35,
   "id": "c37a3b4d",
   "metadata": {},
   "outputs": [
    {
     "data": {
      "image/png": "[encoded data removed]",
      "text/plain": [
       "<Figure size 432x288 with 1 Axes>"
      ]
     },
     "metadata": {
      "needs_background": "light"
     },
     "output_type": "display_data"
    }
   ],
   "source": [
    "dt_clf = DecisionTreeClassifier(random_state=156, max_depth=7, min_samples_leaf=5, \n",
    "                                min_samples_split=10)\n",
    "\n",
    "X_train, X_test, y_train, y_test = train_test_split(tt[[\"sex\",\"age\"]], \n",
    "                                                    tt[\"survived\"], \n",
    "                                                    test_size=0.3, random_state=111)\n",
    "dt_clf.fit(X_train, y_train)\n",
    "\n",
    "df_clf = DecisionTreeClassifier().fit(X_train, y_train)\n",
    "visualize_boundary(dt_clf, tt[[\"sex\",\"age\"]], tt[\"survived\"])"
   ]
  },
  {
   "cell_type": "code",
   "execution_count": 36,
   "id": "214904cf",
   "metadata": {},
   "outputs": [
    {
     "data": {
      "image/png": "[encoded data removed]",
      "text/plain": [
       "<Figure size 432x288 with 1 Axes>"
      ]
     },
     "metadata": {
      "needs_background": "light"
     },
     "output_type": "display_data"
    }
   ],
   "source": [
    "dt_clf = DecisionTreeClassifier(random_state=156)\n",
    "\n",
    "X_train, X_test, y_train, y_test = train_test_split(tt[[\"alone\",\"age\"]], \n",
    "                                                    tt[\"survived\"], \n",
    "                                                    test_size=0.3, random_state=111)\n",
    "dt_clf.fit(X_train, y_train)\n",
    "\n",
    "df_clf = DecisionTreeClassifier().fit(X_train, y_train)\n",
    "visualize_boundary(dt_clf, tt[[\"sex\",\"age\"]], tt[\"survived\"])"
   ]
  },
  {
   "cell_type": "code",
   "execution_count": 37,
   "id": "f417fe8e",
   "metadata": {},
   "outputs": [
    {
     "data": {
      "image/png": "[encoded data removed]",
      "text/plain": [
       "<Figure size 432x288 with 1 Axes>"
      ]
     },
     "metadata": {
      "needs_background": "light"
     },
     "output_type": "display_data"
    }
   ],
   "source": [
    "dt_clf = DecisionTreeClassifier(random_state=156, max_depth=4)\n",
    "\n",
    "X_train, X_test, y_train, y_test = train_test_split(tt[[\"sex\",\"age\"]], \n",
    "                                                    tt[\"survived\"], \n",
    "                                                    test_size=0.3, random_state=111)\n",
    "dt_clf.fit(X_train, y_train)\n",
    "\n",
    "df_clf = DecisionTreeClassifier().fit(X_train, y_train)\n",
    "visualize_boundary(dt_clf, tt[[\"sex\",\"age\"]], tt[\"survived\"])"
   ]
  },
  {
   "cell_type": "code",
   "execution_count": 38,
   "id": "85cbd2b1",
   "metadata": {},
   "outputs": [
    {
     "name": "stdout",
     "output_type": "stream",
     "text": [
      "0.746268656716418\n"
     ]
    }
   ],
   "source": [
    "from sklearn.metrics import accuracy_score\n",
    "\n",
    "dt_clf = DecisionTreeClassifier(random_state=156)\n",
    "\n",
    "X_train, X_test, y_train, y_test = train_test_split(tt[[\"pclass\",\"fare\",\"sex\",\"age\",\"embarked\",\"parch\",\"sibsp\",\"alone\"]], \n",
    "                                                    tt[\"survived\"], \n",
    "                                                    test_size=0.3, random_state=111)\n",
    "dt_clf.fit(X_train, y_train)\n",
    "\n",
    "pred = dt_clf.predict(X_test)\n",
    "accuracy = accuracy_score(y_test, pred)\n",
    "print(accuracy)"
   ]
  },
  {
   "cell_type": "code",
   "execution_count": 39,
   "id": "f9f13b49",
   "metadata": {},
   "outputs": [
    {
     "name": "stdout",
     "output_type": "stream",
     "text": [
      "Fitting 3 folds for each of 1600 candidates, totalling 4800 fits\n",
      "평균 정확도:0.8122\n",
      "최적의 하이퍼파라미터 {'max_depth': 3, 'max_features': 2, 'min_samples_leaf': 2, 'min_samples_split': 7}\n"
     ]
    }
   ],
   "source": [
    "from sklearn.model_selection import GridSearchCV\n",
    "\n",
    "params = { \n",
    "    \"max_depth\": [1,2,3,4,5], \n",
    "    \"min_samples_split\": [3,4,5,6,7,8,9,10], \n",
    "    \"min_samples_leaf\": [1,2,3,4,5], \n",
    "    \"max_features\": [1,2,3,4,5,6,7,8]\n",
    "}\n",
    "\n",
    "grid_cv = GridSearchCV(dt_clf, param_grid=params, scoring=\"accuracy\", cv=3, verbose=1)\n",
    "grid_cv.fit(X_train, y_train)\n",
    "print(\"평균 정확도:{0:.4f}\".format(grid_cv.best_score_))\n",
    "print(\"최적의 하이퍼파라미터\", grid_cv.best_params_)"
   ]
  },
  {
   "cell_type": "code",
   "execution_count": 40,
   "id": "5f4a7e06",
   "metadata": {},
   "outputs": [
    {
     "name": "stdout",
     "output_type": "stream",
     "text": [
      "0.7835820895522388\n"
     ]
    }
   ],
   "source": [
    "dt_clf = DecisionTreeClassifier(random_state=156, max_depth=3, max_features=2,\n",
    "                                min_samples_leaf=2, min_samples_split=7)\n",
    "\n",
    "X_train, X_test, y_train, y_test = train_test_split(tt[[\"pclass\",\"fare\",\"sex\",\"age\",\"embarked\",\"parch\",\"sibsp\",\"alone\"]], \n",
    "                                                    tt[\"survived\"], \n",
    "                                                    test_size=0.3, random_state=111)\n",
    "dt_clf.fit(X_train, y_train)\n",
    "\n",
    "pred = dt_clf.predict(X_test)\n",
    "accuracy = accuracy_score(y_test, pred)\n",
    "print(accuracy)"
   ]
  }
 ],
 "metadata": {
  "kernelspec": {
   "display_name": "Python 3 (ipykernel)",
   "language": "python",
   "name": "python3"
  },
  "language_info": {
   "codemirror_mode": {
    "name": "ipython",
    "version": 3
   },
   "file_extension": ".py",
   "mimetype": "text/x-python",
   "name": "python",
   "nbconvert_exporter": "python",
   "pygments_lexer": "ipython3",
   "version": "3.9.12"
  }
 },
 "nbformat": 4,
 "nbformat_minor": 5
}
