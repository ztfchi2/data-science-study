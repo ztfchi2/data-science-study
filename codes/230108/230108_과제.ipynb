{
 "cells": [
  {
   "cell_type": "markdown",
   "id": "01414118",
   "metadata": {},
   "source": [
    "_과제1, 과제2를 수행한 과제 파일입니다._"
   ]
  },
  {
   "cell_type": "markdown",
   "id": "f0b9aabc",
   "metadata": {},
   "source": [
    "### 과제1\n",
    "- 정규식에서 '*', '+'를 구글링해서 공유해주세요!"
   ]
  },
  {
   "cell_type": "markdown",
   "id": "b87a9173",
   "metadata": {},
   "source": [
    "### * vs. +\n",
    "- ' * ' : 이전 패턴을 **0개** 이상 포함\n",
    "- ' + ' : 이전 패턴을 **1개** 이상 포함"
   ]
  },
  {
   "cell_type": "code",
   "execution_count": 1,
   "id": "8925190f",
   "metadata": {},
   "outputs": [],
   "source": [
    "import re"
   ]
  },
  {
   "cell_type": "code",
   "execution_count": 6,
   "id": "a03a9608",
   "metadata": {},
   "outputs": [
    {
     "data": {
      "text/plain": [
       "<re.Match object; span=(0, 1), match='a'>"
      ]
     },
     "execution_count": 6,
     "metadata": {},
     "output_type": "execute_result"
    }
   ],
   "source": [
    "# *나 +를 사용하지 않음\n",
    "re.match(\"a\", \"aab\") # a 2개 -> 패턴 'a' 찾음"
   ]
  },
  {
   "cell_type": "code",
   "execution_count": 8,
   "id": "d4ab243c",
   "metadata": {},
   "outputs": [
    {
     "data": {
      "text/plain": [
       "<re.Match object; span=(0, 1), match='a'>"
      ]
     },
     "execution_count": 8,
     "metadata": {},
     "output_type": "execute_result"
    }
   ],
   "source": [
    "re.match(\"a\", \"abb\") # a 1개 -> 패턴 'a' 찾음"
   ]
  },
  {
   "cell_type": "code",
   "execution_count": 9,
   "id": "0f6b02b7",
   "metadata": {},
   "outputs": [],
   "source": [
    "re.match(\"a\", \"bbb\") # a 0개 -> 패턴을 찾지 못함"
   ]
  },
  {
   "cell_type": "markdown",
   "id": "8a0ef704",
   "metadata": {},
   "source": [
    " "
   ]
  },
  {
   "cell_type": "code",
   "execution_count": 10,
   "id": "624d12ee",
   "metadata": {},
   "outputs": [
    {
     "data": {
      "text/plain": [
       "<re.Match object; span=(0, 2), match='aa'>"
      ]
     },
     "execution_count": 10,
     "metadata": {},
     "output_type": "execute_result"
    }
   ],
   "source": [
    "# * 사용\n",
    "re.match(\"a*\", \"aab\") # a 2개 -> 패턴 'aa' 찾음"
   ]
  },
  {
   "cell_type": "code",
   "execution_count": 11,
   "id": "26efff45",
   "metadata": {},
   "outputs": [
    {
     "data": {
      "text/plain": [
       "<re.Match object; span=(0, 1), match='a'>"
      ]
     },
     "execution_count": 11,
     "metadata": {},
     "output_type": "execute_result"
    }
   ],
   "source": [
    "re.match(\"a*\", \"abb\") # a 1개 -> 패턴 'a' 찾음"
   ]
  },
  {
   "cell_type": "code",
   "execution_count": 12,
   "id": "187be24f",
   "metadata": {},
   "outputs": [
    {
     "data": {
      "text/plain": [
       "<re.Match object; span=(0, 0), match=''>"
      ]
     },
     "execution_count": 12,
     "metadata": {},
     "output_type": "execute_result"
    }
   ],
   "source": [
    "re.match(\"a*\", \"bbb\") # a 0개 -> 패턴 '' 찾음"
   ]
  },
  {
   "cell_type": "markdown",
   "id": "1456e293",
   "metadata": {},
   "source": [
    " "
   ]
  },
  {
   "cell_type": "code",
   "execution_count": 5,
   "id": "727e42f8",
   "metadata": {},
   "outputs": [
    {
     "data": {
      "text/plain": [
       "<re.Match object; span=(0, 2), match='aa'>"
      ]
     },
     "execution_count": 5,
     "metadata": {},
     "output_type": "execute_result"
    }
   ],
   "source": [
    "# + 사용\n",
    "re.match(\"a+\", \"aab\") # a 2개 -> 패턴 'aa' 찾음"
   ]
  },
  {
   "cell_type": "code",
   "execution_count": 2,
   "id": "25363b33",
   "metadata": {},
   "outputs": [
    {
     "data": {
      "text/plain": [
       "<re.Match object; span=(0, 1), match='a'>"
      ]
     },
     "execution_count": 2,
     "metadata": {},
     "output_type": "execute_result"
    }
   ],
   "source": [
    "re.match(\"a+\", \"abb\") # a 1개 -> 패턴 'a' 찾음"
   ]
  },
  {
   "cell_type": "code",
   "execution_count": 4,
   "id": "1da4f18a",
   "metadata": {},
   "outputs": [],
   "source": [
    "re.match(\"a+\", \"bbb\") # a 0개 -> 패턴을 찾지 못함"
   ]
  },
  {
   "cell_type": "markdown",
   "id": "6a4379dc",
   "metadata": {},
   "source": [
    "### 과제 2\n",
    "- 위의 약어를 이용해서 코드를 3개 이상씩 만들어주세요!"
   ]
  },
  {
   "cell_type": "markdown",
   "id": "f25b5228",
   "metadata": {},
   "source": [
    " - [0-9] : any numbers\n",
    " - (문자열){개수}\n",
    " - [a-z] : 소문자 알파벳, [A-Z] : 대문자 알파벳\n",
    " - [가-힣], [ㄱ-ㅎ], [ㅏ-ㅣ] : 한글\n",
    " - [^범위] : not 범위\n",
    " - \\d : 모든 숫자, \\D : not 모든 숫자\n",
    " - \\w : 모든 단어 (영문, 대소문자, 숫자, 밑줄문자), \\W : not 모든 단어\n",
    " - ' ', \\s, \\S : 공백"
   ]
  },
  {
   "cell_type": "code",
   "execution_count": 25,
   "id": "82062314",
   "metadata": {},
   "outputs": [
    {
     "data": {
      "text/plain": [
       "<re.Match object; span=(0, 3), match='123'>"
      ]
     },
     "execution_count": 25,
     "metadata": {},
     "output_type": "execute_result"
    }
   ],
   "source": [
    "# 숫자 [0-9]\n",
    "re.match(\"[0-9]+\", \"123abc;;12\")"
   ]
  },
  {
   "cell_type": "code",
   "execution_count": 27,
   "id": "85322e69",
   "metadata": {},
   "outputs": [
    {
     "data": {
      "text/plain": [
       "<re.Match object; span=(0, 7), match='123 999'>"
      ]
     },
     "execution_count": 27,
     "metadata": {},
     "output_type": "execute_result"
    }
   ],
   "source": [
    "re.match(\"[0-9]+ [0-9]+\", \"123 999 34\")"
   ]
  },
  {
   "cell_type": "code",
   "execution_count": 28,
   "id": "49cd6c50",
   "metadata": {},
   "outputs": [
    {
     "data": {
      "text/plain": [
       "<re.Match object; span=(0, 7), match='2-1-9-7'>"
      ]
     },
     "execution_count": 28,
     "metadata": {},
     "output_type": "execute_result"
    }
   ],
   "source": [
    "re.match(\"[0-9]-[0-9]-[0-9]-[0-9]\", \"2-1-9-7\")"
   ]
  },
  {
   "cell_type": "markdown",
   "id": "70dcb0b7",
   "metadata": {},
   "source": [
    " "
   ]
  },
  {
   "cell_type": "code",
   "execution_count": 29,
   "id": "619851bd",
   "metadata": {},
   "outputs": [
    {
     "data": {
      "text/plain": [
       "<re.Match object; span=(0, 5), match='hello'>"
      ]
     },
     "execution_count": 29,
     "metadata": {},
     "output_type": "execute_result"
    }
   ],
   "source": [
    "# 영문(소문자) [a-z]\n",
    "re.match(\"[a-z]+\", \"hello안녕hi\")"
   ]
  },
  {
   "cell_type": "code",
   "execution_count": 37,
   "id": "d58acfc0",
   "metadata": {},
   "outputs": [],
   "source": [
    "re.match(\"[a-z]+\", \"Python\")"
   ]
  },
  {
   "cell_type": "code",
   "execution_count": 39,
   "id": "f463b6d5",
   "metadata": {},
   "outputs": [
    {
     "data": {
      "text/plain": [
       "<re.Match object; span=(0, 5), match='pytho'>"
      ]
     },
     "execution_count": 39,
     "metadata": {},
     "output_type": "execute_result"
    }
   ],
   "source": [
    "re.match(\"[a-z]+\", \"pythoN\")"
   ]
  },
  {
   "cell_type": "markdown",
   "id": "8ce7c6f5",
   "metadata": {},
   "source": [
    " "
   ]
  },
  {
   "cell_type": "code",
   "execution_count": 44,
   "id": "597fab47",
   "metadata": {},
   "outputs": [
    {
     "data": {
      "text/plain": [
       "<re.Match object; span=(0, 5), match='HELLO'>"
      ]
     },
     "execution_count": 44,
     "metadata": {},
     "output_type": "execute_result"
    }
   ],
   "source": [
    "# 영문(대문자) [A-Z]\n",
    "re.match(\"[A-Z]+\", \"HELLO안녕hi\")"
   ]
  },
  {
   "cell_type": "code",
   "execution_count": 46,
   "id": "fd5d9ec4",
   "metadata": {},
   "outputs": [
    {
     "data": {
      "text/plain": [
       "<re.Match object; span=(0, 1), match='H'>"
      ]
     },
     "execution_count": 46,
     "metadata": {},
     "output_type": "execute_result"
    }
   ],
   "source": [
    "re.match(\"[A-Z]+\", \"HellO,,,\")"
   ]
  },
  {
   "cell_type": "code",
   "execution_count": 53,
   "id": "938e13ab",
   "metadata": {},
   "outputs": [
    {
     "data": {
      "text/plain": [
       "<re.Match object; span=(1, 2), match='C'>"
      ]
     },
     "execution_count": 53,
     "metadata": {},
     "output_type": "execute_result"
    }
   ],
   "source": [
    "re.search(\"[A-Z]+\", \"+C+C+\")"
   ]
  },
  {
   "cell_type": "markdown",
   "id": "6ef47ca9",
   "metadata": {},
   "source": [
    " "
   ]
  },
  {
   "cell_type": "code",
   "execution_count": 48,
   "id": "b3dfb184",
   "metadata": {},
   "outputs": [
    {
     "data": {
      "text/plain": [
       "<re.Match object; span=(0, 3), match='가나다'>"
      ]
     },
     "execution_count": 48,
     "metadata": {},
     "output_type": "execute_result"
    }
   ],
   "source": [
    "# 한글 합자 [가-힣]\n",
    "re.match(\"[가-힣]+\", \"가나다ㄱㄴㄷㅣㅣㅣ\")"
   ]
  },
  {
   "cell_type": "code",
   "execution_count": 54,
   "id": "c8868d3c",
   "metadata": {},
   "outputs": [
    {
     "data": {
      "text/plain": [
       "<re.Match object; span=(0, 1), match='안'>"
      ]
     },
     "execution_count": 54,
     "metadata": {},
     "output_type": "execute_result"
    }
   ],
   "source": [
    "re.match(\"[가-힣]\", \"안녕하세요\")"
   ]
  },
  {
   "cell_type": "code",
   "execution_count": 59,
   "id": "1364531b",
   "metadata": {},
   "outputs": [
    {
     "data": {
      "text/plain": [
       "<re.Match object; span=(5, 13), match='000Hello'>"
      ]
     },
     "execution_count": 59,
     "metadata": {},
     "output_type": "execute_result"
    }
   ],
   "source": [
    "re.search(\"[^가-힣]+\", \"안녕하세요000Hello안녕HI\")"
   ]
  },
  {
   "cell_type": "markdown",
   "id": "299dfbba",
   "metadata": {},
   "source": [
    " "
   ]
  },
  {
   "cell_type": "code",
   "execution_count": null,
   "id": "17aa3ce5",
   "metadata": {},
   "outputs": [],
   "source": [
    "# 한글 자음 [ㄱ-ㅎ]"
   ]
  },
  {
   "cell_type": "code",
   "execution_count": 49,
   "id": "f7c6e4e6",
   "metadata": {},
   "outputs": [
    {
     "data": {
      "text/plain": [
       "<re.Match object; span=(0, 3), match='ㄱㄴㄷ'>"
      ]
     },
     "execution_count": 49,
     "metadata": {},
     "output_type": "execute_result"
    }
   ],
   "source": [
    "re.match(\"[ㄱ-ㅎ]+\", \"ㄱㄴㄷ99asdf\")"
   ]
  },
  {
   "cell_type": "code",
   "execution_count": 61,
   "id": "bd3b0c50",
   "metadata": {},
   "outputs": [
    {
     "data": {
      "text/plain": [
       "<re.Match object; span=(0, 3), match='가나다'>"
      ]
     },
     "execution_count": 61,
     "metadata": {},
     "output_type": "execute_result"
    }
   ],
   "source": [
    "re.match(\"[^ㄱ-ㅎ]+\", \"가나다ㄱㄴㄷ라마바\")"
   ]
  },
  {
   "cell_type": "code",
   "execution_count": 80,
   "id": "20c6f5e3",
   "metadata": {},
   "outputs": [
    {
     "data": {
      "text/plain": [
       "<re.Match object; span=(5, 8), match='ㄷ ㄹ'>"
      ]
     },
     "execution_count": 80,
     "metadata": {},
     "output_type": "execute_result"
    }
   ],
   "source": [
    "re.search(\"[ㄱ-ㅎ] [ㄱ-ㅎ]\", \"가나다ㄱㄴㄷ ㄹㅁㅂ\")"
   ]
  },
  {
   "cell_type": "markdown",
   "id": "648383e7",
   "metadata": {},
   "source": [
    " "
   ]
  },
  {
   "cell_type": "code",
   "execution_count": null,
   "id": "e6c26b93",
   "metadata": {},
   "outputs": [],
   "source": [
    "# 한글 모음 [ㅏ-ㅣ]"
   ]
  },
  {
   "cell_type": "code",
   "execution_count": 51,
   "id": "df633b53",
   "metadata": {},
   "outputs": [
    {
     "data": {
      "text/plain": [
       "<re.Match object; span=(0, 3), match='ㅣㅣㅣ'>"
      ]
     },
     "execution_count": 51,
     "metadata": {},
     "output_type": "execute_result"
    }
   ],
   "source": [
    "re.match(\"[ㅏ-ㅣ]+\", \"ㅣㅣㅣ나나나ㄱㄱㄱ\")"
   ]
  },
  {
   "cell_type": "code",
   "execution_count": 85,
   "id": "486a6286",
   "metadata": {},
   "outputs": [
    {
     "data": {
      "text/plain": [
       "<re.Match object; span=(0, 12), match='ㅠㅠㅠ-----ㅠㅠㅠㅠ'>"
      ]
     },
     "execution_count": 85,
     "metadata": {},
     "output_type": "execute_result"
    }
   ],
   "source": [
    "re.match(\"[ㅏ-ㅣ]+-+[ㅏ-ㅣ]+\", \"ㅠㅠㅠ-----ㅠㅠㅠㅠ\")"
   ]
  },
  {
   "cell_type": "code",
   "execution_count": 86,
   "id": "6e8a0d06",
   "metadata": {},
   "outputs": [
    {
     "data": {
      "text/plain": [
       "<re.Match object; span=(0, 7), match='ㅋㅋㅋㅋ--ㅠ'>"
      ]
     },
     "execution_count": 86,
     "metadata": {},
     "output_type": "execute_result"
    }
   ],
   "source": [
    "re.match(\"[^ㅏ-ㅣ]+-+[ㅏ-ㅣ]+\", \"ㅋㅋㅋㅋ--ㅠ\")"
   ]
  },
  {
   "cell_type": "markdown",
   "id": "c07ec192",
   "metadata": {},
   "source": [
    " "
   ]
  },
  {
   "cell_type": "code",
   "execution_count": 91,
   "id": "ff209b0e",
   "metadata": {},
   "outputs": [
    {
     "data": {
      "text/plain": [
       "<re.Match object; span=(0, 1), match='2'>"
      ]
     },
     "execution_count": 91,
     "metadata": {},
     "output_type": "execute_result"
    }
   ],
   "source": [
    "# 숫자 \\d\n",
    "re.search(\"\\d\", \"20ddd\")"
   ]
  },
  {
   "cell_type": "code",
   "execution_count": 92,
   "id": "22ff0aa1",
   "metadata": {},
   "outputs": [
    {
     "data": {
      "text/plain": [
       "<re.Match object; span=(0, 4), match='2000'>"
      ]
     },
     "execution_count": 92,
     "metadata": {},
     "output_type": "execute_result"
    }
   ],
   "source": [
    "re.search(\"\\d+\", \"2000ddd\")"
   ]
  },
  {
   "cell_type": "code",
   "execution_count": 97,
   "id": "fa0cbe92",
   "metadata": {},
   "outputs": [
    {
     "data": {
      "text/plain": [
       "<re.Match object; span=(0, 7), match='2000ddd'>"
      ]
     },
     "execution_count": 97,
     "metadata": {},
     "output_type": "execute_result"
    }
   ],
   "source": [
    "re.search(\"\\d+[a-z]+\", \"2000ddd\")"
   ]
  },
  {
   "cell_type": "markdown",
   "id": "10795de8",
   "metadata": {},
   "source": [
    " "
   ]
  },
  {
   "cell_type": "code",
   "execution_count": 98,
   "id": "14f6f3f9",
   "metadata": {},
   "outputs": [
    {
     "data": {
      "text/plain": [
       "<re.Match object; span=(2, 3), match='d'>"
      ]
     },
     "execution_count": 98,
     "metadata": {},
     "output_type": "execute_result"
    }
   ],
   "source": [
    "# 숫자 제외 \\D\n",
    "re.search(\"\\D\", \"20ddd\")"
   ]
  },
  {
   "cell_type": "code",
   "execution_count": 99,
   "id": "72ce18c6",
   "metadata": {},
   "outputs": [
    {
     "data": {
      "text/plain": [
       "<re.Match object; span=(4, 7), match='ddd'>"
      ]
     },
     "execution_count": 99,
     "metadata": {},
     "output_type": "execute_result"
    }
   ],
   "source": [
    "re.search(\"\\D+\", \"2000ddd\")"
   ]
  },
  {
   "cell_type": "code",
   "execution_count": 100,
   "id": "709a7fed",
   "metadata": {},
   "outputs": [
    {
     "data": {
      "text/plain": [
       "<re.Match object; span=(0, 7), match='2000ddd'>"
      ]
     },
     "execution_count": 100,
     "metadata": {},
     "output_type": "execute_result"
    }
   ],
   "source": [
    "re.search(\"[0-9]+\\D+\", \"2000ddd\")"
   ]
  },
  {
   "cell_type": "markdown",
   "id": "7fb3f5e7",
   "metadata": {},
   "source": [
    " "
   ]
  },
  {
   "cell_type": "code",
   "execution_count": 110,
   "id": "9fcfbcd8",
   "metadata": {},
   "outputs": [
    {
     "data": {
      "text/plain": [
       "<re.Match object; span=(0, 1), match='2'>"
      ]
     },
     "execution_count": 110,
     "metadata": {},
     "output_type": "execute_result"
    }
   ],
   "source": [
    "# 단어 \\w\n",
    "re.search(\"\\w\", \"20__hey_가각__!!ii\")"
   ]
  },
  {
   "cell_type": "code",
   "execution_count": 111,
   "id": "9c22fbc3",
   "metadata": {},
   "outputs": [
    {
     "data": {
      "text/plain": [
       "<re.Match object; span=(0, 12), match='20__hey_가각__'>"
      ]
     },
     "execution_count": 111,
     "metadata": {},
     "output_type": "execute_result"
    }
   ],
   "source": [
    "re.search(\"\\w+\", \"20__hey_가각__!!ii\")"
   ]
  },
  {
   "cell_type": "code",
   "execution_count": 112,
   "id": "06710b72",
   "metadata": {},
   "outputs": [
    {
     "data": {
      "text/plain": [
       "<re.Match object; span=(0, 3), match='20_'>"
      ]
     },
     "execution_count": 112,
     "metadata": {},
     "output_type": "execute_result"
    }
   ],
   "source": [
    "re.search(\"(\\w){3}\", \"20__hey_가각__!!ii\")"
   ]
  },
  {
   "cell_type": "markdown",
   "id": "1f374249",
   "metadata": {},
   "source": [
    " "
   ]
  },
  {
   "cell_type": "code",
   "execution_count": 113,
   "id": "ea3db7cd",
   "metadata": {},
   "outputs": [
    {
     "data": {
      "text/plain": [
       "<re.Match object; span=(12, 13), match='!'>"
      ]
     },
     "execution_count": 113,
     "metadata": {},
     "output_type": "execute_result"
    }
   ],
   "source": [
    "# 단어 제외 \\W\n",
    "re.search(\"\\W\", \"20__hey_가각__!!ii\")"
   ]
  },
  {
   "cell_type": "code",
   "execution_count": 115,
   "id": "b190f353",
   "metadata": {},
   "outputs": [
    {
     "data": {
      "text/plain": [
       "<re.Match object; span=(12, 18), match='!!@@**'>"
      ]
     },
     "execution_count": 115,
     "metadata": {},
     "output_type": "execute_result"
    }
   ],
   "source": [
    "re.search(\"\\W+\", \"20__hey_가각__!!@@**kkii\")"
   ]
  },
  {
   "cell_type": "code",
   "execution_count": 117,
   "id": "83656eff",
   "metadata": {},
   "outputs": [
    {
     "data": {
      "text/plain": [
       "<re.Match object; span=(12, 17), match='!!@@*'>"
      ]
     },
     "execution_count": 117,
     "metadata": {},
     "output_type": "execute_result"
    }
   ],
   "source": [
    "re.search(\"(\\W){5}\", \"20__hey_가각__!!@@**kkii\")"
   ]
  },
  {
   "cell_type": "markdown",
   "id": "807c6018",
   "metadata": {},
   "source": [
    " "
   ]
  },
  {
   "cell_type": "code",
   "execution_count": 118,
   "id": "7d8dcda2",
   "metadata": {},
   "outputs": [
    {
     "data": {
      "text/plain": [
       "<re.Match object; span=(5, 6), match=' '>"
      ]
     },
     "execution_count": 118,
     "metadata": {},
     "output_type": "execute_result"
    }
   ],
   "source": [
    "# 공백 ' ', \\s\n",
    "re.search(\" \", \"asdaf kkk\")"
   ]
  },
  {
   "cell_type": "code",
   "execution_count": 119,
   "id": "735ad779",
   "metadata": {},
   "outputs": [
    {
     "data": {
      "text/plain": [
       "<re.Match object; span=(5, 8), match='   '>"
      ]
     },
     "execution_count": 119,
     "metadata": {},
     "output_type": "execute_result"
    }
   ],
   "source": [
    "re.search(\"\\s+\", \"asdaf   kkk\")"
   ]
  },
  {
   "cell_type": "code",
   "execution_count": 127,
   "id": "40a91396",
   "metadata": {},
   "outputs": [
    {
     "data": {
      "text/plain": [
       "<re.Match object; span=(5, 10), match='     '>"
      ]
     },
     "execution_count": 127,
     "metadata": {},
     "output_type": "execute_result"
    }
   ],
   "source": [
    "re.search(\"(\\s){5}\", \"asdaf        kkk\")"
   ]
  },
  {
   "cell_type": "markdown",
   "id": "3c4f1492",
   "metadata": {},
   "source": [
    " "
   ]
  },
  {
   "cell_type": "code",
   "execution_count": 130,
   "id": "c00422d9",
   "metadata": {},
   "outputs": [
    {
     "data": {
      "text/plain": [
       "<re.Match object; span=(0, 1), match='H'>"
      ]
     },
     "execution_count": 130,
     "metadata": {},
     "output_type": "execute_result"
    }
   ],
   "source": [
    "# 공백 제외 \\S\n",
    "re.search(\"\\S\", \"Hiiii   and hello\")"
   ]
  },
  {
   "cell_type": "code",
   "execution_count": 131,
   "id": "55a57e5e",
   "metadata": {},
   "outputs": [
    {
     "data": {
      "text/plain": [
       "<re.Match object; span=(0, 5), match='Hiiii'>"
      ]
     },
     "execution_count": 131,
     "metadata": {},
     "output_type": "execute_result"
    }
   ],
   "source": [
    "re.search(\"\\S+\", \"Hiiii   and hello\")"
   ]
  },
  {
   "cell_type": "code",
   "execution_count": 132,
   "id": "529ff823",
   "metadata": {},
   "outputs": [
    {
     "data": {
      "text/plain": [
       "['Hiiii', 'and', 'hello']"
      ]
     },
     "execution_count": 132,
     "metadata": {},
     "output_type": "execute_result"
    }
   ],
   "source": [
    "re.findall(\"\\S+\", \"Hiiii   and hello\")"
   ]
  }
 ],
 "metadata": {
  "kernelspec": {
   "display_name": "Python 3 (ipykernel)",
   "language": "python",
   "name": "python3"
  },
  "language_info": {
   "codemirror_mode": {
    "name": "ipython",
    "version": 3
   },
   "file_extension": ".py",
   "mimetype": "text/x-python",
   "name": "python",
   "nbconvert_exporter": "python",
   "pygments_lexer": "ipython3",
   "version": "3.9.12"
  }
 },
 "nbformat": 4,
 "nbformat_minor": 5
}
