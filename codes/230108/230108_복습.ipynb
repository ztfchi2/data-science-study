{
 "cells": [
  {
   "cell_type": "markdown",
   "id": "84f279e5",
   "metadata": {},
   "source": [
    "### 정규표현식\n",
    "- regular expression\n",
    "- 기존 문자열 분석 => 함수를 이용해서 문자열을 분석하는 경우가 대부분\n",
    "- 정규표현식의 경우는 나만의 일정한 패턴, 규칙을 만들어서 문자열을 분석할 수 있다.\n",
    "- 특정한 규칙으로 된 문자열을 추출하거나, 바꾸거나, 전처리 등 다양하게 활용할 수 있음!\n",
    "- 정규표현식 자체가 외계어처럼 보이지만, 그 원리를 알면 정말 쉽다!\n",
    "---\n",
    "- 수 많은 데이터 중에서 메일주소만 추출하고 나머지는 제외해주세요\n",
    "- 주민등록번호 앞 자리와 '-' 뒷자리 1개만 추출하고 나머지는 제외해주세요!"
   ]
  },
  {
   "cell_type": "code",
   "execution_count": 1,
   "id": "54574fbd",
   "metadata": {},
   "outputs": [],
   "source": [
    "import re # 정규표현식 불러오기!"
   ]
  },
  {
   "cell_type": "markdown",
   "id": "139d806e",
   "metadata": {},
   "source": [
    "- re.match('패턴', '문자열')\n",
    "- 맨 처음 인덱스에 본인이 원하는 문자열이 나오지 않으면 없다고 체크한다! (뒤를 안 본다.)"
   ]
  },
  {
   "cell_type": "code",
   "execution_count": 2,
   "id": "3413dda0",
   "metadata": {},
   "outputs": [
    {
     "data": {
      "text/plain": [
       "<re.Match object; span=(0, 5), match='Hello'>"
      ]
     },
     "execution_count": 2,
     "metadata": {},
     "output_type": "execute_result"
    }
   ],
   "source": [
    "re.match(\"Hello\", \"Hello, Python\")"
   ]
  },
  {
   "cell_type": "code",
   "execution_count": 3,
   "id": "72adc494",
   "metadata": {},
   "outputs": [],
   "source": [
    "re.match(\"Hi\", \"Hello, Python\") # 패턴을 찾지 못함"
   ]
  },
  {
   "cell_type": "code",
   "execution_count": 4,
   "id": "6386d86e",
   "metadata": {},
   "outputs": [],
   "source": [
    "re.match(\"Python\", \"Hello, Python\") # 패턴을 찾지 못함"
   ]
  },
  {
   "cell_type": "markdown",
   "id": "7efa9ddf",
   "metadata": {},
   "source": [
    "- 뒤에 오는지 확인하는 방법\n",
    "- ^문자열\n",
    "- 문자열$\n",
    "\n",
    "- 문자열을 찾는 함수는 match 말고도 search가 있다."
   ]
  },
  {
   "cell_type": "code",
   "execution_count": 6,
   "id": "38b9ad7a",
   "metadata": {},
   "outputs": [
    {
     "data": {
      "text/plain": [
       "<re.Match object; span=(7, 13), match='Python'>"
      ]
     },
     "execution_count": 6,
     "metadata": {},
     "output_type": "execute_result"
    }
   ],
   "source": [
    "re.search(\"Python\", \"Hello, Python\") # 서치는 전체를 기준으로 찾아본다"
   ]
  },
  {
   "cell_type": "markdown",
   "id": "72ad6176",
   "metadata": {},
   "source": [
    "### 정규식을 이용해 범위 판단하기!\n",
    "- 숫자만 가져와야하는 경우\n",
    "- [0-9]\n",
    "- [0-9]*\n",
    "- [0-9]+\n",
    "- *, + 쓰면\n",
    "- '*'는 문자, 숫자가 0개 이상 있는지\n",
    "- '+'는 문자, 숫자가 1개 이상 있는지 체크!"
   ]
  },
  {
   "cell_type": "code",
   "execution_count": 7,
   "id": "a26086b5",
   "metadata": {},
   "outputs": [
    {
     "data": {
      "text/plain": [
       "<re.Match object; span=(0, 1), match='1'>"
      ]
     },
     "execution_count": 7,
     "metadata": {},
     "output_type": "execute_result"
    }
   ],
   "source": [
    "re.match(\"[0-9]\", \"123456789\")"
   ]
  },
  {
   "cell_type": "code",
   "execution_count": 8,
   "id": "2cbe836b",
   "metadata": {},
   "outputs": [
    {
     "data": {
      "text/plain": [
       "<re.Match object; span=(0, 1), match='1'>"
      ]
     },
     "execution_count": 8,
     "metadata": {},
     "output_type": "execute_result"
    }
   ],
   "source": [
    "re.search(\"[0-9]\", \"123456789\")"
   ]
  },
  {
   "cell_type": "code",
   "execution_count": 9,
   "id": "751ecf12",
   "metadata": {},
   "outputs": [
    {
     "data": {
      "text/plain": [
       "<re.Match object; span=(0, 9), match='123456789'>"
      ]
     },
     "execution_count": 9,
     "metadata": {},
     "output_type": "execute_result"
    }
   ],
   "source": [
    "re.match(\"[0-9]*\", \"123456789\")"
   ]
  },
  {
   "cell_type": "code",
   "execution_count": 10,
   "id": "7bc1e3e9",
   "metadata": {},
   "outputs": [
    {
     "data": {
      "text/plain": [
       "<re.Match object; span=(0, 9), match='123456789'>"
      ]
     },
     "execution_count": 10,
     "metadata": {},
     "output_type": "execute_result"
    }
   ],
   "source": [
    "re.match(\"[0-9]+\", \"123456789\")"
   ]
  },
  {
   "cell_type": "code",
   "execution_count": 11,
   "id": "0c51e316",
   "metadata": {},
   "outputs": [],
   "source": [
    "re.match(\"[0-9]+\", \"홍길동 : 123456789\") # match -> 앞에서만 탐색"
   ]
  },
  {
   "cell_type": "code",
   "execution_count": 12,
   "id": "9316d4b5",
   "metadata": {},
   "outputs": [
    {
     "data": {
      "text/plain": [
       "<re.Match object; span=(6, 15), match='123456789'>"
      ]
     },
     "execution_count": 12,
     "metadata": {},
     "output_type": "execute_result"
    }
   ],
   "source": [
    "re.search(\"[0-9]+\", \"홍길동 : 123456789\")"
   ]
  },
  {
   "cell_type": "markdown",
   "id": "70b02c39",
   "metadata": {},
   "source": [
    "### 과제1\n",
    "- 정규식에서 '*', '+'를 구글링해서 공유해주세요!"
   ]
  },
  {
   "cell_type": "markdown",
   "id": "bdcceaa2",
   "metadata": {},
   "source": [
    "### 문자 개수 판단하기\n",
    "- 문자가 정확히 몇 개 있는지 판단\n",
    "- 문자{개수}\n",
    "- (문자열){개수}"
   ]
  },
  {
   "cell_type": "code",
   "execution_count": 13,
   "id": "a5b10254",
   "metadata": {},
   "outputs": [
    {
     "data": {
      "text/plain": [
       "<re.Match object; span=(0, 3), match='hhh'>"
      ]
     },
     "execution_count": 13,
     "metadata": {},
     "output_type": "execute_result"
    }
   ],
   "source": [
    "re.match(\"h{3}\", \"hhhhhhello\")"
   ]
  },
  {
   "cell_type": "code",
   "execution_count": 14,
   "id": "c326d98d",
   "metadata": {},
   "outputs": [
    {
     "data": {
      "text/plain": [
       "<re.Match object; span=(0, 6), match='hihihi'>"
      ]
     },
     "execution_count": 14,
     "metadata": {},
     "output_type": "execute_result"
    }
   ],
   "source": [
    "re.match(\"(hi){3}\", \"hihihihihihiello\")"
   ]
  },
  {
   "cell_type": "markdown",
   "id": "489fa6c5",
   "metadata": {},
   "source": [
    "- 휴대전화번호는 대부분 패턴이\n",
    "- 000-0000-0000\n",
    "- 위 전화번호 패턴을 찾는 정규식을 적어서 채팅방에 공유해주세요!"
   ]
  },
  {
   "cell_type": "code",
   "execution_count": 21,
   "id": "98afb48f",
   "metadata": {},
   "outputs": [
    {
     "data": {
      "text/plain": [
       "<re.Match object; span=(0, 13), match='010-0000-0000'>"
      ]
     },
     "execution_count": 21,
     "metadata": {},
     "output_type": "execute_result"
    }
   ],
   "source": [
    "re.match(\"[0-9]{3}-[0-9]{4}-[0-9]{4}\", \"010-0000-0000\")"
   ]
  },
  {
   "cell_type": "markdown",
   "id": "190f7a16",
   "metadata": {},
   "source": [
    "- 영문, 한글\n",
    "- 영문은 a-z, A-Z\n",
    "- 한글은 가-힣, ㄱ-ㅎ, ㅏ-ㅣ"
   ]
  },
  {
   "cell_type": "code",
   "execution_count": 25,
   "id": "1e23cf0b",
   "metadata": {},
   "outputs": [
    {
     "data": {
      "text/plain": [
       "<re.Match object; span=(5, 10), match='안녕하세요'>"
      ]
     },
     "execution_count": 25,
     "metadata": {},
     "output_type": "execute_result"
    }
   ],
   "source": [
    "re.search(\"[가-힣]+\", \"1231 안녕하세요?12312\")"
   ]
  },
  {
   "cell_type": "code",
   "execution_count": 26,
   "id": "a094acdc",
   "metadata": {},
   "outputs": [
    {
     "data": {
      "text/plain": [
       "<re.Match object; span=(0, 0), match=''>"
      ]
     },
     "execution_count": 26,
     "metadata": {},
     "output_type": "execute_result"
    }
   ],
   "source": [
    "re.search(\"[가-힣]*\", \"1231 안녕하세요?12312\") # 0개 이상 -> 앞에는 0개이므로 끝"
   ]
  },
  {
   "cell_type": "markdown",
   "id": "15dd8037",
   "metadata": {},
   "source": [
    "### 특정문자 범위에 포함되지 않는지 판단?\n",
    "- [^범위]*\n",
    "- [^범위]+"
   ]
  },
  {
   "cell_type": "code",
   "execution_count": 27,
   "id": "f1039f11",
   "metadata": {},
   "outputs": [
    {
     "data": {
      "text/plain": [
       "<re.Match object; span=(0, 1), match='h'>"
      ]
     },
     "execution_count": 27,
     "metadata": {},
     "output_type": "execute_result"
    }
   ],
   "source": [
    "re.match(\"[^A-Z]\", \"hello\")"
   ]
  },
  {
   "cell_type": "code",
   "execution_count": 28,
   "id": "3a53b4e7",
   "metadata": {},
   "outputs": [],
   "source": [
    "re.match(\"[^A-Z]\", \"Hello\")"
   ]
  },
  {
   "cell_type": "markdown",
   "id": "05f18a14",
   "metadata": {},
   "source": [
    "### 특수문자\n",
    "- \\특수문자"
   ]
  },
  {
   "cell_type": "code",
   "execution_count": 29,
   "id": "4744dedc",
   "metadata": {},
   "outputs": [
    {
     "data": {
      "text/plain": [
       "<re.Match object; span=(2, 3), match='*'>"
      ]
     },
     "execution_count": 29,
     "metadata": {},
     "output_type": "execute_result"
    }
   ],
   "source": [
    "re.search(\"\\*+\", \"1 *+2\")"
   ]
  },
  {
   "cell_type": "markdown",
   "id": "0588a97c",
   "metadata": {},
   "source": [
    "- \\d 모든 숫자\n",
    "- \\D 숫자를 제외한 모든 문자\n",
    "- \\w 영문, 대소문자, 숫자, 밑줄문자\n",
    "- \\W 영문, 대소문자, 숫자, 밑줄문자를 제외한 모든 문자"
   ]
  },
  {
   "cell_type": "markdown",
   "id": "bd228de1",
   "metadata": {},
   "source": [
    "### 과제 2\n",
    "- 위의 약어를 이용해서 코드를 3개 이상씩 만들어주세요!"
   ]
  },
  {
   "cell_type": "markdown",
   "id": "616b1a58",
   "metadata": {},
   "source": [
    "### 공백처리\n",
    "- ' '\n",
    "- \\s\n",
    "- \\S"
   ]
  },
  {
   "cell_type": "code",
   "execution_count": 30,
   "id": "abcdf613",
   "metadata": {},
   "outputs": [
    {
     "data": {
      "text/plain": [
       "<re.Match object; span=(0, 10), match='hello 1234'>"
      ]
     },
     "execution_count": 30,
     "metadata": {},
     "output_type": "execute_result"
    }
   ],
   "source": [
    "re.match(\"[a-z0-9 ]+\", \"hello 1234\") # 공백 포함 전체를 찾음"
   ]
  },
  {
   "cell_type": "code",
   "execution_count": 31,
   "id": "fb4c7457",
   "metadata": {},
   "outputs": [
    {
     "data": {
      "text/plain": [
       "<re.Match object; span=(0, 10), match='hello 1234'>"
      ]
     },
     "execution_count": 31,
     "metadata": {},
     "output_type": "execute_result"
    }
   ],
   "source": [
    "re.match(\"[a-z0-9\\s]+\", \"hello 1234\")"
   ]
  },
  {
   "cell_type": "code",
   "execution_count": 32,
   "id": "76ab4b31",
   "metadata": {},
   "outputs": [
    {
     "data": {
      "text/plain": [
       "<re.Match object; span=(0, 5), match='hello'>"
      ]
     },
     "execution_count": 32,
     "metadata": {},
     "output_type": "execute_result"
    }
   ],
   "source": [
    "re.match(\"[a-z0-9\\S]+\", \"hello 1234\")"
   ]
  },
  {
   "cell_type": "markdown",
   "id": "1ee4a2ef",
   "metadata": {},
   "source": [
    "### 그룹핑\n",
    "- (정규표현식)(정규표현식)\n",
    "- 두 개의 그룹으로 원하는 걸 만들 수 있다.\n",
    "- 매칭할객체.group(그룹숫자)"
   ]
  },
  {
   "cell_type": "code",
   "execution_count": 34,
   "id": "3655154a",
   "metadata": {},
   "outputs": [],
   "source": [
    "df_n = re.match(\"([0-9]+) ([0-9]+)\", \"121 131\")"
   ]
  },
  {
   "cell_type": "code",
   "execution_count": 36,
   "id": "301b57e2",
   "metadata": {},
   "outputs": [
    {
     "data": {
      "text/plain": [
       "<re.Match object; span=(0, 7), match='121 131'>"
      ]
     },
     "execution_count": 36,
     "metadata": {},
     "output_type": "execute_result"
    }
   ],
   "source": [
    "df_n"
   ]
  },
  {
   "cell_type": "code",
   "execution_count": 37,
   "id": "b4bcb691",
   "metadata": {},
   "outputs": [
    {
     "data": {
      "text/plain": [
       "'121'"
      ]
     },
     "execution_count": 37,
     "metadata": {},
     "output_type": "execute_result"
    }
   ],
   "source": [
    "df_n.group(1)"
   ]
  },
  {
   "cell_type": "code",
   "execution_count": 38,
   "id": "fc0d7ea7",
   "metadata": {},
   "outputs": [
    {
     "data": {
      "text/plain": [
       "'131'"
      ]
     },
     "execution_count": 38,
     "metadata": {},
     "output_type": "execute_result"
    }
   ],
   "source": [
    "df_n.group(2)"
   ]
  },
  {
   "cell_type": "code",
   "execution_count": 41,
   "id": "def79da6",
   "metadata": {},
   "outputs": [
    {
     "data": {
      "text/plain": [
       "'121 131'"
      ]
     },
     "execution_count": 41,
     "metadata": {},
     "output_type": "execute_result"
    }
   ],
   "source": [
    "df_n.group()"
   ]
  },
  {
   "cell_type": "code",
   "execution_count": 42,
   "id": "4d7465a9",
   "metadata": {},
   "outputs": [
    {
     "data": {
      "text/plain": [
       "('121', '131')"
      ]
     },
     "execution_count": 42,
     "metadata": {},
     "output_type": "execute_result"
    }
   ],
   "source": [
    "df_n.groups()"
   ]
  },
  {
   "cell_type": "markdown",
   "id": "cee910b2",
   "metadata": {},
   "source": [
    "### 패턴에 매칭되는 모든 문자열 가져오기\n",
    "- re.findall('패턴', '문자열')"
   ]
  },
  {
   "cell_type": "code",
   "execution_count": 43,
   "id": "9a045b1c",
   "metadata": {},
   "outputs": [
    {
     "data": {
      "text/plain": [
       "['1', '3', '5', '7', '9', '11', '15']"
      ]
     },
     "execution_count": 43,
     "metadata": {},
     "output_type": "execute_result"
    }
   ],
   "source": [
    "re.findall(\"[0-9]+\", \"1 3 5 7 pizza 9 11 Rice 15\")"
   ]
  },
  {
   "cell_type": "code",
   "execution_count": 44,
   "id": "f44d4389",
   "metadata": {},
   "outputs": [
    {
     "data": {
      "text/plain": [
       "['pizza', 'Rice']"
      ]
     },
     "execution_count": 44,
     "metadata": {},
     "output_type": "execute_result"
    }
   ],
   "source": [
    "re.findall(\"[a-zA-Z]+\", \"1 3 5 7 pizza 9 11 Rice 15\")"
   ]
  },
  {
   "cell_type": "code",
   "execution_count": 46,
   "id": "c7b403a8",
   "metadata": {},
   "outputs": [
    {
     "data": {
      "text/plain": [
       "['정규식', '정말', '쉽죠?']"
      ]
     },
     "execution_count": 46,
     "metadata": {},
     "output_type": "execute_result"
    }
   ],
   "source": [
    "re.findall(\"[가-힣]+\", \"1 3 5 7 pizza 9 11 Rice 15 정규식 정말 쉽죠?\")"
   ]
  },
  {
   "cell_type": "code",
   "execution_count": 47,
   "id": "d083ab86",
   "metadata": {},
   "outputs": [],
   "source": [
    "df_new = re.findall(\"[가-힣]+\", \"1 3 5 7 pizza 9 11 Rice 15 정규식 정말 쉽죠?\")"
   ]
  },
  {
   "cell_type": "code",
   "execution_count": 48,
   "id": "c8ee563b",
   "metadata": {},
   "outputs": [
    {
     "data": {
      "text/plain": [
       "'정규식'"
      ]
     },
     "execution_count": 48,
     "metadata": {},
     "output_type": "execute_result"
    }
   ],
   "source": [
    "df_new[0]"
   ]
  },
  {
   "cell_type": "markdown",
   "id": "8aeaa644",
   "metadata": {},
   "source": [
    "### 문자열 바꾸기\n",
    "- re.sub('바꿀 패턴', '새 패턴, '문자열', 바꿀횟수)"
   ]
  },
  {
   "cell_type": "code",
   "execution_count": 49,
   "id": "fec05e44",
   "metadata": {},
   "outputs": [
    {
     "data": {
      "text/plain": [
       "'number number number number pizza number number Rice number'"
      ]
     },
     "execution_count": 49,
     "metadata": {},
     "output_type": "execute_result"
    }
   ],
   "source": [
    "re.sub(\"[0-9]+\", \"number\", \"1 3 5 7 pizza 9 11 Rice 15\")"
   ]
  },
  {
   "cell_type": "code",
   "execution_count": 50,
   "id": "0344a78f",
   "metadata": {},
   "outputs": [
    {
     "data": {
      "text/plain": [
       "'number number 5 7 pizza 9 11 Rice 15'"
      ]
     },
     "execution_count": 50,
     "metadata": {},
     "output_type": "execute_result"
    }
   ],
   "source": [
    "re.sub(\"[0-9]+\", \"number\", \"1 3 5 7 pizza 9 11 Rice 15\", 2)"
   ]
  },
  {
   "cell_type": "code",
   "execution_count": 51,
   "id": "4778e843",
   "metadata": {},
   "outputs": [
    {
     "data": {
      "text/plain": [
       "'number number number 7 pizza 9 11 Rice 15'"
      ]
     },
     "execution_count": 51,
     "metadata": {},
     "output_type": "execute_result"
    }
   ],
   "source": [
    "re.sub(\"[0-9]+\", \"number\", \"1 3 5 7 pizza 9 11 Rice 15\", 3)\n",
    "# 바꿀 횟수는 앞 기준으로 원하는 만큼 조정 가능함!"
   ]
  },
  {
   "cell_type": "markdown",
   "id": "79fcd69d",
   "metadata": {},
   "source": [
    "### 퀴즈\n",
    "- 이메일 주소를 가지고 올 수 있는 정규식 패턴 만들기!\n",
    "- 이메일의 시작은 영어(소문자만 가능)\n",
    "- 맨 앞은 숫자가 될 수 없음\n",
    "- aadsf@\n",
    "- @ 다음은 gmail.com처럼\n",
    "- .com으로 끝난다."
   ]
  },
  {
   "cell_type": "code",
   "execution_count": 65,
   "id": "d0383ed9",
   "metadata": {},
   "outputs": [
    {
     "data": {
      "text/plain": [
       "<re.Match object; span=(0, 14), match='asdf@gasdf.com'>"
      ]
     },
     "execution_count": 65,
     "metadata": {},
     "output_type": "execute_result"
    }
   ],
   "source": [
    "re.match(\"[a-z][a-z0-9]+\\@[a-z]+\\.com\", \"asdf@gasdf.com\")"
   ]
  },
  {
   "cell_type": "markdown",
   "id": "892cacfc",
   "metadata": {},
   "source": [
    "### 필수과제\n",
    "- 트위터 데이터, 대통령 선거 관련 댓글 데이터\n",
    "- 데이터에서 한글만 추출해서, 대통령 후보(문재인, 이재명, 이낙연) 이름이 있을 것\n",
    "- 해당 지지자만 추출을 해서 지지자의 이름을 카운팅하여 얼마나 언급이 되었는지 체크해 주세요. (필수)\n",
    "- 또한 기본적으로 해당 후보의 댓글들이 어떤 식의 문장이 많이 들어가 있는지 추가 분석해 주세요. (추가)\n",
    "- (형태소분석, konlpy, (okt, 형태소 분석에 필요한 내용 구글링하시면 됩니다.))"
   ]
  }
 ],
 "metadata": {
  "kernelspec": {
   "display_name": "Python 3 (ipykernel)",
   "language": "python",
   "name": "python3"
  },
  "language_info": {
   "codemirror_mode": {
    "name": "ipython",
    "version": 3
   },
   "file_extension": ".py",
   "mimetype": "text/x-python",
   "name": "python",
   "nbconvert_exporter": "python",
   "pygments_lexer": "ipython3",
   "version": "3.9.12"
  }
 },
 "nbformat": 4,
 "nbformat_minor": 5
}
