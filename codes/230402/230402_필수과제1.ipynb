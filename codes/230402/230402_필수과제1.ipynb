{
 "cells": [
  {
   "cell_type": "markdown",
   "id": "75a490f6",
   "metadata": {},
   "source": [
    "### 필수과제 1\n",
    "- from sklearn.preprocessing import StandardScaler, MinMaxScaler, RobustScaler\n",
    "- 스케일링 진행하지 않은 2개 + 추가로 더 하셔도 됩니다 abs, 등으로 차이를 비교해주세요!"
   ]
  },
  {
   "cell_type": "markdown",
   "id": "a792001e",
   "metadata": {},
   "source": [
    "### 수업시간 데이터 가져오기, 전처리\n",
    "- 4/2 수업시간에 진행한 전처리, 선택한 컬럼을 그대로 가져와서 진행"
   ]
  },
  {
   "cell_type": "code",
   "execution_count": 1,
   "id": "d8fefb80",
   "metadata": {},
   "outputs": [],
   "source": [
    "from sklearn.preprocessing import scale\n",
    "from sklearn.cluster import KMeans\n",
    "import matplotlib.pyplot as plt\n",
    "import numpy as np\n",
    "import pandas as pd\n",
    "%matplotlib inline"
   ]
  },
  {
   "cell_type": "code",
   "execution_count": 2,
   "id": "76fa2eb5",
   "metadata": {},
   "outputs": [],
   "source": [
    "df = pd.read_csv(\"wine_test.csv\")"
   ]
  },
  {
   "cell_type": "code",
   "execution_count": 3,
   "id": "5e3ff359",
   "metadata": {},
   "outputs": [
    {
     "data": {
      "text/plain": [
       "Index(['Unnamed: 0', 'alcohol', 'malic_acid', 'ash', 'alcalinity_of_ash',\n",
       "       'magnesium', 'total_phenols', 'flavanoids', 'nonflavanoid_phenols',\n",
       "       'proanthocyanins', 'color_intensity', 'hue',\n",
       "       'od280/od315_of_diluted_wines', 'proline', 'class'],\n",
       "      dtype='object')"
      ]
     },
     "execution_count": 3,
     "metadata": {},
     "output_type": "execute_result"
    }
   ],
   "source": [
    "df.columns"
   ]
  },
  {
   "cell_type": "code",
   "execution_count": 4,
   "id": "dc1d2230",
   "metadata": {},
   "outputs": [],
   "source": [
    "df = df[['alcohol', 'malic_acid', 'ash', 'alcalinity_of_ash',\n",
    "       'magnesium', 'total_phenols', 'flavanoids', 'nonflavanoid_phenols',\n",
    "       'proanthocyanins', 'color_intensity', 'hue',\n",
    "       'od280/od315_of_diluted_wines', 'proline', 'class']]"
   ]
  },
  {
   "cell_type": "code",
   "execution_count": 5,
   "id": "f17d62f5",
   "metadata": {},
   "outputs": [
    {
     "data": {
      "text/html": [
       "<div>\n",
       "<style scoped>\n",
       "    .dataframe tbody tr th:only-of-type {\n",
       "        vertical-align: middle;\n",
       "    }\n",
       "\n",
       "    .dataframe tbody tr th {\n",
       "        vertical-align: top;\n",
       "    }\n",
       "\n",
       "    .dataframe thead th {\n",
       "        text-align: right;\n",
       "    }\n",
       "</style>\n",
       "<table border=\"1\" class=\"dataframe\">\n",
       "  <thead>\n",
       "    <tr style=\"text-align: right;\">\n",
       "      <th></th>\n",
       "      <th>alcohol</th>\n",
       "      <th>malic_acid</th>\n",
       "      <th>ash</th>\n",
       "      <th>alcalinity_of_ash</th>\n",
       "      <th>magnesium</th>\n",
       "      <th>total_phenols</th>\n",
       "      <th>flavanoids</th>\n",
       "      <th>nonflavanoid_phenols</th>\n",
       "      <th>proanthocyanins</th>\n",
       "      <th>color_intensity</th>\n",
       "      <th>hue</th>\n",
       "      <th>od280/od315_of_diluted_wines</th>\n",
       "      <th>proline</th>\n",
       "      <th>class</th>\n",
       "    </tr>\n",
       "  </thead>\n",
       "  <tbody>\n",
       "    <tr>\n",
       "      <th>0</th>\n",
       "      <td>14.23</td>\n",
       "      <td>1.71</td>\n",
       "      <td>2.43</td>\n",
       "      <td>15.6</td>\n",
       "      <td>127</td>\n",
       "      <td>2.80</td>\n",
       "      <td>3.06</td>\n",
       "      <td>0.28</td>\n",
       "      <td>2.29</td>\n",
       "      <td>5.64</td>\n",
       "      <td>1.04</td>\n",
       "      <td>3.92</td>\n",
       "      <td>1065</td>\n",
       "      <td>0</td>\n",
       "    </tr>\n",
       "    <tr>\n",
       "      <th>1</th>\n",
       "      <td>NaN</td>\n",
       "      <td>1.78</td>\n",
       "      <td>2.14</td>\n",
       "      <td>11.2</td>\n",
       "      <td>100</td>\n",
       "      <td>2.65</td>\n",
       "      <td>2.76</td>\n",
       "      <td>0.26</td>\n",
       "      <td>1.28</td>\n",
       "      <td>4.38</td>\n",
       "      <td>1.05</td>\n",
       "      <td>3.40</td>\n",
       "      <td>1050</td>\n",
       "      <td>0</td>\n",
       "    </tr>\n",
       "    <tr>\n",
       "      <th>2</th>\n",
       "      <td>13.16</td>\n",
       "      <td>2.36</td>\n",
       "      <td>2.67</td>\n",
       "      <td>18.6</td>\n",
       "      <td>101</td>\n",
       "      <td>2.80</td>\n",
       "      <td>3.24</td>\n",
       "      <td>0.30</td>\n",
       "      <td>2.81</td>\n",
       "      <td>5.68</td>\n",
       "      <td>1.03</td>\n",
       "      <td>3.17</td>\n",
       "      <td>1185</td>\n",
       "      <td>0</td>\n",
       "    </tr>\n",
       "    <tr>\n",
       "      <th>3</th>\n",
       "      <td>14.37</td>\n",
       "      <td>1.95</td>\n",
       "      <td>2.50</td>\n",
       "      <td>16.8</td>\n",
       "      <td>113</td>\n",
       "      <td>3.85</td>\n",
       "      <td>3.49</td>\n",
       "      <td>0.24</td>\n",
       "      <td>2.18</td>\n",
       "      <td>7.80</td>\n",
       "      <td>0.86</td>\n",
       "      <td>3.45</td>\n",
       "      <td>1480</td>\n",
       "      <td>0</td>\n",
       "    </tr>\n",
       "    <tr>\n",
       "      <th>4</th>\n",
       "      <td>13.24</td>\n",
       "      <td>2.59</td>\n",
       "      <td>2.87</td>\n",
       "      <td>21.0</td>\n",
       "      <td>118</td>\n",
       "      <td>2.80</td>\n",
       "      <td>2.69</td>\n",
       "      <td>0.39</td>\n",
       "      <td>1.82</td>\n",
       "      <td>4.32</td>\n",
       "      <td>1.04</td>\n",
       "      <td>2.93</td>\n",
       "      <td>735</td>\n",
       "      <td>0</td>\n",
       "    </tr>\n",
       "    <tr>\n",
       "      <th>...</th>\n",
       "      <td>...</td>\n",
       "      <td>...</td>\n",
       "      <td>...</td>\n",
       "      <td>...</td>\n",
       "      <td>...</td>\n",
       "      <td>...</td>\n",
       "      <td>...</td>\n",
       "      <td>...</td>\n",
       "      <td>...</td>\n",
       "      <td>...</td>\n",
       "      <td>...</td>\n",
       "      <td>...</td>\n",
       "      <td>...</td>\n",
       "      <td>...</td>\n",
       "    </tr>\n",
       "    <tr>\n",
       "      <th>173</th>\n",
       "      <td>13.71</td>\n",
       "      <td>5.65</td>\n",
       "      <td>2.45</td>\n",
       "      <td>20.5</td>\n",
       "      <td>95</td>\n",
       "      <td>1.68</td>\n",
       "      <td>0.61</td>\n",
       "      <td>0.52</td>\n",
       "      <td>1.06</td>\n",
       "      <td>7.70</td>\n",
       "      <td>0.64</td>\n",
       "      <td>1.74</td>\n",
       "      <td>740</td>\n",
       "      <td>2</td>\n",
       "    </tr>\n",
       "    <tr>\n",
       "      <th>174</th>\n",
       "      <td>13.40</td>\n",
       "      <td>3.91</td>\n",
       "      <td>2.48</td>\n",
       "      <td>23.0</td>\n",
       "      <td>102</td>\n",
       "      <td>1.80</td>\n",
       "      <td>0.75</td>\n",
       "      <td>0.43</td>\n",
       "      <td>1.41</td>\n",
       "      <td>7.30</td>\n",
       "      <td>0.70</td>\n",
       "      <td>1.56</td>\n",
       "      <td>750</td>\n",
       "      <td>2</td>\n",
       "    </tr>\n",
       "    <tr>\n",
       "      <th>175</th>\n",
       "      <td>13.27</td>\n",
       "      <td>4.28</td>\n",
       "      <td>2.26</td>\n",
       "      <td>20.0</td>\n",
       "      <td>120</td>\n",
       "      <td>1.59</td>\n",
       "      <td>0.69</td>\n",
       "      <td>0.43</td>\n",
       "      <td>1.35</td>\n",
       "      <td>10.20</td>\n",
       "      <td>0.59</td>\n",
       "      <td>1.56</td>\n",
       "      <td>835</td>\n",
       "      <td>2</td>\n",
       "    </tr>\n",
       "    <tr>\n",
       "      <th>176</th>\n",
       "      <td>13.17</td>\n",
       "      <td>2.59</td>\n",
       "      <td>2.37</td>\n",
       "      <td>20.0</td>\n",
       "      <td>120</td>\n",
       "      <td>1.65</td>\n",
       "      <td>0.68</td>\n",
       "      <td>0.53</td>\n",
       "      <td>1.46</td>\n",
       "      <td>9.30</td>\n",
       "      <td>0.60</td>\n",
       "      <td>1.62</td>\n",
       "      <td>840</td>\n",
       "      <td>2</td>\n",
       "    </tr>\n",
       "    <tr>\n",
       "      <th>177</th>\n",
       "      <td>14.13</td>\n",
       "      <td>4.10</td>\n",
       "      <td>2.74</td>\n",
       "      <td>24.5</td>\n",
       "      <td>96</td>\n",
       "      <td>2.05</td>\n",
       "      <td>0.76</td>\n",
       "      <td>0.56</td>\n",
       "      <td>1.35</td>\n",
       "      <td>9.20</td>\n",
       "      <td>0.61</td>\n",
       "      <td>1.60</td>\n",
       "      <td>560</td>\n",
       "      <td>2</td>\n",
       "    </tr>\n",
       "  </tbody>\n",
       "</table>\n",
       "<p>178 rows × 14 columns</p>\n",
       "</div>"
      ],
      "text/plain": [
       "     alcohol  malic_acid   ash  alcalinity_of_ash  magnesium  total_phenols  \\\n",
       "0      14.23        1.71  2.43               15.6        127           2.80   \n",
       "1        NaN        1.78  2.14               11.2        100           2.65   \n",
       "2      13.16        2.36  2.67               18.6        101           2.80   \n",
       "3      14.37        1.95  2.50               16.8        113           3.85   \n",
       "4      13.24        2.59  2.87               21.0        118           2.80   \n",
       "..       ...         ...   ...                ...        ...            ...   \n",
       "173    13.71        5.65  2.45               20.5         95           1.68   \n",
       "174    13.40        3.91  2.48               23.0        102           1.80   \n",
       "175    13.27        4.28  2.26               20.0        120           1.59   \n",
       "176    13.17        2.59  2.37               20.0        120           1.65   \n",
       "177    14.13        4.10  2.74               24.5         96           2.05   \n",
       "\n",
       "     flavanoids  nonflavanoid_phenols  proanthocyanins  color_intensity   hue  \\\n",
       "0          3.06                  0.28             2.29             5.64  1.04   \n",
       "1          2.76                  0.26             1.28             4.38  1.05   \n",
       "2          3.24                  0.30             2.81             5.68  1.03   \n",
       "3          3.49                  0.24             2.18             7.80  0.86   \n",
       "4          2.69                  0.39             1.82             4.32  1.04   \n",
       "..          ...                   ...              ...              ...   ...   \n",
       "173        0.61                  0.52             1.06             7.70  0.64   \n",
       "174        0.75                  0.43             1.41             7.30  0.70   \n",
       "175        0.69                  0.43             1.35            10.20  0.59   \n",
       "176        0.68                  0.53             1.46             9.30  0.60   \n",
       "177        0.76                  0.56             1.35             9.20  0.61   \n",
       "\n",
       "     od280/od315_of_diluted_wines  proline  class  \n",
       "0                            3.92     1065      0  \n",
       "1                            3.40     1050      0  \n",
       "2                            3.17     1185      0  \n",
       "3                            3.45     1480      0  \n",
       "4                            2.93      735      0  \n",
       "..                            ...      ...    ...  \n",
       "173                          1.74      740      2  \n",
       "174                          1.56      750      2  \n",
       "175                          1.56      835      2  \n",
       "176                          1.62      840      2  \n",
       "177                          1.60      560      2  \n",
       "\n",
       "[178 rows x 14 columns]"
      ]
     },
     "execution_count": 5,
     "metadata": {},
     "output_type": "execute_result"
    }
   ],
   "source": [
    "df"
   ]
  },
  {
   "cell_type": "code",
   "execution_count": 6,
   "id": "32431e75",
   "metadata": {},
   "outputs": [
    {
     "data": {
      "text/plain": [
       "alcohol                         2\n",
       "malic_acid                      0\n",
       "ash                             0\n",
       "alcalinity_of_ash               0\n",
       "magnesium                       0\n",
       "total_phenols                   0\n",
       "flavanoids                      0\n",
       "nonflavanoid_phenols            5\n",
       "proanthocyanins                 0\n",
       "color_intensity                 0\n",
       "hue                             0\n",
       "od280/od315_of_diluted_wines    0\n",
       "proline                         0\n",
       "class                           0\n",
       "dtype: int64"
      ]
     },
     "execution_count": 6,
     "metadata": {},
     "output_type": "execute_result"
    }
   ],
   "source": [
    "df.isna().sum()"
   ]
  },
  {
   "cell_type": "code",
   "execution_count": 7,
   "id": "86545c43",
   "metadata": {},
   "outputs": [],
   "source": [
    "df.dropna(inplace=True)"
   ]
  },
  {
   "cell_type": "code",
   "execution_count": 8,
   "id": "4fcf7466",
   "metadata": {},
   "outputs": [],
   "source": [
    "df_sp_1 = df[[\"alcohol\", \"ash\", \"nonflavanoid_phenols\", \"proanthocyanins\"]]"
   ]
  },
  {
   "cell_type": "code",
   "execution_count": 9,
   "id": "2bf838b2",
   "metadata": {},
   "outputs": [
    {
     "data": {
      "text/html": [
       "<div>\n",
       "<style scoped>\n",
       "    .dataframe tbody tr th:only-of-type {\n",
       "        vertical-align: middle;\n",
       "    }\n",
       "\n",
       "    .dataframe tbody tr th {\n",
       "        vertical-align: top;\n",
       "    }\n",
       "\n",
       "    .dataframe thead th {\n",
       "        text-align: right;\n",
       "    }\n",
       "</style>\n",
       "<table border=\"1\" class=\"dataframe\">\n",
       "  <thead>\n",
       "    <tr style=\"text-align: right;\">\n",
       "      <th></th>\n",
       "      <th>alcohol</th>\n",
       "      <th>ash</th>\n",
       "      <th>nonflavanoid_phenols</th>\n",
       "      <th>proanthocyanins</th>\n",
       "    </tr>\n",
       "  </thead>\n",
       "  <tbody>\n",
       "    <tr>\n",
       "      <th>0</th>\n",
       "      <td>14.23</td>\n",
       "      <td>2.43</td>\n",
       "      <td>0.28</td>\n",
       "      <td>2.29</td>\n",
       "    </tr>\n",
       "    <tr>\n",
       "      <th>2</th>\n",
       "      <td>13.16</td>\n",
       "      <td>2.67</td>\n",
       "      <td>0.30</td>\n",
       "      <td>2.81</td>\n",
       "    </tr>\n",
       "    <tr>\n",
       "      <th>3</th>\n",
       "      <td>14.37</td>\n",
       "      <td>2.50</td>\n",
       "      <td>0.24</td>\n",
       "      <td>2.18</td>\n",
       "    </tr>\n",
       "    <tr>\n",
       "      <th>4</th>\n",
       "      <td>13.24</td>\n",
       "      <td>2.87</td>\n",
       "      <td>0.39</td>\n",
       "      <td>1.82</td>\n",
       "    </tr>\n",
       "    <tr>\n",
       "      <th>5</th>\n",
       "      <td>14.20</td>\n",
       "      <td>2.45</td>\n",
       "      <td>0.34</td>\n",
       "      <td>1.97</td>\n",
       "    </tr>\n",
       "    <tr>\n",
       "      <th>...</th>\n",
       "      <td>...</td>\n",
       "      <td>...</td>\n",
       "      <td>...</td>\n",
       "      <td>...</td>\n",
       "    </tr>\n",
       "    <tr>\n",
       "      <th>173</th>\n",
       "      <td>13.71</td>\n",
       "      <td>2.45</td>\n",
       "      <td>0.52</td>\n",
       "      <td>1.06</td>\n",
       "    </tr>\n",
       "    <tr>\n",
       "      <th>174</th>\n",
       "      <td>13.40</td>\n",
       "      <td>2.48</td>\n",
       "      <td>0.43</td>\n",
       "      <td>1.41</td>\n",
       "    </tr>\n",
       "    <tr>\n",
       "      <th>175</th>\n",
       "      <td>13.27</td>\n",
       "      <td>2.26</td>\n",
       "      <td>0.43</td>\n",
       "      <td>1.35</td>\n",
       "    </tr>\n",
       "    <tr>\n",
       "      <th>176</th>\n",
       "      <td>13.17</td>\n",
       "      <td>2.37</td>\n",
       "      <td>0.53</td>\n",
       "      <td>1.46</td>\n",
       "    </tr>\n",
       "    <tr>\n",
       "      <th>177</th>\n",
       "      <td>14.13</td>\n",
       "      <td>2.74</td>\n",
       "      <td>0.56</td>\n",
       "      <td>1.35</td>\n",
       "    </tr>\n",
       "  </tbody>\n",
       "</table>\n",
       "<p>171 rows × 4 columns</p>\n",
       "</div>"
      ],
      "text/plain": [
       "     alcohol   ash  nonflavanoid_phenols  proanthocyanins\n",
       "0      14.23  2.43                  0.28             2.29\n",
       "2      13.16  2.67                  0.30             2.81\n",
       "3      14.37  2.50                  0.24             2.18\n",
       "4      13.24  2.87                  0.39             1.82\n",
       "5      14.20  2.45                  0.34             1.97\n",
       "..       ...   ...                   ...              ...\n",
       "173    13.71  2.45                  0.52             1.06\n",
       "174    13.40  2.48                  0.43             1.41\n",
       "175    13.27  2.26                  0.43             1.35\n",
       "176    13.17  2.37                  0.53             1.46\n",
       "177    14.13  2.74                  0.56             1.35\n",
       "\n",
       "[171 rows x 4 columns]"
      ]
     },
     "execution_count": 9,
     "metadata": {},
     "output_type": "execute_result"
    }
   ],
   "source": [
    "df_sp_1"
   ]
  },
  {
   "cell_type": "code",
   "execution_count": 10,
   "id": "1aa23c11",
   "metadata": {},
   "outputs": [],
   "source": [
    "kmeans = KMeans(n_clusters=3, init=\"k-means++\", max_iter=300, random_state=111)"
   ]
  },
  {
   "cell_type": "code",
   "execution_count": 11,
   "id": "1a6c486a",
   "metadata": {},
   "outputs": [
    {
     "data": {
      "text/plain": [
       "KMeans(n_clusters=3, random_state=111)"
      ]
     },
     "execution_count": 11,
     "metadata": {},
     "output_type": "execute_result"
    }
   ],
   "source": [
    "kmeans.fit(df_sp_1)"
   ]
  },
  {
   "cell_type": "markdown",
   "id": "f7d900cf",
   "metadata": {},
   "source": [
    "### StandardScaler (수업시간에 진행)"
   ]
  },
  {
   "cell_type": "code",
   "execution_count": 12,
   "id": "4f584420",
   "metadata": {},
   "outputs": [],
   "source": [
    "from sklearn.preprocessing import StandardScaler"
   ]
  },
  {
   "cell_type": "code",
   "execution_count": 13,
   "id": "d3f9f6e9",
   "metadata": {},
   "outputs": [],
   "source": [
    "st_scaler = StandardScaler()"
   ]
  },
  {
   "cell_type": "code",
   "execution_count": 14,
   "id": "c93cde41",
   "metadata": {},
   "outputs": [
    {
     "data": {
      "text/plain": [
       "StandardScaler()"
      ]
     },
     "execution_count": 14,
     "metadata": {},
     "output_type": "execute_result"
    }
   ],
   "source": [
    "st_scaler.fit(df_sp_1)"
   ]
  },
  {
   "cell_type": "code",
   "execution_count": 15,
   "id": "648cce0f",
   "metadata": {},
   "outputs": [],
   "source": [
    "df_sp_1_st = st_scaler.transform(df_sp_1)"
   ]
  },
  {
   "cell_type": "code",
   "execution_count": 16,
   "id": "2523488d",
   "metadata": {},
   "outputs": [],
   "source": [
    "df_new1 = pd.DataFrame(df_sp_1_st, columns=df_sp_1.columns)"
   ]
  },
  {
   "cell_type": "code",
   "execution_count": 17,
   "id": "c14dec11",
   "metadata": {},
   "outputs": [
    {
     "data": {
      "text/html": [
       "<div>\n",
       "<style scoped>\n",
       "    .dataframe tbody tr th:only-of-type {\n",
       "        vertical-align: middle;\n",
       "    }\n",
       "\n",
       "    .dataframe tbody tr th {\n",
       "        vertical-align: top;\n",
       "    }\n",
       "\n",
       "    .dataframe thead th {\n",
       "        text-align: right;\n",
       "    }\n",
       "</style>\n",
       "<table border=\"1\" class=\"dataframe\">\n",
       "  <thead>\n",
       "    <tr style=\"text-align: right;\">\n",
       "      <th></th>\n",
       "      <th>alcohol</th>\n",
       "      <th>ash</th>\n",
       "      <th>nonflavanoid_phenols</th>\n",
       "      <th>proanthocyanins</th>\n",
       "    </tr>\n",
       "  </thead>\n",
       "  <tbody>\n",
       "    <tr>\n",
       "      <th>0</th>\n",
       "      <td>1.526314</td>\n",
       "      <td>0.207821</td>\n",
       "      <td>-0.661032</td>\n",
       "      <td>1.250922</td>\n",
       "    </tr>\n",
       "    <tr>\n",
       "      <th>1</th>\n",
       "      <td>0.181214</td>\n",
       "      <td>1.080798</td>\n",
       "      <td>-0.502496</td>\n",
       "      <td>2.170422</td>\n",
       "    </tr>\n",
       "    <tr>\n",
       "      <th>2</th>\n",
       "      <td>1.702309</td>\n",
       "      <td>0.462439</td>\n",
       "      <td>-0.978105</td>\n",
       "      <td>1.056412</td>\n",
       "    </tr>\n",
       "    <tr>\n",
       "      <th>3</th>\n",
       "      <td>0.281782</td>\n",
       "      <td>1.808278</td>\n",
       "      <td>0.210918</td>\n",
       "      <td>0.419835</td>\n",
       "    </tr>\n",
       "    <tr>\n",
       "      <th>4</th>\n",
       "      <td>1.488601</td>\n",
       "      <td>0.280569</td>\n",
       "      <td>-0.185423</td>\n",
       "      <td>0.685075</td>\n",
       "    </tr>\n",
       "    <tr>\n",
       "      <th>...</th>\n",
       "      <td>...</td>\n",
       "      <td>...</td>\n",
       "      <td>...</td>\n",
       "      <td>...</td>\n",
       "    </tr>\n",
       "    <tr>\n",
       "      <th>166</th>\n",
       "      <td>0.872621</td>\n",
       "      <td>0.280569</td>\n",
       "      <td>1.241406</td>\n",
       "      <td>-0.924050</td>\n",
       "    </tr>\n",
       "    <tr>\n",
       "      <th>167</th>\n",
       "      <td>0.482919</td>\n",
       "      <td>0.389691</td>\n",
       "      <td>0.527991</td>\n",
       "      <td>-0.305156</td>\n",
       "    </tr>\n",
       "    <tr>\n",
       "      <th>168</th>\n",
       "      <td>0.319495</td>\n",
       "      <td>-0.410537</td>\n",
       "      <td>0.527991</td>\n",
       "      <td>-0.411252</td>\n",
       "    </tr>\n",
       "    <tr>\n",
       "      <th>169</th>\n",
       "      <td>0.193785</td>\n",
       "      <td>-0.010423</td>\n",
       "      <td>1.320674</td>\n",
       "      <td>-0.216742</td>\n",
       "    </tr>\n",
       "    <tr>\n",
       "      <th>170</th>\n",
       "      <td>1.400604</td>\n",
       "      <td>1.335416</td>\n",
       "      <td>1.558479</td>\n",
       "      <td>-0.411252</td>\n",
       "    </tr>\n",
       "  </tbody>\n",
       "</table>\n",
       "<p>171 rows × 4 columns</p>\n",
       "</div>"
      ],
      "text/plain": [
       "      alcohol       ash  nonflavanoid_phenols  proanthocyanins\n",
       "0    1.526314  0.207821             -0.661032         1.250922\n",
       "1    0.181214  1.080798             -0.502496         2.170422\n",
       "2    1.702309  0.462439             -0.978105         1.056412\n",
       "3    0.281782  1.808278              0.210918         0.419835\n",
       "4    1.488601  0.280569             -0.185423         0.685075\n",
       "..        ...       ...                   ...              ...\n",
       "166  0.872621  0.280569              1.241406        -0.924050\n",
       "167  0.482919  0.389691              0.527991        -0.305156\n",
       "168  0.319495 -0.410537              0.527991        -0.411252\n",
       "169  0.193785 -0.010423              1.320674        -0.216742\n",
       "170  1.400604  1.335416              1.558479        -0.411252\n",
       "\n",
       "[171 rows x 4 columns]"
      ]
     },
     "execution_count": 17,
     "metadata": {},
     "output_type": "execute_result"
    }
   ],
   "source": [
    "df_new1"
   ]
  },
  {
   "cell_type": "markdown",
   "id": "3533f20e",
   "metadata": {},
   "source": [
    "### MinMaxScaler"
   ]
  },
  {
   "cell_type": "code",
   "execution_count": 18,
   "id": "973272ea",
   "metadata": {},
   "outputs": [],
   "source": [
    "from sklearn.preprocessing import MinMaxScaler"
   ]
  },
  {
   "cell_type": "code",
   "execution_count": 19,
   "id": "7271c08f",
   "metadata": {},
   "outputs": [],
   "source": [
    "mm_scaler = MinMaxScaler()"
   ]
  },
  {
   "cell_type": "code",
   "execution_count": 20,
   "id": "857ed453",
   "metadata": {},
   "outputs": [
    {
     "data": {
      "text/plain": [
       "MinMaxScaler()"
      ]
     },
     "execution_count": 20,
     "metadata": {},
     "output_type": "execute_result"
    }
   ],
   "source": [
    "mm_scaler.fit(df_sp_1)"
   ]
  },
  {
   "cell_type": "code",
   "execution_count": 21,
   "id": "d317efae",
   "metadata": {},
   "outputs": [],
   "source": [
    "df_sp_1_mm = mm_scaler.transform(df_sp_1)"
   ]
  },
  {
   "cell_type": "code",
   "execution_count": 22,
   "id": "f9d0d150",
   "metadata": {},
   "outputs": [],
   "source": [
    "df_new2 = pd.DataFrame(df_sp_1_mm, columns=df_sp_1.columns)"
   ]
  },
  {
   "cell_type": "code",
   "execution_count": 23,
   "id": "9b02d4d4",
   "metadata": {},
   "outputs": [
    {
     "data": {
      "text/html": [
       "<div>\n",
       "<style scoped>\n",
       "    .dataframe tbody tr th:only-of-type {\n",
       "        vertical-align: middle;\n",
       "    }\n",
       "\n",
       "    .dataframe tbody tr th {\n",
       "        vertical-align: top;\n",
       "    }\n",
       "\n",
       "    .dataframe thead th {\n",
       "        text-align: right;\n",
       "    }\n",
       "</style>\n",
       "<table border=\"1\" class=\"dataframe\">\n",
       "  <thead>\n",
       "    <tr style=\"text-align: right;\">\n",
       "      <th></th>\n",
       "      <th>alcohol</th>\n",
       "      <th>ash</th>\n",
       "      <th>nonflavanoid_phenols</th>\n",
       "      <th>proanthocyanins</th>\n",
       "    </tr>\n",
       "  </thead>\n",
       "  <tbody>\n",
       "    <tr>\n",
       "      <th>0</th>\n",
       "      <td>0.860215</td>\n",
       "      <td>0.572193</td>\n",
       "      <td>0.283019</td>\n",
       "      <td>0.593060</td>\n",
       "    </tr>\n",
       "    <tr>\n",
       "      <th>1</th>\n",
       "      <td>0.572581</td>\n",
       "      <td>0.700535</td>\n",
       "      <td>0.320755</td>\n",
       "      <td>0.757098</td>\n",
       "    </tr>\n",
       "    <tr>\n",
       "      <th>2</th>\n",
       "      <td>0.897849</td>\n",
       "      <td>0.609626</td>\n",
       "      <td>0.207547</td>\n",
       "      <td>0.558360</td>\n",
       "    </tr>\n",
       "    <tr>\n",
       "      <th>3</th>\n",
       "      <td>0.594086</td>\n",
       "      <td>0.807487</td>\n",
       "      <td>0.490566</td>\n",
       "      <td>0.444795</td>\n",
       "    </tr>\n",
       "    <tr>\n",
       "      <th>4</th>\n",
       "      <td>0.852151</td>\n",
       "      <td>0.582888</td>\n",
       "      <td>0.396226</td>\n",
       "      <td>0.492114</td>\n",
       "    </tr>\n",
       "    <tr>\n",
       "      <th>...</th>\n",
       "      <td>...</td>\n",
       "      <td>...</td>\n",
       "      <td>...</td>\n",
       "      <td>...</td>\n",
       "    </tr>\n",
       "    <tr>\n",
       "      <th>166</th>\n",
       "      <td>0.720430</td>\n",
       "      <td>0.582888</td>\n",
       "      <td>0.735849</td>\n",
       "      <td>0.205047</td>\n",
       "    </tr>\n",
       "    <tr>\n",
       "      <th>167</th>\n",
       "      <td>0.637097</td>\n",
       "      <td>0.598930</td>\n",
       "      <td>0.566038</td>\n",
       "      <td>0.315457</td>\n",
       "    </tr>\n",
       "    <tr>\n",
       "      <th>168</th>\n",
       "      <td>0.602151</td>\n",
       "      <td>0.481283</td>\n",
       "      <td>0.566038</td>\n",
       "      <td>0.296530</td>\n",
       "    </tr>\n",
       "    <tr>\n",
       "      <th>169</th>\n",
       "      <td>0.575269</td>\n",
       "      <td>0.540107</td>\n",
       "      <td>0.754717</td>\n",
       "      <td>0.331230</td>\n",
       "    </tr>\n",
       "    <tr>\n",
       "      <th>170</th>\n",
       "      <td>0.833333</td>\n",
       "      <td>0.737968</td>\n",
       "      <td>0.811321</td>\n",
       "      <td>0.296530</td>\n",
       "    </tr>\n",
       "  </tbody>\n",
       "</table>\n",
       "<p>171 rows × 4 columns</p>\n",
       "</div>"
      ],
      "text/plain": [
       "      alcohol       ash  nonflavanoid_phenols  proanthocyanins\n",
       "0    0.860215  0.572193              0.283019         0.593060\n",
       "1    0.572581  0.700535              0.320755         0.757098\n",
       "2    0.897849  0.609626              0.207547         0.558360\n",
       "3    0.594086  0.807487              0.490566         0.444795\n",
       "4    0.852151  0.582888              0.396226         0.492114\n",
       "..        ...       ...                   ...              ...\n",
       "166  0.720430  0.582888              0.735849         0.205047\n",
       "167  0.637097  0.598930              0.566038         0.315457\n",
       "168  0.602151  0.481283              0.566038         0.296530\n",
       "169  0.575269  0.540107              0.754717         0.331230\n",
       "170  0.833333  0.737968              0.811321         0.296530\n",
       "\n",
       "[171 rows x 4 columns]"
      ]
     },
     "execution_count": 23,
     "metadata": {},
     "output_type": "execute_result"
    }
   ],
   "source": [
    "df_new2 # MinMaxScaler를 사용해서 조정된 데이터"
   ]
  },
  {
   "cell_type": "markdown",
   "id": "67cea8db",
   "metadata": {},
   "source": [
    "### RobustScaler"
   ]
  },
  {
   "cell_type": "code",
   "execution_count": 24,
   "id": "d4e1df0a",
   "metadata": {},
   "outputs": [],
   "source": [
    "from sklearn.preprocessing import RobustScaler"
   ]
  },
  {
   "cell_type": "code",
   "execution_count": 25,
   "id": "e0fee88e",
   "metadata": {},
   "outputs": [],
   "source": [
    "rb_scaler = RobustScaler()"
   ]
  },
  {
   "cell_type": "code",
   "execution_count": 26,
   "id": "14a5afa7",
   "metadata": {},
   "outputs": [
    {
     "data": {
      "text/plain": [
       "RobustScaler()"
      ]
     },
     "execution_count": 26,
     "metadata": {},
     "output_type": "execute_result"
    }
   ],
   "source": [
    "rb_scaler.fit(df_sp_1)"
   ]
  },
  {
   "cell_type": "code",
   "execution_count": 27,
   "id": "aa8c75ba",
   "metadata": {},
   "outputs": [],
   "source": [
    "df_sp_1_rb = rb_scaler.transform(df_sp_1)"
   ]
  },
  {
   "cell_type": "code",
   "execution_count": 28,
   "id": "f915f999",
   "metadata": {},
   "outputs": [],
   "source": [
    "df_new3 = pd.DataFrame(df_sp_1_rb, columns=df_sp_1.columns)"
   ]
  },
  {
   "cell_type": "code",
   "execution_count": 29,
   "id": "401bbca9",
   "metadata": {},
   "outputs": [
    {
     "data": {
      "text/html": [
       "<div>\n",
       "<style scoped>\n",
       "    .dataframe tbody tr th:only-of-type {\n",
       "        vertical-align: middle;\n",
       "    }\n",
       "\n",
       "    .dataframe tbody tr th {\n",
       "        vertical-align: top;\n",
       "    }\n",
       "\n",
       "    .dataframe thead th {\n",
       "        text-align: right;\n",
       "    }\n",
       "</style>\n",
       "<table border=\"1\" class=\"dataframe\">\n",
       "  <thead>\n",
       "    <tr style=\"text-align: right;\">\n",
       "      <th></th>\n",
       "      <th>alcohol</th>\n",
       "      <th>ash</th>\n",
       "      <th>nonflavanoid_phenols</th>\n",
       "      <th>proanthocyanins</th>\n",
       "    </tr>\n",
       "  </thead>\n",
       "  <tbody>\n",
       "    <tr>\n",
       "      <th>0</th>\n",
       "      <td>0.897338</td>\n",
       "      <td>0.205882</td>\n",
       "      <td>-0.324324</td>\n",
       "      <td>1.013889</td>\n",
       "    </tr>\n",
       "    <tr>\n",
       "      <th>1</th>\n",
       "      <td>0.083650</td>\n",
       "      <td>0.911765</td>\n",
       "      <td>-0.216216</td>\n",
       "      <td>1.736111</td>\n",
       "    </tr>\n",
       "    <tr>\n",
       "      <th>2</th>\n",
       "      <td>1.003802</td>\n",
       "      <td>0.411765</td>\n",
       "      <td>-0.540541</td>\n",
       "      <td>0.861111</td>\n",
       "    </tr>\n",
       "    <tr>\n",
       "      <th>3</th>\n",
       "      <td>0.144487</td>\n",
       "      <td>1.500000</td>\n",
       "      <td>0.270270</td>\n",
       "      <td>0.361111</td>\n",
       "    </tr>\n",
       "    <tr>\n",
       "      <th>4</th>\n",
       "      <td>0.874525</td>\n",
       "      <td>0.264706</td>\n",
       "      <td>0.000000</td>\n",
       "      <td>0.569444</td>\n",
       "    </tr>\n",
       "    <tr>\n",
       "      <th>...</th>\n",
       "      <td>...</td>\n",
       "      <td>...</td>\n",
       "      <td>...</td>\n",
       "      <td>...</td>\n",
       "    </tr>\n",
       "    <tr>\n",
       "      <th>166</th>\n",
       "      <td>0.501901</td>\n",
       "      <td>0.264706</td>\n",
       "      <td>0.972973</td>\n",
       "      <td>-0.694444</td>\n",
       "    </tr>\n",
       "    <tr>\n",
       "      <th>167</th>\n",
       "      <td>0.266160</td>\n",
       "      <td>0.352941</td>\n",
       "      <td>0.486486</td>\n",
       "      <td>-0.208333</td>\n",
       "    </tr>\n",
       "    <tr>\n",
       "      <th>168</th>\n",
       "      <td>0.167300</td>\n",
       "      <td>-0.294118</td>\n",
       "      <td>0.486486</td>\n",
       "      <td>-0.291667</td>\n",
       "    </tr>\n",
       "    <tr>\n",
       "      <th>169</th>\n",
       "      <td>0.091255</td>\n",
       "      <td>0.029412</td>\n",
       "      <td>1.027027</td>\n",
       "      <td>-0.138889</td>\n",
       "    </tr>\n",
       "    <tr>\n",
       "      <th>170</th>\n",
       "      <td>0.821293</td>\n",
       "      <td>1.117647</td>\n",
       "      <td>1.189189</td>\n",
       "      <td>-0.291667</td>\n",
       "    </tr>\n",
       "  </tbody>\n",
       "</table>\n",
       "<p>171 rows × 4 columns</p>\n",
       "</div>"
      ],
      "text/plain": [
       "      alcohol       ash  nonflavanoid_phenols  proanthocyanins\n",
       "0    0.897338  0.205882             -0.324324         1.013889\n",
       "1    0.083650  0.911765             -0.216216         1.736111\n",
       "2    1.003802  0.411765             -0.540541         0.861111\n",
       "3    0.144487  1.500000              0.270270         0.361111\n",
       "4    0.874525  0.264706              0.000000         0.569444\n",
       "..        ...       ...                   ...              ...\n",
       "166  0.501901  0.264706              0.972973        -0.694444\n",
       "167  0.266160  0.352941              0.486486        -0.208333\n",
       "168  0.167300 -0.294118              0.486486        -0.291667\n",
       "169  0.091255  0.029412              1.027027        -0.138889\n",
       "170  0.821293  1.117647              1.189189        -0.291667\n",
       "\n",
       "[171 rows x 4 columns]"
      ]
     },
     "execution_count": 29,
     "metadata": {},
     "output_type": "execute_result"
    }
   ],
   "source": [
    "df_new3 # RobustScaler를 사용해서 조정된 데이터"
   ]
  },
  {
   "cell_type": "markdown",
   "id": "3b3cc709",
   "metadata": {},
   "source": [
    "### 스케일링 비교"
   ]
  },
  {
   "cell_type": "code",
   "execution_count": 30,
   "id": "0cb607a3",
   "metadata": {},
   "outputs": [
    {
     "data": {
      "text/html": [
       "<div>\n",
       "<style scoped>\n",
       "    .dataframe tbody tr th:only-of-type {\n",
       "        vertical-align: middle;\n",
       "    }\n",
       "\n",
       "    .dataframe tbody tr th {\n",
       "        vertical-align: top;\n",
       "    }\n",
       "\n",
       "    .dataframe thead th {\n",
       "        text-align: right;\n",
       "    }\n",
       "</style>\n",
       "<table border=\"1\" class=\"dataframe\">\n",
       "  <thead>\n",
       "    <tr style=\"text-align: right;\">\n",
       "      <th></th>\n",
       "      <th>alcohol</th>\n",
       "      <th>ash</th>\n",
       "      <th>nonflavanoid_phenols</th>\n",
       "      <th>proanthocyanins</th>\n",
       "    </tr>\n",
       "  </thead>\n",
       "  <tbody>\n",
       "    <tr>\n",
       "      <th>count</th>\n",
       "      <td>1.710000e+02</td>\n",
       "      <td>1.710000e+02</td>\n",
       "      <td>1.710000e+02</td>\n",
       "      <td>1.710000e+02</td>\n",
       "    </tr>\n",
       "    <tr>\n",
       "      <th>mean</th>\n",
       "      <td>5.194026e-17</td>\n",
       "      <td>-2.467162e-16</td>\n",
       "      <td>-1.727014e-16</td>\n",
       "      <td>4.544773e-18</td>\n",
       "    </tr>\n",
       "    <tr>\n",
       "      <th>std</th>\n",
       "      <td>1.002937e+00</td>\n",
       "      <td>1.002937e+00</td>\n",
       "      <td>1.002937e+00</td>\n",
       "      <td>1.002937e+00</td>\n",
       "    </tr>\n",
       "    <tr>\n",
       "      <th>min</th>\n",
       "      <td>-2.496415e+00</td>\n",
       "      <td>-3.684199e+00</td>\n",
       "      <td>-1.850056e+00</td>\n",
       "      <td>-2.073426e+00</td>\n",
       "    </tr>\n",
       "    <tr>\n",
       "      <th>25%</th>\n",
       "      <td>-8.118974e-01</td>\n",
       "      <td>-5.196592e-01</td>\n",
       "      <td>-7.799346e-01</td>\n",
       "      <td>-6.234444e-01</td>\n",
       "    </tr>\n",
       "    <tr>\n",
       "      <th>50%</th>\n",
       "      <td>4.293264e-02</td>\n",
       "      <td>-4.679698e-02</td>\n",
       "      <td>-1.854228e-01</td>\n",
       "      <td>-3.991534e-02</td>\n",
       "    </tr>\n",
       "    <tr>\n",
       "      <th>75%</th>\n",
       "      <td>8.411931e-01</td>\n",
       "      <td>7.170573e-01</td>\n",
       "      <td>6.865279e-01</td>\n",
       "      <td>6.497100e-01</td>\n",
       "    </tr>\n",
       "    <tr>\n",
       "      <th>max</th>\n",
       "      <td>2.180008e+00</td>\n",
       "      <td>3.117742e+00</td>\n",
       "      <td>2.351161e+00</td>\n",
       "      <td>3.531990e+00</td>\n",
       "    </tr>\n",
       "  </tbody>\n",
       "</table>\n",
       "</div>"
      ],
      "text/plain": [
       "            alcohol           ash  nonflavanoid_phenols  proanthocyanins\n",
       "count  1.710000e+02  1.710000e+02          1.710000e+02     1.710000e+02\n",
       "mean   5.194026e-17 -2.467162e-16         -1.727014e-16     4.544773e-18\n",
       "std    1.002937e+00  1.002937e+00          1.002937e+00     1.002937e+00\n",
       "min   -2.496415e+00 -3.684199e+00         -1.850056e+00    -2.073426e+00\n",
       "25%   -8.118974e-01 -5.196592e-01         -7.799346e-01    -6.234444e-01\n",
       "50%    4.293264e-02 -4.679698e-02         -1.854228e-01    -3.991534e-02\n",
       "75%    8.411931e-01  7.170573e-01          6.865279e-01     6.497100e-01\n",
       "max    2.180008e+00  3.117742e+00          2.351161e+00     3.531990e+00"
      ]
     },
     "execution_count": 30,
     "metadata": {},
     "output_type": "execute_result"
    }
   ],
   "source": [
    "df_new1.describe() # 데이터의 summary 통계량 (StandardScaler)"
   ]
  },
  {
   "cell_type": "code",
   "execution_count": 31,
   "id": "43b5891b",
   "metadata": {},
   "outputs": [
    {
     "data": {
      "text/html": [
       "<div>\n",
       "<style scoped>\n",
       "    .dataframe tbody tr th:only-of-type {\n",
       "        vertical-align: middle;\n",
       "    }\n",
       "\n",
       "    .dataframe tbody tr th {\n",
       "        vertical-align: top;\n",
       "    }\n",
       "\n",
       "    .dataframe thead th {\n",
       "        text-align: right;\n",
       "    }\n",
       "</style>\n",
       "<table border=\"1\" class=\"dataframe\">\n",
       "  <thead>\n",
       "    <tr style=\"text-align: right;\">\n",
       "      <th></th>\n",
       "      <th>alcohol</th>\n",
       "      <th>ash</th>\n",
       "      <th>nonflavanoid_phenols</th>\n",
       "      <th>proanthocyanins</th>\n",
       "    </tr>\n",
       "  </thead>\n",
       "  <tbody>\n",
       "    <tr>\n",
       "      <th>count</th>\n",
       "      <td>171.000000</td>\n",
       "      <td>171.000000</td>\n",
       "      <td>171.000000</td>\n",
       "      <td>171.000000</td>\n",
       "    </tr>\n",
       "    <tr>\n",
       "      <th>mean</th>\n",
       "      <td>0.533830</td>\n",
       "      <td>0.541639</td>\n",
       "      <td>0.440362</td>\n",
       "      <td>0.369897</td>\n",
       "    </tr>\n",
       "    <tr>\n",
       "      <th>std</th>\n",
       "      <td>0.214467</td>\n",
       "      <td>0.147449</td>\n",
       "      <td>0.238725</td>\n",
       "      <td>0.178923</td>\n",
       "    </tr>\n",
       "    <tr>\n",
       "      <th>min</th>\n",
       "      <td>0.000000</td>\n",
       "      <td>0.000000</td>\n",
       "      <td>0.000000</td>\n",
       "      <td>0.000000</td>\n",
       "    </tr>\n",
       "    <tr>\n",
       "      <th>25%</th>\n",
       "      <td>0.360215</td>\n",
       "      <td>0.465241</td>\n",
       "      <td>0.254717</td>\n",
       "      <td>0.258675</td>\n",
       "    </tr>\n",
       "    <tr>\n",
       "      <th>50%</th>\n",
       "      <td>0.543011</td>\n",
       "      <td>0.534759</td>\n",
       "      <td>0.396226</td>\n",
       "      <td>0.362776</td>\n",
       "    </tr>\n",
       "    <tr>\n",
       "      <th>75%</th>\n",
       "      <td>0.713710</td>\n",
       "      <td>0.647059</td>\n",
       "      <td>0.603774</td>\n",
       "      <td>0.485804</td>\n",
       "    </tr>\n",
       "    <tr>\n",
       "      <th>max</th>\n",
       "      <td>1.000000</td>\n",
       "      <td>1.000000</td>\n",
       "      <td>1.000000</td>\n",
       "      <td>1.000000</td>\n",
       "    </tr>\n",
       "  </tbody>\n",
       "</table>\n",
       "</div>"
      ],
      "text/plain": [
       "          alcohol         ash  nonflavanoid_phenols  proanthocyanins\n",
       "count  171.000000  171.000000            171.000000       171.000000\n",
       "mean     0.533830    0.541639              0.440362         0.369897\n",
       "std      0.214467    0.147449              0.238725         0.178923\n",
       "min      0.000000    0.000000              0.000000         0.000000\n",
       "25%      0.360215    0.465241              0.254717         0.258675\n",
       "50%      0.543011    0.534759              0.396226         0.362776\n",
       "75%      0.713710    0.647059              0.603774         0.485804\n",
       "max      1.000000    1.000000              1.000000         1.000000"
      ]
     },
     "execution_count": 31,
     "metadata": {},
     "output_type": "execute_result"
    }
   ],
   "source": [
    "df_new2.describe() # 데이터의 summary 통계량 (MinMaxScaler)"
   ]
  },
  {
   "cell_type": "code",
   "execution_count": 32,
   "id": "77bb3dbb",
   "metadata": {},
   "outputs": [
    {
     "data": {
      "text/html": [
       "<div>\n",
       "<style scoped>\n",
       "    .dataframe tbody tr th:only-of-type {\n",
       "        vertical-align: middle;\n",
       "    }\n",
       "\n",
       "    .dataframe tbody tr th {\n",
       "        vertical-align: top;\n",
       "    }\n",
       "\n",
       "    .dataframe thead th {\n",
       "        text-align: right;\n",
       "    }\n",
       "</style>\n",
       "<table border=\"1\" class=\"dataframe\">\n",
       "  <thead>\n",
       "    <tr style=\"text-align: right;\">\n",
       "      <th></th>\n",
       "      <th>alcohol</th>\n",
       "      <th>ash</th>\n",
       "      <th>nonflavanoid_phenols</th>\n",
       "      <th>proanthocyanins</th>\n",
       "    </tr>\n",
       "  </thead>\n",
       "  <tbody>\n",
       "    <tr>\n",
       "      <th>count</th>\n",
       "      <td>171.000000</td>\n",
       "      <td>171.000000</td>\n",
       "      <td>171.000000</td>\n",
       "      <td>171.000000</td>\n",
       "    </tr>\n",
       "    <tr>\n",
       "      <th>mean</th>\n",
       "      <td>-0.025971</td>\n",
       "      <td>0.037840</td>\n",
       "      <td>0.126442</td>\n",
       "      <td>0.031352</td>\n",
       "    </tr>\n",
       "    <tr>\n",
       "      <th>std</th>\n",
       "      <td>0.606704</td>\n",
       "      <td>0.810967</td>\n",
       "      <td>0.683916</td>\n",
       "      <td>0.787757</td>\n",
       "    </tr>\n",
       "    <tr>\n",
       "      <th>min</th>\n",
       "      <td>-1.536122</td>\n",
       "      <td>-2.941176</td>\n",
       "      <td>-1.135135</td>\n",
       "      <td>-1.597222</td>\n",
       "    </tr>\n",
       "    <tr>\n",
       "      <th>25%</th>\n",
       "      <td>-0.517110</td>\n",
       "      <td>-0.382353</td>\n",
       "      <td>-0.405405</td>\n",
       "      <td>-0.458333</td>\n",
       "    </tr>\n",
       "    <tr>\n",
       "      <th>50%</th>\n",
       "      <td>0.000000</td>\n",
       "      <td>0.000000</td>\n",
       "      <td>0.000000</td>\n",
       "      <td>0.000000</td>\n",
       "    </tr>\n",
       "    <tr>\n",
       "      <th>75%</th>\n",
       "      <td>0.482890</td>\n",
       "      <td>0.617647</td>\n",
       "      <td>0.594595</td>\n",
       "      <td>0.541667</td>\n",
       "    </tr>\n",
       "    <tr>\n",
       "      <th>max</th>\n",
       "      <td>1.292776</td>\n",
       "      <td>2.558824</td>\n",
       "      <td>1.729730</td>\n",
       "      <td>2.805556</td>\n",
       "    </tr>\n",
       "  </tbody>\n",
       "</table>\n",
       "</div>"
      ],
      "text/plain": [
       "          alcohol         ash  nonflavanoid_phenols  proanthocyanins\n",
       "count  171.000000  171.000000            171.000000       171.000000\n",
       "mean    -0.025971    0.037840              0.126442         0.031352\n",
       "std      0.606704    0.810967              0.683916         0.787757\n",
       "min     -1.536122   -2.941176             -1.135135        -1.597222\n",
       "25%     -0.517110   -0.382353             -0.405405        -0.458333\n",
       "50%      0.000000    0.000000              0.000000         0.000000\n",
       "75%      0.482890    0.617647              0.594595         0.541667\n",
       "max      1.292776    2.558824              1.729730         2.805556"
      ]
     },
     "execution_count": 32,
     "metadata": {},
     "output_type": "execute_result"
    }
   ],
   "source": [
    "df_new3.describe() # 데이터의 summary 통계량 (RobustScaler)"
   ]
  },
  {
   "cell_type": "markdown",
   "id": "617ce0e0",
   "metadata": {},
   "source": [
    "> #### StandardScaler\n",
    "> - 표준화\n",
    "> - 데이터들의 평균이 0, 분산(+표준편차)이 1인 값으로 변환\n",
    "> - 원 데이터가 정규분포를 따르면 이를 표준정규본포로 변환한 것\n",
    "> - 공식은 다음과 같다:\n",
    "$$ x_{new}=\\frac{x-\\mu}{\\sigma} $$"
   ]
  },
  {
   "cell_type": "code",
   "execution_count": 34,
   "id": "84cb1163",
   "metadata": {},
   "outputs": [
    {
     "data": {
      "text/plain": [
       "<matplotlib.legend.Legend at 0x2d6e63139a0>"
      ]
     },
     "execution_count": 34,
     "metadata": {},
     "output_type": "execute_result"
    },
    {
     "data": {
      "image/png": "[encoded data removed]",
      "text/plain": [
       "<Figure size 432x288 with 1 Axes>"
      ]
     },
     "metadata": {
      "needs_background": "light"
     },
     "output_type": "display_data"
    }
   ],
   "source": [
    "# StandardScaler 시각화\n",
    "plt.title(\"StandardScaler\")\n",
    "plt.hist(df_new1)\n",
    "plt.legend(df_new1.columns)"
   ]
  },
  {
   "cell_type": "markdown",
   "id": "6ea6fd14",
   "metadata": {},
   "source": [
    "> #### MinMaxScaler\n",
    "> - 정규화\n",
    "> - 데이터 값 범위를 0~1 사이로 변환\n",
    "> - 최댓값과 최솟값을 기준으로 데이터를 스케일링함\n",
    "> - 공식은 다음과 같다:\n",
    "\n",
    "\n",
    "$$ x_{new}=\\frac{x_{i}-x_{min}}{x_{max}-x_{min}} $$"
   ]
  },
  {
   "cell_type": "code",
   "execution_count": 35,
   "id": "0e81e4a3",
   "metadata": {},
   "outputs": [
    {
     "data": {
      "text/plain": [
       "<matplotlib.legend.Legend at 0x2d6e6dbfbe0>"
      ]
     },
     "execution_count": 35,
     "metadata": {},
     "output_type": "execute_result"
    },
    {
     "data": {
      "image/png": "[encoded data removed]",
      "text/plain": [
       "<Figure size 432x288 with 1 Axes>"
      ]
     },
     "metadata": {
      "needs_background": "light"
     },
     "output_type": "display_data"
    }
   ],
   "source": [
    "# MinMaxScaler 시각화\n",
    "plt.title(\"MinMaxScaler\")\n",
    "plt.hist(df_new2)\n",
    "plt.legend(df_new2.columns)"
   ]
  },
  {
   "cell_type": "markdown",
   "id": "9e4db06f",
   "metadata": {},
   "source": [
    "> #### RobustScaler\n",
    "> - 평균과 분산 대신, 중간값과 사분위값을 조정\n",
    "> - 이상치의 영향을 최소화한다는 장점이 있음\n",
    "> - MinMaxScaler와 유사한 공식을 갖지만, 사분위값을 사용한다는 차이가 있다.\n",
    "> - 공식은 다음과 같다:\n",
    "$$ x_{new}=\\frac{x_i-x_{Q_2}}{x_{Q_3}-x_{Q_1}} $$\n",
    "> - Q1: 상위 25% 값\n",
    "> - Q2(중간값): 상위 50% 값\n",
    "> - Q3: 상위 75% 값"
   ]
  },
  {
   "cell_type": "code",
   "execution_count": 36,
   "id": "7f2b4806",
   "metadata": {},
   "outputs": [
    {
     "data": {
      "text/plain": [
       "<matplotlib.legend.Legend at 0x2d6e6e7a970>"
      ]
     },
     "execution_count": 36,
     "metadata": {},
     "output_type": "execute_result"
    },
    {
     "data": {
      "image/png": "[encoded data removed]",
      "text/plain": [
       "<Figure size 432x288 with 1 Axes>"
      ]
     },
     "metadata": {
      "needs_background": "light"
     },
     "output_type": "display_data"
    }
   ],
   "source": [
    "# RobustScaler 시각화\n",
    "plt.title(\"RobustScaler\")\n",
    "plt.hist(df_new3)\n",
    "plt.legend(df_new3.columns)"
   ]
  },
  {
   "cell_type": "code",
   "execution_count": null,
   "id": "ebc0de3a",
   "metadata": {},
   "outputs": [],
   "source": []
  }
 ],
 "metadata": {
  "kernelspec": {
   "display_name": "Python 3 (ipykernel)",
   "language": "python",
   "name": "python3"
  },
  "language_info": {
   "codemirror_mode": {
    "name": "ipython",
    "version": 3
   },
   "file_extension": ".py",
   "mimetype": "text/x-python",
   "name": "python",
   "nbconvert_exporter": "python",
   "pygments_lexer": "ipython3",
   "version": "3.9.12"
  }
 },
 "nbformat": 4,
 "nbformat_minor": 5
}
