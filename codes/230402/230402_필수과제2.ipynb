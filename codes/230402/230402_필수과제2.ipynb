{
 "cells": [
  {
   "cell_type": "markdown",
   "id": "fcaea611",
   "metadata": {},
   "source": [
    "### 필수과제 2\n",
    "- 고객데이터를 올릴 것\n",
    "- 해당 고객데이터를 기반으로 여러분들이 가설을 세워서 어떤 컬럼을 사용할 것인지 정리하고\n",
    "- 해당 컬럼을 기반으로 kmeans를 진행하여서 분석에 대한 인사이트를 정리해 주세요!\n",
    "- 군집에 대해서 몇 개를 선정하는지에 대한 질문의 답변은 위에 적어놨으니\n",
    "- 가능하신 분은 구글링을 통해서 해당 지표도 만들어 보시면 좋을 것 같습니다.\n",
    "- 중요한 것은 인사이트\n",
    "- 기존에 데이터가 어떤 패턴을 보였고, 우리가 선정한 컬럼을 통해서 만들어진 군집(고객군)이 어떤 패턴을 보이는지?"
   ]
  },
  {
   "cell_type": "code",
   "execution_count": 1,
   "id": "d7e4e9d5",
   "metadata": {},
   "outputs": [],
   "source": [
    "from sklearn.preprocessing import scale\n",
    "from sklearn.cluster import KMeans\n",
    "import matplotlib.pyplot as plt\n",
    "import numpy as np\n",
    "import pandas as pd\n",
    "%matplotlib inline"
   ]
  },
  {
   "cell_type": "code",
   "execution_count": 2,
   "id": "bff978e1",
   "metadata": {},
   "outputs": [],
   "source": [
    "trade = pd.read_csv(\"NH거래고객데이터.csv\")"
   ]
  },
  {
   "cell_type": "code",
   "execution_count": 3,
   "id": "29372f59",
   "metadata": {},
   "outputs": [
    {
     "data": {
      "text/html": [
       "<div>\n",
       "<style scoped>\n",
       "    .dataframe tbody tr th:only-of-type {\n",
       "        vertical-align: middle;\n",
       "    }\n",
       "\n",
       "    .dataframe tbody tr th {\n",
       "        vertical-align: top;\n",
       "    }\n",
       "\n",
       "    .dataframe thead th {\n",
       "        text-align: right;\n",
       "    }\n",
       "</style>\n",
       "<table border=\"1\" class=\"dataframe\">\n",
       "  <thead>\n",
       "    <tr style=\"text-align: right;\">\n",
       "      <th></th>\n",
       "      <th>Unnamed: 0</th>\n",
       "      <th>계좌</th>\n",
       "      <th>성별</th>\n",
       "      <th>연령구간</th>\n",
       "      <th>투자성향</th>\n",
       "      <th>고객자산구간</th>\n",
       "      <th>주거래상품군</th>\n",
       "      <th>LIFESTAGE</th>\n",
       "      <th>고객등급</th>\n",
       "      <th>총투자기간</th>\n",
       "      <th>주거래업종구분</th>\n",
       "    </tr>\n",
       "  </thead>\n",
       "  <tbody>\n",
       "    <tr>\n",
       "      <th>0</th>\n",
       "      <td>0</td>\n",
       "      <td>64aae8dd71e5c0761000db9f9a6779e504e7a4aa9dc097...</td>\n",
       "      <td>1</td>\n",
       "      <td>4</td>\n",
       "      <td>99</td>\n",
       "      <td>1</td>\n",
       "      <td>2</td>\n",
       "      <td>3</td>\n",
       "      <td>3</td>\n",
       "      <td>6</td>\n",
       "      <td>16</td>\n",
       "    </tr>\n",
       "    <tr>\n",
       "      <th>1</th>\n",
       "      <td>1</td>\n",
       "      <td>5f7c3a8f37d9c268d06130ff0be5d32a1b9ef68c13049f...</td>\n",
       "      <td>1</td>\n",
       "      <td>6</td>\n",
       "      <td>4</td>\n",
       "      <td>4</td>\n",
       "      <td>2</td>\n",
       "      <td>5</td>\n",
       "      <td>2</td>\n",
       "      <td>6</td>\n",
       "      <td>1</td>\n",
       "    </tr>\n",
       "    <tr>\n",
       "      <th>2</th>\n",
       "      <td>2</td>\n",
       "      <td>1119c23c3a504ca7b75060277410c0f6fb9018ec7638c2...</td>\n",
       "      <td>2</td>\n",
       "      <td>7</td>\n",
       "      <td>4</td>\n",
       "      <td>3</td>\n",
       "      <td>2</td>\n",
       "      <td>5</td>\n",
       "      <td>5</td>\n",
       "      <td>6</td>\n",
       "      <td>9</td>\n",
       "    </tr>\n",
       "    <tr>\n",
       "      <th>3</th>\n",
       "      <td>3</td>\n",
       "      <td>6d497facfa1ea5901b827335553331f8555fec02a8184f...</td>\n",
       "      <td>2</td>\n",
       "      <td>6</td>\n",
       "      <td>4</td>\n",
       "      <td>4</td>\n",
       "      <td>8</td>\n",
       "      <td>5</td>\n",
       "      <td>3</td>\n",
       "      <td>6</td>\n",
       "      <td>16</td>\n",
       "    </tr>\n",
       "    <tr>\n",
       "      <th>4</th>\n",
       "      <td>4</td>\n",
       "      <td>b727c78d2cfc246c97b677f29a034399a0c7e7873fff44...</td>\n",
       "      <td>1</td>\n",
       "      <td>5</td>\n",
       "      <td>2</td>\n",
       "      <td>2</td>\n",
       "      <td>2</td>\n",
       "      <td>5</td>\n",
       "      <td>5</td>\n",
       "      <td>5</td>\n",
       "      <td>16</td>\n",
       "    </tr>\n",
       "    <tr>\n",
       "      <th>...</th>\n",
       "      <td>...</td>\n",
       "      <td>...</td>\n",
       "      <td>...</td>\n",
       "      <td>...</td>\n",
       "      <td>...</td>\n",
       "      <td>...</td>\n",
       "      <td>...</td>\n",
       "      <td>...</td>\n",
       "      <td>...</td>\n",
       "      <td>...</td>\n",
       "      <td>...</td>\n",
       "    </tr>\n",
       "    <tr>\n",
       "      <th>9995</th>\n",
       "      <td>9995</td>\n",
       "      <td>2fdd734bf8fc04c0d484ddc1d021622a1cdc802705702e...</td>\n",
       "      <td>1</td>\n",
       "      <td>9</td>\n",
       "      <td>4</td>\n",
       "      <td>2</td>\n",
       "      <td>2</td>\n",
       "      <td>9</td>\n",
       "      <td>5</td>\n",
       "      <td>2</td>\n",
       "      <td>16</td>\n",
       "    </tr>\n",
       "    <tr>\n",
       "      <th>9996</th>\n",
       "      <td>9996</td>\n",
       "      <td>720aa28d24bfa8fbeddf4fe625cb53af0a6f7ff2d526de...</td>\n",
       "      <td>2</td>\n",
       "      <td>2</td>\n",
       "      <td>3</td>\n",
       "      <td>1</td>\n",
       "      <td>2</td>\n",
       "      <td>2</td>\n",
       "      <td>9</td>\n",
       "      <td>1</td>\n",
       "      <td>16</td>\n",
       "    </tr>\n",
       "    <tr>\n",
       "      <th>9997</th>\n",
       "      <td>9997</td>\n",
       "      <td>7702030b3b0760e6b37c8a3e8ed58611b1b85913526ad1...</td>\n",
       "      <td>2</td>\n",
       "      <td>7</td>\n",
       "      <td>4</td>\n",
       "      <td>2</td>\n",
       "      <td>2</td>\n",
       "      <td>5</td>\n",
       "      <td>5</td>\n",
       "      <td>2</td>\n",
       "      <td>16</td>\n",
       "    </tr>\n",
       "    <tr>\n",
       "      <th>9998</th>\n",
       "      <td>9998</td>\n",
       "      <td>4006ddaa5673365096b9dd5965e20db866f6523c162f79...</td>\n",
       "      <td>1</td>\n",
       "      <td>5</td>\n",
       "      <td>99</td>\n",
       "      <td>5</td>\n",
       "      <td>2</td>\n",
       "      <td>5</td>\n",
       "      <td>3</td>\n",
       "      <td>2</td>\n",
       "      <td>5</td>\n",
       "    </tr>\n",
       "    <tr>\n",
       "      <th>9999</th>\n",
       "      <td>9999</td>\n",
       "      <td>564af3cf975ed4fa05148ada689d5002e9c2d43dee9481...</td>\n",
       "      <td>1</td>\n",
       "      <td>6</td>\n",
       "      <td>0</td>\n",
       "      <td>5</td>\n",
       "      <td>2</td>\n",
       "      <td>5</td>\n",
       "      <td>3</td>\n",
       "      <td>5</td>\n",
       "      <td>2</td>\n",
       "    </tr>\n",
       "  </tbody>\n",
       "</table>\n",
       "<p>10000 rows × 11 columns</p>\n",
       "</div>"
      ],
      "text/plain": [
       "      Unnamed: 0                                                 계좌  성별  연령구간  \\\n",
       "0              0  64aae8dd71e5c0761000db9f9a6779e504e7a4aa9dc097...   1     4   \n",
       "1              1  5f7c3a8f37d9c268d06130ff0be5d32a1b9ef68c13049f...   1     6   \n",
       "2              2  1119c23c3a504ca7b75060277410c0f6fb9018ec7638c2...   2     7   \n",
       "3              3  6d497facfa1ea5901b827335553331f8555fec02a8184f...   2     6   \n",
       "4              4  b727c78d2cfc246c97b677f29a034399a0c7e7873fff44...   1     5   \n",
       "...          ...                                                ...  ..   ...   \n",
       "9995        9995  2fdd734bf8fc04c0d484ddc1d021622a1cdc802705702e...   1     9   \n",
       "9996        9996  720aa28d24bfa8fbeddf4fe625cb53af0a6f7ff2d526de...   2     2   \n",
       "9997        9997  7702030b3b0760e6b37c8a3e8ed58611b1b85913526ad1...   2     7   \n",
       "9998        9998  4006ddaa5673365096b9dd5965e20db866f6523c162f79...   1     5   \n",
       "9999        9999  564af3cf975ed4fa05148ada689d5002e9c2d43dee9481...   1     6   \n",
       "\n",
       "      투자성향  고객자산구간  주거래상품군  LIFESTAGE  고객등급  총투자기간  주거래업종구분  \n",
       "0       99       1       2          3     3      6       16  \n",
       "1        4       4       2          5     2      6        1  \n",
       "2        4       3       2          5     5      6        9  \n",
       "3        4       4       8          5     3      6       16  \n",
       "4        2       2       2          5     5      5       16  \n",
       "...    ...     ...     ...        ...   ...    ...      ...  \n",
       "9995     4       2       2          9     5      2       16  \n",
       "9996     3       1       2          2     9      1       16  \n",
       "9997     4       2       2          5     5      2       16  \n",
       "9998    99       5       2          5     3      2        5  \n",
       "9999     0       5       2          5     3      5        2  \n",
       "\n",
       "[10000 rows x 11 columns]"
      ]
     },
     "execution_count": 3,
     "metadata": {},
     "output_type": "execute_result"
    }
   ],
   "source": [
    "trade"
   ]
  },
  {
   "cell_type": "code",
   "execution_count": 4,
   "id": "6360b9ad",
   "metadata": {},
   "outputs": [
    {
     "name": "stdout",
     "output_type": "stream",
     "text": [
      "<class 'pandas.core.frame.DataFrame'>\n",
      "RangeIndex: 10000 entries, 0 to 9999\n",
      "Data columns (total 11 columns):\n",
      " #   Column      Non-Null Count  Dtype \n",
      "---  ------      --------------  ----- \n",
      " 0   Unnamed: 0  10000 non-null  int64 \n",
      " 1   계좌          10000 non-null  object\n",
      " 2   성별          10000 non-null  int64 \n",
      " 3   연령구간        10000 non-null  int64 \n",
      " 4   투자성향        10000 non-null  int64 \n",
      " 5   고객자산구간      10000 non-null  int64 \n",
      " 6   주거래상품군      10000 non-null  int64 \n",
      " 7   LIFESTAGE   10000 non-null  int64 \n",
      " 8   고객등급        10000 non-null  int64 \n",
      " 9   총투자기간       10000 non-null  int64 \n",
      " 10  주거래업종구분     10000 non-null  int64 \n",
      "dtypes: int64(10), object(1)\n",
      "memory usage: 859.5+ KB\n"
     ]
    }
   ],
   "source": [
    "trade.info()"
   ]
  },
  {
   "cell_type": "code",
   "execution_count": 5,
   "id": "1560b3cb",
   "metadata": {},
   "outputs": [
    {
     "data": {
      "text/plain": [
       "Unnamed: 0    0\n",
       "계좌            0\n",
       "성별            0\n",
       "연령구간          0\n",
       "투자성향          0\n",
       "고객자산구간        0\n",
       "주거래상품군        0\n",
       "LIFESTAGE     0\n",
       "고객등급          0\n",
       "총투자기간         0\n",
       "주거래업종구분       0\n",
       "dtype: int64"
      ]
     },
     "execution_count": 5,
     "metadata": {},
     "output_type": "execute_result"
    }
   ],
   "source": [
    "trade.isna().sum() # 결측치 없음"
   ]
  },
  {
   "cell_type": "code",
   "execution_count": 6,
   "id": "20bd2b8d",
   "metadata": {},
   "outputs": [
    {
     "data": {
      "text/plain": [
       "Index(['Unnamed: 0', '계좌', '성별', '연령구간', '투자성향', '고객자산구간', '주거래상품군',\n",
       "       'LIFESTAGE', '고객등급', '총투자기간', '주거래업종구분'],\n",
       "      dtype='object')"
      ]
     },
     "execution_count": 6,
     "metadata": {},
     "output_type": "execute_result"
    }
   ],
   "source": [
    "trade.columns"
   ]
  },
  {
   "cell_type": "code",
   "execution_count": 7,
   "id": "7d0b9285",
   "metadata": {},
   "outputs": [],
   "source": [
    "trade = trade[['성별', '연령구간', '투자성향', '고객자산구간', '주거래상품군', \n",
    "               'LIFESTAGE', '고객등급', '총투자기간', '주거래업종구분']]\n",
    "# 분석에 사용할 수 없는 컬럼 제거"
   ]
  },
  {
   "cell_type": "markdown",
   "id": "24fcae84",
   "metadata": {},
   "source": [
    "> #### 분석 진행 과정\n",
    "> - 적절한 k값 찾기(elbow method, silhouette score)\n",
    "> - 모든 컬럼 kmeans\n",
    "> - 가설 설정 => 선정한 컬럼을 가지고 kmeans\n",
    "> - 선택한 컬럼에서 적절한 k값 찾기"
   ]
  },
  {
   "cell_type": "markdown",
   "id": "a0d02793",
   "metadata": {},
   "source": [
    "### 모든 컬럼 사용 시 k값 찾기"
   ]
  },
  {
   "cell_type": "code",
   "execution_count": 8,
   "id": "8a838fcf",
   "metadata": {},
   "outputs": [
    {
     "data": {
      "image/png": "[encoded data removed]",
      "text/plain": [
       "<Figure size 1080x576 with 1 Axes>"
      ]
     },
     "metadata": {
      "needs_background": "light"
     },
     "output_type": "display_data"
    }
   ],
   "source": [
    "# Elbow method\n",
    "dist = []\n",
    "for k in range(1,10):\n",
    "    kmeans = KMeans(n_clusters=k, init='k-means++', max_iter=300)\n",
    "    kmeans.fit(trade)\n",
    "    dist.append(kmeans.inertia_)\n",
    "\n",
    "plt.figure(figsize=(15,8))\n",
    "plt.plot(range(1,10), dist, \"bx-\")\n",
    "plt.xlabel(\"k\")\n",
    "plt.ylabel(\"Distortion\")\n",
    "plt.title(\"The Elbow Method to find optimal k\")\n",
    "plt.show()"
   ]
  },
  {
   "cell_type": "code",
   "execution_count": 10,
   "id": "a19e9a3c",
   "metadata": {},
   "outputs": [
    {
     "name": "stdout",
     "output_type": "stream",
     "text": [
      "Silhouette Score for k=2: 0.914\n",
      "Silhouette Score for k=3: 0.9178\n",
      "Silhouette Score for k=4: 0.5085\n",
      "Silhouette Score for k=5: 0.5092\n",
      "Silhouette Score for k=6: 0.2941\n",
      "Silhouette Score for k=7: 0.2812\n",
      "Silhouette Score for k=8: 0.2664\n",
      "Silhouette Score for k=9: 0.259\n"
     ]
    }
   ],
   "source": [
    "# Silhouette Score\n",
    "from sklearn.metrics import silhouette_score\n",
    "\n",
    "sil = []\n",
    "for k in range(2,10):\n",
    "    kmeans = KMeans(n_clusters=k, init='k-means++', max_iter=300)\n",
    "    kmeans.fit(trade)\n",
    "    ss = silhouette_score(trade, kmeans.labels_)\n",
    "    sil.append(ss)\n",
    "    print(\"Silhouette Score for k=\" + str(k) + \":\", round(ss, 4))"
   ]
  },
  {
   "cell_type": "code",
   "execution_count": 22,
   "id": "31f33b6a",
   "metadata": {},
   "outputs": [
    {
     "data": {
      "image/png": "[encoded data removed]",
      "text/plain": [
       "<Figure size 1080x576 with 1 Axes>"
      ]
     },
     "metadata": {
      "needs_background": "light"
     },
     "output_type": "display_data"
    }
   ],
   "source": [
    "plt.figure(figsize=(15,8))\n",
    "plt.plot(range(2,10), sil, \"ro-\")\n",
    "plt.xlabel(\"k\")\n",
    "plt.ylabel(\"Silhouette Score\")\n",
    "plt.title(\"Silhouette Score to find optimal k\")\n",
    "plt.show()"
   ]
  },
  {
   "cell_type": "markdown",
   "id": "27420c45",
   "metadata": {},
   "source": [
    "- k=2가 가장 optimal한 것으로 보인다. (elbow method)\n",
    "- k=3의 silhouette score가 가장 높다.\n",
    "- k=2의 silhouette score가 그 다음으로 높다."
   ]
  },
  {
   "cell_type": "markdown",
   "id": "c33214a0",
   "metadata": {},
   "source": [
    "- k=2인 kmeans를 진행"
   ]
  },
  {
   "cell_type": "markdown",
   "id": "2b8f4631",
   "metadata": {},
   "source": [
    "### 모든 컬럼을 이용한 kmeans"
   ]
  },
  {
   "cell_type": "code",
   "execution_count": 35,
   "id": "c5677664",
   "metadata": {},
   "outputs": [],
   "source": [
    "kmeans = KMeans(n_clusters=2, init='k-means++', max_iter=300, random_state=111)"
   ]
  },
  {
   "cell_type": "code",
   "execution_count": 36,
   "id": "98cade92",
   "metadata": {},
   "outputs": [
    {
     "data": {
      "text/plain": [
       "KMeans(n_clusters=2, random_state=111)"
      ]
     },
     "execution_count": 36,
     "metadata": {},
     "output_type": "execute_result"
    }
   ],
   "source": [
    "kmeans"
   ]
  },
  {
   "cell_type": "code",
   "execution_count": 37,
   "id": "0889fa57",
   "metadata": {},
   "outputs": [
    {
     "data": {
      "text/plain": [
       "KMeans(n_clusters=2, random_state=111)"
      ]
     },
     "execution_count": 37,
     "metadata": {},
     "output_type": "execute_result"
    }
   ],
   "source": [
    "kmeans.fit(trade)"
   ]
  },
  {
   "cell_type": "code",
   "execution_count": 38,
   "id": "df2e6ef9",
   "metadata": {},
   "outputs": [
    {
     "name": "stderr",
     "output_type": "stream",
     "text": [
      "C:\\Users\\doram\\AppData\\Local\\Temp\\ipykernel_26580\\3088636476.py:2: SettingWithCopyWarning: \n",
      "A value is trying to be set on a copy of a slice from a DataFrame.\n",
      "Try using .loc[row_indexer,col_indexer] = value instead\n",
      "\n",
      "See the caveats in the documentation: https://pandas.pydata.org/pandas-docs/stable/user_guide/indexing.html#returning-a-view-versus-a-copy\n",
      "  trade_all[\"cluster\"] = kmeans.labels_\n"
     ]
    }
   ],
   "source": [
    "trade_all = trade\n",
    "trade_all[\"cluster\"] = kmeans.labels_"
   ]
  },
  {
   "cell_type": "code",
   "execution_count": 39,
   "id": "6ff29f00",
   "metadata": {},
   "outputs": [
    {
     "data": {
      "text/html": [
       "<div>\n",
       "<style scoped>\n",
       "    .dataframe tbody tr th:only-of-type {\n",
       "        vertical-align: middle;\n",
       "    }\n",
       "\n",
       "    .dataframe tbody tr th {\n",
       "        vertical-align: top;\n",
       "    }\n",
       "\n",
       "    .dataframe thead th {\n",
       "        text-align: right;\n",
       "    }\n",
       "</style>\n",
       "<table border=\"1\" class=\"dataframe\">\n",
       "  <thead>\n",
       "    <tr style=\"text-align: right;\">\n",
       "      <th></th>\n",
       "      <th>cluster</th>\n",
       "    </tr>\n",
       "  </thead>\n",
       "  <tbody>\n",
       "    <tr>\n",
       "      <th>0</th>\n",
       "      <td>6313</td>\n",
       "    </tr>\n",
       "    <tr>\n",
       "      <th>1</th>\n",
       "      <td>3687</td>\n",
       "    </tr>\n",
       "  </tbody>\n",
       "</table>\n",
       "</div>"
      ],
      "text/plain": [
       "   cluster\n",
       "0     6313\n",
       "1     3687"
      ]
     },
     "execution_count": 39,
     "metadata": {},
     "output_type": "execute_result"
    }
   ],
   "source": [
    "# 생성된 클러스터 확인\n",
    "trade_all.cluster.value_counts().to_frame()"
   ]
  },
  {
   "cell_type": "code",
   "execution_count": 40,
   "id": "6b66edcc",
   "metadata": {},
   "outputs": [
    {
     "name": "stdout",
     "output_type": "stream",
     "text": [
      "----------------- 성별 mean 비교\n",
      "cluster\n",
      "0    1.355299\n",
      "1    1.480608\n",
      "Name: 성별, dtype: float64\n",
      "----------------- 연령구간 mean 비교\n",
      "cluster\n",
      "0    4.47220\n",
      "1    5.04204\n",
      "Name: 연령구간, dtype: float64\n",
      "----------------- 투자성향 mean 비교\n",
      "cluster\n",
      "0     3.213211\n",
      "1    99.000000\n",
      "Name: 투자성향, dtype: float64\n",
      "----------------- 고객자산구간 mean 비교\n",
      "cluster\n",
      "0    2.580706\n",
      "1    2.174939\n",
      "Name: 고객자산구간, dtype: float64\n",
      "----------------- 주거래상품군 mean 비교\n",
      "cluster\n",
      "0    2.090765\n",
      "1    2.002441\n",
      "Name: 주거래상품군, dtype: float64\n",
      "----------------- LIFESTAGE mean 비교\n",
      "cluster\n",
      "0    4.268018\n",
      "1    4.795498\n",
      "Name: LIFESTAGE, dtype: float64\n",
      "----------------- 고객등급 mean 비교\n",
      "cluster\n",
      "0    5.644385\n",
      "1    6.855438\n",
      "Name: 고객등급, dtype: float64\n",
      "----------------- 총투자기간 mean 비교\n",
      "cluster\n",
      "0    2.762078\n",
      "1    2.545159\n",
      "Name: 총투자기간, dtype: float64\n",
      "----------------- 주거래업종구분 mean 비교\n",
      "cluster\n",
      "0    10.248535\n",
      "1    10.713046\n",
      "Name: 주거래업종구분, dtype: float64\n",
      "----------------- cluster mean 비교\n",
      "cluster\n",
      "0    0.0\n",
      "1    1.0\n",
      "Name: cluster, dtype: float64\n"
     ]
    }
   ],
   "source": [
    "# 컬럼별 클러스터 차이 확인\n",
    "for i in list(trade_all.columns):\n",
    "    print('-----------------',i ,'mean 비교')\n",
    "    print(trade_all.groupby(['cluster'])[i].mean())"
   ]
  },
  {
   "cell_type": "markdown",
   "id": "a7c3d60c",
   "metadata": {},
   "source": [
    "### 가설 설정\n",
    "- 컬럼 설명을 참고하여 제거할 컬럼을 선택\n",
    "- 전체 컬럼을 이용한 결과 투자성향을 기준으로 클러스터가 생성되었음을 확인\n",
    "- 이는 결측치(99) 여부에 따른 분류이므로, 결측치가 많은 투자성향 제외\n",
    "- LIFESTAGE에 성별 및 연령 정보가 포함되어있으므로 성별, 연령구간 컬럼 제외\n",
    "- 고객자산구간과 고객등급은 유사하므로 결측치가 존재하는 고객등급 제외\n",
    "- 데이터값의 의미없는 차이가 클러스터링에 영향을 줄 우려가 있어서 주거래업종구분 제외"
   ]
  },
  {
   "cell_type": "code",
   "execution_count": 95,
   "id": "90ab9255",
   "metadata": {},
   "outputs": [
    {
     "data": {
      "text/plain": [
       "Index(['성별', '연령구간', '투자성향', '고객자산구간', '주거래상품군', 'LIFESTAGE', '고객등급', '총투자기간',\n",
       "       '주거래업종구분', 'cluster'],\n",
       "      dtype='object')"
      ]
     },
     "execution_count": 95,
     "metadata": {},
     "output_type": "execute_result"
    }
   ],
   "source": [
    "trade_all.columns"
   ]
  },
  {
   "cell_type": "code",
   "execution_count": 96,
   "id": "e2fe725e",
   "metadata": {},
   "outputs": [
    {
     "data": {
      "text/html": [
       "<div>\n",
       "<style scoped>\n",
       "    .dataframe tbody tr th:only-of-type {\n",
       "        vertical-align: middle;\n",
       "    }\n",
       "\n",
       "    .dataframe tbody tr th {\n",
       "        vertical-align: top;\n",
       "    }\n",
       "\n",
       "    .dataframe thead th {\n",
       "        text-align: right;\n",
       "    }\n",
       "</style>\n",
       "<table border=\"1\" class=\"dataframe\">\n",
       "  <thead>\n",
       "    <tr style=\"text-align: right;\">\n",
       "      <th></th>\n",
       "      <th></th>\n",
       "      <th>gcount</th>\n",
       "    </tr>\n",
       "    <tr>\n",
       "      <th>투자성향</th>\n",
       "      <th>cluster</th>\n",
       "      <th></th>\n",
       "    </tr>\n",
       "  </thead>\n",
       "  <tbody>\n",
       "    <tr>\n",
       "      <th>0</th>\n",
       "      <th>0</th>\n",
       "      <td>171</td>\n",
       "    </tr>\n",
       "    <tr>\n",
       "      <th>1</th>\n",
       "      <th>0</th>\n",
       "      <td>210</td>\n",
       "    </tr>\n",
       "    <tr>\n",
       "      <th>2</th>\n",
       "      <th>0</th>\n",
       "      <td>1467</td>\n",
       "    </tr>\n",
       "    <tr>\n",
       "      <th>3</th>\n",
       "      <th>0</th>\n",
       "      <td>1669</td>\n",
       "    </tr>\n",
       "    <tr>\n",
       "      <th>4</th>\n",
       "      <th>0</th>\n",
       "      <td>1858</td>\n",
       "    </tr>\n",
       "    <tr>\n",
       "      <th>5</th>\n",
       "      <th>0</th>\n",
       "      <td>935</td>\n",
       "    </tr>\n",
       "    <tr>\n",
       "      <th>9</th>\n",
       "      <th>0</th>\n",
       "      <td>3</td>\n",
       "    </tr>\n",
       "    <tr>\n",
       "      <th>99</th>\n",
       "      <th>1</th>\n",
       "      <td>3687</td>\n",
       "    </tr>\n",
       "  </tbody>\n",
       "</table>\n",
       "</div>"
      ],
      "text/plain": [
       "              gcount\n",
       "투자성향 cluster        \n",
       "0    0           171\n",
       "1    0           210\n",
       "2    0          1467\n",
       "3    0          1669\n",
       "4    0          1858\n",
       "5    0           935\n",
       "9    0             3\n",
       "99   1          3687"
      ]
     },
     "execution_count": 96,
     "metadata": {},
     "output_type": "execute_result"
    }
   ],
   "source": [
    "# 투자성향이 결측치일 때 1, 이외에는 0으로 클러스터링 되었다.\n",
    "trade_all.groupby([\"투자성향\",\"cluster\"]).agg(gcount=(\"cluster\",\"count\"))"
   ]
  },
  {
   "cell_type": "code",
   "execution_count": 97,
   "id": "642101ff",
   "metadata": {},
   "outputs": [],
   "source": [
    "trade_sel = trade_all[['고객자산구간', '주거래상품군', '총투자기간', 'LIFESTAGE']]"
   ]
  },
  {
   "cell_type": "code",
   "execution_count": 98,
   "id": "d8f83234",
   "metadata": {},
   "outputs": [
    {
     "data": {
      "text/html": [
       "<div>\n",
       "<style scoped>\n",
       "    .dataframe tbody tr th:only-of-type {\n",
       "        vertical-align: middle;\n",
       "    }\n",
       "\n",
       "    .dataframe tbody tr th {\n",
       "        vertical-align: top;\n",
       "    }\n",
       "\n",
       "    .dataframe thead th {\n",
       "        text-align: right;\n",
       "    }\n",
       "</style>\n",
       "<table border=\"1\" class=\"dataframe\">\n",
       "  <thead>\n",
       "    <tr style=\"text-align: right;\">\n",
       "      <th></th>\n",
       "      <th>고객자산구간</th>\n",
       "      <th>주거래상품군</th>\n",
       "      <th>총투자기간</th>\n",
       "      <th>LIFESTAGE</th>\n",
       "    </tr>\n",
       "  </thead>\n",
       "  <tbody>\n",
       "    <tr>\n",
       "      <th>0</th>\n",
       "      <td>1</td>\n",
       "      <td>2</td>\n",
       "      <td>6</td>\n",
       "      <td>3</td>\n",
       "    </tr>\n",
       "    <tr>\n",
       "      <th>1</th>\n",
       "      <td>4</td>\n",
       "      <td>2</td>\n",
       "      <td>6</td>\n",
       "      <td>5</td>\n",
       "    </tr>\n",
       "    <tr>\n",
       "      <th>2</th>\n",
       "      <td>3</td>\n",
       "      <td>2</td>\n",
       "      <td>6</td>\n",
       "      <td>5</td>\n",
       "    </tr>\n",
       "    <tr>\n",
       "      <th>3</th>\n",
       "      <td>4</td>\n",
       "      <td>8</td>\n",
       "      <td>6</td>\n",
       "      <td>5</td>\n",
       "    </tr>\n",
       "    <tr>\n",
       "      <th>4</th>\n",
       "      <td>2</td>\n",
       "      <td>2</td>\n",
       "      <td>5</td>\n",
       "      <td>5</td>\n",
       "    </tr>\n",
       "    <tr>\n",
       "      <th>...</th>\n",
       "      <td>...</td>\n",
       "      <td>...</td>\n",
       "      <td>...</td>\n",
       "      <td>...</td>\n",
       "    </tr>\n",
       "    <tr>\n",
       "      <th>9995</th>\n",
       "      <td>2</td>\n",
       "      <td>2</td>\n",
       "      <td>2</td>\n",
       "      <td>9</td>\n",
       "    </tr>\n",
       "    <tr>\n",
       "      <th>9996</th>\n",
       "      <td>1</td>\n",
       "      <td>2</td>\n",
       "      <td>1</td>\n",
       "      <td>2</td>\n",
       "    </tr>\n",
       "    <tr>\n",
       "      <th>9997</th>\n",
       "      <td>2</td>\n",
       "      <td>2</td>\n",
       "      <td>2</td>\n",
       "      <td>5</td>\n",
       "    </tr>\n",
       "    <tr>\n",
       "      <th>9998</th>\n",
       "      <td>5</td>\n",
       "      <td>2</td>\n",
       "      <td>2</td>\n",
       "      <td>5</td>\n",
       "    </tr>\n",
       "    <tr>\n",
       "      <th>9999</th>\n",
       "      <td>5</td>\n",
       "      <td>2</td>\n",
       "      <td>5</td>\n",
       "      <td>5</td>\n",
       "    </tr>\n",
       "  </tbody>\n",
       "</table>\n",
       "<p>10000 rows × 4 columns</p>\n",
       "</div>"
      ],
      "text/plain": [
       "      고객자산구간  주거래상품군  총투자기간  LIFESTAGE\n",
       "0          1       2      6          3\n",
       "1          4       2      6          5\n",
       "2          3       2      6          5\n",
       "3          4       8      6          5\n",
       "4          2       2      5          5\n",
       "...      ...     ...    ...        ...\n",
       "9995       2       2      2          9\n",
       "9996       1       2      1          2\n",
       "9997       2       2      2          5\n",
       "9998       5       2      2          5\n",
       "9999       5       2      5          5\n",
       "\n",
       "[10000 rows x 4 columns]"
      ]
     },
     "execution_count": 98,
     "metadata": {},
     "output_type": "execute_result"
    }
   ],
   "source": [
    "trade_sel"
   ]
  },
  {
   "cell_type": "markdown",
   "id": "8cd7c666",
   "metadata": {},
   "source": [
    "### 선택한 컬럼 k값 찾기"
   ]
  },
  {
   "cell_type": "code",
   "execution_count": 99,
   "id": "91722977",
   "metadata": {},
   "outputs": [
    {
     "data": {
      "image/png": "[encoded data removed]",
      "text/plain": [
       "<Figure size 1080x576 with 1 Axes>"
      ]
     },
     "metadata": {
      "needs_background": "light"
     },
     "output_type": "display_data"
    }
   ],
   "source": [
    "# Elbow method\n",
    "dist = []\n",
    "for k in range(1,10):\n",
    "    kmeans = KMeans(n_clusters=k, init='k-means++', max_iter=300)\n",
    "    kmeans.fit(trade_sel)\n",
    "    dist.append(kmeans.inertia_)\n",
    "\n",
    "plt.figure(figsize=(15,8))\n",
    "plt.plot(range(1,10), dist, \"bx-\")\n",
    "plt.xlabel(\"k\")\n",
    "plt.ylabel(\"Distortion\")\n",
    "plt.title(\"The Elbow Method to find optimal k\")\n",
    "plt.show()"
   ]
  },
  {
   "cell_type": "code",
   "execution_count": 100,
   "id": "617ee3c1",
   "metadata": {},
   "outputs": [
    {
     "name": "stdout",
     "output_type": "stream",
     "text": [
      "Silhouette Score for k=2: 0.3486\n",
      "Silhouette Score for k=3: 0.3612\n",
      "Silhouette Score for k=4: 0.3455\n",
      "Silhouette Score for k=5: 0.347\n",
      "Silhouette Score for k=6: 0.329\n",
      "Silhouette Score for k=7: 0.3287\n",
      "Silhouette Score for k=8: 0.31\n",
      "Silhouette Score for k=9: 0.3211\n"
     ]
    }
   ],
   "source": [
    "# Silhouette Score\n",
    "from sklearn.metrics import silhouette_score\n",
    "\n",
    "sil = []\n",
    "for k in range(2,10):\n",
    "    kmeans = KMeans(n_clusters=k, init='k-means++', max_iter=300)\n",
    "    kmeans.fit(trade_sel)\n",
    "    ss = silhouette_score(trade_sel, kmeans.labels_)\n",
    "    sil.append(ss)\n",
    "    print(\"Silhouette Score for k=\" + str(k) + \":\", round(ss, 4))"
   ]
  },
  {
   "cell_type": "code",
   "execution_count": 101,
   "id": "c182b286",
   "metadata": {},
   "outputs": [
    {
     "data": {
      "image/png": "[encoded data removed]",
      "text/plain": [
       "<Figure size 1080x576 with 1 Axes>"
      ]
     },
     "metadata": {
      "needs_background": "light"
     },
     "output_type": "display_data"
    }
   ],
   "source": [
    "plt.figure(figsize=(15,8))\n",
    "plt.plot(range(2,10), sil, \"ro-\")\n",
    "plt.xlabel(\"k\")\n",
    "plt.ylabel(\"Silhouette Score\")\n",
    "plt.title(\"Silhouette Score to find optimal k\")\n",
    "plt.show()"
   ]
  },
  {
   "cell_type": "markdown",
   "id": "31fe097a",
   "metadata": {},
   "source": [
    "- k=3가 가장 optimal한 것으로 보인다. (elbow method)\n",
    "- k=3의 silhouette score가 가장 높다."
   ]
  },
  {
   "cell_type": "markdown",
   "id": "9fb8547d",
   "metadata": {},
   "source": [
    "- k=3인 kmeans를 진행"
   ]
  },
  {
   "cell_type": "markdown",
   "id": "796150b4",
   "metadata": {},
   "source": [
    "### 선택한 컬럼으로 kmeans"
   ]
  },
  {
   "cell_type": "code",
   "execution_count": 102,
   "id": "dd7dcaa5",
   "metadata": {},
   "outputs": [],
   "source": [
    "kmeans = KMeans(n_clusters=3, init='k-means++', max_iter=300, random_state=111)"
   ]
  },
  {
   "cell_type": "code",
   "execution_count": 103,
   "id": "da52a25c",
   "metadata": {},
   "outputs": [
    {
     "data": {
      "text/plain": [
       "KMeans(n_clusters=3, random_state=111)"
      ]
     },
     "execution_count": 103,
     "metadata": {},
     "output_type": "execute_result"
    }
   ],
   "source": [
    "kmeans"
   ]
  },
  {
   "cell_type": "code",
   "execution_count": 104,
   "id": "c161c90a",
   "metadata": {},
   "outputs": [
    {
     "data": {
      "text/plain": [
       "KMeans(n_clusters=3, random_state=111)"
      ]
     },
     "execution_count": 104,
     "metadata": {},
     "output_type": "execute_result"
    }
   ],
   "source": [
    "kmeans.fit(trade_sel)"
   ]
  },
  {
   "cell_type": "code",
   "execution_count": 105,
   "id": "bb5f2cd8",
   "metadata": {},
   "outputs": [
    {
     "name": "stderr",
     "output_type": "stream",
     "text": [
      "C:\\Users\\doram\\AppData\\Local\\Temp\\ipykernel_26580\\964641084.py:2: SettingWithCopyWarning: \n",
      "A value is trying to be set on a copy of a slice from a DataFrame.\n",
      "Try using .loc[row_indexer,col_indexer] = value instead\n",
      "\n",
      "See the caveats in the documentation: https://pandas.pydata.org/pandas-docs/stable/user_guide/indexing.html#returning-a-view-versus-a-copy\n",
      "  trade_sel_c[\"cluster\"] = kmeans.labels_\n"
     ]
    }
   ],
   "source": [
    "trade_sel_c = trade_sel\n",
    "trade_sel_c[\"cluster\"] = kmeans.labels_"
   ]
  },
  {
   "cell_type": "code",
   "execution_count": 106,
   "id": "d34f497b",
   "metadata": {},
   "outputs": [
    {
     "data": {
      "text/html": [
       "<div>\n",
       "<style scoped>\n",
       "    .dataframe tbody tr th:only-of-type {\n",
       "        vertical-align: middle;\n",
       "    }\n",
       "\n",
       "    .dataframe tbody tr th {\n",
       "        vertical-align: top;\n",
       "    }\n",
       "\n",
       "    .dataframe thead th {\n",
       "        text-align: right;\n",
       "    }\n",
       "</style>\n",
       "<table border=\"1\" class=\"dataframe\">\n",
       "  <thead>\n",
       "    <tr style=\"text-align: right;\">\n",
       "      <th></th>\n",
       "      <th>cluster</th>\n",
       "    </tr>\n",
       "  </thead>\n",
       "  <tbody>\n",
       "    <tr>\n",
       "      <th>2</th>\n",
       "      <td>4484</td>\n",
       "    </tr>\n",
       "    <tr>\n",
       "      <th>1</th>\n",
       "      <td>3008</td>\n",
       "    </tr>\n",
       "    <tr>\n",
       "      <th>0</th>\n",
       "      <td>2508</td>\n",
       "    </tr>\n",
       "  </tbody>\n",
       "</table>\n",
       "</div>"
      ],
      "text/plain": [
       "   cluster\n",
       "2     4484\n",
       "1     3008\n",
       "0     2508"
      ]
     },
     "execution_count": 106,
     "metadata": {},
     "output_type": "execute_result"
    }
   ],
   "source": [
    "# 생성된 클러스터 확인\n",
    "trade_sel_c.cluster.value_counts().to_frame()"
   ]
  },
  {
   "cell_type": "code",
   "execution_count": 107,
   "id": "1e50a12f",
   "metadata": {},
   "outputs": [
    {
     "name": "stdout",
     "output_type": "stream",
     "text": [
      "----------------- 고객자산구간 mean 비교\n",
      "cluster\n",
      "0    4.526715\n",
      "1    1.669548\n",
      "2    1.769848\n",
      "Name: 고객자산구간, dtype: float64\n",
      "----------------- 주거래상품군 mean 비교\n",
      "cluster\n",
      "0    2.088118\n",
      "1    2.023936\n",
      "2    2.064451\n",
      "Name: 주거래상품군, dtype: float64\n",
      "----------------- 총투자기간 mean 비교\n",
      "cluster\n",
      "0    3.234848\n",
      "1    2.660572\n",
      "2    2.387377\n",
      "Name: 총투자기간, dtype: float64\n",
      "----------------- LIFESTAGE mean 비교\n",
      "cluster\n",
      "0    5.499601\n",
      "1    6.071476\n",
      "2    2.803078\n",
      "Name: LIFESTAGE, dtype: float64\n",
      "----------------- cluster mean 비교\n",
      "cluster\n",
      "0    0.0\n",
      "1    1.0\n",
      "2    2.0\n",
      "Name: cluster, dtype: float64\n"
     ]
    }
   ],
   "source": [
    "# 컬럼별 클러스터 차이 확인\n",
    "for i in list(trade_sel_c.columns):\n",
    "    print('-----------------',i ,'mean 비교')\n",
    "    print(trade_sel_c.groupby(['cluster'])[i].mean())"
   ]
  },
  {
   "cell_type": "code",
   "execution_count": 108,
   "id": "2c12efe5",
   "metadata": {},
   "outputs": [
    {
     "data": {
      "text/html": [
       "<div>\n",
       "<style scoped>\n",
       "    .dataframe tbody tr th:only-of-type {\n",
       "        vertical-align: middle;\n",
       "    }\n",
       "\n",
       "    .dataframe tbody tr th {\n",
       "        vertical-align: top;\n",
       "    }\n",
       "\n",
       "    .dataframe thead th {\n",
       "        text-align: right;\n",
       "    }\n",
       "</style>\n",
       "<table border=\"1\" class=\"dataframe\">\n",
       "  <thead>\n",
       "    <tr style=\"text-align: right;\">\n",
       "      <th></th>\n",
       "      <th>고객자산구간</th>\n",
       "      <th>주거래상품군</th>\n",
       "      <th>총투자기간</th>\n",
       "      <th>LIFESTAGE</th>\n",
       "      <th>cluster</th>\n",
       "    </tr>\n",
       "  </thead>\n",
       "  <tbody>\n",
       "    <tr>\n",
       "      <th>count</th>\n",
       "      <td>2508.000000</td>\n",
       "      <td>2508.000000</td>\n",
       "      <td>2508.000000</td>\n",
       "      <td>2508.000000</td>\n",
       "      <td>2508.0</td>\n",
       "    </tr>\n",
       "    <tr>\n",
       "      <th>mean</th>\n",
       "      <td>4.526715</td>\n",
       "      <td>2.088118</td>\n",
       "      <td>3.234848</td>\n",
       "      <td>5.499601</td>\n",
       "      <td>0.0</td>\n",
       "    </tr>\n",
       "    <tr>\n",
       "      <th>std</th>\n",
       "      <td>0.866707</td>\n",
       "      <td>0.744485</td>\n",
       "      <td>1.052411</td>\n",
       "      <td>1.564591</td>\n",
       "      <td>0.0</td>\n",
       "    </tr>\n",
       "    <tr>\n",
       "      <th>min</th>\n",
       "      <td>3.000000</td>\n",
       "      <td>1.000000</td>\n",
       "      <td>1.000000</td>\n",
       "      <td>2.000000</td>\n",
       "      <td>0.0</td>\n",
       "    </tr>\n",
       "    <tr>\n",
       "      <th>25%</th>\n",
       "      <td>4.000000</td>\n",
       "      <td>2.000000</td>\n",
       "      <td>3.000000</td>\n",
       "      <td>5.000000</td>\n",
       "      <td>0.0</td>\n",
       "    </tr>\n",
       "    <tr>\n",
       "      <th>50%</th>\n",
       "      <td>5.000000</td>\n",
       "      <td>2.000000</td>\n",
       "      <td>3.000000</td>\n",
       "      <td>5.000000</td>\n",
       "      <td>0.0</td>\n",
       "    </tr>\n",
       "    <tr>\n",
       "      <th>75%</th>\n",
       "      <td>5.000000</td>\n",
       "      <td>2.000000</td>\n",
       "      <td>4.000000</td>\n",
       "      <td>7.000000</td>\n",
       "      <td>0.0</td>\n",
       "    </tr>\n",
       "    <tr>\n",
       "      <th>max</th>\n",
       "      <td>6.000000</td>\n",
       "      <td>15.000000</td>\n",
       "      <td>6.000000</td>\n",
       "      <td>9.000000</td>\n",
       "      <td>0.0</td>\n",
       "    </tr>\n",
       "  </tbody>\n",
       "</table>\n",
       "</div>"
      ],
      "text/plain": [
       "            고객자산구간       주거래상품군        총투자기간    LIFESTAGE  cluster\n",
       "count  2508.000000  2508.000000  2508.000000  2508.000000   2508.0\n",
       "mean      4.526715     2.088118     3.234848     5.499601      0.0\n",
       "std       0.866707     0.744485     1.052411     1.564591      0.0\n",
       "min       3.000000     1.000000     1.000000     2.000000      0.0\n",
       "25%       4.000000     2.000000     3.000000     5.000000      0.0\n",
       "50%       5.000000     2.000000     3.000000     5.000000      0.0\n",
       "75%       5.000000     2.000000     4.000000     7.000000      0.0\n",
       "max       6.000000    15.000000     6.000000     9.000000      0.0"
      ]
     },
     "execution_count": 108,
     "metadata": {},
     "output_type": "execute_result"
    }
   ],
   "source": [
    "trade_sel.query(\"cluster == 0\").describe()"
   ]
  },
  {
   "cell_type": "code",
   "execution_count": 109,
   "id": "cbf6b465",
   "metadata": {},
   "outputs": [
    {
     "data": {
      "text/html": [
       "<div>\n",
       "<style scoped>\n",
       "    .dataframe tbody tr th:only-of-type {\n",
       "        vertical-align: middle;\n",
       "    }\n",
       "\n",
       "    .dataframe tbody tr th {\n",
       "        vertical-align: top;\n",
       "    }\n",
       "\n",
       "    .dataframe thead th {\n",
       "        text-align: right;\n",
       "    }\n",
       "</style>\n",
       "<table border=\"1\" class=\"dataframe\">\n",
       "  <thead>\n",
       "    <tr style=\"text-align: right;\">\n",
       "      <th></th>\n",
       "      <th>고객자산구간</th>\n",
       "      <th>주거래상품군</th>\n",
       "      <th>총투자기간</th>\n",
       "      <th>LIFESTAGE</th>\n",
       "      <th>cluster</th>\n",
       "    </tr>\n",
       "  </thead>\n",
       "  <tbody>\n",
       "    <tr>\n",
       "      <th>count</th>\n",
       "      <td>3008.000000</td>\n",
       "      <td>3008.000000</td>\n",
       "      <td>3008.000000</td>\n",
       "      <td>3008.000000</td>\n",
       "      <td>3008.0</td>\n",
       "    </tr>\n",
       "    <tr>\n",
       "      <th>mean</th>\n",
       "      <td>1.669548</td>\n",
       "      <td>2.023936</td>\n",
       "      <td>2.660572</td>\n",
       "      <td>6.071476</td>\n",
       "      <td>1.0</td>\n",
       "    </tr>\n",
       "    <tr>\n",
       "      <th>std</th>\n",
       "      <td>0.683194</td>\n",
       "      <td>0.474938</td>\n",
       "      <td>0.950110</td>\n",
       "      <td>1.281164</td>\n",
       "      <td>0.0</td>\n",
       "    </tr>\n",
       "    <tr>\n",
       "      <th>min</th>\n",
       "      <td>1.000000</td>\n",
       "      <td>1.000000</td>\n",
       "      <td>1.000000</td>\n",
       "      <td>5.000000</td>\n",
       "      <td>1.0</td>\n",
       "    </tr>\n",
       "    <tr>\n",
       "      <th>25%</th>\n",
       "      <td>1.000000</td>\n",
       "      <td>2.000000</td>\n",
       "      <td>2.000000</td>\n",
       "      <td>5.000000</td>\n",
       "      <td>1.0</td>\n",
       "    </tr>\n",
       "    <tr>\n",
       "      <th>50%</th>\n",
       "      <td>2.000000</td>\n",
       "      <td>2.000000</td>\n",
       "      <td>3.000000</td>\n",
       "      <td>6.000000</td>\n",
       "      <td>1.0</td>\n",
       "    </tr>\n",
       "    <tr>\n",
       "      <th>75%</th>\n",
       "      <td>2.000000</td>\n",
       "      <td>2.000000</td>\n",
       "      <td>3.000000</td>\n",
       "      <td>7.000000</td>\n",
       "      <td>1.0</td>\n",
       "    </tr>\n",
       "    <tr>\n",
       "      <th>max</th>\n",
       "      <td>3.000000</td>\n",
       "      <td>15.000000</td>\n",
       "      <td>6.000000</td>\n",
       "      <td>9.000000</td>\n",
       "      <td>1.0</td>\n",
       "    </tr>\n",
       "  </tbody>\n",
       "</table>\n",
       "</div>"
      ],
      "text/plain": [
       "            고객자산구간       주거래상품군        총투자기간    LIFESTAGE  cluster\n",
       "count  3008.000000  3008.000000  3008.000000  3008.000000   3008.0\n",
       "mean      1.669548     2.023936     2.660572     6.071476      1.0\n",
       "std       0.683194     0.474938     0.950110     1.281164      0.0\n",
       "min       1.000000     1.000000     1.000000     5.000000      1.0\n",
       "25%       1.000000     2.000000     2.000000     5.000000      1.0\n",
       "50%       2.000000     2.000000     3.000000     6.000000      1.0\n",
       "75%       2.000000     2.000000     3.000000     7.000000      1.0\n",
       "max       3.000000    15.000000     6.000000     9.000000      1.0"
      ]
     },
     "execution_count": 109,
     "metadata": {},
     "output_type": "execute_result"
    }
   ],
   "source": [
    "trade_sel.query(\"cluster == 1\").describe()"
   ]
  },
  {
   "cell_type": "code",
   "execution_count": 110,
   "id": "3f2eead5",
   "metadata": {},
   "outputs": [
    {
     "data": {
      "text/html": [
       "<div>\n",
       "<style scoped>\n",
       "    .dataframe tbody tr th:only-of-type {\n",
       "        vertical-align: middle;\n",
       "    }\n",
       "\n",
       "    .dataframe tbody tr th {\n",
       "        vertical-align: top;\n",
       "    }\n",
       "\n",
       "    .dataframe thead th {\n",
       "        text-align: right;\n",
       "    }\n",
       "</style>\n",
       "<table border=\"1\" class=\"dataframe\">\n",
       "  <thead>\n",
       "    <tr style=\"text-align: right;\">\n",
       "      <th></th>\n",
       "      <th>고객자산구간</th>\n",
       "      <th>주거래상품군</th>\n",
       "      <th>총투자기간</th>\n",
       "      <th>LIFESTAGE</th>\n",
       "      <th>cluster</th>\n",
       "    </tr>\n",
       "  </thead>\n",
       "  <tbody>\n",
       "    <tr>\n",
       "      <th>count</th>\n",
       "      <td>4484.000000</td>\n",
       "      <td>4484.000000</td>\n",
       "      <td>4484.000000</td>\n",
       "      <td>4484.000000</td>\n",
       "      <td>4484.0</td>\n",
       "    </tr>\n",
       "    <tr>\n",
       "      <th>mean</th>\n",
       "      <td>1.769848</td>\n",
       "      <td>2.064451</td>\n",
       "      <td>2.387377</td>\n",
       "      <td>2.803078</td>\n",
       "      <td>2.0</td>\n",
       "    </tr>\n",
       "    <tr>\n",
       "      <th>std</th>\n",
       "      <td>0.939680</td>\n",
       "      <td>0.566830</td>\n",
       "      <td>0.828357</td>\n",
       "      <td>0.766974</td>\n",
       "      <td>0.0</td>\n",
       "    </tr>\n",
       "    <tr>\n",
       "      <th>min</th>\n",
       "      <td>1.000000</td>\n",
       "      <td>1.000000</td>\n",
       "      <td>1.000000</td>\n",
       "      <td>2.000000</td>\n",
       "      <td>2.0</td>\n",
       "    </tr>\n",
       "    <tr>\n",
       "      <th>25%</th>\n",
       "      <td>1.000000</td>\n",
       "      <td>2.000000</td>\n",
       "      <td>2.000000</td>\n",
       "      <td>2.000000</td>\n",
       "      <td>2.0</td>\n",
       "    </tr>\n",
       "    <tr>\n",
       "      <th>50%</th>\n",
       "      <td>2.000000</td>\n",
       "      <td>2.000000</td>\n",
       "      <td>2.000000</td>\n",
       "      <td>3.000000</td>\n",
       "      <td>2.0</td>\n",
       "    </tr>\n",
       "    <tr>\n",
       "      <th>75%</th>\n",
       "      <td>2.000000</td>\n",
       "      <td>2.000000</td>\n",
       "      <td>3.000000</td>\n",
       "      <td>3.000000</td>\n",
       "      <td>2.0</td>\n",
       "    </tr>\n",
       "    <tr>\n",
       "      <th>max</th>\n",
       "      <td>5.000000</td>\n",
       "      <td>15.000000</td>\n",
       "      <td>6.000000</td>\n",
       "      <td>4.000000</td>\n",
       "      <td>2.0</td>\n",
       "    </tr>\n",
       "  </tbody>\n",
       "</table>\n",
       "</div>"
      ],
      "text/plain": [
       "            고객자산구간       주거래상품군        총투자기간    LIFESTAGE  cluster\n",
       "count  4484.000000  4484.000000  4484.000000  4484.000000   4484.0\n",
       "mean      1.769848     2.064451     2.387377     2.803078      2.0\n",
       "std       0.939680     0.566830     0.828357     0.766974      0.0\n",
       "min       1.000000     1.000000     1.000000     2.000000      2.0\n",
       "25%       1.000000     2.000000     2.000000     2.000000      2.0\n",
       "50%       2.000000     2.000000     2.000000     3.000000      2.0\n",
       "75%       2.000000     2.000000     3.000000     3.000000      2.0\n",
       "max       5.000000    15.000000     6.000000     4.000000      2.0"
      ]
     },
     "execution_count": 110,
     "metadata": {},
     "output_type": "execute_result"
    }
   ],
   "source": [
    "trade_sel.query(\"cluster == 2\").describe()"
   ]
  },
  {
   "cell_type": "markdown",
   "id": "11a7ee8c",
   "metadata": {},
   "source": [
    "### 데이터 시각화"
   ]
  },
  {
   "cell_type": "code",
   "execution_count": 111,
   "id": "e4d152eb",
   "metadata": {},
   "outputs": [],
   "source": [
    "import seaborn as sns"
   ]
  },
  {
   "cell_type": "code",
   "execution_count": 112,
   "id": "444e3d39",
   "metadata": {},
   "outputs": [],
   "source": [
    "# 한글 폰트 코드\n",
    "import platform\n",
    "from matplotlib import font_manager, rc\n",
    "plt.rcParams['axes.unicode_minus'] = False\n",
    "\n",
    "platform.system() == 'Windows'\n",
    "path = \"c:/Windows/Fonts/malgun.ttf\"\n",
    "font_name = font_manager.FontProperties(fname=path).get_name()\n",
    "rc('font', family=font_name)"
   ]
  },
  {
   "cell_type": "code",
   "execution_count": 113,
   "id": "ed54b127",
   "metadata": {},
   "outputs": [
    {
     "data": {
      "text/plain": [
       "<AxesSubplot:xlabel='고객자산구간', ylabel='count'>"
      ]
     },
     "execution_count": 113,
     "metadata": {},
     "output_type": "execute_result"
    },
    {
     "data": {
      "image/png": "[encoded data removed]",
      "text/plain": [
       "<Figure size 1080x576 with 1 Axes>"
      ]
     },
     "metadata": {
      "needs_background": "light"
     },
     "output_type": "display_data"
    }
   ],
   "source": [
    "# cluster별 고객자산구간 시각화\n",
    "plt.figure(figsize=(15,8))\n",
    "sns.countplot(x=\"고객자산구간\", hue=\"cluster\", data=trade_sel)"
   ]
  },
  {
   "cell_type": "code",
   "execution_count": 114,
   "id": "f0f3064a",
   "metadata": {
    "scrolled": true
   },
   "outputs": [
    {
     "data": {
      "text/html": [
       "<div>\n",
       "<style scoped>\n",
       "    .dataframe tbody tr th:only-of-type {\n",
       "        vertical-align: middle;\n",
       "    }\n",
       "\n",
       "    .dataframe tbody tr th {\n",
       "        vertical-align: top;\n",
       "    }\n",
       "\n",
       "    .dataframe thead th {\n",
       "        text-align: right;\n",
       "    }\n",
       "</style>\n",
       "<table border=\"1\" class=\"dataframe\">\n",
       "  <thead>\n",
       "    <tr style=\"text-align: right;\">\n",
       "      <th></th>\n",
       "      <th></th>\n",
       "      <th>count</th>\n",
       "    </tr>\n",
       "    <tr>\n",
       "      <th>주거래상품군</th>\n",
       "      <th>cluster</th>\n",
       "      <th></th>\n",
       "    </tr>\n",
       "  </thead>\n",
       "  <tbody>\n",
       "    <tr>\n",
       "      <th rowspan=\"3\" valign=\"top\">1</th>\n",
       "      <th>0</th>\n",
       "      <td>3</td>\n",
       "    </tr>\n",
       "    <tr>\n",
       "      <th>1</th>\n",
       "      <td>16</td>\n",
       "    </tr>\n",
       "    <tr>\n",
       "      <th>2</th>\n",
       "      <td>15</td>\n",
       "    </tr>\n",
       "    <tr>\n",
       "      <th rowspan=\"3\" valign=\"top\">2</th>\n",
       "      <th>0</th>\n",
       "      <td>2418</td>\n",
       "    </tr>\n",
       "    <tr>\n",
       "      <th>1</th>\n",
       "      <td>2959</td>\n",
       "    </tr>\n",
       "    <tr>\n",
       "      <th>2</th>\n",
       "      <td>4282</td>\n",
       "    </tr>\n",
       "    <tr>\n",
       "      <th rowspan=\"3\" valign=\"top\">3</th>\n",
       "      <th>0</th>\n",
       "      <td>67</td>\n",
       "    </tr>\n",
       "    <tr>\n",
       "      <th>1</th>\n",
       "      <td>25</td>\n",
       "    </tr>\n",
       "    <tr>\n",
       "      <th>2</th>\n",
       "      <td>169</td>\n",
       "    </tr>\n",
       "    <tr>\n",
       "      <th rowspan=\"3\" valign=\"top\">5</th>\n",
       "      <th>0</th>\n",
       "      <td>1</td>\n",
       "    </tr>\n",
       "    <tr>\n",
       "      <th>1</th>\n",
       "      <td>2</td>\n",
       "    </tr>\n",
       "    <tr>\n",
       "      <th>2</th>\n",
       "      <td>4</td>\n",
       "    </tr>\n",
       "    <tr>\n",
       "      <th rowspan=\"2\" valign=\"top\">6</th>\n",
       "      <th>1</th>\n",
       "      <td>1</td>\n",
       "    </tr>\n",
       "    <tr>\n",
       "      <th>2</th>\n",
       "      <td>2</td>\n",
       "    </tr>\n",
       "    <tr>\n",
       "      <th rowspan=\"2\" valign=\"top\">8</th>\n",
       "      <th>0</th>\n",
       "      <td>6</td>\n",
       "    </tr>\n",
       "    <tr>\n",
       "      <th>2</th>\n",
       "      <td>2</td>\n",
       "    </tr>\n",
       "    <tr>\n",
       "      <th rowspan=\"3\" valign=\"top\">9</th>\n",
       "      <th>0</th>\n",
       "      <td>1</td>\n",
       "    </tr>\n",
       "    <tr>\n",
       "      <th>1</th>\n",
       "      <td>2</td>\n",
       "    </tr>\n",
       "    <tr>\n",
       "      <th>2</th>\n",
       "      <td>2</td>\n",
       "    </tr>\n",
       "    <tr>\n",
       "      <th rowspan=\"2\" valign=\"top\">10</th>\n",
       "      <th>0</th>\n",
       "      <td>6</td>\n",
       "    </tr>\n",
       "    <tr>\n",
       "      <th>2</th>\n",
       "      <td>3</td>\n",
       "    </tr>\n",
       "    <tr>\n",
       "      <th>11</th>\n",
       "      <th>0</th>\n",
       "      <td>3</td>\n",
       "    </tr>\n",
       "    <tr>\n",
       "      <th>12</th>\n",
       "      <th>0</th>\n",
       "      <td>1</td>\n",
       "    </tr>\n",
       "    <tr>\n",
       "      <th rowspan=\"3\" valign=\"top\">15</th>\n",
       "      <th>0</th>\n",
       "      <td>2</td>\n",
       "    </tr>\n",
       "    <tr>\n",
       "      <th>1</th>\n",
       "      <td>3</td>\n",
       "    </tr>\n",
       "    <tr>\n",
       "      <th>2</th>\n",
       "      <td>5</td>\n",
       "    </tr>\n",
       "  </tbody>\n",
       "</table>\n",
       "</div>"
      ],
      "text/plain": [
       "                count\n",
       "주거래상품군 cluster       \n",
       "1      0            3\n",
       "       1           16\n",
       "       2           15\n",
       "2      0         2418\n",
       "       1         2959\n",
       "       2         4282\n",
       "3      0           67\n",
       "       1           25\n",
       "       2          169\n",
       "5      0            1\n",
       "       1            2\n",
       "       2            4\n",
       "6      1            1\n",
       "       2            2\n",
       "8      0            6\n",
       "       2            2\n",
       "9      0            1\n",
       "       1            2\n",
       "       2            2\n",
       "10     0            6\n",
       "       2            3\n",
       "11     0            3\n",
       "12     0            1\n",
       "15     0            2\n",
       "       1            3\n",
       "       2            5"
      ]
     },
     "execution_count": 114,
     "metadata": {},
     "output_type": "execute_result"
    }
   ],
   "source": [
    "# cluster별 주거래상풍군 빈도표\n",
    "trade_sel.groupby([\"주거래상품군\",\"cluster\"]).agg(count=(\"cluster\",\"count\"))"
   ]
  },
  {
   "cell_type": "code",
   "execution_count": 115,
   "id": "05cb1491",
   "metadata": {},
   "outputs": [
    {
     "data": {
      "text/plain": [
       "<AxesSubplot:xlabel='총투자기간', ylabel='count'>"
      ]
     },
     "execution_count": 115,
     "metadata": {},
     "output_type": "execute_result"
    },
    {
     "data": {
      "image/png": "[encoded data removed]",
      "text/plain": [
       "<Figure size 1080x576 with 1 Axes>"
      ]
     },
     "metadata": {
      "needs_background": "light"
     },
     "output_type": "display_data"
    }
   ],
   "source": [
    "# cluster별 총투자기간 시각화\n",
    "plt.figure(figsize=(15,8))\n",
    "sns.countplot(x=\"총투자기간\", hue=\"cluster\", data=trade_sel)"
   ]
  },
  {
   "cell_type": "code",
   "execution_count": 116,
   "id": "c7879254",
   "metadata": {},
   "outputs": [
    {
     "data": {
      "text/plain": [
       "<AxesSubplot:xlabel='LIFESTAGE', ylabel='count'>"
      ]
     },
     "execution_count": 116,
     "metadata": {},
     "output_type": "execute_result"
    },
    {
     "data": {
      "image/png": "[encoded data removed]",
      "text/plain": [
       "<Figure size 1080x576 with 1 Axes>"
      ]
     },
     "metadata": {
      "needs_background": "light"
     },
     "output_type": "display_data"
    }
   ],
   "source": [
    "# cluster별 LIFESTAGE 시각화\n",
    "plt.figure(figsize=(15,8))\n",
    "sns.countplot(x=\"LIFESTAGE\", hue=\"cluster\", data=trade_sel)"
   ]
  },
  {
   "cell_type": "markdown",
   "id": "f99bc110",
   "metadata": {},
   "source": [
    "- 새로 선택한 컬럼의 경우 고객자산구간, LIFESTAGE를 기준으로 많이 나뉨\n",
    "- 0: 고객자산구간이 높은(자산이 많은) 데이터가 대부분\n",
    "- 1: 고객자산구간이 낮은(자산이 적은) 데이터가 대부분\n",
    "- 2: 고객자산구간이 적은 데이터가 많지만, 높은 데이터도 존재\n",
    "\n",
    "\n",
    "- 클러스터 1,2의 경우 총투자기간이 적은(1~3) 데이터의 비율이 많음\n",
    "- 클러스터 0의 경우 총투자기간이 많은(4~6) 데이터의 비율이 많음\n",
    "\n",
    "\n",
    "- 0: 고객 Lifestage가 대체로 고르게 분포되어있고, 40-59세 직장인 남자(5)의 비율이 특히 높음\n",
    "- 1: 연령대가 40-59세, 혹은 그 이상인 고객 데이터가 대부분이고(5~9), 이중에서 직장인 남자(5)의 비율이 특히 높음\n",
    "- 2: 상대적으로 연령대가 낮은 고객이 대부분이고(2~4), 사회초년생(1)과 30-39세 남자(2)의 비율이 높음"
   ]
  }
 ],
 "metadata": {
  "kernelspec": {
   "display_name": "Python 3 (ipykernel)",
   "language": "python",
   "name": "python3"
  },
  "language_info": {
   "codemirror_mode": {
    "name": "ipython",
    "version": 3
   },
   "file_extension": ".py",
   "mimetype": "text/x-python",
   "name": "python",
   "nbconvert_exporter": "python",
   "pygments_lexer": "ipython3",
   "version": "3.9.12"
  }
 },
 "nbformat": 4,
 "nbformat_minor": 5
}
