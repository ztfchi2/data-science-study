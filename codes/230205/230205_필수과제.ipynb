{
 "cells": [
  {
   "cell_type": "markdown",
   "id": "79d8d74f",
   "metadata": {},
   "source": [
    "### 데이터분석 필수 과제 \n",
    "- 새로운 데이터를 공유하면\n",
    "- 정답데이터만 알려드릴테니 우리가 지금까지 배운 내용을 이용해서 머신러닝을 통해 정확도를 높여주세요!\n",
    "- 핵심적인 전처리와 데이터 특성에 대한 인사이트도 꼭 정리하셔야 합니다.\n",
    "- 사전에 모든 정확도를 받아 볼 예정입니다."
   ]
  },
  {
   "cell_type": "code",
   "execution_count": 1,
   "id": "21350f3f",
   "metadata": {},
   "outputs": [],
   "source": [
    "import pandas as pd\n",
    "import numpy as np"
   ]
  },
  {
   "cell_type": "code",
   "execution_count": 2,
   "id": "4f300c0b",
   "metadata": {},
   "outputs": [],
   "source": [
    "df = pd.read_csv(\"sales_data.csv\", encoding=\"unicode_escape\")"
   ]
  },
  {
   "cell_type": "code",
   "execution_count": 3,
   "id": "b0fce5bc",
   "metadata": {
    "scrolled": false
   },
   "outputs": [
    {
     "data": {
      "text/html": [
       "<div>\n",
       "<style scoped>\n",
       "    .dataframe tbody tr th:only-of-type {\n",
       "        vertical-align: middle;\n",
       "    }\n",
       "\n",
       "    .dataframe tbody tr th {\n",
       "        vertical-align: top;\n",
       "    }\n",
       "\n",
       "    .dataframe thead th {\n",
       "        text-align: right;\n",
       "    }\n",
       "</style>\n",
       "<table border=\"1\" class=\"dataframe\">\n",
       "  <thead>\n",
       "    <tr style=\"text-align: right;\">\n",
       "      <th></th>\n",
       "      <th>InvoiceNo</th>\n",
       "      <th>StockCode</th>\n",
       "      <th>Description</th>\n",
       "      <th>Quantity</th>\n",
       "      <th>InvoiceDate</th>\n",
       "      <th>UnitPrice</th>\n",
       "      <th>CustomerID</th>\n",
       "      <th>Country</th>\n",
       "    </tr>\n",
       "  </thead>\n",
       "  <tbody>\n",
       "    <tr>\n",
       "      <th>0</th>\n",
       "      <td>536365</td>\n",
       "      <td>85123A</td>\n",
       "      <td>WHITE HANGING HEART T-LIGHT HOLDER</td>\n",
       "      <td>6</td>\n",
       "      <td>12/1/2010 8:26</td>\n",
       "      <td>2.55</td>\n",
       "      <td>17850.0</td>\n",
       "      <td>United Kingdom</td>\n",
       "    </tr>\n",
       "    <tr>\n",
       "      <th>1</th>\n",
       "      <td>536365</td>\n",
       "      <td>71053</td>\n",
       "      <td>WHITE METAL LANTERN</td>\n",
       "      <td>6</td>\n",
       "      <td>12/1/2010 8:26</td>\n",
       "      <td>3.39</td>\n",
       "      <td>17850.0</td>\n",
       "      <td>United Kingdom</td>\n",
       "    </tr>\n",
       "    <tr>\n",
       "      <th>2</th>\n",
       "      <td>536365</td>\n",
       "      <td>84406B</td>\n",
       "      <td>CREAM CUPID HEARTS COAT HANGER</td>\n",
       "      <td>8</td>\n",
       "      <td>12/1/2010 8:26</td>\n",
       "      <td>2.75</td>\n",
       "      <td>17850.0</td>\n",
       "      <td>United Kingdom</td>\n",
       "    </tr>\n",
       "    <tr>\n",
       "      <th>3</th>\n",
       "      <td>536365</td>\n",
       "      <td>84029G</td>\n",
       "      <td>KNITTED UNION FLAG HOT WATER BOTTLE</td>\n",
       "      <td>6</td>\n",
       "      <td>12/1/2010 8:26</td>\n",
       "      <td>3.39</td>\n",
       "      <td>17850.0</td>\n",
       "      <td>United Kingdom</td>\n",
       "    </tr>\n",
       "    <tr>\n",
       "      <th>4</th>\n",
       "      <td>536365</td>\n",
       "      <td>84029E</td>\n",
       "      <td>RED WOOLLY HOTTIE WHITE HEART.</td>\n",
       "      <td>6</td>\n",
       "      <td>12/1/2010 8:26</td>\n",
       "      <td>3.39</td>\n",
       "      <td>17850.0</td>\n",
       "      <td>United Kingdom</td>\n",
       "    </tr>\n",
       "    <tr>\n",
       "      <th>...</th>\n",
       "      <td>...</td>\n",
       "      <td>...</td>\n",
       "      <td>...</td>\n",
       "      <td>...</td>\n",
       "      <td>...</td>\n",
       "      <td>...</td>\n",
       "      <td>...</td>\n",
       "      <td>...</td>\n",
       "    </tr>\n",
       "    <tr>\n",
       "      <th>541904</th>\n",
       "      <td>581587</td>\n",
       "      <td>22613</td>\n",
       "      <td>PACK OF 20 SPACEBOY NAPKINS</td>\n",
       "      <td>12</td>\n",
       "      <td>12/9/2011 12:50</td>\n",
       "      <td>0.85</td>\n",
       "      <td>12680.0</td>\n",
       "      <td>France</td>\n",
       "    </tr>\n",
       "    <tr>\n",
       "      <th>541905</th>\n",
       "      <td>581587</td>\n",
       "      <td>22899</td>\n",
       "      <td>CHILDREN'S APRON DOLLY GIRL</td>\n",
       "      <td>6</td>\n",
       "      <td>12/9/2011 12:50</td>\n",
       "      <td>2.10</td>\n",
       "      <td>12680.0</td>\n",
       "      <td>France</td>\n",
       "    </tr>\n",
       "    <tr>\n",
       "      <th>541906</th>\n",
       "      <td>581587</td>\n",
       "      <td>23254</td>\n",
       "      <td>CHILDRENS CUTLERY DOLLY GIRL</td>\n",
       "      <td>4</td>\n",
       "      <td>12/9/2011 12:50</td>\n",
       "      <td>4.15</td>\n",
       "      <td>12680.0</td>\n",
       "      <td>France</td>\n",
       "    </tr>\n",
       "    <tr>\n",
       "      <th>541907</th>\n",
       "      <td>581587</td>\n",
       "      <td>23255</td>\n",
       "      <td>CHILDRENS CUTLERY CIRCUS PARADE</td>\n",
       "      <td>4</td>\n",
       "      <td>12/9/2011 12:50</td>\n",
       "      <td>4.15</td>\n",
       "      <td>12680.0</td>\n",
       "      <td>France</td>\n",
       "    </tr>\n",
       "    <tr>\n",
       "      <th>541908</th>\n",
       "      <td>581587</td>\n",
       "      <td>22138</td>\n",
       "      <td>BAKING SET 9 PIECE RETROSPOT</td>\n",
       "      <td>3</td>\n",
       "      <td>12/9/2011 12:50</td>\n",
       "      <td>4.95</td>\n",
       "      <td>12680.0</td>\n",
       "      <td>France</td>\n",
       "    </tr>\n",
       "  </tbody>\n",
       "</table>\n",
       "<p>541909 rows × 8 columns</p>\n",
       "</div>"
      ],
      "text/plain": [
       "       InvoiceNo StockCode                          Description  Quantity  \\\n",
       "0         536365    85123A   WHITE HANGING HEART T-LIGHT HOLDER         6   \n",
       "1         536365     71053                  WHITE METAL LANTERN         6   \n",
       "2         536365    84406B       CREAM CUPID HEARTS COAT HANGER         8   \n",
       "3         536365    84029G  KNITTED UNION FLAG HOT WATER BOTTLE         6   \n",
       "4         536365    84029E       RED WOOLLY HOTTIE WHITE HEART.         6   \n",
       "...          ...       ...                                  ...       ...   \n",
       "541904    581587     22613          PACK OF 20 SPACEBOY NAPKINS        12   \n",
       "541905    581587     22899         CHILDREN'S APRON DOLLY GIRL          6   \n",
       "541906    581587     23254        CHILDRENS CUTLERY DOLLY GIRL          4   \n",
       "541907    581587     23255      CHILDRENS CUTLERY CIRCUS PARADE         4   \n",
       "541908    581587     22138        BAKING SET 9 PIECE RETROSPOT          3   \n",
       "\n",
       "            InvoiceDate  UnitPrice  CustomerID         Country  \n",
       "0        12/1/2010 8:26       2.55     17850.0  United Kingdom  \n",
       "1        12/1/2010 8:26       3.39     17850.0  United Kingdom  \n",
       "2        12/1/2010 8:26       2.75     17850.0  United Kingdom  \n",
       "3        12/1/2010 8:26       3.39     17850.0  United Kingdom  \n",
       "4        12/1/2010 8:26       3.39     17850.0  United Kingdom  \n",
       "...                 ...        ...         ...             ...  \n",
       "541904  12/9/2011 12:50       0.85     12680.0          France  \n",
       "541905  12/9/2011 12:50       2.10     12680.0          France  \n",
       "541906  12/9/2011 12:50       4.15     12680.0          France  \n",
       "541907  12/9/2011 12:50       4.15     12680.0          France  \n",
       "541908  12/9/2011 12:50       4.95     12680.0          France  \n",
       "\n",
       "[541909 rows x 8 columns]"
      ]
     },
     "execution_count": 3,
     "metadata": {},
     "output_type": "execute_result"
    }
   ],
   "source": [
    "df"
   ]
  },
  {
   "cell_type": "markdown",
   "id": "9c5cdffb",
   "metadata": {},
   "source": [
    "### 데이터 전처리"
   ]
  },
  {
   "cell_type": "markdown",
   "id": "930b96e9",
   "metadata": {},
   "source": [
    "- 먼저 결측치 확인 후 대체부터 한다.\n",
    "- 찾을 제품(y값) : HAND WARMER\n",
    "- 새롭게 생성할 열은 y값에 의존하지 않도록 함"
   ]
  },
  {
   "cell_type": "code",
   "execution_count": 4,
   "id": "33fab319",
   "metadata": {},
   "outputs": [
    {
     "name": "stdout",
     "output_type": "stream",
     "text": [
      "<class 'pandas.core.frame.DataFrame'>\n",
      "RangeIndex: 541909 entries, 0 to 541908\n",
      "Data columns (total 8 columns):\n",
      " #   Column       Non-Null Count   Dtype  \n",
      "---  ------       --------------   -----  \n",
      " 0   InvoiceNo    541909 non-null  object \n",
      " 1   StockCode    541909 non-null  object \n",
      " 2   Description  540455 non-null  object \n",
      " 3   Quantity     541909 non-null  int64  \n",
      " 4   InvoiceDate  541909 non-null  object \n",
      " 5   UnitPrice    541909 non-null  float64\n",
      " 6   CustomerID   406829 non-null  float64\n",
      " 7   Country      541909 non-null  object \n",
      "dtypes: float64(2), int64(1), object(5)\n",
      "memory usage: 33.1+ MB\n"
     ]
    }
   ],
   "source": [
    "df.info()"
   ]
  },
  {
   "cell_type": "code",
   "execution_count": 5,
   "id": "a61a96d2",
   "metadata": {},
   "outputs": [
    {
     "data": {
      "text/plain": [
       "InvoiceNo           0\n",
       "StockCode           0\n",
       "Description      1454\n",
       "Quantity            0\n",
       "InvoiceDate         0\n",
       "UnitPrice           0\n",
       "CustomerID     135080\n",
       "Country             0\n",
       "dtype: int64"
      ]
     },
     "execution_count": 5,
     "metadata": {},
     "output_type": "execute_result"
    }
   ],
   "source": [
    "# 결측치 확인\n",
    "df.isna().sum()"
   ]
  },
  {
   "cell_type": "markdown",
   "id": "f096fbf5",
   "metadata": {},
   "source": [
    "- Description 변수를 y로 두기 때문에 결측치인 행은 분석에서 제외\n",
    "- CustomerID는 고객 고유 ID이고, 결측치 수가 많기 때문에 해당 열을 전부 제거"
   ]
  },
  {
   "cell_type": "code",
   "execution_count": 6,
   "id": "3c97a683",
   "metadata": {},
   "outputs": [
    {
     "data": {
      "text/plain": [
       "Index(['InvoiceNo', 'StockCode', 'Description', 'Quantity', 'InvoiceDate',\n",
       "       'UnitPrice', 'CustomerID', 'Country'],\n",
       "      dtype='object')"
      ]
     },
     "execution_count": 6,
     "metadata": {},
     "output_type": "execute_result"
    }
   ],
   "source": [
    "# CustomerID 컬럼 제거\n",
    "df.columns"
   ]
  },
  {
   "cell_type": "code",
   "execution_count": 7,
   "id": "29151da5",
   "metadata": {},
   "outputs": [],
   "source": [
    "df = df[['InvoiceNo', 'StockCode', 'Description', 'Quantity', 'InvoiceDate',\n",
    "         'UnitPrice', 'Country']]"
   ]
  },
  {
   "cell_type": "code",
   "execution_count": 8,
   "id": "81be799f",
   "metadata": {},
   "outputs": [],
   "source": [
    "# Description이 NaN인 행 제거\n",
    "df = df.dropna()\n",
    "df.reset_index(inplace=True)"
   ]
  },
  {
   "cell_type": "markdown",
   "id": "afe731ff",
   "metadata": {},
   "source": [
    "### 상품명 관련\n",
    "- 상품 종류를 구분하는 키워드를 중심으로 컬럼을 생성함\n",
    "- packed : 'pack of' 포함 1, o.w. 0\n",
    "- numbered : 숫자 포함 1, o.w. 0\n",
    "- set : 'set of' 포함 1, o.w. 0\n",
    "- box : 'box of' 포함 1, o.w. 0\n",
    "- amp : '&' 포함 1, o.w. 0\n",
    "- plus : '+' 포함 1, o.w. 0"
   ]
  },
  {
   "cell_type": "code",
   "execution_count": 10,
   "id": "3424db75",
   "metadata": {},
   "outputs": [],
   "source": [
    "import re\n",
    "\n",
    "# Packed 변수 추가\n",
    "df[\"temp\"] = df[\"Description\"].str.extract(\"(PACK OF)\")"
   ]
  },
  {
   "cell_type": "code",
   "execution_count": 11,
   "id": "448d05a6",
   "metadata": {},
   "outputs": [],
   "source": [
    "from sklearn.preprocessing import LabelEncoder\n",
    "\n",
    "label_encoder = LabelEncoder()\n",
    "\n",
    "label_encoder.fit(df[\"temp\"])\n",
    "labels = label_encoder.transform(df[\"temp\"])\n",
    "temp = pd.DataFrame(data=labels, columns=[\"Packed\"])\n",
    "temp[\"Packed\"].replace({0:1, 1:0}, inplace=True)\n",
    "df[\"Packed\"] = temp[\"Packed\"]"
   ]
  },
  {
   "cell_type": "code",
   "execution_count": 13,
   "id": "2d70a47d",
   "metadata": {},
   "outputs": [
    {
     "name": "stderr",
     "output_type": "stream",
     "text": [
      "C:\\Users\\doram\\AppData\\Local\\Temp\\ipykernel_21740\\1250047160.py:4: SettingWithCopyWarning: \n",
      "A value is trying to be set on a copy of a slice from a DataFrame\n",
      "\n",
      "See the caveats in the documentation: https://pandas.pydata.org/pandas-docs/stable/user_guide/indexing.html#returning-a-view-versus-a-copy\n",
      "  df[\"temp\"][df[\"temp\"] >= 0] = 1\n"
     ]
    }
   ],
   "source": [
    "# Numbered 변수 추가\n",
    "df[\"temp\"] = df[\"Description\"].str.extract(\"([0-9]+)\")\n",
    "df[\"temp\"] = df[\"temp\"].astype(\"float\")\n",
    "df[\"temp\"][df[\"temp\"] >= 0] = 1"
   ]
  },
  {
   "cell_type": "code",
   "execution_count": 14,
   "id": "d154d9ca",
   "metadata": {
    "scrolled": false
   },
   "outputs": [],
   "source": [
    "label_encoder.fit(df[\"temp\"])\n",
    "labels = label_encoder.transform(df[\"temp\"])\n",
    "temp = pd.DataFrame(data=labels, columns=[\"Numbered\"])\n",
    "temp[\"Numbered\"].replace({0:1, 1:0}, inplace=True)\n",
    "df[\"Numbered\"] = temp[\"Numbered\"]"
   ]
  },
  {
   "cell_type": "code",
   "execution_count": 15,
   "id": "5702fa55",
   "metadata": {},
   "outputs": [],
   "source": [
    "# Set 변수 추가\n",
    "df[\"temp\"] = df[\"Description\"].str.extract(\"(SET OF)\")"
   ]
  },
  {
   "cell_type": "code",
   "execution_count": 16,
   "id": "df3d9155",
   "metadata": {},
   "outputs": [],
   "source": [
    "label_encoder.fit(df[\"temp\"])\n",
    "labels = label_encoder.transform(df[\"temp\"])\n",
    "temp = pd.DataFrame(data=labels, columns=[\"Set\"])\n",
    "temp[\"Set\"].replace({0:1, 1:0}, inplace=True)\n",
    "df[\"Set\"] = temp[\"Set\"]"
   ]
  },
  {
   "cell_type": "code",
   "execution_count": 17,
   "id": "beeb8471",
   "metadata": {},
   "outputs": [],
   "source": [
    "# Box 변수 추가\n",
    "df[\"temp\"] = df[\"Description\"].str.extract(\"(BOX OF)\")"
   ]
  },
  {
   "cell_type": "code",
   "execution_count": 18,
   "id": "ce4af505",
   "metadata": {},
   "outputs": [],
   "source": [
    "label_encoder.fit(df[\"temp\"])\n",
    "labels = label_encoder.transform(df[\"temp\"])\n",
    "temp = pd.DataFrame(data=labels, columns=[\"Box\"])\n",
    "temp[\"Box\"].replace({0:1, 1:0}, inplace=True)\n",
    "df[\"Box\"] = temp[\"Box\"]"
   ]
  },
  {
   "cell_type": "code",
   "execution_count": 19,
   "id": "05edf2c5",
   "metadata": {},
   "outputs": [],
   "source": [
    "# Amp 변수 추가\n",
    "df[\"temp\"] = df[\"Description\"].str.extract(\"(&)\")"
   ]
  },
  {
   "cell_type": "code",
   "execution_count": 20,
   "id": "11acdc9f",
   "metadata": {},
   "outputs": [],
   "source": [
    "label_encoder.fit(df[\"temp\"])\n",
    "labels = label_encoder.transform(df[\"temp\"])\n",
    "temp = pd.DataFrame(data=labels, columns=[\"Amp\"])\n",
    "temp[\"Amp\"].replace({0:1, 1:0}, inplace=True)\n",
    "df[\"Amp\"] = temp[\"Amp\"]"
   ]
  },
  {
   "cell_type": "code",
   "execution_count": 21,
   "id": "b164b1a7",
   "metadata": {},
   "outputs": [],
   "source": [
    "# Plus 변수 추가\n",
    "df[\"temp\"] = df[\"Description\"].str.extract(\"(\\+)\")"
   ]
  },
  {
   "cell_type": "code",
   "execution_count": 22,
   "id": "91156fc1",
   "metadata": {},
   "outputs": [],
   "source": [
    "label_encoder.fit(df[\"temp\"])\n",
    "labels = label_encoder.transform(df[\"temp\"])\n",
    "temp = pd.DataFrame(data=labels, columns=[\"Plus\"])\n",
    "temp[\"Plus\"].replace({0:1, 1:0}, inplace=True)\n",
    "df[\"Plus\"] = temp[\"Plus\"]"
   ]
  },
  {
   "cell_type": "markdown",
   "id": "bce86373",
   "metadata": {},
   "source": [
    "### 상품 옵션 관련\n",
    "- col_op : color option 포함 1, o.w. 0\n",
    "> color options\n",
    "> - WHITE, RED, GREEN, PINK, BLUE, ORANGE, YELLOW, PURPLE, BLACK, GREY, IVORY, BROWN\n",
    "> - CHOC(CHOCOLATE), GOLD, SILVER, MINT\n",
    "- des_op : 'design' 포함 1, o.w. 0"
   ]
  },
  {
   "cell_type": "code",
   "execution_count": 23,
   "id": "cd7a060e",
   "metadata": {
    "scrolled": true
   },
   "outputs": [
    {
     "name": "stderr",
     "output_type": "stream",
     "text": [
      "C:\\Users\\doram\\AppData\\Local\\Temp\\ipykernel_21740\\917505287.py:3: SettingWithCopyWarning: \n",
      "A value is trying to be set on a copy of a slice from a DataFrame\n",
      "\n",
      "See the caveats in the documentation: https://pandas.pydata.org/pandas-docs/stable/user_guide/indexing.html#returning-a-view-versus-a-copy\n",
      "  df[\"temp\"][~df[\"temp\"].isna()] = 1\n"
     ]
    }
   ],
   "source": [
    "# Col_op 변수 추가\n",
    "df[\"temp\"] = df[\"Description\"].str.extract(\"(WHITE|RED|GREEN|PINK|BLUE|ORANGE|YELLOW|PURPLE|BLACK|GREY|IVORY|BROWN|CHOC|GOLD|SILVER|MINT)\")\n",
    "df[\"temp\"][~df[\"temp\"].isna()] = 1"
   ]
  },
  {
   "cell_type": "code",
   "execution_count": 24,
   "id": "bb56a9f4",
   "metadata": {},
   "outputs": [],
   "source": [
    "label_encoder.fit(df[\"temp\"])\n",
    "labels = label_encoder.transform(df[\"temp\"])\n",
    "temp = pd.DataFrame(data=labels, columns=[\"Col_op\"])\n",
    "temp[\"Col_op\"].replace({0:1, 1:0}, inplace=True)\n",
    "df[\"Col_op\"] = temp[\"Col_op\"]"
   ]
  },
  {
   "cell_type": "code",
   "execution_count": 25,
   "id": "2cface7d",
   "metadata": {},
   "outputs": [],
   "source": [
    "# Des_op 변수 추가\n",
    "df[\"temp\"] = df[\"Description\"].str.extract(\"(DESIGN)\")"
   ]
  },
  {
   "cell_type": "code",
   "execution_count": 26,
   "id": "785ab8a7",
   "metadata": {},
   "outputs": [],
   "source": [
    "label_encoder.fit(df[\"temp\"])\n",
    "labels = label_encoder.transform(df[\"temp\"])\n",
    "temp = pd.DataFrame(data=labels, columns=[\"Des_op\"])\n",
    "temp[\"Des_op\"].replace({0:1, 1:0}, inplace=True)\n",
    "df[\"Des_op\"] = temp[\"Des_op\"]"
   ]
  },
  {
   "cell_type": "markdown",
   "id": "32d95205",
   "metadata": {},
   "source": [
    "### 상품 가격 관련\n",
    "- hprice : price가 일정 수준(5) 이상일 때 1, o.w. 0\n",
    "- lprice : price가 일정 수준(1) 미만일 때 (음수 제외) 1, o.w. 0"
   ]
  },
  {
   "cell_type": "code",
   "execution_count": 27,
   "id": "19c194aa",
   "metadata": {
    "scrolled": false
   },
   "outputs": [
    {
     "name": "stderr",
     "output_type": "stream",
     "text": [
      "C:\\Users\\doram\\AppData\\Local\\Temp\\ipykernel_21740\\3481998269.py:5: SettingWithCopyWarning: \n",
      "A value is trying to be set on a copy of a slice from a DataFrame\n",
      "\n",
      "See the caveats in the documentation: https://pandas.pydata.org/pandas-docs/stable/user_guide/indexing.html#returning-a-view-versus-a-copy\n",
      "  df[\"temp\"][~df[\"temp\"].isna()] = 1\n"
     ]
    }
   ],
   "source": [
    "# Hprice 변수 추가\n",
    "strprice = df[\"UnitPrice\"].astype(\"str\")\n",
    "df[\"temp\"] = strprice.str.extract(\"([5-9]\\.|[1-9]\\d+\\.)\")\n",
    "df[\"temp\"] = df[\"temp\"].astype(\"float\")\n",
    "df[\"temp\"][~df[\"temp\"].isna()] = 1"
   ]
  },
  {
   "cell_type": "code",
   "execution_count": 28,
   "id": "7a8a713a",
   "metadata": {
    "scrolled": true
   },
   "outputs": [],
   "source": [
    "label_encoder.fit(df[\"temp\"])\n",
    "labels = label_encoder.transform(df[\"temp\"])\n",
    "temp = pd.DataFrame(data=labels, columns=[\"Hprice\"])\n",
    "temp[\"Hprice\"].replace({0:1, 1:0}, inplace=True)\n",
    "df[\"Hprice\"] = temp[\"Hprice\"]"
   ]
  },
  {
   "cell_type": "code",
   "execution_count": 29,
   "id": "072a0ea6",
   "metadata": {},
   "outputs": [
    {
     "name": "stderr",
     "output_type": "stream",
     "text": [
      "C:\\Users\\doram\\AppData\\Local\\Temp\\ipykernel_21740\\1926963694.py:5: SettingWithCopyWarning: \n",
      "A value is trying to be set on a copy of a slice from a DataFrame\n",
      "\n",
      "See the caveats in the documentation: https://pandas.pydata.org/pandas-docs/stable/user_guide/indexing.html#returning-a-view-versus-a-copy\n",
      "  df[\"temp\"][~df[\"temp\"].isna()] = 1\n"
     ]
    }
   ],
   "source": [
    "# Lprice 변수 추가\n",
    "strprice = df[\"UnitPrice\"].astype(\"str\")\n",
    "df[\"temp\"] = strprice.str.extract(\"(0\\.)\")\n",
    "df[\"temp\"] = df[\"temp\"].astype(\"float\")\n",
    "df[\"temp\"][~df[\"temp\"].isna()] = 1"
   ]
  },
  {
   "cell_type": "code",
   "execution_count": 30,
   "id": "22da5b4d",
   "metadata": {},
   "outputs": [],
   "source": [
    "label_encoder.fit(df[\"temp\"])\n",
    "labels = label_encoder.transform(df[\"temp\"])\n",
    "temp = pd.DataFrame(data=labels, columns=[\"Lprice\"])\n",
    "temp[\"Lprice\"].replace({0:1, 1:0}, inplace=True)\n",
    "df[\"Lprice\"] = temp[\"Lprice\"]"
   ]
  },
  {
   "cell_type": "markdown",
   "id": "ec460bc8",
   "metadata": {},
   "source": [
    "### 상품 개수 관련\n",
    "- hquant : quantity가 일정 수준(10) 이상일 때 1, o.w. 0\n",
    "- removed : quantity가 음수일 때 1, o.w. 0"
   ]
  },
  {
   "cell_type": "code",
   "execution_count": 31,
   "id": "fc7571b1",
   "metadata": {},
   "outputs": [
    {
     "name": "stderr",
     "output_type": "stream",
     "text": [
      "C:\\Users\\doram\\AppData\\Local\\Temp\\ipykernel_21740\\3710890574.py:5: SettingWithCopyWarning: \n",
      "A value is trying to be set on a copy of a slice from a DataFrame\n",
      "\n",
      "See the caveats in the documentation: https://pandas.pydata.org/pandas-docs/stable/user_guide/indexing.html#returning-a-view-versus-a-copy\n",
      "  df[\"temp\"][~df[\"temp\"].isna()] = 1\n"
     ]
    }
   ],
   "source": [
    "# Hquant 변수 추가\n",
    "strquant = df[\"Quantity\"].astype(\"str\")\n",
    "df[\"temp\"] = strquant.str.extract(\"([1-9]\\d+)\")\n",
    "df[\"temp\"] = df[\"temp\"].astype(\"float\")\n",
    "df[\"temp\"][~df[\"temp\"].isna()] = 1"
   ]
  },
  {
   "cell_type": "code",
   "execution_count": 32,
   "id": "3a6d4568",
   "metadata": {},
   "outputs": [],
   "source": [
    "label_encoder.fit(df[\"temp\"])\n",
    "labels = label_encoder.transform(df[\"temp\"])\n",
    "temp = pd.DataFrame(data=labels, columns=[\"Hquant\"])\n",
    "temp[\"Hquant\"].replace({0:1, 1:0}, inplace=True)\n",
    "df[\"Hquant\"] = temp[\"Hquant\"]"
   ]
  },
  {
   "cell_type": "code",
   "execution_count": 33,
   "id": "b9b84c5a",
   "metadata": {},
   "outputs": [
    {
     "name": "stderr",
     "output_type": "stream",
     "text": [
      "C:\\Users\\doram\\AppData\\Local\\Temp\\ipykernel_21740\\1120017883.py:5: SettingWithCopyWarning: \n",
      "A value is trying to be set on a copy of a slice from a DataFrame\n",
      "\n",
      "See the caveats in the documentation: https://pandas.pydata.org/pandas-docs/stable/user_guide/indexing.html#returning-a-view-versus-a-copy\n",
      "  df[\"temp\"][~df[\"temp\"].isna()] = 1\n"
     ]
    }
   ],
   "source": [
    "# Removed 변수 추가\n",
    "strquant = df[\"Quantity\"].astype(\"str\")\n",
    "df[\"temp\"] = strquant.str.extract(\"(\\-\\d+)\")\n",
    "df[\"temp\"] = df[\"temp\"].astype(\"float\")\n",
    "df[\"temp\"][~df[\"temp\"].isna()] = 1"
   ]
  },
  {
   "cell_type": "code",
   "execution_count": 34,
   "id": "54c4d8e1",
   "metadata": {},
   "outputs": [],
   "source": [
    "label_encoder.fit(df[\"temp\"])\n",
    "labels = label_encoder.transform(df[\"temp\"])\n",
    "temp = pd.DataFrame(data=labels, columns=[\"Removed\"])\n",
    "temp[\"Removed\"].replace({0:1, 1:0}, inplace=True)\n",
    "df[\"Removed\"] = temp[\"Removed\"]"
   ]
  },
  {
   "cell_type": "markdown",
   "id": "83d03126",
   "metadata": {},
   "source": [
    "### 시계열 데이터 관련\n",
    "- quarter : 분기(Q1~4)에 따라 원-핫 인코딩\n",
    "- year : 연도별 원-핫 인코딩\n",
    "- am : 오전이면 1, o.w. 0"
   ]
  },
  {
   "cell_type": "code",
   "execution_count": 35,
   "id": "cb182509",
   "metadata": {},
   "outputs": [],
   "source": [
    "# Quarter 변수 추가 후 원-핫 인코딩\n",
    "df[\"InvoiceDate\"] = pd.to_datetime(df[\"InvoiceDate\"])\n",
    "df[\"Quarter\"] = df[\"InvoiceDate\"].dt.quarter\n",
    "df[\"Quarter\"].replace({1:\"Q1\", 2:\"Q2\", 3:\"Q3\", 4:\"Q4\"}, inplace=True)\n",
    "\n",
    "oh_q = pd.get_dummies(df[\"Quarter\"])\n",
    "df = pd.concat([df, oh_q], axis=1)\n",
    "df.drop(columns=[\"Quarter\"], inplace=True)"
   ]
  },
  {
   "cell_type": "code",
   "execution_count": 36,
   "id": "79a8b660",
   "metadata": {
    "scrolled": false
   },
   "outputs": [],
   "source": [
    "# Year 변수 추가 후 원-핫 인코딩\n",
    "df[\"temp\"] = df[\"InvoiceDate\"].dt.year\n",
    "oh_y = pd.get_dummies(df[\"temp\"])\n",
    "df = pd.concat([df, oh_y], axis=1)"
   ]
  },
  {
   "cell_type": "code",
   "execution_count": 44,
   "id": "d543c85b",
   "metadata": {},
   "outputs": [
    {
     "name": "stderr",
     "output_type": "stream",
     "text": [
      "C:\\Users\\doram\\AppData\\Local\\Temp\\ipykernel_21740\\2516896084.py:3: SettingWithCopyWarning: \n",
      "A value is trying to be set on a copy of a slice from a DataFrame\n",
      "\n",
      "See the caveats in the documentation: https://pandas.pydata.org/pandas-docs/stable/user_guide/indexing.html#returning-a-view-versus-a-copy\n",
      "  df[\"temp\"][df[\"temp\"] >= 0] = np.nan\n"
     ]
    }
   ],
   "source": [
    "# Am 변수 추가\n",
    "df[\"temp\"] = df[\"InvoiceDate\"].dt.hour - 12\n",
    "df[\"temp\"][df[\"temp\"] >= 0] = np.nan\n",
    "df[\"temp\"][df[\"temp\"] < 0] = 1"
   ]
  },
  {
   "cell_type": "code",
   "execution_count": 46,
   "id": "7d7c80e2",
   "metadata": {},
   "outputs": [],
   "source": [
    "label_encoder.fit(df[\"temp\"])\n",
    "labels = label_encoder.transform(df[\"temp\"])\n",
    "temp = pd.DataFrame(data=labels, columns=[\"Am\"])\n",
    "temp[\"Am\"].replace({0:1, 1:0}, inplace=True)\n",
    "df[\"Am\"] = temp[\"Am\"]"
   ]
  },
  {
   "cell_type": "markdown",
   "id": "25f629d7",
   "metadata": {},
   "source": [
    "### 국가 관련\n",
    "- country : 국가에 따라 원-핫 인코딩"
   ]
  },
  {
   "cell_type": "code",
   "execution_count": 58,
   "id": "f462a964",
   "metadata": {},
   "outputs": [],
   "source": [
    "# Country 변수로 원-핫 인코딩\n",
    "oh_c = pd.get_dummies(df[\"Country\"])\n",
    "df = pd.concat([df, oh_c], axis=1)"
   ]
  },
  {
   "cell_type": "markdown",
   "id": "31770627",
   "metadata": {},
   "source": [
    "### y값 예측 모델링"
   ]
  },
  {
   "cell_type": "code",
   "execution_count": 69,
   "id": "dc6af3c7",
   "metadata": {},
   "outputs": [],
   "source": [
    "# y 변수 (HAND WARMER 포함 여부) 추가\n",
    "df[\"temp\"] = df[\"Description\"].str.extract(\"(HAND WARMER)\")"
   ]
  },
  {
   "cell_type": "code",
   "execution_count": 71,
   "id": "3168e8a3",
   "metadata": {},
   "outputs": [],
   "source": [
    "label_encoder.fit(df[\"temp\"])\n",
    "labels = label_encoder.transform(df[\"temp\"])\n",
    "temp = pd.DataFrame(data=labels, columns=[\"Y\"])\n",
    "temp[\"Y\"].replace({0:1, 1:0}, inplace=True)\n",
    "df[\"Y\"] = temp[\"Y\"]"
   ]
  },
  {
   "cell_type": "code",
   "execution_count": 74,
   "id": "1198bd16",
   "metadata": {},
   "outputs": [],
   "source": [
    "# 필요 없는 열 제거\n",
    "df.drop(columns=[\"index\",\"temp\"], inplace=True)"
   ]
  },
  {
   "cell_type": "code",
   "execution_count": 98,
   "id": "a451b3d0",
   "metadata": {},
   "outputs": [],
   "source": [
    "df1 = df.select_dtypes(include=[np.number])"
   ]
  },
  {
   "cell_type": "code",
   "execution_count": 99,
   "id": "8add081d",
   "metadata": {},
   "outputs": [],
   "source": [
    "df1 = df1.astype(\"int\")"
   ]
  },
  {
   "cell_type": "code",
   "execution_count": 100,
   "id": "9d725fca",
   "metadata": {
    "scrolled": false
   },
   "outputs": [
    {
     "data": {
      "text/html": [
       "<div>\n",
       "<style scoped>\n",
       "    .dataframe tbody tr th:only-of-type {\n",
       "        vertical-align: middle;\n",
       "    }\n",
       "\n",
       "    .dataframe tbody tr th {\n",
       "        vertical-align: top;\n",
       "    }\n",
       "\n",
       "    .dataframe thead th {\n",
       "        text-align: right;\n",
       "    }\n",
       "</style>\n",
       "<table border=\"1\" class=\"dataframe\">\n",
       "  <thead>\n",
       "    <tr style=\"text-align: right;\">\n",
       "      <th></th>\n",
       "      <th>Quantity</th>\n",
       "      <th>UnitPrice</th>\n",
       "      <th>Packed</th>\n",
       "      <th>Numbered</th>\n",
       "      <th>Set</th>\n",
       "      <th>Box</th>\n",
       "      <th>Amp</th>\n",
       "      <th>Plus</th>\n",
       "      <th>Col_op</th>\n",
       "      <th>Des_op</th>\n",
       "      <th>...</th>\n",
       "      <th>Saudi Arabia</th>\n",
       "      <th>Singapore</th>\n",
       "      <th>Spain</th>\n",
       "      <th>Sweden</th>\n",
       "      <th>Switzerland</th>\n",
       "      <th>USA</th>\n",
       "      <th>United Arab Emirates</th>\n",
       "      <th>United Kingdom</th>\n",
       "      <th>Unspecified</th>\n",
       "      <th>Y</th>\n",
       "    </tr>\n",
       "  </thead>\n",
       "  <tbody>\n",
       "    <tr>\n",
       "      <th>0</th>\n",
       "      <td>6</td>\n",
       "      <td>2</td>\n",
       "      <td>0</td>\n",
       "      <td>0</td>\n",
       "      <td>0</td>\n",
       "      <td>0</td>\n",
       "      <td>0</td>\n",
       "      <td>0</td>\n",
       "      <td>1</td>\n",
       "      <td>0</td>\n",
       "      <td>...</td>\n",
       "      <td>0</td>\n",
       "      <td>0</td>\n",
       "      <td>0</td>\n",
       "      <td>0</td>\n",
       "      <td>0</td>\n",
       "      <td>0</td>\n",
       "      <td>0</td>\n",
       "      <td>1</td>\n",
       "      <td>0</td>\n",
       "      <td>0</td>\n",
       "    </tr>\n",
       "    <tr>\n",
       "      <th>1</th>\n",
       "      <td>6</td>\n",
       "      <td>3</td>\n",
       "      <td>0</td>\n",
       "      <td>0</td>\n",
       "      <td>0</td>\n",
       "      <td>0</td>\n",
       "      <td>0</td>\n",
       "      <td>0</td>\n",
       "      <td>1</td>\n",
       "      <td>0</td>\n",
       "      <td>...</td>\n",
       "      <td>0</td>\n",
       "      <td>0</td>\n",
       "      <td>0</td>\n",
       "      <td>0</td>\n",
       "      <td>0</td>\n",
       "      <td>0</td>\n",
       "      <td>0</td>\n",
       "      <td>1</td>\n",
       "      <td>0</td>\n",
       "      <td>0</td>\n",
       "    </tr>\n",
       "    <tr>\n",
       "      <th>2</th>\n",
       "      <td>8</td>\n",
       "      <td>2</td>\n",
       "      <td>0</td>\n",
       "      <td>0</td>\n",
       "      <td>0</td>\n",
       "      <td>0</td>\n",
       "      <td>0</td>\n",
       "      <td>0</td>\n",
       "      <td>0</td>\n",
       "      <td>0</td>\n",
       "      <td>...</td>\n",
       "      <td>0</td>\n",
       "      <td>0</td>\n",
       "      <td>0</td>\n",
       "      <td>0</td>\n",
       "      <td>0</td>\n",
       "      <td>0</td>\n",
       "      <td>0</td>\n",
       "      <td>1</td>\n",
       "      <td>0</td>\n",
       "      <td>0</td>\n",
       "    </tr>\n",
       "    <tr>\n",
       "      <th>3</th>\n",
       "      <td>6</td>\n",
       "      <td>3</td>\n",
       "      <td>0</td>\n",
       "      <td>0</td>\n",
       "      <td>0</td>\n",
       "      <td>0</td>\n",
       "      <td>0</td>\n",
       "      <td>0</td>\n",
       "      <td>0</td>\n",
       "      <td>0</td>\n",
       "      <td>...</td>\n",
       "      <td>0</td>\n",
       "      <td>0</td>\n",
       "      <td>0</td>\n",
       "      <td>0</td>\n",
       "      <td>0</td>\n",
       "      <td>0</td>\n",
       "      <td>0</td>\n",
       "      <td>1</td>\n",
       "      <td>0</td>\n",
       "      <td>0</td>\n",
       "    </tr>\n",
       "    <tr>\n",
       "      <th>4</th>\n",
       "      <td>6</td>\n",
       "      <td>3</td>\n",
       "      <td>0</td>\n",
       "      <td>0</td>\n",
       "      <td>0</td>\n",
       "      <td>0</td>\n",
       "      <td>0</td>\n",
       "      <td>0</td>\n",
       "      <td>1</td>\n",
       "      <td>0</td>\n",
       "      <td>...</td>\n",
       "      <td>0</td>\n",
       "      <td>0</td>\n",
       "      <td>0</td>\n",
       "      <td>0</td>\n",
       "      <td>0</td>\n",
       "      <td>0</td>\n",
       "      <td>0</td>\n",
       "      <td>1</td>\n",
       "      <td>0</td>\n",
       "      <td>0</td>\n",
       "    </tr>\n",
       "    <tr>\n",
       "      <th>...</th>\n",
       "      <td>...</td>\n",
       "      <td>...</td>\n",
       "      <td>...</td>\n",
       "      <td>...</td>\n",
       "      <td>...</td>\n",
       "      <td>...</td>\n",
       "      <td>...</td>\n",
       "      <td>...</td>\n",
       "      <td>...</td>\n",
       "      <td>...</td>\n",
       "      <td>...</td>\n",
       "      <td>...</td>\n",
       "      <td>...</td>\n",
       "      <td>...</td>\n",
       "      <td>...</td>\n",
       "      <td>...</td>\n",
       "      <td>...</td>\n",
       "      <td>...</td>\n",
       "      <td>...</td>\n",
       "      <td>...</td>\n",
       "      <td>...</td>\n",
       "    </tr>\n",
       "    <tr>\n",
       "      <th>540450</th>\n",
       "      <td>12</td>\n",
       "      <td>0</td>\n",
       "      <td>1</td>\n",
       "      <td>1</td>\n",
       "      <td>0</td>\n",
       "      <td>0</td>\n",
       "      <td>0</td>\n",
       "      <td>0</td>\n",
       "      <td>0</td>\n",
       "      <td>0</td>\n",
       "      <td>...</td>\n",
       "      <td>0</td>\n",
       "      <td>0</td>\n",
       "      <td>0</td>\n",
       "      <td>0</td>\n",
       "      <td>0</td>\n",
       "      <td>0</td>\n",
       "      <td>0</td>\n",
       "      <td>0</td>\n",
       "      <td>0</td>\n",
       "      <td>0</td>\n",
       "    </tr>\n",
       "    <tr>\n",
       "      <th>540451</th>\n",
       "      <td>6</td>\n",
       "      <td>2</td>\n",
       "      <td>0</td>\n",
       "      <td>0</td>\n",
       "      <td>0</td>\n",
       "      <td>0</td>\n",
       "      <td>0</td>\n",
       "      <td>0</td>\n",
       "      <td>0</td>\n",
       "      <td>0</td>\n",
       "      <td>...</td>\n",
       "      <td>0</td>\n",
       "      <td>0</td>\n",
       "      <td>0</td>\n",
       "      <td>0</td>\n",
       "      <td>0</td>\n",
       "      <td>0</td>\n",
       "      <td>0</td>\n",
       "      <td>0</td>\n",
       "      <td>0</td>\n",
       "      <td>0</td>\n",
       "    </tr>\n",
       "    <tr>\n",
       "      <th>540452</th>\n",
       "      <td>4</td>\n",
       "      <td>4</td>\n",
       "      <td>0</td>\n",
       "      <td>0</td>\n",
       "      <td>0</td>\n",
       "      <td>0</td>\n",
       "      <td>0</td>\n",
       "      <td>0</td>\n",
       "      <td>0</td>\n",
       "      <td>0</td>\n",
       "      <td>...</td>\n",
       "      <td>0</td>\n",
       "      <td>0</td>\n",
       "      <td>0</td>\n",
       "      <td>0</td>\n",
       "      <td>0</td>\n",
       "      <td>0</td>\n",
       "      <td>0</td>\n",
       "      <td>0</td>\n",
       "      <td>0</td>\n",
       "      <td>0</td>\n",
       "    </tr>\n",
       "    <tr>\n",
       "      <th>540453</th>\n",
       "      <td>4</td>\n",
       "      <td>4</td>\n",
       "      <td>0</td>\n",
       "      <td>0</td>\n",
       "      <td>0</td>\n",
       "      <td>0</td>\n",
       "      <td>0</td>\n",
       "      <td>0</td>\n",
       "      <td>0</td>\n",
       "      <td>0</td>\n",
       "      <td>...</td>\n",
       "      <td>0</td>\n",
       "      <td>0</td>\n",
       "      <td>0</td>\n",
       "      <td>0</td>\n",
       "      <td>0</td>\n",
       "      <td>0</td>\n",
       "      <td>0</td>\n",
       "      <td>0</td>\n",
       "      <td>0</td>\n",
       "      <td>0</td>\n",
       "    </tr>\n",
       "    <tr>\n",
       "      <th>540454</th>\n",
       "      <td>3</td>\n",
       "      <td>4</td>\n",
       "      <td>0</td>\n",
       "      <td>1</td>\n",
       "      <td>0</td>\n",
       "      <td>0</td>\n",
       "      <td>0</td>\n",
       "      <td>0</td>\n",
       "      <td>0</td>\n",
       "      <td>0</td>\n",
       "      <td>...</td>\n",
       "      <td>0</td>\n",
       "      <td>0</td>\n",
       "      <td>0</td>\n",
       "      <td>0</td>\n",
       "      <td>0</td>\n",
       "      <td>0</td>\n",
       "      <td>0</td>\n",
       "      <td>0</td>\n",
       "      <td>0</td>\n",
       "      <td>0</td>\n",
       "    </tr>\n",
       "  </tbody>\n",
       "</table>\n",
       "<p>540455 rows × 60 columns</p>\n",
       "</div>"
      ],
      "text/plain": [
       "        Quantity  UnitPrice  Packed  Numbered  Set  Box  Amp  Plus  Col_op  \\\n",
       "0              6          2       0         0    0    0    0     0       1   \n",
       "1              6          3       0         0    0    0    0     0       1   \n",
       "2              8          2       0         0    0    0    0     0       0   \n",
       "3              6          3       0         0    0    0    0     0       0   \n",
       "4              6          3       0         0    0    0    0     0       1   \n",
       "...          ...        ...     ...       ...  ...  ...  ...   ...     ...   \n",
       "540450        12          0       1         1    0    0    0     0       0   \n",
       "540451         6          2       0         0    0    0    0     0       0   \n",
       "540452         4          4       0         0    0    0    0     0       0   \n",
       "540453         4          4       0         0    0    0    0     0       0   \n",
       "540454         3          4       0         1    0    0    0     0       0   \n",
       "\n",
       "        Des_op  ...  Saudi Arabia  Singapore  Spain  Sweden  Switzerland  USA  \\\n",
       "0            0  ...             0          0      0       0            0    0   \n",
       "1            0  ...             0          0      0       0            0    0   \n",
       "2            0  ...             0          0      0       0            0    0   \n",
       "3            0  ...             0          0      0       0            0    0   \n",
       "4            0  ...             0          0      0       0            0    0   \n",
       "...        ...  ...           ...        ...    ...     ...          ...  ...   \n",
       "540450       0  ...             0          0      0       0            0    0   \n",
       "540451       0  ...             0          0      0       0            0    0   \n",
       "540452       0  ...             0          0      0       0            0    0   \n",
       "540453       0  ...             0          0      0       0            0    0   \n",
       "540454       0  ...             0          0      0       0            0    0   \n",
       "\n",
       "        United Arab Emirates  United Kingdom  Unspecified  Y  \n",
       "0                          0               1            0  0  \n",
       "1                          0               1            0  0  \n",
       "2                          0               1            0  0  \n",
       "3                          0               1            0  0  \n",
       "4                          0               1            0  0  \n",
       "...                      ...             ...          ... ..  \n",
       "540450                     0               0            0  0  \n",
       "540451                     0               0            0  0  \n",
       "540452                     0               0            0  0  \n",
       "540453                     0               0            0  0  \n",
       "540454                     0               0            0  0  \n",
       "\n",
       "[540455 rows x 60 columns]"
      ]
     },
     "execution_count": 100,
     "metadata": {},
     "output_type": "execute_result"
    }
   ],
   "source": [
    "df1"
   ]
  },
  {
   "cell_type": "code",
   "execution_count": 101,
   "id": "eaa18a9b",
   "metadata": {},
   "outputs": [
    {
     "data": {
      "text/plain": [
       "0"
      ]
     },
     "execution_count": 101,
     "metadata": {},
     "output_type": "execute_result"
    }
   ],
   "source": [
    "df1.isna().sum().sum()"
   ]
  },
  {
   "cell_type": "code",
   "execution_count": 102,
   "id": "2503b9cb",
   "metadata": {},
   "outputs": [],
   "source": [
    "y_df1 = df1['Y']\n",
    "X_df1 = df1.drop('Y',axis=1)"
   ]
  },
  {
   "cell_type": "code",
   "execution_count": 146,
   "id": "b354885f",
   "metadata": {},
   "outputs": [],
   "source": [
    "from sklearn.model_selection import train_test_split\n",
    "X_train, X_test, y_train, y_test = train_test_split(X_df1, y_df1, test_size = 0.2)"
   ]
  },
  {
   "cell_type": "code",
   "execution_count": 147,
   "id": "8b47b350",
   "metadata": {},
   "outputs": [],
   "source": [
    "from sklearn.tree import DecisionTreeClassifier\n",
    "from sklearn.ensemble import RandomForestClassifier\n",
    "from sklearn.linear_model import LogisticRegression\n",
    "from sklearn.metrics import accuracy_score"
   ]
  },
  {
   "cell_type": "code",
   "execution_count": 153,
   "id": "35fe5f5d",
   "metadata": {},
   "outputs": [],
   "source": [
    "dt_clf = DecisionTreeClassifier(random_state=111)\n",
    "rf_clf = RandomForestClassifier(random_state=111)\n",
    "lr_clf = LogisticRegression(solver ='liblinear', max_iter=1000)"
   ]
  },
  {
   "cell_type": "code",
   "execution_count": 154,
   "id": "78d483cb",
   "metadata": {
    "scrolled": false
   },
   "outputs": [
    {
     "name": "stdout",
     "output_type": "stream",
     "text": [
      "정확도:0.99480068\n",
      "정확도:0.99481918\n",
      "정확도:0.99281161\n"
     ]
    }
   ],
   "source": [
    "dt_clf.fit(X_train.values, y_train)\n",
    "dt_pred = dt_clf.predict(X_test.values)\n",
    "print('정확도:{0:.8f}'.format(accuracy_score(y_test, dt_pred)))\n",
    "\n",
    "rf_clf.fit(X_train.values, y_train)\n",
    "rf_pred = rf_clf.predict(X_test.values)\n",
    "print('정확도:{0:.8f}'.format(accuracy_score(y_test, rf_pred)))\n",
    "\n",
    "lr_clf.fit(X_train.values, y_train)\n",
    "lr_pred = lr_clf.predict(X_test.values)\n",
    "print('정확도:{0:.8f}'.format(accuracy_score(y_test, lr_pred)))"
   ]
  },
  {
   "cell_type": "code",
   "execution_count": null,
   "id": "1c6a9128",
   "metadata": {},
   "outputs": [],
   "source": []
  }
 ],
 "metadata": {
  "kernelspec": {
   "display_name": "Python 3 (ipykernel)",
   "language": "python",
   "name": "python3"
  },
  "language_info": {
   "codemirror_mode": {
    "name": "ipython",
    "version": 3
   },
   "file_extension": ".py",
   "mimetype": "text/x-python",
   "name": "python",
   "nbconvert_exporter": "python",
   "pygments_lexer": "ipython3",
   "version": "3.9.12"
  }
 },
 "nbformat": 4,
 "nbformat_minor": 5
}
