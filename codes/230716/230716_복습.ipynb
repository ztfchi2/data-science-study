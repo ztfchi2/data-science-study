{
 "cells": [
  {
   "cell_type": "markdown",
   "id": "39ba7756",
   "metadata": {},
   "source": [
    "### 분류\n",
    "- 회귀 (예측) <- 전 시간까지 쭉 배워왔던 것\n",
    "- 분류의 대표적인 것을 배울 예정\n",
    "- 로지스틱 회귀\n",
    "\n",
    "\n",
    "- 분류는 범주형 값에 대해서 예측하는 경우 (흔히 말하는 0, 1 이진 분류, 다중 분류도 될 수 있음)\n",
    "- 예측할 값이 회귀와는 다르게 연속적이지가 않다.\n",
    "- 선형회귀와 다른 점은 시그모이드 함수 사용해서 확률에 따라 분류를 하는 것"
   ]
  },
  {
   "cell_type": "code",
   "execution_count": 1,
   "id": "2d43e88b",
   "metadata": {},
   "outputs": [],
   "source": [
    "import pandas as pd\n",
    "import numpy as np\n",
    "import matplotlib.pyplot as plt"
   ]
  },
  {
   "cell_type": "markdown",
   "id": "e5287daf",
   "metadata": {},
   "source": [
    "- 시그모이드 함수\n",
    "\n",
    "\n",
    "- 왜 로지스틱 회귀는? 시그모이드 함수를 사용할까?\n",
    "- 선형회귀 기준으로 y = wx + b\n",
    "- 하나의 직선으로 가장 잘 나타낼 수 있는 회귀식\n",
    "- 0, 1 이진 분류를 예측한다."
   ]
  },
  {
   "cell_type": "markdown",
   "id": "277e91ef",
   "metadata": {},
   "source": [
    "- (x,y)\n",
    "- (10, 1), (100, 1), (-100, 1), (-10, 1)\n",
    "\n",
    "\n",
    "- 1, 0 이라는 분류를 이용할 때 다양한 값들이 추가되면서 기준점이 바뀐다.\n",
    "- 시그모이드 함수 -> 어떤 식으로 구성되어 있는지 확인해야 한다.\n",
    "- (확률로 표현할 수 있다.)"
   ]
  },
  {
   "cell_type": "markdown",
   "id": "666084dc",
   "metadata": {},
   "source": [
    "- 0,1 치역 -> 성공 확률로 해석하는 것\n",
    "- 시그모이드 함수 오즈비로 odds ratio\n",
    "- 오즈비라는 것이 무엇인가?\n",
    "- 오즈비 : 성공과 실패에 대한 확률의 비\n",
    "- odds(p) = p/(1-p)\n",
    "- p : 성공 확률, 1-p : 실패 확률\n",
    "- log(odds(p)) 정리 -> 시그모이드 수식이 나옴\n",
    "- 0, 1 밖에 안 되는 확률의 범위를 실수 전체로 확장하기 위해서\n",
    "\n",
    "\n",
    "- x 값이 커지면 1로 근사하게 되고\n",
    "- x 값이 작아지면 0에 근사하게 된다.\n",
    "- x 가 0일 때는 0.5"
   ]
  },
  {
   "cell_type": "code",
   "execution_count": 2,
   "id": "08294a79",
   "metadata": {},
   "outputs": [
    {
     "data": {
      "image/png": "[encoded data removed]",
      "text/plain": [
       "<Figure size 432x288 with 1 Axes>"
      ]
     },
     "metadata": {
      "needs_background": "light"
     },
     "output_type": "display_data"
    }
   ],
   "source": [
    "def sigmoid(x):\n",
    "    return 1 / (1 + np.exp(-x))\n",
    "\n",
    "x = np.arange(-5.0, 5.0, 0.1)\n",
    "y = sigmoid(x)\n",
    "plt.plot(x,y)\n",
    "plt.ylim(-0.1, 1.1)\n",
    "plt.show()"
   ]
  },
  {
   "cell_type": "code",
   "execution_count": 3,
   "id": "9a976444",
   "metadata": {},
   "outputs": [],
   "source": [
    "from sklearn.datasets import load_breast_cancer\n",
    "from sklearn.linear_model import LogisticRegression\n",
    "\n",
    "cancer = load_breast_cancer()"
   ]
  },
  {
   "cell_type": "code",
   "execution_count": 5,
   "id": "5428e9a8",
   "metadata": {
    "scrolled": true
   },
   "outputs": [
    {
     "data": {
      "text/plain": [
       "{'data': array([[1.799e+01, 1.038e+01, 1.228e+02, ..., 2.654e-01, 4.601e-01,\n",
       "         1.189e-01],\n",
       "        [2.057e+01, 1.777e+01, 1.329e+02, ..., 1.860e-01, 2.750e-01,\n",
       "         8.902e-02],\n",
       "        [1.969e+01, 2.125e+01, 1.300e+02, ..., 2.430e-01, 3.613e-01,\n",
       "         8.758e-02],\n",
       "        ...,\n",
       "        [1.660e+01, 2.808e+01, 1.083e+02, ..., 1.418e-01, 2.218e-01,\n",
       "         7.820e-02],\n",
       "        [2.060e+01, 2.933e+01, 1.401e+02, ..., 2.650e-01, 4.087e-01,\n",
       "         1.240e-01],\n",
       "        [7.760e+00, 2.454e+01, 4.792e+01, ..., 0.000e+00, 2.871e-01,\n",
       "         7.039e-02]]),\n",
       " 'target': array([0, 0, 0, 0, 0, 0, 0, 0, 0, 0, 0, 0, 0, 0, 0, 0, 0, 0, 0, 1, 1, 1,\n",
       "        0, 0, 0, 0, 0, 0, 0, 0, 0, 0, 0, 0, 0, 0, 0, 1, 0, 0, 0, 0, 0, 0,\n",
       "        0, 0, 1, 0, 1, 1, 1, 1, 1, 0, 0, 1, 0, 0, 1, 1, 1, 1, 0, 1, 0, 0,\n",
       "        1, 1, 1, 1, 0, 1, 0, 0, 1, 0, 1, 0, 0, 1, 1, 1, 0, 0, 1, 0, 0, 0,\n",
       "        1, 1, 1, 0, 1, 1, 0, 0, 1, 1, 1, 0, 0, 1, 1, 1, 1, 0, 1, 1, 0, 1,\n",
       "        1, 1, 1, 1, 1, 1, 1, 0, 0, 0, 1, 0, 0, 1, 1, 1, 0, 0, 1, 0, 1, 0,\n",
       "        0, 1, 0, 0, 1, 1, 0, 1, 1, 0, 1, 1, 1, 1, 0, 1, 1, 1, 1, 1, 1, 1,\n",
       "        1, 1, 0, 1, 1, 1, 1, 0, 0, 1, 0, 1, 1, 0, 0, 1, 1, 0, 0, 1, 1, 1,\n",
       "        1, 0, 1, 1, 0, 0, 0, 1, 0, 1, 0, 1, 1, 1, 0, 1, 1, 0, 0, 1, 0, 0,\n",
       "        0, 0, 1, 0, 0, 0, 1, 0, 1, 0, 1, 1, 0, 1, 0, 0, 0, 0, 1, 1, 0, 0,\n",
       "        1, 1, 1, 0, 1, 1, 1, 1, 1, 0, 0, 1, 1, 0, 1, 1, 0, 0, 1, 0, 1, 1,\n",
       "        1, 1, 0, 1, 1, 1, 1, 1, 0, 1, 0, 0, 0, 0, 0, 0, 0, 0, 0, 0, 0, 0,\n",
       "        0, 0, 1, 1, 1, 1, 1, 1, 0, 1, 0, 1, 1, 0, 1, 1, 0, 1, 0, 0, 1, 1,\n",
       "        1, 1, 1, 1, 1, 1, 1, 1, 1, 1, 1, 0, 1, 1, 0, 1, 0, 1, 1, 1, 1, 1,\n",
       "        1, 1, 1, 1, 1, 1, 1, 1, 1, 0, 1, 1, 1, 0, 1, 0, 1, 1, 1, 1, 0, 0,\n",
       "        0, 1, 1, 1, 1, 0, 1, 0, 1, 0, 1, 1, 1, 0, 1, 1, 1, 1, 1, 1, 1, 0,\n",
       "        0, 0, 1, 1, 1, 1, 1, 1, 1, 1, 1, 1, 1, 0, 0, 1, 0, 0, 0, 1, 0, 0,\n",
       "        1, 1, 1, 1, 1, 0, 1, 1, 1, 1, 1, 0, 1, 1, 1, 0, 1, 1, 0, 0, 1, 1,\n",
       "        1, 1, 1, 1, 0, 1, 1, 1, 1, 1, 1, 1, 0, 1, 1, 1, 1, 1, 0, 1, 1, 0,\n",
       "        1, 1, 1, 1, 1, 1, 1, 1, 1, 1, 1, 1, 0, 1, 0, 0, 1, 0, 1, 1, 1, 1,\n",
       "        1, 0, 1, 1, 0, 1, 0, 1, 1, 0, 1, 0, 1, 1, 1, 1, 1, 1, 1, 1, 0, 0,\n",
       "        1, 1, 1, 1, 1, 1, 0, 1, 1, 1, 1, 1, 1, 1, 1, 1, 1, 0, 1, 1, 1, 1,\n",
       "        1, 1, 1, 0, 1, 0, 1, 1, 0, 1, 1, 1, 1, 1, 0, 0, 1, 0, 1, 0, 1, 1,\n",
       "        1, 1, 1, 0, 1, 1, 0, 1, 0, 1, 0, 0, 1, 1, 1, 0, 1, 1, 1, 1, 1, 1,\n",
       "        1, 1, 1, 1, 1, 0, 1, 0, 0, 1, 1, 1, 1, 1, 1, 1, 1, 1, 1, 1, 1, 1,\n",
       "        1, 1, 1, 1, 1, 1, 1, 1, 1, 1, 1, 1, 0, 0, 0, 0, 0, 0, 1]),\n",
       " 'frame': None,\n",
       " 'target_names': array(['malignant', 'benign'], dtype='<U9'),\n",
       " 'DESCR': '.. _breast_cancer_dataset:\\n\\nBreast cancer wisconsin (diagnostic) dataset\\n--------------------------------------------\\n\\n**Data Set Characteristics:**\\n\\n    :Number of Instances: 569\\n\\n    :Number of Attributes: 30 numeric, predictive attributes and the class\\n\\n    :Attribute Information:\\n        - radius (mean of distances from center to points on the perimeter)\\n        - texture (standard deviation of gray-scale values)\\n        - perimeter\\n        - area\\n        - smoothness (local variation in radius lengths)\\n        - compactness (perimeter^2 / area - 1.0)\\n        - concavity (severity of concave portions of the contour)\\n        - concave points (number of concave portions of the contour)\\n        - symmetry\\n        - fractal dimension (\"coastline approximation\" - 1)\\n\\n        The mean, standard error, and \"worst\" or largest (mean of the three\\n        worst/largest values) of these features were computed for each image,\\n        resulting in 30 features.  For instance, field 0 is Mean Radius, field\\n        10 is Radius SE, field 20 is Worst Radius.\\n\\n        - class:\\n                - WDBC-Malignant\\n                - WDBC-Benign\\n\\n    :Summary Statistics:\\n\\n    ===================================== ====== ======\\n                                           Min    Max\\n    ===================================== ====== ======\\n    radius (mean):                        6.981  28.11\\n    texture (mean):                       9.71   39.28\\n    perimeter (mean):                     43.79  188.5\\n    area (mean):                          143.5  2501.0\\n    smoothness (mean):                    0.053  0.163\\n    compactness (mean):                   0.019  0.345\\n    concavity (mean):                     0.0    0.427\\n    concave points (mean):                0.0    0.201\\n    symmetry (mean):                      0.106  0.304\\n    fractal dimension (mean):             0.05   0.097\\n    radius (standard error):              0.112  2.873\\n    texture (standard error):             0.36   4.885\\n    perimeter (standard error):           0.757  21.98\\n    area (standard error):                6.802  542.2\\n    smoothness (standard error):          0.002  0.031\\n    compactness (standard error):         0.002  0.135\\n    concavity (standard error):           0.0    0.396\\n    concave points (standard error):      0.0    0.053\\n    symmetry (standard error):            0.008  0.079\\n    fractal dimension (standard error):   0.001  0.03\\n    radius (worst):                       7.93   36.04\\n    texture (worst):                      12.02  49.54\\n    perimeter (worst):                    50.41  251.2\\n    area (worst):                         185.2  4254.0\\n    smoothness (worst):                   0.071  0.223\\n    compactness (worst):                  0.027  1.058\\n    concavity (worst):                    0.0    1.252\\n    concave points (worst):               0.0    0.291\\n    symmetry (worst):                     0.156  0.664\\n    fractal dimension (worst):            0.055  0.208\\n    ===================================== ====== ======\\n\\n    :Missing Attribute Values: None\\n\\n    :Class Distribution: 212 - Malignant, 357 - Benign\\n\\n    :Creator:  Dr. William H. Wolberg, W. Nick Street, Olvi L. Mangasarian\\n\\n    :Donor: Nick Street\\n\\n    :Date: November, 1995\\n\\nThis is a copy of UCI ML Breast Cancer Wisconsin (Diagnostic) datasets.\\nhttps://goo.gl/U2Uwz2\\n\\nFeatures are computed from a digitized image of a fine needle\\naspirate (FNA) of a breast mass.  They describe\\ncharacteristics of the cell nuclei present in the image.\\n\\nSeparating plane described above was obtained using\\nMultisurface Method-Tree (MSM-T) [K. P. Bennett, \"Decision Tree\\nConstruction Via Linear Programming.\" Proceedings of the 4th\\nMidwest Artificial Intelligence and Cognitive Science Society,\\npp. 97-101, 1992], a classification method which uses linear\\nprogramming to construct a decision tree.  Relevant features\\nwere selected using an exhaustive search in the space of 1-4\\nfeatures and 1-3 separating planes.\\n\\nThe actual linear program used to obtain the separating plane\\nin the 3-dimensional space is that described in:\\n[K. P. Bennett and O. L. Mangasarian: \"Robust Linear\\nProgramming Discrimination of Two Linearly Inseparable Sets\",\\nOptimization Methods and Software 1, 1992, 23-34].\\n\\nThis database is also available through the UW CS ftp server:\\n\\nftp ftp.cs.wisc.edu\\ncd math-prog/cpo-dataset/machine-learn/WDBC/\\n\\n.. topic:: References\\n\\n   - W.N. Street, W.H. Wolberg and O.L. Mangasarian. Nuclear feature extraction \\n     for breast tumor diagnosis. IS&T/SPIE 1993 International Symposium on \\n     Electronic Imaging: Science and Technology, volume 1905, pages 861-870,\\n     San Jose, CA, 1993.\\n   - O.L. Mangasarian, W.N. Street and W.H. Wolberg. Breast cancer diagnosis and \\n     prognosis via linear programming. Operations Research, 43(4), pages 570-577, \\n     July-August 1995.\\n   - W.H. Wolberg, W.N. Street, and O.L. Mangasarian. Machine learning techniques\\n     to diagnose breast cancer from fine-needle aspirates. Cancer Letters 77 (1994) \\n     163-171.',\n",
       " 'feature_names': array(['mean radius', 'mean texture', 'mean perimeter', 'mean area',\n",
       "        'mean smoothness', 'mean compactness', 'mean concavity',\n",
       "        'mean concave points', 'mean symmetry', 'mean fractal dimension',\n",
       "        'radius error', 'texture error', 'perimeter error', 'area error',\n",
       "        'smoothness error', 'compactness error', 'concavity error',\n",
       "        'concave points error', 'symmetry error',\n",
       "        'fractal dimension error', 'worst radius', 'worst texture',\n",
       "        'worst perimeter', 'worst area', 'worst smoothness',\n",
       "        'worst compactness', 'worst concavity', 'worst concave points',\n",
       "        'worst symmetry', 'worst fractal dimension'], dtype='<U23'),\n",
       " 'filename': 'breast_cancer.csv',\n",
       " 'data_module': 'sklearn.datasets.data'}"
      ]
     },
     "execution_count": 5,
     "metadata": {},
     "output_type": "execute_result"
    }
   ],
   "source": [
    "cancer"
   ]
  },
  {
   "cell_type": "code",
   "execution_count": 6,
   "id": "2b61451e",
   "metadata": {},
   "outputs": [],
   "source": [
    "from sklearn.preprocessing import StandardScaler\n",
    "from sklearn.model_selection import train_test_split\n",
    "\n",
    "# sc\n",
    "scaler = StandardScaler()\n",
    "data_scaled = scaler.fit_transform(cancer.data)\n",
    "X_train, X_test, y_train, y_test = train_test_split(data_scaled, cancer.target, test_size=0.3, random_state=111)"
   ]
  },
  {
   "cell_type": "code",
   "execution_count": 8,
   "id": "fc899d58",
   "metadata": {},
   "outputs": [
    {
     "name": "stdout",
     "output_type": "stream",
     "text": [
      "0.9766081871345029 정확도\n",
      "0.9730868075385495 roc\n"
     ]
    }
   ],
   "source": [
    "from sklearn.metrics import accuracy_score, roc_auc_score\n",
    "\n",
    "lr_clf = LogisticRegression()\n",
    "lr_clf.fit(X_train, y_train)\n",
    "lr_preds = lr_clf.predict(X_test)\n",
    "\n",
    "# 정확도, roc 측정\n",
    "print(accuracy_score(y_test, lr_preds), \"정확도\")\n",
    "print(roc_auc_score(y_test, lr_preds), \"roc\")"
   ]
  },
  {
   "cell_type": "markdown",
   "id": "d9e4fd31",
   "metadata": {},
   "source": [
    "- 종양 관련 데이터 0, 1\n",
    "- 1이면 종양, 0이면 종양이 아닌 것\n",
    "- 1이 스팸, 0이 스팸이 아니다.\n",
    "- 데이터에 따라 본인이 정해서 정답 라벨링 하시면 된다."
   ]
  },
  {
   "cell_type": "markdown",
   "id": "6511bb50",
   "metadata": {},
   "source": [
    "- LogisticRegression에서 제공하는 파라미터들\n",
    "- penalty, l1_ratio, C, Class_weight, solver, max_iter, n_jobs\n",
    "- 규제가 들어간다.\n",
    "- penalty : 회귀계수에 대해서 l1, l2, 엘라스틱넷까지 지정할 수 있다.\n",
    "- l1_ratio : 엘라스틱넷을 사용하면 지정해주면 된다.\n",
    "- C : 규제의 강도를 조절하는 파라미터 0.01 ... 10, 100\n",
    "- solver : 결국엔 로지스틱도 정답을 맞추기 위해서 비용, 손실 함수를 최소화하는 것. 최소화하기 위한 최적화 문제 푸는 방법 지정\n",
    "- 지역해, 전역해\n",
    "\n",
    "\n",
    "- solver 파라미터에서도 lbfgs, liblinear, newton-cg, sag, saga ... 최신 나온 것들까지 확인해보기\n",
    "- lbfgs : 디폴트 값\n",
    "- liblinear : 작은 데이터 셋에서 좋은 성능을 발휘한다.\n",
    "- newton-cg : 최적화하기 위해서 전체를 다 검색해보면서 대용량으로 접근한다.\n",
    "- sag : 경사하강법 최적화 하기 위해 진행\n",
    "- saga : 경사하강법인데 l1 정규화 가능하게 해준다.\n",
    "\n",
    "- max_iter : solver 진행하는 반복 횟수"
   ]
  },
  {
   "cell_type": "markdown",
   "id": "906882ed",
   "metadata": {},
   "source": [
    "### 필수과제 1\n",
    "- sklearn 공식 홈페이지에 보면 파라미터들에 대한 자세한 설명이 있다.\n",
    "- 파라미터들 개념 정리 진행해 주세요.\n",
    "- 제가 적은 것도 좀 더 디테일하게 잡아주시고, 추가적인 것들도 체크해서 넣어주세요."
   ]
  },
  {
   "cell_type": "code",
   "execution_count": 11,
   "id": "b07ba7c8",
   "metadata": {},
   "outputs": [
    {
     "name": "stdout",
     "output_type": "stream",
     "text": [
      "solver : lbfgs, accuracy : 0.977, roc_auc : 0.973\n",
      "solver : liblinear, accuracy : 0.977, roc_auc : 0.973\n",
      "solver : newton-cg, accuracy : 0.977, roc_auc : 0.973\n",
      "solver : sag, accuracy : 0.977, roc_auc : 0.973\n",
      "solver : saga, accuracy : 0.977, roc_auc : 0.973\n"
     ]
    }
   ],
   "source": [
    "solvers = [\"lbfgs\", \"liblinear\", \"newton-cg\", \"sag\", \"saga\"]\n",
    "\n",
    "for solver in solvers:\n",
    "    lr_clf = LogisticRegression(solver=solver, max_iter=500)\n",
    "    lr_clf.fit(X_train, y_train)\n",
    "    lr_preds = lr_clf.predict(X_test)\n",
    "    \n",
    "    print(\"solver : {0}, accuracy : {1:.3f}, roc_auc : {2:.3f}\".format(solver, accuracy_score(y_test, lr_preds), \n",
    "                                                                       roc_auc_score(y_test, lr_preds)))"
   ]
  },
  {
   "cell_type": "markdown",
   "id": "0492dbcd",
   "metadata": {},
   "source": [
    "### 그리드서치를 통해 최적의 하이퍼파라미터 찾기"
   ]
  },
  {
   "cell_type": "code",
   "execution_count": 12,
   "id": "5070cad2",
   "metadata": {},
   "outputs": [],
   "source": [
    "from sklearn.model_selection import GridSearchCV\n",
    "\n",
    "def log_tunning(train, y, params):\n",
    "    lr_clf = LogisticRegression(random_state=111)\n",
    "    grid = GridSearchCV(lr_clf, params, scoring=\"roc_auc\", cv=7)\n",
    "    grid.fit(train, y)\n",
    "    \n",
    "    print(grid.best_params_)\n",
    "    print(grid.best_score_)\n",
    "    \n",
    "    return grid.best_estimator_"
   ]
  },
  {
   "cell_type": "code",
   "execution_count": 13,
   "id": "f7b5ce09",
   "metadata": {},
   "outputs": [
    {
     "name": "stderr",
     "output_type": "stream",
     "text": [
      "C:\\ProgramData\\Anaconda3\\lib\\site-packages\\sklearn\\linear_model\\_logistic.py:814: ConvergenceWarning: lbfgs failed to converge (status=1):\n",
      "STOP: TOTAL NO. of ITERATIONS REACHED LIMIT.\n",
      "\n",
      "Increase the number of iterations (max_iter) or scale the data as shown in:\n",
      "    https://scikit-learn.org/stable/modules/preprocessing.html\n",
      "Please also refer to the documentation for alternative solver options:\n",
      "    https://scikit-learn.org/stable/modules/linear_model.html#logistic-regression\n",
      "  n_iter_i = _check_optimize_result(\n",
      "C:\\ProgramData\\Anaconda3\\lib\\site-packages\\sklearn\\linear_model\\_logistic.py:814: ConvergenceWarning: lbfgs failed to converge (status=1):\n",
      "STOP: TOTAL NO. of ITERATIONS REACHED LIMIT.\n",
      "\n",
      "Increase the number of iterations (max_iter) or scale the data as shown in:\n",
      "    https://scikit-learn.org/stable/modules/preprocessing.html\n",
      "Please also refer to the documentation for alternative solver options:\n",
      "    https://scikit-learn.org/stable/modules/linear_model.html#logistic-regression\n",
      "  n_iter_i = _check_optimize_result(\n",
      "C:\\ProgramData\\Anaconda3\\lib\\site-packages\\sklearn\\linear_model\\_logistic.py:814: ConvergenceWarning: lbfgs failed to converge (status=1):\n",
      "STOP: TOTAL NO. of ITERATIONS REACHED LIMIT.\n",
      "\n",
      "Increase the number of iterations (max_iter) or scale the data as shown in:\n",
      "    https://scikit-learn.org/stable/modules/preprocessing.html\n",
      "Please also refer to the documentation for alternative solver options:\n",
      "    https://scikit-learn.org/stable/modules/linear_model.html#logistic-regression\n",
      "  n_iter_i = _check_optimize_result(\n",
      "C:\\ProgramData\\Anaconda3\\lib\\site-packages\\sklearn\\linear_model\\_logistic.py:814: ConvergenceWarning: lbfgs failed to converge (status=1):\n",
      "STOP: TOTAL NO. of ITERATIONS REACHED LIMIT.\n",
      "\n",
      "Increase the number of iterations (max_iter) or scale the data as shown in:\n",
      "    https://scikit-learn.org/stable/modules/preprocessing.html\n",
      "Please also refer to the documentation for alternative solver options:\n",
      "    https://scikit-learn.org/stable/modules/linear_model.html#logistic-regression\n",
      "  n_iter_i = _check_optimize_result(\n",
      "C:\\ProgramData\\Anaconda3\\lib\\site-packages\\sklearn\\linear_model\\_logistic.py:814: ConvergenceWarning: lbfgs failed to converge (status=1):\n",
      "STOP: TOTAL NO. of ITERATIONS REACHED LIMIT.\n",
      "\n",
      "Increase the number of iterations (max_iter) or scale the data as shown in:\n",
      "    https://scikit-learn.org/stable/modules/preprocessing.html\n",
      "Please also refer to the documentation for alternative solver options:\n",
      "    https://scikit-learn.org/stable/modules/linear_model.html#logistic-regression\n",
      "  n_iter_i = _check_optimize_result(\n",
      "C:\\ProgramData\\Anaconda3\\lib\\site-packages\\sklearn\\linear_model\\_logistic.py:814: ConvergenceWarning: lbfgs failed to converge (status=1):\n",
      "STOP: TOTAL NO. of ITERATIONS REACHED LIMIT.\n",
      "\n",
      "Increase the number of iterations (max_iter) or scale the data as shown in:\n",
      "    https://scikit-learn.org/stable/modules/preprocessing.html\n",
      "Please also refer to the documentation for alternative solver options:\n",
      "    https://scikit-learn.org/stable/modules/linear_model.html#logistic-regression\n",
      "  n_iter_i = _check_optimize_result(\n",
      "C:\\ProgramData\\Anaconda3\\lib\\site-packages\\sklearn\\linear_model\\_logistic.py:814: ConvergenceWarning: lbfgs failed to converge (status=1):\n",
      "STOP: TOTAL NO. of ITERATIONS REACHED LIMIT.\n",
      "\n",
      "Increase the number of iterations (max_iter) or scale the data as shown in:\n",
      "    https://scikit-learn.org/stable/modules/preprocessing.html\n",
      "Please also refer to the documentation for alternative solver options:\n",
      "    https://scikit-learn.org/stable/modules/linear_model.html#logistic-regression\n",
      "  n_iter_i = _check_optimize_result(\n"
     ]
    },
    {
     "name": "stdout",
     "output_type": "stream",
     "text": [
      "{'C': 0.1, 'max_iter': 100, 'penalty': 'l2'}\n",
      "0.9958251618965904\n"
     ]
    },
    {
     "name": "stderr",
     "output_type": "stream",
     "text": [
      "C:\\ProgramData\\Anaconda3\\lib\\site-packages\\sklearn\\model_selection\\_validation.py:372: FitFailedWarning: \n",
      "84 fits failed out of a total of 168.\n",
      "The score on these train-test partitions for these parameters will be set to nan.\n",
      "If these failures are not expected, you can try to debug them by setting error_score='raise'.\n",
      "\n",
      "Below are more details about the failures:\n",
      "--------------------------------------------------------------------------------\n",
      "84 fits failed with the following error:\n",
      "Traceback (most recent call last):\n",
      "  File \"C:\\ProgramData\\Anaconda3\\lib\\site-packages\\sklearn\\model_selection\\_validation.py\", line 680, in _fit_and_score\n",
      "    estimator.fit(X_train, y_train, **fit_params)\n",
      "  File \"C:\\ProgramData\\Anaconda3\\lib\\site-packages\\sklearn\\linear_model\\_logistic.py\", line 1461, in fit\n",
      "    solver = _check_solver(self.solver, self.penalty, self.dual)\n",
      "  File \"C:\\ProgramData\\Anaconda3\\lib\\site-packages\\sklearn\\linear_model\\_logistic.py\", line 447, in _check_solver\n",
      "    raise ValueError(\n",
      "ValueError: Solver lbfgs supports only 'l2' or 'none' penalties, got l1 penalty.\n",
      "\n",
      "  warnings.warn(some_fits_failed_message, FitFailedWarning)\n",
      "C:\\ProgramData\\Anaconda3\\lib\\site-packages\\sklearn\\model_selection\\_search.py:969: UserWarning: One or more of the test scores are non-finite: [0.9929529         nan 0.9929529         nan 0.99582516        nan\n",
      " 0.99582516        nan 0.99582389        nan 0.99582389        nan\n",
      " 0.99334028        nan 0.99334028        nan 0.99277339        nan\n",
      " 0.99277339        nan 0.98936385        nan 0.98936385        nan]\n",
      "  warnings.warn(\n"
     ]
    },
    {
     "data": {
      "text/plain": [
       "LogisticRegression(C=0.1, random_state=111)"
      ]
     },
     "execution_count": 13,
     "metadata": {},
     "output_type": "execute_result"
    }
   ],
   "source": [
    "# 파라미터 하나씩 정의해보기 (1)\n",
    "param1 = {\"penalty\":[\"l2\",\"l1\"], \"C\":[0.01, 0.1, 1, 5, 10, 100], \"max_iter\":[100, 500]}\n",
    "log_tunning(X_train, y_train, params=param1)"
   ]
  },
  {
   "cell_type": "markdown",
   "id": "a859baa9",
   "metadata": {},
   "source": [
    "{'C': 0.1, 'max_iter': 100, 'penalty': 'l2'}\n",
    "0.9958251618965904"
   ]
  },
  {
   "cell_type": "code",
   "execution_count": 14,
   "id": "be2838bd",
   "metadata": {},
   "outputs": [
    {
     "name": "stdout",
     "output_type": "stream",
     "text": [
      "{'C': 0.5, 'max_iter': 100, 'penalty': 'l2'}\n",
      "0.9967781557067271\n"
     ]
    },
    {
     "data": {
      "text/plain": [
       "LogisticRegression(C=0.5, random_state=111)"
      ]
     },
     "execution_count": 14,
     "metadata": {},
     "output_type": "execute_result"
    }
   ],
   "source": [
    "# 파라미터 하나씩 정의해보기 (2)\n",
    "param2 = {\"penalty\":[\"l2\"], \"C\":[0.1, 0.2, 0.3, 0.4, 0.5, 1, 5, 10], \"max_iter\":[100, 200, 300, 400, 500, 700]}\n",
    "log_tunning(X_train, y_train, params=param2)"
   ]
  },
  {
   "cell_type": "code",
   "execution_count": 17,
   "id": "7795e814",
   "metadata": {},
   "outputs": [
    {
     "name": "stdout",
     "output_type": "stream",
     "text": [
      "{'C': 0.5, 'max_iter': 100, 'penalty': 'l2'}\n",
      "0.9967781557067271\n"
     ]
    }
   ],
   "source": [
    "model = log_tunning(X_train, y_train, params=param2)\n",
    "y_pred = model.predict_proba(X_test)"
   ]
  },
  {
   "cell_type": "code",
   "execution_count": 18,
   "id": "cf9b5f20",
   "metadata": {},
   "outputs": [
    {
     "data": {
      "text/plain": [
       "array([[7.10381018e-04, 9.99289619e-01],\n",
       "       [3.43808838e-04, 9.99656191e-01],\n",
       "       [4.82892191e-03, 9.95171078e-01],\n",
       "       [1.92332808e-01, 8.07667192e-01],\n",
       "       [4.90231121e-04, 9.99509769e-01],\n",
       "       [9.99976816e-01, 2.31840973e-05],\n",
       "       [2.07757937e-01, 7.92242063e-01],\n",
       "       [7.50657439e-01, 2.49342561e-01],\n",
       "       [2.39797234e-02, 9.76020277e-01],\n",
       "       [9.98376889e-01, 1.62311100e-03],\n",
       "       [9.88289488e-01, 1.17105116e-02],\n",
       "       [4.44696113e-01, 5.55303887e-01],\n",
       "       [1.11252860e-03, 9.98887471e-01],\n",
       "       [3.60219184e-04, 9.99639781e-01],\n",
       "       [1.52044569e-03, 9.98479554e-01],\n",
       "       [9.99958996e-01, 4.10042882e-05],\n",
       "       [6.22466979e-03, 9.93775330e-01],\n",
       "       [9.86332422e-01, 1.36675776e-02],\n",
       "       [5.21628097e-04, 9.99478372e-01],\n",
       "       [2.79693354e-04, 9.99720307e-01],\n",
       "       [3.64867902e-02, 9.63513210e-01],\n",
       "       [9.99999717e-01, 2.83153562e-07],\n",
       "       [2.18979327e-02, 9.78102067e-01],\n",
       "       [1.41305330e-03, 9.98586947e-01],\n",
       "       [1.25430604e-02, 9.87456940e-01],\n",
       "       [8.62831074e-01, 1.37168926e-01],\n",
       "       [2.75155418e-04, 9.99724845e-01],\n",
       "       [9.99996249e-01, 3.75086236e-06],\n",
       "       [9.99740229e-01, 2.59771303e-04],\n",
       "       [4.52992695e-02, 9.54700730e-01],\n",
       "       [4.59077654e-04, 9.99540922e-01],\n",
       "       [2.87489226e-04, 9.99712511e-01],\n",
       "       [1.38633887e-02, 9.86136611e-01],\n",
       "       [2.74223933e-04, 9.99725776e-01],\n",
       "       [8.54576055e-04, 9.99145424e-01],\n",
       "       [9.99980450e-01, 1.95503474e-05],\n",
       "       [7.56712440e-02, 9.24328756e-01],\n",
       "       [5.74954381e-03, 9.94250456e-01],\n",
       "       [6.94215749e-05, 9.99930578e-01],\n",
       "       [9.99999667e-01, 3.32848806e-07],\n",
       "       [9.93522359e-01, 6.47764079e-03],\n",
       "       [2.85708919e-02, 9.71429108e-01],\n",
       "       [9.99791578e-01, 2.08422322e-04],\n",
       "       [9.99982220e-01, 1.77796966e-05],\n",
       "       [9.99954691e-01, 4.53085008e-05],\n",
       "       [9.05400518e-05, 9.99909460e-01],\n",
       "       [9.99284948e-01, 7.15051963e-04],\n",
       "       [2.93903337e-03, 9.97060967e-01],\n",
       "       [4.08808378e-02, 9.59119162e-01],\n",
       "       [3.68405312e-03, 9.96315947e-01],\n",
       "       [2.95088150e-04, 9.99704912e-01],\n",
       "       [9.99999638e-01, 3.62420445e-07],\n",
       "       [1.23755638e-02, 9.87624436e-01],\n",
       "       [3.10490688e-02, 9.68950931e-01],\n",
       "       [1.28286566e-03, 9.98717134e-01],\n",
       "       [9.99989961e-01, 1.00389168e-05],\n",
       "       [2.83876444e-03, 9.97161236e-01],\n",
       "       [1.08497154e-01, 8.91502846e-01],\n",
       "       [8.82713681e-01, 1.17286319e-01],\n",
       "       [2.77142565e-01, 7.22857435e-01],\n",
       "       [2.70098900e-01, 7.29901100e-01],\n",
       "       [9.99978433e-01, 2.15668185e-05],\n",
       "       [1.03886021e-06, 9.99998961e-01],\n",
       "       [9.99999732e-01, 2.68061708e-07],\n",
       "       [9.92103726e-01, 7.89627360e-03],\n",
       "       [3.11543423e-04, 9.99688457e-01],\n",
       "       [1.28961336e-02, 9.87103866e-01],\n",
       "       [1.04136230e-05, 9.99989586e-01],\n",
       "       [9.87733575e-01, 1.22664250e-02],\n",
       "       [9.99999995e-01, 4.80176662e-09],\n",
       "       [1.38807509e-03, 9.98611925e-01],\n",
       "       [9.99661918e-01, 3.38082100e-04],\n",
       "       [9.99981636e-01, 1.83643150e-05],\n",
       "       [7.30878249e-05, 9.99926912e-01],\n",
       "       [5.85078756e-03, 9.94149212e-01],\n",
       "       [8.47099748e-02, 9.15290025e-01],\n",
       "       [4.74025871e-04, 9.99525974e-01],\n",
       "       [9.99754330e-01, 2.45670338e-04],\n",
       "       [1.78326048e-02, 9.82167395e-01],\n",
       "       [5.70693220e-01, 4.29306780e-01],\n",
       "       [5.50154479e-01, 4.49845521e-01],\n",
       "       [9.99900799e-01, 9.92013581e-05],\n",
       "       [3.05851803e-04, 9.99694148e-01],\n",
       "       [6.67894459e-02, 9.33210554e-01],\n",
       "       [2.88813586e-02, 9.71118641e-01],\n",
       "       [3.33341902e-01, 6.66658098e-01],\n",
       "       [9.97384448e-01, 2.61555165e-03],\n",
       "       [9.49989773e-01, 5.00102271e-02],\n",
       "       [1.81591807e-03, 9.98184082e-01],\n",
       "       [9.70597327e-01, 2.94026732e-02],\n",
       "       [9.96065376e-01, 3.93462353e-03],\n",
       "       [9.83671055e-01, 1.63289446e-02],\n",
       "       [2.41574204e-02, 9.75842580e-01],\n",
       "       [9.87716214e-01, 1.22837857e-02],\n",
       "       [9.99685840e-01, 3.14159809e-04],\n",
       "       [3.90294853e-02, 9.60970515e-01],\n",
       "       [2.60284832e-04, 9.99739715e-01],\n",
       "       [2.47765746e-05, 9.99975223e-01],\n",
       "       [9.99964778e-01, 3.52220665e-05],\n",
       "       [9.99570662e-01, 4.29338332e-04],\n",
       "       [4.43017182e-03, 9.95569828e-01],\n",
       "       [1.10813600e-02, 9.88918640e-01],\n",
       "       [9.98656782e-01, 1.34321775e-03],\n",
       "       [4.39750215e-02, 9.56024978e-01],\n",
       "       [4.10726908e-01, 5.89273092e-01],\n",
       "       [5.71093092e-03, 9.94289069e-01],\n",
       "       [4.79497536e-03, 9.95205025e-01],\n",
       "       [9.99999727e-01, 2.73322377e-07],\n",
       "       [1.54882320e-04, 9.99845118e-01],\n",
       "       [5.74962478e-03, 9.94250375e-01],\n",
       "       [4.89397958e-03, 9.95106020e-01],\n",
       "       [7.19287415e-02, 9.28071258e-01],\n",
       "       [2.09890915e-02, 9.79010909e-01],\n",
       "       [1.12671782e-04, 9.99887328e-01],\n",
       "       [9.99998965e-01, 1.03479781e-06],\n",
       "       [1.49937074e-02, 9.85006293e-01],\n",
       "       [1.20401007e-03, 9.98795990e-01],\n",
       "       [9.93323909e-01, 6.67609119e-03],\n",
       "       [9.99999972e-01, 2.83427282e-08],\n",
       "       [9.99673181e-01, 3.26818685e-04],\n",
       "       [9.99986024e-01, 1.39757330e-05],\n",
       "       [9.64154709e-05, 9.99903585e-01],\n",
       "       [1.00000000e+00, 1.09596608e-18],\n",
       "       [1.37000458e-02, 9.86299954e-01],\n",
       "       [2.52588404e-02, 9.74741160e-01],\n",
       "       [3.54825141e-02, 9.64517486e-01],\n",
       "       [5.38701022e-01, 4.61298978e-01],\n",
       "       [1.53645176e-01, 8.46354824e-01],\n",
       "       [2.05815969e-01, 7.94184031e-01],\n",
       "       [9.77290534e-01, 2.27094659e-02],\n",
       "       [3.77390916e-01, 6.22609084e-01],\n",
       "       [9.99453883e-01, 5.46117390e-04],\n",
       "       [1.77554256e-05, 9.99982245e-01],\n",
       "       [2.70724788e-02, 9.72927521e-01],\n",
       "       [5.51972051e-01, 4.48027949e-01],\n",
       "       [6.00076601e-03, 9.93999234e-01],\n",
       "       [1.52214157e-02, 9.84778584e-01],\n",
       "       [9.99852991e-01, 1.47008671e-04],\n",
       "       [1.98206761e-03, 9.98017932e-01],\n",
       "       [9.99977832e-01, 2.21677360e-05],\n",
       "       [2.26496190e-01, 7.73503810e-01],\n",
       "       [1.34576871e-01, 8.65423129e-01],\n",
       "       [9.99550619e-01, 4.49381036e-04],\n",
       "       [2.59181797e-01, 7.40818203e-01],\n",
       "       [2.37637949e-04, 9.99762362e-01],\n",
       "       [9.99947198e-01, 5.28022918e-05],\n",
       "       [9.93760502e-01, 6.23949821e-03],\n",
       "       [9.77234161e-01, 2.27658386e-02],\n",
       "       [1.63226292e-04, 9.99836774e-01],\n",
       "       [7.64106525e-05, 9.99923589e-01],\n",
       "       [6.72678891e-02, 9.32732111e-01],\n",
       "       [9.90888032e-01, 9.11196766e-03],\n",
       "       [6.85182936e-04, 9.99314817e-01],\n",
       "       [9.49358224e-01, 5.06417764e-02],\n",
       "       [1.93888093e-02, 9.80611191e-01],\n",
       "       [7.58209664e-01, 2.41790336e-01],\n",
       "       [4.65258759e-01, 5.34741241e-01],\n",
       "       [6.77622691e-03, 9.93223773e-01],\n",
       "       [3.19451011e-02, 9.68054899e-01],\n",
       "       [9.99987036e-01, 1.29642503e-05],\n",
       "       [1.06813527e-01, 8.93186473e-01],\n",
       "       [1.52330501e-01, 8.47669499e-01],\n",
       "       [2.23760226e-02, 9.77623977e-01],\n",
       "       [2.86227352e-03, 9.97137726e-01],\n",
       "       [1.57454350e-03, 9.98425456e-01],\n",
       "       [9.99642887e-01, 3.57113346e-04],\n",
       "       [9.97227992e-01, 2.77200802e-03],\n",
       "       [9.93304458e-01, 6.69554152e-03],\n",
       "       [9.99999651e-01, 3.49234194e-07],\n",
       "       [2.00328637e-02, 9.79967136e-01],\n",
       "       [4.36666659e-03, 9.95633333e-01]])"
      ]
     },
     "execution_count": 18,
     "metadata": {},
     "output_type": "execute_result"
    }
   ],
   "source": [
    "y_pred"
   ]
  },
  {
   "cell_type": "markdown",
   "id": "e4c372af",
   "metadata": {},
   "source": [
    "- 로지스틱 회귀의 경우는 가장 대표적인 이진 분류 사용\n",
    "- 한 번은 꼭 해보시고, 이렇게 이뤄지고 이런 식으로 값이 도출이 된다라는 것을 필수적으로 이해해주시면 좋다."
   ]
  },
  {
   "cell_type": "markdown",
   "id": "423048c9",
   "metadata": {},
   "source": [
    "### 필수과제 2\n",
    "- 이진 분류할 데이터를 공유할 예정\n",
    "- 해당 데이터를 가지고 필수과제 1에서 서칭한 파라미터들을 튜닝하면서 모델링을 진행해주세요!\n",
    "- 데이터 전처리를 진행해야합니다.\n",
    "- 데이터 전처리 방식도 정리해서 올려주셔야 합니다.\n",
    "- 실제 데이터 전처리를 최소 2~3개 정도 다르게 진행해 보시면서 (변수를 빼거나 할 수 있음)\n",
    "- 실제 값이 얼마나 차이가 나는지 확인해주세요!\n",
    "- 다음 시간에 랜덤으로 또 발표를 진행할 예정 (랜덤 발표가 어려운 경우는 우수학회원이 어렵다.)"
   ]
  }
 ],
 "metadata": {
  "kernelspec": {
   "display_name": "Python 3 (ipykernel)",
   "language": "python",
   "name": "python3"
  },
  "language_info": {
   "codemirror_mode": {
    "name": "ipython",
    "version": 3
   },
   "file_extension": ".py",
   "mimetype": "text/x-python",
   "name": "python",
   "nbconvert_exporter": "python",
   "pygments_lexer": "ipython3",
   "version": "3.9.12"
  }
 },
 "nbformat": 4,
 "nbformat_minor": 5
}
