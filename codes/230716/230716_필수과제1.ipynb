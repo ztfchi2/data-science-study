{
 "cells": [
  {
   "cell_type": "markdown",
   "id": "2d68eacf",
   "metadata": {},
   "source": [
    "### 필수과제 1\n",
    "- sklearn 공식 홈페이지에 보면 파라미터들에 대한 자세한 설명이 있다.\n",
    "- 파라미터들 개념 정리 진행해 주세요.\n",
    "- 제가 적은 것도 좀 더 디테일하게 잡아주시고, 추가적인 것들도 체크해서 넣어주세요."
   ]
  },
  {
   "cell_type": "markdown",
   "id": "54d17ad5",
   "metadata": {},
   "source": [
    "### LogisticRegression에서 사용하는 파라미터들"
   ]
  },
  {
   "cell_type": "markdown",
   "id": "38239ef3",
   "metadata": {},
   "source": [
    "- penalty : {'l1', 'l2', 'elasticnet', None}, default='l2'\n",
    "- 규제에 대한 파라미터, None으로 설정하면 규제를 설정하지 않음.\n",
    "\n",
    "\n",
    "- l1_ratio : float, default=None\n",
    "- 엘라스틱넷을 사용할 때(penalty='elasticnet') 엘라스틱넷 파라미터를 0~1 사이에서 설정.\n",
    "\n",
    "\n",
    "- C : float, default=1.0\n",
    "- 규제의 강도를 조절하는 파라미터, regularization strength의 역수, 양의 실수 값을 가진다.\n",
    "\n",
    "\n",
    "- Class_weight : dict or ‘balanced’, default=None\n",
    "- 각 클래스별 가중치를 딕셔너리 형태로 설정, balanced로 설정하면 n_samples / (n_classes * np.bincount(y)) 공식에 따라 가중치를 부여함.\n",
    "\n",
    "\n",
    "- solver : {'lbfgs', 'liblinear', 'newton-cg', 'newton-cholesky', 'sag', 'saga'}, default='lbfgs'\n",
    "- 손실 함수를 최소화하기 위한 알고리즘을 지정, 'liblinear'는 데이터 수가 작을 때, 'sag' 와 'saga'는 데이터 수가 클 때 빠르게 작동한다. 'newton-cholesky'는 데이터 수가 피쳐 수보다 많이 클 때 사용한다.\n",
    "\n",
    "\n",
    "- max_iter : int, default=100\n",
    "- solver가 수렴이 될 수 있도록 최대 반복 횟수를 지정.\n",
    "\n",
    "\n",
    "- n_jobs : int, default=None\n",
    "- multi_class='ovr'일 때 사용할 CPU 코어의 개수.\n",
    "\n",
    "\n",
    "- warm_start : bool, default=False\n",
    "- True일 경우 이전 데이터 값을 이용하여 로지스틱 회귀를 진행한다.\n",
    "\n",
    "\n",
    "- multi_class : {'auto', 'ovr', 'multinomial'}, default='auto'\n",
    "- multi_class='ovr'일 때 데이터가 binary이거나 solver='liblinear'일 때 사용 가능, 'multinomial'은 데이터가 multinomial일 때 사용 가능. 'auto'는 이를 자동 지정해주는 옵션."
   ]
  }
 ],
 "metadata": {
  "kernelspec": {
   "display_name": "Python 3 (ipykernel)",
   "language": "python",
   "name": "python3"
  },
  "language_info": {
   "codemirror_mode": {
    "name": "ipython",
    "version": 3
   },
   "file_extension": ".py",
   "mimetype": "text/x-python",
   "name": "python",
   "nbconvert_exporter": "python",
   "pygments_lexer": "ipython3",
   "version": "3.9.12"
  }
 },
 "nbformat": 4,
 "nbformat_minor": 5
}
