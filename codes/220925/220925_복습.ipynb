{
 "cells": [
  {
   "cell_type": "code",
   "execution_count": 1,
   "id": "5152f883",
   "metadata": {},
   "outputs": [],
   "source": [
    "import pandas as pd\n",
    "import numpy as np\n",
    "import seaborn as sns\n",
    "from matplotlib import pyplot as plt"
   ]
  },
  {
   "cell_type": "code",
   "execution_count": 2,
   "id": "b3475354",
   "metadata": {},
   "outputs": [],
   "source": [
    "# 한글 사용 코드\n",
    "from matplotlib import font_manager, rc, rcParams\n",
    "\n",
    "font_name = font_manager.FontProperties(fname=\"c:/Windows/Fonts/malgun.ttf\").get_name()\n",
    "rc('font', family = font_name)\n",
    "    \n",
    "rcParams['axes.unicode_minus']=False"
   ]
  },
  {
   "cell_type": "markdown",
   "id": "58f6eeed",
   "metadata": {},
   "source": [
    "### 막대그래프"
   ]
  },
  {
   "cell_type": "code",
   "execution_count": 3,
   "id": "c3682228",
   "metadata": {},
   "outputs": [
    {
     "data": {
      "text/plain": [
       "<BarContainer object of 3 artists>"
      ]
     },
     "execution_count": 3,
     "metadata": {},
     "output_type": "execute_result"
    },
    {
     "data": {
      "image/png": "[encoded data removed]",
      "text/plain": [
       "<Figure size 432x288 with 1 Axes>"
      ]
     },
     "metadata": {
      "needs_background": "light"
     },
     "output_type": "display_data"
    }
   ],
   "source": [
    "plt.bar(range(3), [10,20,30])"
   ]
  },
  {
   "cell_type": "code",
   "execution_count": 4,
   "id": "bf10ba3e",
   "metadata": {},
   "outputs": [
    {
     "data": {
      "text/plain": [
       "([<matplotlib.axis.XTick at 0x2b0e9561c10>,\n",
       "  <matplotlib.axis.XTick at 0x2b0e9561be0>,\n",
       "  <matplotlib.axis.XTick at 0x2b0e9561310>],\n",
       " [Text(0, 0, 'A'), Text(1, 0, 'B'), Text(2, 0, 'C')])"
      ]
     },
     "execution_count": 4,
     "metadata": {},
     "output_type": "execute_result"
    },
    {
     "data": {
      "image/png": "[encoded data removed]",
      "text/plain": [
       "<Figure size 432x288 with 1 Axes>"
      ]
     },
     "metadata": {
      "needs_background": "light"
     },
     "output_type": "display_data"
    }
   ],
   "source": [
    "# 눈금 설정\n",
    "plt.bar(range(3), [10,20,30])\n",
    "plt.xticks(range(3), ['A','B','C'])"
   ]
  },
  {
   "cell_type": "code",
   "execution_count": 5,
   "id": "89b012ae",
   "metadata": {},
   "outputs": [
    {
     "data": {
      "text/plain": [
       "([<matplotlib.axis.XTick at 0x2b0e95cad90>,\n",
       "  <matplotlib.axis.XTick at 0x2b0e95cad60>,\n",
       "  <matplotlib.axis.XTick at 0x2b0e95ca460>],\n",
       " [Text(0, 0, 'A'), Text(1, 0, 'B'), Text(2, 0, 'C')])"
      ]
     },
     "execution_count": 5,
     "metadata": {},
     "output_type": "execute_result"
    },
    {
     "data": {
      "image/png": "[encoded data removed]",
      "text/plain": [
       "<Figure size 432x288 with 1 Axes>"
      ]
     },
     "metadata": {
      "needs_background": "light"
     },
     "output_type": "display_data"
    }
   ],
   "source": [
    "# 스타일 바꾸기 (1)\n",
    "plt.bar(range(3), [10,20,30], width=0.5, color=\"blue\", linewidth=3.0)\n",
    "plt.xticks(range(3), ['A','B','C'])"
   ]
  },
  {
   "cell_type": "code",
   "execution_count": 6,
   "id": "2ac14264",
   "metadata": {},
   "outputs": [
    {
     "data": {
      "text/plain": [
       "([<matplotlib.axis.XTick at 0x2b0e96266d0>,\n",
       "  <matplotlib.axis.XTick at 0x2b0e96266a0>,\n",
       "  <matplotlib.axis.XTick at 0x2b0e9620340>],\n",
       " [Text(0, 0, 'A'), Text(1, 0, 'B'), Text(2, 0, 'C')])"
      ]
     },
     "execution_count": 6,
     "metadata": {},
     "output_type": "execute_result"
    },
    {
     "data": {
      "image/png": "[encoded data removed]",
      "text/plain": [
       "<Figure size 432x288 with 1 Axes>"
      ]
     },
     "metadata": {
      "needs_background": "light"
     },
     "output_type": "display_data"
    }
   ],
   "source": [
    "# 스타일 바꾸기 (2)\n",
    "plt.bar(range(3), [10,20,30], width=0.5, color=[\"orange\",\"blue\",\"purple\"], linewidth=3.0)\n",
    "plt.xticks(range(3), ['A','B','C'])"
   ]
  },
  {
   "cell_type": "markdown",
   "id": "b27c6972",
   "metadata": {},
   "source": [
    "### 상자 그림"
   ]
  },
  {
   "cell_type": "code",
   "execution_count": 7,
   "id": "11855e4a",
   "metadata": {},
   "outputs": [],
   "source": [
    "x = np.random.normal(10,5,100)"
   ]
  },
  {
   "cell_type": "code",
   "execution_count": 8,
   "id": "03721efc",
   "metadata": {},
   "outputs": [
    {
     "data": {
      "text/plain": [
       "{'whiskers': [<matplotlib.lines.Line2D at 0x2b0e96b71c0>,\n",
       "  <matplotlib.lines.Line2D at 0x2b0e96b7490>],\n",
       " 'caps': [<matplotlib.lines.Line2D at 0x2b0e96b7820>,\n",
       "  <matplotlib.lines.Line2D at 0x2b0e96b7a30>],\n",
       " 'boxes': [<matplotlib.lines.Line2D at 0x2b0e96a4eb0>],\n",
       " 'medians': [<matplotlib.lines.Line2D at 0x2b0e96b7d30>],\n",
       " 'fliers': [<matplotlib.lines.Line2D at 0x2b0e96c3040>],\n",
       " 'means': []}"
      ]
     },
     "execution_count": 8,
     "metadata": {},
     "output_type": "execute_result"
    },
    {
     "data": {
      "image/png": "[encoded data removed]",
      "text/plain": [
       "<Figure size 432x288 with 1 Axes>"
      ]
     },
     "metadata": {
      "needs_background": "light"
     },
     "output_type": "display_data"
    }
   ],
   "source": [
    "plt.boxplot(x)"
   ]
  },
  {
   "cell_type": "code",
   "execution_count": 9,
   "id": "0618abfd",
   "metadata": {},
   "outputs": [],
   "source": [
    "x = np.random.normal(10,5,100)\n",
    "y = np.random.normal(10,7,100)"
   ]
  },
  {
   "cell_type": "code",
   "execution_count": 10,
   "id": "d24ceb2e",
   "metadata": {},
   "outputs": [
    {
     "data": {
      "text/plain": [
       "{'whiskers': [<matplotlib.lines.Line2D at 0x2b0e9723400>,\n",
       "  <matplotlib.lines.Line2D at 0x2b0e97236d0>,\n",
       "  <matplotlib.lines.Line2D at 0x2b0e97307f0>,\n",
       "  <matplotlib.lines.Line2D at 0x2b0e9730ac0>],\n",
       " 'caps': [<matplotlib.lines.Line2D at 0x2b0e97239a0>,\n",
       "  <matplotlib.lines.Line2D at 0x2b0e9723c70>,\n",
       "  <matplotlib.lines.Line2D at 0x2b0e9730d90>,\n",
       "  <matplotlib.lines.Line2D at 0x2b0e973d0a0>],\n",
       " 'boxes': [<matplotlib.lines.Line2D at 0x2b0e9723130>,\n",
       "  <matplotlib.lines.Line2D at 0x2b0e9730520>],\n",
       " 'medians': [<matplotlib.lines.Line2D at 0x2b0e9723f40>,\n",
       "  <matplotlib.lines.Line2D at 0x2b0e973d370>],\n",
       " 'fliers': [<matplotlib.lines.Line2D at 0x2b0e9730250>,\n",
       "  <matplotlib.lines.Line2D at 0x2b0e973d670>],\n",
       " 'means': []}"
      ]
     },
     "execution_count": 10,
     "metadata": {},
     "output_type": "execute_result"
    },
    {
     "data": {
      "image/png": "[encoded data removed]",
      "text/plain": [
       "<Figure size 432x288 with 1 Axes>"
      ]
     },
     "metadata": {
      "needs_background": "light"
     },
     "output_type": "display_data"
    }
   ],
   "source": [
    "plt.boxplot([x,y])"
   ]
  },
  {
   "cell_type": "code",
   "execution_count": 11,
   "id": "570636cc",
   "metadata": {},
   "outputs": [
    {
     "data": {
      "text/plain": [
       "([<matplotlib.axis.XTick at 0x2b0e97718e0>,\n",
       "  <matplotlib.axis.XTick at 0x2b0e97718b0>],\n",
       " [Text(1, 0, 'A'), Text(2, 0, 'B')])"
      ]
     },
     "execution_count": 11,
     "metadata": {},
     "output_type": "execute_result"
    },
    {
     "data": {
      "image/png": "[encoded data removed]",
      "text/plain": [
       "<Figure size 432x288 with 1 Axes>"
      ]
     },
     "metadata": {
      "needs_background": "light"
     },
     "output_type": "display_data"
    }
   ],
   "source": [
    "plt.boxplot([x,y])\n",
    "plt.xticks([1,2], ['A','B'])"
   ]
  },
  {
   "cell_type": "markdown",
   "id": "da62b9da",
   "metadata": {},
   "source": [
    "### 히스토그램\n",
    "- 도수분포표를 시각화 한 것"
   ]
  },
  {
   "cell_type": "code",
   "execution_count": 12,
   "id": "bd7f3869",
   "metadata": {},
   "outputs": [],
   "source": [
    "x = np.random.normal(5,3,100)"
   ]
  },
  {
   "cell_type": "code",
   "execution_count": 13,
   "id": "a72c5baf",
   "metadata": {},
   "outputs": [
    {
     "data": {
      "text/plain": [
       "(array([ 1.,  2.,  6., 16., 25., 22., 13., 10.,  3.,  2.]),\n",
       " array([-3.56845406, -1.86424211, -0.16003016,  1.5441818 ,  3.24839375,\n",
       "         4.9526057 ,  6.65681766,  8.36102961, 10.06524156, 11.76945352,\n",
       "        13.47366547]),\n",
       " <BarContainer object of 10 artists>)"
      ]
     },
     "execution_count": 13,
     "metadata": {},
     "output_type": "execute_result"
    },
    {
     "data": {
      "image/png": "[encoded data removed]",
      "text/plain": [
       "<Figure size 432x288 with 1 Axes>"
      ]
     },
     "metadata": {
      "needs_background": "light"
     },
     "output_type": "display_data"
    }
   ],
   "source": [
    "plt.hist(x) # 히스토그램을 그릴 수 있다."
   ]
  },
  {
   "cell_type": "markdown",
   "id": "75024ad7",
   "metadata": {},
   "source": [
    "- 구간 개수 조정 가능\n",
    "- bins = 수"
   ]
  },
  {
   "cell_type": "code",
   "execution_count": 14,
   "id": "74c0a06c",
   "metadata": {},
   "outputs": [
    {
     "data": {
      "text/plain": [
       "(array([ 3., 22., 47., 23.,  5.]),\n",
       " array([-3.56845406, -0.16003016,  3.24839375,  6.65681766, 10.06524156,\n",
       "        13.47366547]),\n",
       " <BarContainer object of 5 artists>)"
      ]
     },
     "execution_count": 14,
     "metadata": {},
     "output_type": "execute_result"
    },
    {
     "data": {
      "image/png": "[encoded data removed]",
      "text/plain": [
       "<Figure size 432x288 with 1 Axes>"
      ]
     },
     "metadata": {
      "needs_background": "light"
     },
     "output_type": "display_data"
    }
   ],
   "source": [
    "plt.hist(x, bins=5) # 구간 개수 5개"
   ]
  },
  {
   "cell_type": "code",
   "execution_count": 15,
   "id": "b23dbcfc",
   "metadata": {},
   "outputs": [
    {
     "data": {
      "text/plain": [
       "(array([ 1.,  2.,  6., 16., 25., 22., 13., 10.,  3.,  2.]),\n",
       " array([-3.56845406, -1.86424211, -0.16003016,  1.5441818 ,  3.24839375,\n",
       "         4.9526057 ,  6.65681766,  8.36102961, 10.06524156, 11.76945352,\n",
       "        13.47366547]),\n",
       " <BarContainer object of 10 artists>)"
      ]
     },
     "execution_count": 15,
     "metadata": {},
     "output_type": "execute_result"
    },
    {
     "data": {
      "image/png": "[encoded data removed]",
      "text/plain": [
       "<Figure size 432x288 with 1 Axes>"
      ]
     },
     "metadata": {
      "needs_background": "light"
     },
     "output_type": "display_data"
    }
   ],
   "source": [
    "plt.hist(x, bins=10) # 구간 개수 10개"
   ]
  },
  {
   "cell_type": "code",
   "execution_count": 16,
   "id": "ce81db95",
   "metadata": {},
   "outputs": [
    {
     "data": {
      "text/plain": [
       "(array([ 1.,  0.,  0.,  2.,  3.,  3.,  8.,  8., 13., 12., 14.,  8.,  9.,\n",
       "         4.,  8.,  2.,  2.,  1.,  1.,  1.]),\n",
       " array([-3.56845406, -2.71634809, -1.86424211, -1.01213613, -0.16003016,\n",
       "         0.69207582,  1.5441818 ,  2.39628777,  3.24839375,  4.10049973,\n",
       "         4.9526057 ,  5.80471168,  6.65681766,  7.50892363,  8.36102961,\n",
       "         9.21313559, 10.06524156, 10.91734754, 11.76945352, 12.62155949,\n",
       "        13.47366547]),\n",
       " <BarContainer object of 20 artists>)"
      ]
     },
     "execution_count": 16,
     "metadata": {},
     "output_type": "execute_result"
    },
    {
     "data": {
      "image/png": "[encoded data removed]",
      "text/plain": [
       "<Figure size 432x288 with 1 Axes>"
      ]
     },
     "metadata": {
      "needs_background": "light"
     },
     "output_type": "display_data"
    }
   ],
   "source": [
    "plt.hist(x, bins=20) # 구간 개수 20개"
   ]
  },
  {
   "cell_type": "code",
   "execution_count": 17,
   "id": "3b56df90",
   "metadata": {},
   "outputs": [
    {
     "data": {
      "text/plain": [
       "(array([1., 0., 0., 0., 0., 0., 0., 1., 1., 0., 1., 2., 1., 2., 0., 3., 2.,\n",
       "        4., 4., 3., 6., 6., 3., 4., 6., 3., 7., 6., 4., 2., 2., 5., 3., 2.,\n",
       "        1., 2., 5., 2., 0., 1., 2., 0., 1., 0., 0., 1., 0., 0., 0., 1.]),\n",
       " array([-3.56845406, -3.22761167, -2.88676928, -2.54592689, -2.2050845 ,\n",
       "        -1.86424211, -1.52339972, -1.18255733, -0.84171494, -0.50087255,\n",
       "        -0.16003016,  0.18081223,  0.52165462,  0.86249702,  1.20333941,\n",
       "         1.5441818 ,  1.88502419,  2.22586658,  2.56670897,  2.90755136,\n",
       "         3.24839375,  3.58923614,  3.93007853,  4.27092092,  4.61176331,\n",
       "         4.9526057 ,  5.29344809,  5.63429048,  5.97513287,  6.31597527,\n",
       "         6.65681766,  6.99766005,  7.33850244,  7.67934483,  8.02018722,\n",
       "         8.36102961,  8.701872  ,  9.04271439,  9.38355678,  9.72439917,\n",
       "        10.06524156, 10.40608395, 10.74692634, 11.08776873, 11.42861112,\n",
       "        11.76945352, 12.11029591, 12.4511383 , 12.79198069, 13.13282308,\n",
       "        13.47366547]),\n",
       " <BarContainer object of 50 artists>)"
      ]
     },
     "execution_count": 17,
     "metadata": {},
     "output_type": "execute_result"
    },
    {
     "data": {
      "image/png": "[encoded data removed]",
      "text/plain": [
       "<Figure size 432x288 with 1 Axes>"
      ]
     },
     "metadata": {
      "needs_background": "light"
     },
     "output_type": "display_data"
    }
   ],
   "source": [
    "plt.hist(x, bins=50) # 구간 개수 50개"
   ]
  },
  {
   "cell_type": "markdown",
   "id": "a8aed644",
   "metadata": {},
   "source": [
    "### 히트맵"
   ]
  },
  {
   "cell_type": "code",
   "execution_count": 18,
   "id": "e8a81291",
   "metadata": {
    "scrolled": true
   },
   "outputs": [],
   "source": [
    "data = pd.DataFrame({\"math\":[50,60,70], \n",
    "                     \"english\":[60,70,80]}, \n",
    "                    index=[\"홍길동\",\"김영희\",\"박철수\"])"
   ]
  },
  {
   "cell_type": "code",
   "execution_count": 19,
   "id": "5c82a034",
   "metadata": {},
   "outputs": [
    {
     "data": {
      "text/html": [
       "<div>\n",
       "<style scoped>\n",
       "    .dataframe tbody tr th:only-of-type {\n",
       "        vertical-align: middle;\n",
       "    }\n",
       "\n",
       "    .dataframe tbody tr th {\n",
       "        vertical-align: top;\n",
       "    }\n",
       "\n",
       "    .dataframe thead th {\n",
       "        text-align: right;\n",
       "    }\n",
       "</style>\n",
       "<table border=\"1\" class=\"dataframe\">\n",
       "  <thead>\n",
       "    <tr style=\"text-align: right;\">\n",
       "      <th></th>\n",
       "      <th>math</th>\n",
       "      <th>english</th>\n",
       "    </tr>\n",
       "  </thead>\n",
       "  <tbody>\n",
       "    <tr>\n",
       "      <th>홍길동</th>\n",
       "      <td>50</td>\n",
       "      <td>60</td>\n",
       "    </tr>\n",
       "    <tr>\n",
       "      <th>김영희</th>\n",
       "      <td>60</td>\n",
       "      <td>70</td>\n",
       "    </tr>\n",
       "    <tr>\n",
       "      <th>박철수</th>\n",
       "      <td>70</td>\n",
       "      <td>80</td>\n",
       "    </tr>\n",
       "  </tbody>\n",
       "</table>\n",
       "</div>"
      ],
      "text/plain": [
       "     math  english\n",
       "홍길동    50       60\n",
       "김영희    60       70\n",
       "박철수    70       80"
      ]
     },
     "execution_count": 19,
     "metadata": {},
     "output_type": "execute_result"
    }
   ],
   "source": [
    "data"
   ]
  },
  {
   "cell_type": "code",
   "execution_count": 20,
   "id": "66dc188e",
   "metadata": {},
   "outputs": [
    {
     "data": {
      "text/plain": [
       "<AxesSubplot:>"
      ]
     },
     "execution_count": 20,
     "metadata": {},
     "output_type": "execute_result"
    },
    {
     "data": {
      "image/png": "[encoded data removed]",
      "text/plain": [
       "<Figure size 432x288 with 2 Axes>"
      ]
     },
     "metadata": {
      "needs_background": "light"
     },
     "output_type": "display_data"
    }
   ],
   "source": [
    "sns.heatmap(data)"
   ]
  },
  {
   "cell_type": "code",
   "execution_count": 21,
   "id": "28ff5277",
   "metadata": {},
   "outputs": [
    {
     "data": {
      "text/plain": [
       "<AxesSubplot:>"
      ]
     },
     "execution_count": 21,
     "metadata": {},
     "output_type": "execute_result"
    },
    {
     "data": {
      "image/png": "[encoded data removed]",
      "text/plain": [
       "<Figure size 432x288 with 2 Axes>"
      ]
     },
     "metadata": {
      "needs_background": "light"
     },
     "output_type": "display_data"
    }
   ],
   "source": [
    "sns.heatmap(data, annot=True, fmt='d') #데이터 값이 들어갈 수 있다."
   ]
  },
  {
   "cell_type": "code",
   "execution_count": 22,
   "id": "612f9889",
   "metadata": {},
   "outputs": [
    {
     "data": {
      "text/plain": [
       "<AxesSubplot:>"
      ]
     },
     "execution_count": 22,
     "metadata": {},
     "output_type": "execute_result"
    },
    {
     "data": {
      "image/png": "[encoded data removed]",
      "text/plain": [
       "<Figure size 432x288 with 2 Axes>"
      ]
     },
     "metadata": {
      "needs_background": "light"
     },
     "output_type": "display_data"
    }
   ],
   "source": [
    "sns.heatmap(data, annot=True, fmt='.2f') # fmt='.2f' : 소수점 아래 두자리수까지 표시"
   ]
  },
  {
   "cell_type": "code",
   "execution_count": 23,
   "id": "f1d5774b",
   "metadata": {},
   "outputs": [
    {
     "data": {
      "text/plain": [
       "<AxesSubplot:>"
      ]
     },
     "execution_count": 23,
     "metadata": {},
     "output_type": "execute_result"
    },
    {
     "data": {
      "image/png": "[encoded data removed]",
      "text/plain": [
       "<Figure size 432x288 with 2 Axes>"
      ]
     },
     "metadata": {
      "needs_background": "light"
     },
     "output_type": "display_data"
    }
   ],
   "source": [
    "sns.heatmap(data, annot=True, fmt='.2f', linewidth=1, linecolor=\"black\")\n",
    "# 테두리 색, 굵기 지정 가능"
   ]
  },
  {
   "cell_type": "code",
   "execution_count": 24,
   "id": "e37ef5f7",
   "metadata": {},
   "outputs": [
    {
     "data": {
      "text/plain": [
       "<AxesSubplot:>"
      ]
     },
     "execution_count": 24,
     "metadata": {},
     "output_type": "execute_result"
    },
    {
     "data": {
      "image/png": "[encoded data removed]",
      "text/plain": [
       "<Figure size 432x288 with 2 Axes>"
      ]
     },
     "metadata": {
      "needs_background": "light"
     },
     "output_type": "display_data"
    }
   ],
   "source": [
    "sns.heatmap(data, annot=True, cmap=\"Blues\", fmt='.2f', \n",
    "            linewidth=1, linecolor=\"black\")"
   ]
  },
  {
   "cell_type": "code",
   "execution_count": 25,
   "id": "da8c5e8d",
   "metadata": {},
   "outputs": [],
   "source": [
    "df = pd.read_csv(\"재무제표샘플_대원미디어.csv\", encoding=\"euc-kr\")"
   ]
  },
  {
   "cell_type": "markdown",
   "id": "cb7616b8",
   "metadata": {},
   "source": [
    "- kind 인자를 통해 그래프를 어떤 걸 그릴지 결정할 수 있다.\n",
    "- line: 선 그래프\n",
    "- bar: 막대 그래프\n",
    "- barh: 수평 막대 그래프\n",
    "- hist: 히스토그램\n",
    "- box: 박스 플롯\n",
    "- scatter: 산점도"
   ]
  },
  {
   "cell_type": "code",
   "execution_count": 26,
   "id": "bf9c916e",
   "metadata": {},
   "outputs": [
    {
     "data": {
      "text/html": [
       "<div>\n",
       "<style scoped>\n",
       "    .dataframe tbody tr th:only-of-type {\n",
       "        vertical-align: middle;\n",
       "    }\n",
       "\n",
       "    .dataframe tbody tr th {\n",
       "        vertical-align: top;\n",
       "    }\n",
       "\n",
       "    .dataframe thead th {\n",
       "        text-align: right;\n",
       "    }\n",
       "</style>\n",
       "<table border=\"1\" class=\"dataframe\">\n",
       "  <thead>\n",
       "    <tr style=\"text-align: right;\">\n",
       "      <th></th>\n",
       "      <th>연도</th>\n",
       "      <th>자산총계</th>\n",
       "      <th>부채총계</th>\n",
       "      <th>자본총계</th>\n",
       "      <th>매출액</th>\n",
       "      <th>영업이익</th>\n",
       "      <th>당기순이익</th>\n",
       "      <th>부채비율</th>\n",
       "    </tr>\n",
       "  </thead>\n",
       "  <tbody>\n",
       "    <tr>\n",
       "      <th>0</th>\n",
       "      <td>2016</td>\n",
       "      <td>9.776068e+10</td>\n",
       "      <td>23419492827</td>\n",
       "      <td>7.434119e+10</td>\n",
       "      <td>9.499312e+10</td>\n",
       "      <td>2379822965</td>\n",
       "      <td>480426339</td>\n",
       "      <td>76.044057</td>\n",
       "    </tr>\n",
       "    <tr>\n",
       "      <th>1</th>\n",
       "      <td>2017</td>\n",
       "      <td>1.043490e+11</td>\n",
       "      <td>23398872100</td>\n",
       "      <td>8.095035e+10</td>\n",
       "      <td>1.207350e+11</td>\n",
       "      <td>6987071352</td>\n",
       "      <td>7797097354</td>\n",
       "      <td>77.576381</td>\n",
       "    </tr>\n",
       "    <tr>\n",
       "      <th>2</th>\n",
       "      <td>2018</td>\n",
       "      <td>1.255730e+11</td>\n",
       "      <td>24027374437</td>\n",
       "      <td>1.015450e+11</td>\n",
       "      <td>1.633750e+11</td>\n",
       "      <td>6412992156</td>\n",
       "      <td>4153603488</td>\n",
       "      <td>80.865781</td>\n",
       "    </tr>\n",
       "    <tr>\n",
       "      <th>3</th>\n",
       "      <td>2019</td>\n",
       "      <td>1.361390e+11</td>\n",
       "      <td>34941404675</td>\n",
       "      <td>1.011980e+11</td>\n",
       "      <td>1.915460e+11</td>\n",
       "      <td>3664066464</td>\n",
       "      <td>3181392223</td>\n",
       "      <td>74.334031</td>\n",
       "    </tr>\n",
       "    <tr>\n",
       "      <th>4</th>\n",
       "      <td>2020</td>\n",
       "      <td>1.446900e+11</td>\n",
       "      <td>35459747467</td>\n",
       "      <td>1.092300e+11</td>\n",
       "      <td>2.662270e+11</td>\n",
       "      <td>7227983716</td>\n",
       "      <td>6501208590</td>\n",
       "      <td>75.492644</td>\n",
       "    </tr>\n",
       "  </tbody>\n",
       "</table>\n",
       "</div>"
      ],
      "text/plain": [
       "     연도          자산총계         부채총계          자본총계           매출액        영업이익  \\\n",
       "0  2016  9.776068e+10  23419492827  7.434119e+10  9.499312e+10  2379822965   \n",
       "1  2017  1.043490e+11  23398872100  8.095035e+10  1.207350e+11  6987071352   \n",
       "2  2018  1.255730e+11  24027374437  1.015450e+11  1.633750e+11  6412992156   \n",
       "3  2019  1.361390e+11  34941404675  1.011980e+11  1.915460e+11  3664066464   \n",
       "4  2020  1.446900e+11  35459747467  1.092300e+11  2.662270e+11  7227983716   \n",
       "\n",
       "        당기순이익       부채비율  \n",
       "0   480426339  76.044057  \n",
       "1  7797097354  77.576381  \n",
       "2  4153603488  80.865781  \n",
       "3  3181392223  74.334031  \n",
       "4  6501208590  75.492644  "
      ]
     },
     "execution_count": 26,
     "metadata": {},
     "output_type": "execute_result"
    }
   ],
   "source": [
    "df"
   ]
  },
  {
   "cell_type": "code",
   "execution_count": 27,
   "id": "7d6f563e",
   "metadata": {},
   "outputs": [
    {
     "data": {
      "text/plain": [
       "<AxesSubplot:xlabel='연도'>"
      ]
     },
     "execution_count": 27,
     "metadata": {},
     "output_type": "execute_result"
    },
    {
     "data": {
      "image/png": "[encoded data removed]",
      "text/plain": [
       "<Figure size 720x360 with 1 Axes>"
      ]
     },
     "metadata": {
      "needs_background": "light"
     },
     "output_type": "display_data"
    }
   ],
   "source": [
    "df.plot(kind=\"line\", x=\"연도\", y=[\"영업이익\", \"당기순이익\"], \n",
    "       figsize=(10,5), xticks=[2016,2017,2018,2019,2020])"
   ]
  },
  {
   "cell_type": "code",
   "execution_count": 28,
   "id": "2c47b660",
   "metadata": {},
   "outputs": [
    {
     "data": {
      "text/plain": [
       "<AxesSubplot:xlabel='연도'>"
      ]
     },
     "execution_count": 28,
     "metadata": {},
     "output_type": "execute_result"
    },
    {
     "data": {
      "image/png": "[encoded data removed]",
      "text/plain": [
       "<Figure size 720x360 with 1 Axes>"
      ]
     },
     "metadata": {
      "needs_background": "light"
     },
     "output_type": "display_data"
    }
   ],
   "source": [
    "df.plot(kind=\"bar\", x=\"연도\", y=[\"영업이익\", \"당기순이익\"], \n",
    "       figsize=(10,5))"
   ]
  },
  {
   "cell_type": "code",
   "execution_count": 29,
   "id": "356dbc09",
   "metadata": {},
   "outputs": [
    {
     "data": {
      "text/plain": [
       "<AxesSubplot:ylabel='연도'>"
      ]
     },
     "execution_count": 29,
     "metadata": {},
     "output_type": "execute_result"
    },
    {
     "data": {
      "image/png": "[encoded data removed]",
      "text/plain": [
       "<Figure size 720x360 with 1 Axes>"
      ]
     },
     "metadata": {
      "needs_background": "light"
     },
     "output_type": "display_data"
    }
   ],
   "source": [
    "df.plot(kind=\"barh\", x=\"연도\", y=[\"영업이익\", \"당기순이익\"], \n",
    "       figsize=(10,5))"
   ]
  },
  {
   "cell_type": "code",
   "execution_count": 30,
   "id": "239b14a7",
   "metadata": {},
   "outputs": [
    {
     "data": {
      "text/plain": [
       "<AxesSubplot:>"
      ]
     },
     "execution_count": 30,
     "metadata": {},
     "output_type": "execute_result"
    },
    {
     "data": {
      "image/png": "[encoded data removed]",
      "text/plain": [
       "<Figure size 720x360 with 1 Axes>"
      ]
     },
     "metadata": {
      "needs_background": "light"
     },
     "output_type": "display_data"
    }
   ],
   "source": [
    "df.plot(kind=\"box\", x=\"연도\", y=[\"영업이익\", \"당기순이익\", \"부채비율\"], \n",
    "       figsize=(10,5))"
   ]
  },
  {
   "cell_type": "markdown",
   "id": "e0e62c31",
   "metadata": {},
   "source": [
    "### 2개 이상의 그래프를 그리고 싶어요!"
   ]
  },
  {
   "cell_type": "code",
   "execution_count": 31,
   "id": "4dcb6134",
   "metadata": {
    "scrolled": true
   },
   "outputs": [],
   "source": [
    "mpg = pd.read_csv(\"mpg.csv\")"
   ]
  },
  {
   "cell_type": "code",
   "execution_count": 32,
   "id": "ee805d97",
   "metadata": {},
   "outputs": [
    {
     "data": {
      "text/html": [
       "<div>\n",
       "<style scoped>\n",
       "    .dataframe tbody tr th:only-of-type {\n",
       "        vertical-align: middle;\n",
       "    }\n",
       "\n",
       "    .dataframe tbody tr th {\n",
       "        vertical-align: top;\n",
       "    }\n",
       "\n",
       "    .dataframe thead th {\n",
       "        text-align: right;\n",
       "    }\n",
       "</style>\n",
       "<table border=\"1\" class=\"dataframe\">\n",
       "  <thead>\n",
       "    <tr style=\"text-align: right;\">\n",
       "      <th></th>\n",
       "      <th>manufacturer</th>\n",
       "      <th>model</th>\n",
       "      <th>displ</th>\n",
       "      <th>year</th>\n",
       "      <th>cyl</th>\n",
       "      <th>trans</th>\n",
       "      <th>drv</th>\n",
       "      <th>cty</th>\n",
       "      <th>hwy</th>\n",
       "      <th>fl</th>\n",
       "      <th>category</th>\n",
       "    </tr>\n",
       "  </thead>\n",
       "  <tbody>\n",
       "    <tr>\n",
       "      <th>0</th>\n",
       "      <td>audi</td>\n",
       "      <td>a4</td>\n",
       "      <td>1.8</td>\n",
       "      <td>1999</td>\n",
       "      <td>4</td>\n",
       "      <td>auto(l5)</td>\n",
       "      <td>f</td>\n",
       "      <td>18</td>\n",
       "      <td>29</td>\n",
       "      <td>p</td>\n",
       "      <td>compact</td>\n",
       "    </tr>\n",
       "    <tr>\n",
       "      <th>1</th>\n",
       "      <td>audi</td>\n",
       "      <td>a4</td>\n",
       "      <td>1.8</td>\n",
       "      <td>1999</td>\n",
       "      <td>4</td>\n",
       "      <td>manual(m5)</td>\n",
       "      <td>f</td>\n",
       "      <td>21</td>\n",
       "      <td>29</td>\n",
       "      <td>p</td>\n",
       "      <td>compact</td>\n",
       "    </tr>\n",
       "    <tr>\n",
       "      <th>2</th>\n",
       "      <td>audi</td>\n",
       "      <td>a4</td>\n",
       "      <td>2.0</td>\n",
       "      <td>2008</td>\n",
       "      <td>4</td>\n",
       "      <td>manual(m6)</td>\n",
       "      <td>f</td>\n",
       "      <td>20</td>\n",
       "      <td>31</td>\n",
       "      <td>p</td>\n",
       "      <td>compact</td>\n",
       "    </tr>\n",
       "    <tr>\n",
       "      <th>3</th>\n",
       "      <td>audi</td>\n",
       "      <td>a4</td>\n",
       "      <td>2.0</td>\n",
       "      <td>2008</td>\n",
       "      <td>4</td>\n",
       "      <td>auto(av)</td>\n",
       "      <td>f</td>\n",
       "      <td>21</td>\n",
       "      <td>30</td>\n",
       "      <td>p</td>\n",
       "      <td>compact</td>\n",
       "    </tr>\n",
       "    <tr>\n",
       "      <th>4</th>\n",
       "      <td>audi</td>\n",
       "      <td>a4</td>\n",
       "      <td>2.8</td>\n",
       "      <td>1999</td>\n",
       "      <td>6</td>\n",
       "      <td>auto(l5)</td>\n",
       "      <td>f</td>\n",
       "      <td>16</td>\n",
       "      <td>26</td>\n",
       "      <td>p</td>\n",
       "      <td>compact</td>\n",
       "    </tr>\n",
       "    <tr>\n",
       "      <th>...</th>\n",
       "      <td>...</td>\n",
       "      <td>...</td>\n",
       "      <td>...</td>\n",
       "      <td>...</td>\n",
       "      <td>...</td>\n",
       "      <td>...</td>\n",
       "      <td>...</td>\n",
       "      <td>...</td>\n",
       "      <td>...</td>\n",
       "      <td>...</td>\n",
       "      <td>...</td>\n",
       "    </tr>\n",
       "    <tr>\n",
       "      <th>229</th>\n",
       "      <td>volkswagen</td>\n",
       "      <td>passat</td>\n",
       "      <td>2.0</td>\n",
       "      <td>2008</td>\n",
       "      <td>4</td>\n",
       "      <td>auto(s6)</td>\n",
       "      <td>f</td>\n",
       "      <td>19</td>\n",
       "      <td>28</td>\n",
       "      <td>p</td>\n",
       "      <td>midsize</td>\n",
       "    </tr>\n",
       "    <tr>\n",
       "      <th>230</th>\n",
       "      <td>volkswagen</td>\n",
       "      <td>passat</td>\n",
       "      <td>2.0</td>\n",
       "      <td>2008</td>\n",
       "      <td>4</td>\n",
       "      <td>manual(m6)</td>\n",
       "      <td>f</td>\n",
       "      <td>21</td>\n",
       "      <td>29</td>\n",
       "      <td>p</td>\n",
       "      <td>midsize</td>\n",
       "    </tr>\n",
       "    <tr>\n",
       "      <th>231</th>\n",
       "      <td>volkswagen</td>\n",
       "      <td>passat</td>\n",
       "      <td>2.8</td>\n",
       "      <td>1999</td>\n",
       "      <td>6</td>\n",
       "      <td>auto(l5)</td>\n",
       "      <td>f</td>\n",
       "      <td>16</td>\n",
       "      <td>26</td>\n",
       "      <td>p</td>\n",
       "      <td>midsize</td>\n",
       "    </tr>\n",
       "    <tr>\n",
       "      <th>232</th>\n",
       "      <td>volkswagen</td>\n",
       "      <td>passat</td>\n",
       "      <td>2.8</td>\n",
       "      <td>1999</td>\n",
       "      <td>6</td>\n",
       "      <td>manual(m5)</td>\n",
       "      <td>f</td>\n",
       "      <td>18</td>\n",
       "      <td>26</td>\n",
       "      <td>p</td>\n",
       "      <td>midsize</td>\n",
       "    </tr>\n",
       "    <tr>\n",
       "      <th>233</th>\n",
       "      <td>volkswagen</td>\n",
       "      <td>passat</td>\n",
       "      <td>3.6</td>\n",
       "      <td>2008</td>\n",
       "      <td>6</td>\n",
       "      <td>auto(s6)</td>\n",
       "      <td>f</td>\n",
       "      <td>17</td>\n",
       "      <td>26</td>\n",
       "      <td>p</td>\n",
       "      <td>midsize</td>\n",
       "    </tr>\n",
       "  </tbody>\n",
       "</table>\n",
       "<p>234 rows × 11 columns</p>\n",
       "</div>"
      ],
      "text/plain": [
       "    manufacturer   model  displ  year  cyl       trans drv  cty  hwy fl  \\\n",
       "0           audi      a4    1.8  1999    4    auto(l5)   f   18   29  p   \n",
       "1           audi      a4    1.8  1999    4  manual(m5)   f   21   29  p   \n",
       "2           audi      a4    2.0  2008    4  manual(m6)   f   20   31  p   \n",
       "3           audi      a4    2.0  2008    4    auto(av)   f   21   30  p   \n",
       "4           audi      a4    2.8  1999    6    auto(l5)   f   16   26  p   \n",
       "..           ...     ...    ...   ...  ...         ...  ..  ...  ... ..   \n",
       "229   volkswagen  passat    2.0  2008    4    auto(s6)   f   19   28  p   \n",
       "230   volkswagen  passat    2.0  2008    4  manual(m6)   f   21   29  p   \n",
       "231   volkswagen  passat    2.8  1999    6    auto(l5)   f   16   26  p   \n",
       "232   volkswagen  passat    2.8  1999    6  manual(m5)   f   18   26  p   \n",
       "233   volkswagen  passat    3.6  2008    6    auto(s6)   f   17   26  p   \n",
       "\n",
       "    category  \n",
       "0    compact  \n",
       "1    compact  \n",
       "2    compact  \n",
       "3    compact  \n",
       "4    compact  \n",
       "..       ...  \n",
       "229  midsize  \n",
       "230  midsize  \n",
       "231  midsize  \n",
       "232  midsize  \n",
       "233  midsize  \n",
       "\n",
       "[234 rows x 11 columns]"
      ]
     },
     "execution_count": 32,
     "metadata": {},
     "output_type": "execute_result"
    }
   ],
   "source": [
    "mpg"
   ]
  },
  {
   "cell_type": "code",
   "execution_count": 33,
   "id": "3d537f62",
   "metadata": {},
   "outputs": [],
   "source": [
    "# gridspec: 이 모듈을 가지고 온다!\n",
    "import matplotlib.gridspec as gridspec"
   ]
  },
  {
   "cell_type": "code",
   "execution_count": 34,
   "id": "f188083e",
   "metadata": {},
   "outputs": [
    {
     "data": {
      "text/plain": [
       "<Figure size 1080x720 with 0 Axes>"
      ]
     },
     "metadata": {},
     "output_type": "display_data"
    }
   ],
   "source": [
    "grid = gridspec.GridSpec(2,2) # 본인이 그리고 싶은 그래프의 개수를 적으면 됩니다.\n",
    "plt.figure(figsize=(15,10))\n",
    "plt.subplots_adjust(wspace=5, hspace=3) # 직접 수를 바꿔보시면서 이해해 주세요!!"
   ]
  },
  {
   "cell_type": "code",
   "execution_count": 35,
   "id": "3b8a878c",
   "metadata": {},
   "outputs": [
    {
     "data": {
      "image/png": "[encoded data removed]",
      "text/plain": [
       "<Figure size 432x288 with 4 Axes>"
      ]
     },
     "metadata": {
      "needs_background": "light"
     },
     "output_type": "display_data"
    }
   ],
   "source": [
    "# 서브플롯에 필요한 컬럼을 가져옴!\n",
    "mpg_features = [\"manufacturer\",\"model\",\"category\",\"hwy\"]\n",
    "\n",
    "for idx, feature in enumerate(mpg_features): \n",
    "    ax=plt.subplot(grid[idx])\n",
    "    sns.countplot(x=feature, data=mpg, hue=\"drv\", palette=\"pastel\", ax=ax)\n",
    "    ax.set_title(f\" {feature} Distribution\")"
   ]
  },
  {
   "cell_type": "markdown",
   "id": "1511fe38",
   "metadata": {},
   "source": [
    "### 반복문을 이용해서 여러가지 subplot을 만들어주세요!!\n",
    "- 데이터는 타이타닉 데이터로 시각화 하기\n",
    "- 타이타닉 데이터의 경우는 분석할 수 있는 변수 간의 관계가 정말 많아요!\n",
    "- survived: 이 변수에 따라서 달라지는 변수값을 시각화하는 것이 중요하다!\n",
    "- 최대한 모든 변수를 시각화 해주시고, 시각화 한 내용에 대해서 주석처리 및 마크다운으로 인사이트 정리\n",
    "- 반복문을 이용해서 시각화를 진행해 주세요!\n",
    "- 과제 기한: 11.6\n",
    "- 수업 시작: 11.6 (10월 한 달은 수업이 없음)"
   ]
  },
  {
   "cell_type": "code",
   "execution_count": 37,
   "id": "274126e8",
   "metadata": {},
   "outputs": [],
   "source": [
    "titanic = sns.load_dataset(\"titanic\")"
   ]
  },
  {
   "cell_type": "code",
   "execution_count": 38,
   "id": "fa7eb679",
   "metadata": {},
   "outputs": [
    {
     "data": {
      "text/html": [
       "<div>\n",
       "<style scoped>\n",
       "    .dataframe tbody tr th:only-of-type {\n",
       "        vertical-align: middle;\n",
       "    }\n",
       "\n",
       "    .dataframe tbody tr th {\n",
       "        vertical-align: top;\n",
       "    }\n",
       "\n",
       "    .dataframe thead th {\n",
       "        text-align: right;\n",
       "    }\n",
       "</style>\n",
       "<table border=\"1\" class=\"dataframe\">\n",
       "  <thead>\n",
       "    <tr style=\"text-align: right;\">\n",
       "      <th></th>\n",
       "      <th>survived</th>\n",
       "      <th>pclass</th>\n",
       "      <th>sex</th>\n",
       "      <th>age</th>\n",
       "      <th>sibsp</th>\n",
       "      <th>parch</th>\n",
       "      <th>fare</th>\n",
       "      <th>embarked</th>\n",
       "      <th>class</th>\n",
       "      <th>who</th>\n",
       "      <th>adult_male</th>\n",
       "      <th>deck</th>\n",
       "      <th>embark_town</th>\n",
       "      <th>alive</th>\n",
       "      <th>alone</th>\n",
       "    </tr>\n",
       "  </thead>\n",
       "  <tbody>\n",
       "    <tr>\n",
       "      <th>0</th>\n",
       "      <td>0</td>\n",
       "      <td>3</td>\n",
       "      <td>male</td>\n",
       "      <td>22.0</td>\n",
       "      <td>1</td>\n",
       "      <td>0</td>\n",
       "      <td>7.2500</td>\n",
       "      <td>S</td>\n",
       "      <td>Third</td>\n",
       "      <td>man</td>\n",
       "      <td>True</td>\n",
       "      <td>NaN</td>\n",
       "      <td>Southampton</td>\n",
       "      <td>no</td>\n",
       "      <td>False</td>\n",
       "    </tr>\n",
       "    <tr>\n",
       "      <th>1</th>\n",
       "      <td>1</td>\n",
       "      <td>1</td>\n",
       "      <td>female</td>\n",
       "      <td>38.0</td>\n",
       "      <td>1</td>\n",
       "      <td>0</td>\n",
       "      <td>71.2833</td>\n",
       "      <td>C</td>\n",
       "      <td>First</td>\n",
       "      <td>woman</td>\n",
       "      <td>False</td>\n",
       "      <td>C</td>\n",
       "      <td>Cherbourg</td>\n",
       "      <td>yes</td>\n",
       "      <td>False</td>\n",
       "    </tr>\n",
       "    <tr>\n",
       "      <th>2</th>\n",
       "      <td>1</td>\n",
       "      <td>3</td>\n",
       "      <td>female</td>\n",
       "      <td>26.0</td>\n",
       "      <td>0</td>\n",
       "      <td>0</td>\n",
       "      <td>7.9250</td>\n",
       "      <td>S</td>\n",
       "      <td>Third</td>\n",
       "      <td>woman</td>\n",
       "      <td>False</td>\n",
       "      <td>NaN</td>\n",
       "      <td>Southampton</td>\n",
       "      <td>yes</td>\n",
       "      <td>True</td>\n",
       "    </tr>\n",
       "    <tr>\n",
       "      <th>3</th>\n",
       "      <td>1</td>\n",
       "      <td>1</td>\n",
       "      <td>female</td>\n",
       "      <td>35.0</td>\n",
       "      <td>1</td>\n",
       "      <td>0</td>\n",
       "      <td>53.1000</td>\n",
       "      <td>S</td>\n",
       "      <td>First</td>\n",
       "      <td>woman</td>\n",
       "      <td>False</td>\n",
       "      <td>C</td>\n",
       "      <td>Southampton</td>\n",
       "      <td>yes</td>\n",
       "      <td>False</td>\n",
       "    </tr>\n",
       "    <tr>\n",
       "      <th>4</th>\n",
       "      <td>0</td>\n",
       "      <td>3</td>\n",
       "      <td>male</td>\n",
       "      <td>35.0</td>\n",
       "      <td>0</td>\n",
       "      <td>0</td>\n",
       "      <td>8.0500</td>\n",
       "      <td>S</td>\n",
       "      <td>Third</td>\n",
       "      <td>man</td>\n",
       "      <td>True</td>\n",
       "      <td>NaN</td>\n",
       "      <td>Southampton</td>\n",
       "      <td>no</td>\n",
       "      <td>True</td>\n",
       "    </tr>\n",
       "    <tr>\n",
       "      <th>...</th>\n",
       "      <td>...</td>\n",
       "      <td>...</td>\n",
       "      <td>...</td>\n",
       "      <td>...</td>\n",
       "      <td>...</td>\n",
       "      <td>...</td>\n",
       "      <td>...</td>\n",
       "      <td>...</td>\n",
       "      <td>...</td>\n",
       "      <td>...</td>\n",
       "      <td>...</td>\n",
       "      <td>...</td>\n",
       "      <td>...</td>\n",
       "      <td>...</td>\n",
       "      <td>...</td>\n",
       "    </tr>\n",
       "    <tr>\n",
       "      <th>886</th>\n",
       "      <td>0</td>\n",
       "      <td>2</td>\n",
       "      <td>male</td>\n",
       "      <td>27.0</td>\n",
       "      <td>0</td>\n",
       "      <td>0</td>\n",
       "      <td>13.0000</td>\n",
       "      <td>S</td>\n",
       "      <td>Second</td>\n",
       "      <td>man</td>\n",
       "      <td>True</td>\n",
       "      <td>NaN</td>\n",
       "      <td>Southampton</td>\n",
       "      <td>no</td>\n",
       "      <td>True</td>\n",
       "    </tr>\n",
       "    <tr>\n",
       "      <th>887</th>\n",
       "      <td>1</td>\n",
       "      <td>1</td>\n",
       "      <td>female</td>\n",
       "      <td>19.0</td>\n",
       "      <td>0</td>\n",
       "      <td>0</td>\n",
       "      <td>30.0000</td>\n",
       "      <td>S</td>\n",
       "      <td>First</td>\n",
       "      <td>woman</td>\n",
       "      <td>False</td>\n",
       "      <td>B</td>\n",
       "      <td>Southampton</td>\n",
       "      <td>yes</td>\n",
       "      <td>True</td>\n",
       "    </tr>\n",
       "    <tr>\n",
       "      <th>888</th>\n",
       "      <td>0</td>\n",
       "      <td>3</td>\n",
       "      <td>female</td>\n",
       "      <td>NaN</td>\n",
       "      <td>1</td>\n",
       "      <td>2</td>\n",
       "      <td>23.4500</td>\n",
       "      <td>S</td>\n",
       "      <td>Third</td>\n",
       "      <td>woman</td>\n",
       "      <td>False</td>\n",
       "      <td>NaN</td>\n",
       "      <td>Southampton</td>\n",
       "      <td>no</td>\n",
       "      <td>False</td>\n",
       "    </tr>\n",
       "    <tr>\n",
       "      <th>889</th>\n",
       "      <td>1</td>\n",
       "      <td>1</td>\n",
       "      <td>male</td>\n",
       "      <td>26.0</td>\n",
       "      <td>0</td>\n",
       "      <td>0</td>\n",
       "      <td>30.0000</td>\n",
       "      <td>C</td>\n",
       "      <td>First</td>\n",
       "      <td>man</td>\n",
       "      <td>True</td>\n",
       "      <td>C</td>\n",
       "      <td>Cherbourg</td>\n",
       "      <td>yes</td>\n",
       "      <td>True</td>\n",
       "    </tr>\n",
       "    <tr>\n",
       "      <th>890</th>\n",
       "      <td>0</td>\n",
       "      <td>3</td>\n",
       "      <td>male</td>\n",
       "      <td>32.0</td>\n",
       "      <td>0</td>\n",
       "      <td>0</td>\n",
       "      <td>7.7500</td>\n",
       "      <td>Q</td>\n",
       "      <td>Third</td>\n",
       "      <td>man</td>\n",
       "      <td>True</td>\n",
       "      <td>NaN</td>\n",
       "      <td>Queenstown</td>\n",
       "      <td>no</td>\n",
       "      <td>True</td>\n",
       "    </tr>\n",
       "  </tbody>\n",
       "</table>\n",
       "<p>891 rows × 15 columns</p>\n",
       "</div>"
      ],
      "text/plain": [
       "     survived  pclass     sex   age  sibsp  parch     fare embarked   class  \\\n",
       "0           0       3    male  22.0      1      0   7.2500        S   Third   \n",
       "1           1       1  female  38.0      1      0  71.2833        C   First   \n",
       "2           1       3  female  26.0      0      0   7.9250        S   Third   \n",
       "3           1       1  female  35.0      1      0  53.1000        S   First   \n",
       "4           0       3    male  35.0      0      0   8.0500        S   Third   \n",
       "..        ...     ...     ...   ...    ...    ...      ...      ...     ...   \n",
       "886         0       2    male  27.0      0      0  13.0000        S  Second   \n",
       "887         1       1  female  19.0      0      0  30.0000        S   First   \n",
       "888         0       3  female   NaN      1      2  23.4500        S   Third   \n",
       "889         1       1    male  26.0      0      0  30.0000        C   First   \n",
       "890         0       3    male  32.0      0      0   7.7500        Q   Third   \n",
       "\n",
       "       who  adult_male deck  embark_town alive  alone  \n",
       "0      man        True  NaN  Southampton    no  False  \n",
       "1    woman       False    C    Cherbourg   yes  False  \n",
       "2    woman       False  NaN  Southampton   yes   True  \n",
       "3    woman       False    C  Southampton   yes  False  \n",
       "4      man        True  NaN  Southampton    no   True  \n",
       "..     ...         ...  ...          ...   ...    ...  \n",
       "886    man        True  NaN  Southampton    no   True  \n",
       "887  woman       False    B  Southampton   yes   True  \n",
       "888  woman       False  NaN  Southampton    no  False  \n",
       "889    man        True    C    Cherbourg   yes   True  \n",
       "890    man        True  NaN   Queenstown    no   True  \n",
       "\n",
       "[891 rows x 15 columns]"
      ]
     },
     "execution_count": 38,
     "metadata": {},
     "output_type": "execute_result"
    }
   ],
   "source": [
    "titanic"
   ]
  },
  {
   "cell_type": "code",
   "execution_count": null,
   "id": "f55bb275",
   "metadata": {},
   "outputs": [],
   "source": []
  }
 ],
 "metadata": {
  "kernelspec": {
   "display_name": "Python 3 (ipykernel)",
   "language": "python",
   "name": "python3"
  },
  "language_info": {
   "codemirror_mode": {
    "name": "ipython",
    "version": 3
   },
   "file_extension": ".py",
   "mimetype": "text/x-python",
   "name": "python",
   "nbconvert_exporter": "python",
   "pygments_lexer": "ipython3",
   "version": "3.9.12"
  }
 },
 "nbformat": 4,
 "nbformat_minor": 5
}
