{
 "cells": [
  {
   "cell_type": "markdown",
   "id": "23e1495b",
   "metadata": {},
   "source": [
    "### 필수과제3\n",
    "- sales 데이터를 드릴 예정\n",
    "- 해당 sales 데이터 중에서 가장 많이 판매되었던 상품을 1, 2 3, 4까지 라벨링해주시고 해당 라벨링 값을 정답으로 하여\n",
    "- 위에 배운 내용을 복습하는 코드를 작성해주세요!\n",
    "- 해당 데이터는 정답값이 없다. 우리가 정답값을 만들어야한다.\n",
    "\n",
    "- 그 정답값을 만들어서 DecisionTree 모델만 사용하여 진행\n",
    "- skf를 이용해서 동일하게 micro, macro, weighted를 비교하여 정리해주시고\n",
    "- 데이터의 전처리의 경우 시간이 오래 걸릴 수 있으니 최대한 시간 효율 보셔서 진행해주시면 된다.\n",
    "- 다만 데이터 전처리가 없으면 안 됩니다.\n",
    "- 1, 2, 3, 4 외에 나머지 데이터는 0로 해주시고 데이터 전체 삭제하지 마시고 분류해주세요.\n",
    "- 1, 2, 3, 4, 0 라벨값이 생성될 것"
   ]
  },
  {
   "cell_type": "code",
   "execution_count": 1,
   "id": "e3b43442",
   "metadata": {},
   "outputs": [],
   "source": [
    "import pandas as pd\n",
    "import numpy as np\n",
    "import re"
   ]
  },
  {
   "cell_type": "code",
   "execution_count": 120,
   "id": "a3c7739b",
   "metadata": {},
   "outputs": [],
   "source": [
    "from sklearn.preprocessing import LabelEncoder\n",
    "from sklearn.tree import DecisionTreeClassifier\n",
    "from sklearn.model_selection import train_test_split\n",
    "from sklearn.metrics import accuracy_score, precision_score, recall_score # Confusion matrix 수업 때 진행할 예정\n",
    "from sklearn.model_selection import KFold, StratifiedKFold\n",
    "from sklearn.metrics import classification_report"
   ]
  },
  {
   "cell_type": "code",
   "execution_count": 2,
   "id": "161fa38a",
   "metadata": {},
   "outputs": [],
   "source": [
    "sales = pd.read_csv(\"sales_data.csv\", encoding=\"unicode_escape\")"
   ]
  },
  {
   "cell_type": "code",
   "execution_count": 3,
   "id": "07203627",
   "metadata": {},
   "outputs": [
    {
     "data": {
      "text/html": [
       "<div>\n",
       "<style scoped>\n",
       "    .dataframe tbody tr th:only-of-type {\n",
       "        vertical-align: middle;\n",
       "    }\n",
       "\n",
       "    .dataframe tbody tr th {\n",
       "        vertical-align: top;\n",
       "    }\n",
       "\n",
       "    .dataframe thead th {\n",
       "        text-align: right;\n",
       "    }\n",
       "</style>\n",
       "<table border=\"1\" class=\"dataframe\">\n",
       "  <thead>\n",
       "    <tr style=\"text-align: right;\">\n",
       "      <th></th>\n",
       "      <th>InvoiceNo</th>\n",
       "      <th>StockCode</th>\n",
       "      <th>Description</th>\n",
       "      <th>Quantity</th>\n",
       "      <th>InvoiceDate</th>\n",
       "      <th>UnitPrice</th>\n",
       "      <th>CustomerID</th>\n",
       "      <th>Country</th>\n",
       "    </tr>\n",
       "  </thead>\n",
       "  <tbody>\n",
       "    <tr>\n",
       "      <th>0</th>\n",
       "      <td>536365</td>\n",
       "      <td>85123A</td>\n",
       "      <td>WHITE HANGING HEART T-LIGHT HOLDER</td>\n",
       "      <td>6</td>\n",
       "      <td>12/1/2010 8:26</td>\n",
       "      <td>2.55</td>\n",
       "      <td>17850.0</td>\n",
       "      <td>United Kingdom</td>\n",
       "    </tr>\n",
       "    <tr>\n",
       "      <th>1</th>\n",
       "      <td>536365</td>\n",
       "      <td>71053</td>\n",
       "      <td>WHITE METAL LANTERN</td>\n",
       "      <td>6</td>\n",
       "      <td>12/1/2010 8:26</td>\n",
       "      <td>3.39</td>\n",
       "      <td>17850.0</td>\n",
       "      <td>United Kingdom</td>\n",
       "    </tr>\n",
       "    <tr>\n",
       "      <th>2</th>\n",
       "      <td>536365</td>\n",
       "      <td>84406B</td>\n",
       "      <td>CREAM CUPID HEARTS COAT HANGER</td>\n",
       "      <td>8</td>\n",
       "      <td>12/1/2010 8:26</td>\n",
       "      <td>2.75</td>\n",
       "      <td>17850.0</td>\n",
       "      <td>United Kingdom</td>\n",
       "    </tr>\n",
       "    <tr>\n",
       "      <th>3</th>\n",
       "      <td>536365</td>\n",
       "      <td>84029G</td>\n",
       "      <td>KNITTED UNION FLAG HOT WATER BOTTLE</td>\n",
       "      <td>6</td>\n",
       "      <td>12/1/2010 8:26</td>\n",
       "      <td>3.39</td>\n",
       "      <td>17850.0</td>\n",
       "      <td>United Kingdom</td>\n",
       "    </tr>\n",
       "    <tr>\n",
       "      <th>4</th>\n",
       "      <td>536365</td>\n",
       "      <td>84029E</td>\n",
       "      <td>RED WOOLLY HOTTIE WHITE HEART.</td>\n",
       "      <td>6</td>\n",
       "      <td>12/1/2010 8:26</td>\n",
       "      <td>3.39</td>\n",
       "      <td>17850.0</td>\n",
       "      <td>United Kingdom</td>\n",
       "    </tr>\n",
       "    <tr>\n",
       "      <th>...</th>\n",
       "      <td>...</td>\n",
       "      <td>...</td>\n",
       "      <td>...</td>\n",
       "      <td>...</td>\n",
       "      <td>...</td>\n",
       "      <td>...</td>\n",
       "      <td>...</td>\n",
       "      <td>...</td>\n",
       "    </tr>\n",
       "    <tr>\n",
       "      <th>541904</th>\n",
       "      <td>581587</td>\n",
       "      <td>22613</td>\n",
       "      <td>PACK OF 20 SPACEBOY NAPKINS</td>\n",
       "      <td>12</td>\n",
       "      <td>12/9/2011 12:50</td>\n",
       "      <td>0.85</td>\n",
       "      <td>12680.0</td>\n",
       "      <td>France</td>\n",
       "    </tr>\n",
       "    <tr>\n",
       "      <th>541905</th>\n",
       "      <td>581587</td>\n",
       "      <td>22899</td>\n",
       "      <td>CHILDREN'S APRON DOLLY GIRL</td>\n",
       "      <td>6</td>\n",
       "      <td>12/9/2011 12:50</td>\n",
       "      <td>2.10</td>\n",
       "      <td>12680.0</td>\n",
       "      <td>France</td>\n",
       "    </tr>\n",
       "    <tr>\n",
       "      <th>541906</th>\n",
       "      <td>581587</td>\n",
       "      <td>23254</td>\n",
       "      <td>CHILDRENS CUTLERY DOLLY GIRL</td>\n",
       "      <td>4</td>\n",
       "      <td>12/9/2011 12:50</td>\n",
       "      <td>4.15</td>\n",
       "      <td>12680.0</td>\n",
       "      <td>France</td>\n",
       "    </tr>\n",
       "    <tr>\n",
       "      <th>541907</th>\n",
       "      <td>581587</td>\n",
       "      <td>23255</td>\n",
       "      <td>CHILDRENS CUTLERY CIRCUS PARADE</td>\n",
       "      <td>4</td>\n",
       "      <td>12/9/2011 12:50</td>\n",
       "      <td>4.15</td>\n",
       "      <td>12680.0</td>\n",
       "      <td>France</td>\n",
       "    </tr>\n",
       "    <tr>\n",
       "      <th>541908</th>\n",
       "      <td>581587</td>\n",
       "      <td>22138</td>\n",
       "      <td>BAKING SET 9 PIECE RETROSPOT</td>\n",
       "      <td>3</td>\n",
       "      <td>12/9/2011 12:50</td>\n",
       "      <td>4.95</td>\n",
       "      <td>12680.0</td>\n",
       "      <td>France</td>\n",
       "    </tr>\n",
       "  </tbody>\n",
       "</table>\n",
       "<p>541909 rows × 8 columns</p>\n",
       "</div>"
      ],
      "text/plain": [
       "       InvoiceNo StockCode                          Description  Quantity  \\\n",
       "0         536365    85123A   WHITE HANGING HEART T-LIGHT HOLDER         6   \n",
       "1         536365     71053                  WHITE METAL LANTERN         6   \n",
       "2         536365    84406B       CREAM CUPID HEARTS COAT HANGER         8   \n",
       "3         536365    84029G  KNITTED UNION FLAG HOT WATER BOTTLE         6   \n",
       "4         536365    84029E       RED WOOLLY HOTTIE WHITE HEART.         6   \n",
       "...          ...       ...                                  ...       ...   \n",
       "541904    581587     22613          PACK OF 20 SPACEBOY NAPKINS        12   \n",
       "541905    581587     22899         CHILDREN'S APRON DOLLY GIRL          6   \n",
       "541906    581587     23254        CHILDRENS CUTLERY DOLLY GIRL          4   \n",
       "541907    581587     23255      CHILDRENS CUTLERY CIRCUS PARADE         4   \n",
       "541908    581587     22138        BAKING SET 9 PIECE RETROSPOT          3   \n",
       "\n",
       "            InvoiceDate  UnitPrice  CustomerID         Country  \n",
       "0        12/1/2010 8:26       2.55     17850.0  United Kingdom  \n",
       "1        12/1/2010 8:26       3.39     17850.0  United Kingdom  \n",
       "2        12/1/2010 8:26       2.75     17850.0  United Kingdom  \n",
       "3        12/1/2010 8:26       3.39     17850.0  United Kingdom  \n",
       "4        12/1/2010 8:26       3.39     17850.0  United Kingdom  \n",
       "...                 ...        ...         ...             ...  \n",
       "541904  12/9/2011 12:50       0.85     12680.0          France  \n",
       "541905  12/9/2011 12:50       2.10     12680.0          France  \n",
       "541906  12/9/2011 12:50       4.15     12680.0          France  \n",
       "541907  12/9/2011 12:50       4.15     12680.0          France  \n",
       "541908  12/9/2011 12:50       4.95     12680.0          France  \n",
       "\n",
       "[541909 rows x 8 columns]"
      ]
     },
     "execution_count": 3,
     "metadata": {},
     "output_type": "execute_result"
    }
   ],
   "source": [
    "sales"
   ]
  },
  {
   "cell_type": "code",
   "execution_count": 4,
   "id": "790408bf",
   "metadata": {},
   "outputs": [
    {
     "data": {
      "text/html": [
       "<div>\n",
       "<style scoped>\n",
       "    .dataframe tbody tr th:only-of-type {\n",
       "        vertical-align: middle;\n",
       "    }\n",
       "\n",
       "    .dataframe tbody tr th {\n",
       "        vertical-align: top;\n",
       "    }\n",
       "\n",
       "    .dataframe thead th {\n",
       "        text-align: right;\n",
       "    }\n",
       "</style>\n",
       "<table border=\"1\" class=\"dataframe\">\n",
       "  <thead>\n",
       "    <tr style=\"text-align: right;\">\n",
       "      <th></th>\n",
       "      <th>Description</th>\n",
       "    </tr>\n",
       "  </thead>\n",
       "  <tbody>\n",
       "    <tr>\n",
       "      <th>WHITE HANGING HEART T-LIGHT HOLDER</th>\n",
       "      <td>2369</td>\n",
       "    </tr>\n",
       "    <tr>\n",
       "      <th>REGENCY CAKESTAND 3 TIER</th>\n",
       "      <td>2200</td>\n",
       "    </tr>\n",
       "    <tr>\n",
       "      <th>JUMBO BAG RED RETROSPOT</th>\n",
       "      <td>2159</td>\n",
       "    </tr>\n",
       "    <tr>\n",
       "      <th>PARTY BUNTING</th>\n",
       "      <td>1727</td>\n",
       "    </tr>\n",
       "    <tr>\n",
       "      <th>LUNCH BAG RED RETROSPOT</th>\n",
       "      <td>1638</td>\n",
       "    </tr>\n",
       "    <tr>\n",
       "      <th>...</th>\n",
       "      <td>...</td>\n",
       "    </tr>\n",
       "    <tr>\n",
       "      <th>Missing</th>\n",
       "      <td>1</td>\n",
       "    </tr>\n",
       "    <tr>\n",
       "      <th>historic computer difference?....se</th>\n",
       "      <td>1</td>\n",
       "    </tr>\n",
       "    <tr>\n",
       "      <th>DUSTY PINK CHRISTMAS TREE 30CM</th>\n",
       "      <td>1</td>\n",
       "    </tr>\n",
       "    <tr>\n",
       "      <th>WRAP BLUE RUSSIAN FOLKART</th>\n",
       "      <td>1</td>\n",
       "    </tr>\n",
       "    <tr>\n",
       "      <th>PINK BERTIE MOBILE PHONE CHARM</th>\n",
       "      <td>1</td>\n",
       "    </tr>\n",
       "  </tbody>\n",
       "</table>\n",
       "<p>4223 rows × 1 columns</p>\n",
       "</div>"
      ],
      "text/plain": [
       "                                     Description\n",
       "WHITE HANGING HEART T-LIGHT HOLDER          2369\n",
       "REGENCY CAKESTAND 3 TIER                    2200\n",
       "JUMBO BAG RED RETROSPOT                     2159\n",
       "PARTY BUNTING                               1727\n",
       "LUNCH BAG RED RETROSPOT                     1638\n",
       "...                                          ...\n",
       "Missing                                        1\n",
       "historic computer difference?....se            1\n",
       "DUSTY PINK CHRISTMAS TREE 30CM                 1\n",
       "WRAP BLUE RUSSIAN FOLKART                      1\n",
       "PINK BERTIE MOBILE PHONE CHARM                 1\n",
       "\n",
       "[4223 rows x 1 columns]"
      ]
     },
     "execution_count": 4,
     "metadata": {},
     "output_type": "execute_result"
    }
   ],
   "source": [
    "# 가장 많이 판매된 상품 상위 4개 확인\n",
    "sales.Description.value_counts().to_frame()"
   ]
  },
  {
   "cell_type": "code",
   "execution_count": 5,
   "id": "c7673fc2",
   "metadata": {
    "scrolled": true
   },
   "outputs": [],
   "source": [
    "# 이를 바탕으로 레이블 인코딩 진행하여 target 변수를 생성\n",
    "sales[\"y\"] = 0\n",
    "sales.loc[sales[\"Description\"] == \"WHITE HANGING HEART T-LIGHT HOLDER\", \"y\"] = 1\n",
    "sales.loc[sales[\"Description\"] == \"REGENCY CAKESTAND 3 TIER\", \"y\"] = 2\n",
    "sales.loc[sales[\"Description\"] == \"JUMBO BAG RED RETROSPOT\", \"y\"] = 3\n",
    "sales.loc[sales[\"Description\"] == \"PARTY BUNTING\", \"y\"] = 4"
   ]
  },
  {
   "cell_type": "markdown",
   "id": "b50dce56",
   "metadata": {},
   "source": [
    "### 데이터 전처리\n",
    "- 데이터 정보 확인\n",
    "- 결측치 확인 후 대체"
   ]
  },
  {
   "cell_type": "code",
   "execution_count": 6,
   "id": "7547597f",
   "metadata": {},
   "outputs": [
    {
     "name": "stdout",
     "output_type": "stream",
     "text": [
      "<class 'pandas.core.frame.DataFrame'>\n",
      "RangeIndex: 541909 entries, 0 to 541908\n",
      "Data columns (total 9 columns):\n",
      " #   Column       Non-Null Count   Dtype  \n",
      "---  ------       --------------   -----  \n",
      " 0   InvoiceNo    541909 non-null  object \n",
      " 1   StockCode    541909 non-null  object \n",
      " 2   Description  540455 non-null  object \n",
      " 3   Quantity     541909 non-null  int64  \n",
      " 4   InvoiceDate  541909 non-null  object \n",
      " 5   UnitPrice    541909 non-null  float64\n",
      " 6   CustomerID   406829 non-null  float64\n",
      " 7   Country      541909 non-null  object \n",
      " 8   y            541909 non-null  int64  \n",
      "dtypes: float64(2), int64(2), object(5)\n",
      "memory usage: 37.2+ MB\n"
     ]
    }
   ],
   "source": [
    "sales.info()"
   ]
  },
  {
   "cell_type": "code",
   "execution_count": 7,
   "id": "e420671d",
   "metadata": {},
   "outputs": [
    {
     "data": {
      "text/plain": [
       "InvoiceNo           0\n",
       "StockCode           0\n",
       "Description      1454\n",
       "Quantity            0\n",
       "InvoiceDate         0\n",
       "UnitPrice           0\n",
       "CustomerID     135080\n",
       "Country             0\n",
       "y                   0\n",
       "dtype: int64"
      ]
     },
     "execution_count": 7,
     "metadata": {},
     "output_type": "execute_result"
    }
   ],
   "source": [
    "# 결측치 확인\n",
    "sales.isna().sum()"
   ]
  },
  {
   "cell_type": "markdown",
   "id": "d72d49c2",
   "metadata": {},
   "source": [
    "- Description 변수의 결측치 행은 분석에서 제외\n",
    "- CustomerID 열을 전부 제거"
   ]
  },
  {
   "cell_type": "code",
   "execution_count": 9,
   "id": "2186316e",
   "metadata": {},
   "outputs": [
    {
     "data": {
      "text/plain": [
       "Index(['InvoiceNo', 'StockCode', 'Description', 'Quantity', 'InvoiceDate',\n",
       "       'UnitPrice', 'CustomerID', 'Country', 'y'],\n",
       "      dtype='object')"
      ]
     },
     "execution_count": 9,
     "metadata": {},
     "output_type": "execute_result"
    }
   ],
   "source": [
    "# CustomerID 컬럼 제거\n",
    "sales.columns"
   ]
  },
  {
   "cell_type": "code",
   "execution_count": 10,
   "id": "1ae5237f",
   "metadata": {},
   "outputs": [],
   "source": [
    "sales = sales[['InvoiceNo', 'StockCode', 'Description', 'Quantity', 'InvoiceDate', \n",
    "               'UnitPrice', 'Country', 'y']]"
   ]
  },
  {
   "cell_type": "code",
   "execution_count": 11,
   "id": "a3897430",
   "metadata": {},
   "outputs": [],
   "source": [
    "# Description이 결측치인 행 제거\n",
    "sales = sales.dropna()\n",
    "sales.reset_index(inplace=True)"
   ]
  },
  {
   "cell_type": "markdown",
   "id": "e2bfb976",
   "metadata": {},
   "source": [
    "### 상품 분류\n",
    "- 상품 종류 및 조합을 구분하는 키워드를 중심으로 생성\n",
    "- packed : 'pack of' 포함 1, o.w. 0\n",
    "- numbered : 숫자 포함 1, o.w. 0\n",
    "- set : 'set of' 포함 1, o.w. 0\n",
    "- box : 'box of' 포함 1, o.w. 0\n",
    "- amp : '&' 포함 1, o.w. 0\n",
    "- plus : '+' 포함 1, o.w. 0\n",
    "- slash : '/' 포함 1, o.w. 0"
   ]
  },
  {
   "cell_type": "code",
   "execution_count": 15,
   "id": "4407759a",
   "metadata": {},
   "outputs": [],
   "source": [
    "# Packed 변수 추가\n",
    "sales[\"temp\"] = sales[\"Description\"].str.extract(\"(PACK OF)\")"
   ]
  },
  {
   "cell_type": "code",
   "execution_count": 16,
   "id": "9c12cf28",
   "metadata": {},
   "outputs": [],
   "source": [
    "label_encoder = LabelEncoder()\n",
    "\n",
    "label_encoder.fit(sales[\"temp\"])\n",
    "labels = label_encoder.transform(sales[\"temp\"])\n",
    "temp = pd.DataFrame(data=labels, columns=[\"Packed\"])\n",
    "temp[\"Packed\"].replace({0:1, 1:0}, inplace=True)\n",
    "sales[\"Packed\"] = temp[\"Packed\"]"
   ]
  },
  {
   "cell_type": "code",
   "execution_count": 18,
   "id": "74167adc",
   "metadata": {
    "scrolled": true
   },
   "outputs": [],
   "source": [
    "# Numbered 변수 추가\n",
    "sales[\"temp\"] = sales[\"Description\"].str.extract(\"([0-9]+)\")\n",
    "sales[\"temp\"] = sales[\"temp\"].astype(\"float\")\n",
    "sales.loc[sales[\"temp\"] >= 0, \"temp\"] = 1"
   ]
  },
  {
   "cell_type": "code",
   "execution_count": 19,
   "id": "add0fe27",
   "metadata": {},
   "outputs": [],
   "source": [
    "label_encoder.fit(sales[\"temp\"])\n",
    "labels = label_encoder.transform(sales[\"temp\"])\n",
    "temp = pd.DataFrame(data=labels, columns=[\"Numbered\"])\n",
    "temp[\"Numbered\"].replace({0:1, 1:0}, inplace=True)\n",
    "sales[\"Numbered\"] = temp[\"Numbered\"]"
   ]
  },
  {
   "cell_type": "code",
   "execution_count": 20,
   "id": "0d105edf",
   "metadata": {},
   "outputs": [],
   "source": [
    "# Set 변수 추가\n",
    "sales[\"temp\"] = sales[\"Description\"].str.extract(\"(SET OF)\")"
   ]
  },
  {
   "cell_type": "code",
   "execution_count": 21,
   "id": "ceea7801",
   "metadata": {},
   "outputs": [],
   "source": [
    "label_encoder.fit(sales[\"temp\"])\n",
    "labels = label_encoder.transform(sales[\"temp\"])\n",
    "temp = pd.DataFrame(data=labels, columns=[\"Set\"])\n",
    "temp[\"Set\"].replace({0:1, 1:0}, inplace=True)\n",
    "sales[\"Set\"] = temp[\"Set\"]"
   ]
  },
  {
   "cell_type": "code",
   "execution_count": 22,
   "id": "ecbdfeaa",
   "metadata": {},
   "outputs": [],
   "source": [
    "# Box 변수 추가\n",
    "sales[\"temp\"] = sales[\"Description\"].str.extract(\"(BOX OF)\")"
   ]
  },
  {
   "cell_type": "code",
   "execution_count": 23,
   "id": "54e40522",
   "metadata": {},
   "outputs": [],
   "source": [
    "label_encoder.fit(sales[\"temp\"])\n",
    "labels = label_encoder.transform(sales[\"temp\"])\n",
    "temp = pd.DataFrame(data=labels, columns=[\"Box\"])\n",
    "temp[\"Box\"].replace({0:1, 1:0}, inplace=True)\n",
    "sales[\"Box\"] = temp[\"Box\"]"
   ]
  },
  {
   "cell_type": "code",
   "execution_count": 24,
   "id": "ba288957",
   "metadata": {},
   "outputs": [],
   "source": [
    "# Amp 변수 추가\n",
    "sales[\"temp\"] = sales[\"Description\"].str.extract(\"(&)\")"
   ]
  },
  {
   "cell_type": "code",
   "execution_count": 25,
   "id": "9647f225",
   "metadata": {},
   "outputs": [],
   "source": [
    "label_encoder.fit(sales[\"temp\"])\n",
    "labels = label_encoder.transform(sales[\"temp\"])\n",
    "temp = pd.DataFrame(data=labels, columns=[\"Amp\"])\n",
    "temp[\"Amp\"].replace({0:1, 1:0}, inplace=True)\n",
    "sales[\"Amp\"] = temp[\"Amp\"]"
   ]
  },
  {
   "cell_type": "code",
   "execution_count": 26,
   "id": "4bc2c19e",
   "metadata": {},
   "outputs": [],
   "source": [
    "# Plus 변수 추가\n",
    "sales[\"temp\"] = sales[\"Description\"].str.extract(\"(\\+)\")"
   ]
  },
  {
   "cell_type": "code",
   "execution_count": 27,
   "id": "22d892cf",
   "metadata": {},
   "outputs": [],
   "source": [
    "label_encoder.fit(sales[\"temp\"])\n",
    "labels = label_encoder.transform(sales[\"temp\"])\n",
    "temp = pd.DataFrame(data=labels, columns=[\"Plus\"])\n",
    "temp[\"Plus\"].replace({0:1, 1:0}, inplace=True)\n",
    "sales[\"Plus\"] = temp[\"Plus\"]"
   ]
  },
  {
   "cell_type": "code",
   "execution_count": 53,
   "id": "c57e332c",
   "metadata": {},
   "outputs": [],
   "source": [
    "# Slash 변수 추가\n",
    "sales[\"temp\"] = sales[\"Description\"].str.extract(\"(\\/)\")"
   ]
  },
  {
   "cell_type": "code",
   "execution_count": 56,
   "id": "5ccfb5b0",
   "metadata": {},
   "outputs": [],
   "source": [
    "label_encoder.fit(sales[\"temp\"])\n",
    "labels = label_encoder.transform(sales[\"temp\"])\n",
    "temp = pd.DataFrame(data=labels, columns=[\"Slash\"])\n",
    "temp[\"Slash\"].replace({0:1, 1:0}, inplace=True)\n",
    "sales[\"Slash\"] = temp[\"Slash\"]"
   ]
  },
  {
   "cell_type": "markdown",
   "id": "ede5ef1a",
   "metadata": {},
   "source": [
    "### 상품 옵션\n",
    "- col_op : color option 포함 1, o.w. 0\n",
    "> color options\n",
    "> - WHITE, RED, GREEN, PINK, BLUE, ORANGE, YELLOW, PURPLE, BLACK, GREY, IVORY, BROWN\n",
    "> - CHOC(CHOCOLATE), GOLD, SILVER, MINT\n",
    "- 각 col_op에 대해 원-핫 인코딩\n",
    "- des_op : 'design' 포함 1, o.w. 0"
   ]
  },
  {
   "cell_type": "code",
   "execution_count": 32,
   "id": "a4c79d73",
   "metadata": {},
   "outputs": [],
   "source": [
    "# 색 옵션에 대해 원-핫 인코딩\n",
    "sales[\"temp\"] = sales[\"Description\"].str.extract(\"(WHITE|RED|GREEN|PINK|BLUE|ORANGE|YELLOW|PURPLE|BLACK|GREY|IVORY|BROWN|CHOC|GOLD|SILVER|MINT)\")\n",
    "\n",
    "oh_c = pd.get_dummies(sales[\"temp\"])\n",
    "sales = pd.concat([sales, oh_c], axis=1)"
   ]
  },
  {
   "cell_type": "code",
   "execution_count": 37,
   "id": "f5bf7393",
   "metadata": {},
   "outputs": [],
   "source": [
    "# Col_op 변수 추가\n",
    "sales.loc[~sales[\"temp\"].isna(), \"temp\"] = 1"
   ]
  },
  {
   "cell_type": "code",
   "execution_count": 38,
   "id": "39670e16",
   "metadata": {},
   "outputs": [],
   "source": [
    "label_encoder.fit(sales[\"temp\"])\n",
    "labels = label_encoder.transform(sales[\"temp\"])\n",
    "temp = pd.DataFrame(data=labels, columns=[\"Col_op\"])\n",
    "temp[\"Col_op\"].replace({0:1, 1:0}, inplace=True)\n",
    "sales[\"Col_op\"] = temp[\"Col_op\"]"
   ]
  },
  {
   "cell_type": "code",
   "execution_count": 57,
   "id": "662e12a1",
   "metadata": {},
   "outputs": [],
   "source": [
    "# Des_op 변수 추가\n",
    "sales[\"temp\"] = sales[\"Description\"].str.extract(\"(DESIGN)\")"
   ]
  },
  {
   "cell_type": "code",
   "execution_count": 58,
   "id": "22b90d8a",
   "metadata": {},
   "outputs": [],
   "source": [
    "label_encoder.fit(sales[\"temp\"])\n",
    "labels = label_encoder.transform(sales[\"temp\"])\n",
    "temp = pd.DataFrame(data=labels, columns=[\"Des_op\"])\n",
    "temp[\"Des_op\"].replace({0:1, 1:0}, inplace=True)\n",
    "sales[\"Des_op\"] = temp[\"Des_op\"]"
   ]
  },
  {
   "cell_type": "code",
   "execution_count": 69,
   "id": "97fa1150",
   "metadata": {},
   "outputs": [],
   "source": [
    "# 디자인 옵션에 대한 원-핫 인코딩 (중복 포함 상위 50개)\n",
    "sales[\"temp\"] = sales[\"Description\"].str.extract(\"(SPACEBOY|SUKI|APPLE|ALPHABET|GIRL|VINTAGE|OWL|CERAMIC|BIRD|MIX|ASSTD|RETROSPOT|HEART|STRIP|BABUSHKA|GYMKHANA|SKETCHBOOK|COTTAGE|PAPER|CAT|PEAR|DOILEY|BALL|CLASSIC|SKULL|RABBIT|PAISLEY|BISCUIT|EMPIRE)\")\n",
    "oh_d1 = pd.get_dummies(sales[\"temp\"])\n",
    "sales = pd.concat([sales, oh_d1], axis=1)\n",
    "\n",
    "sales[\"temp\"] = sales[\"Description\"].str.extract(\"(GIRL|LEAF|CAKE|DOG|CUT)\")\n",
    "oh_d2 = pd.get_dummies(sales[\"temp\"])\n",
    "sales = pd.concat([sales, oh_d2], axis=1)"
   ]
  },
  {
   "cell_type": "markdown",
   "id": "9fa79a3e",
   "metadata": {},
   "source": [
    "### 상품 가격\n",
    "- hprice : price가 일정 수준(5) 이상일 때 1, o.w. 0\n",
    "- lprice : price가 일정 수준(1) 미만일 때 (음수 제외) 1, o.w. 0"
   ]
  },
  {
   "cell_type": "code",
   "execution_count": 71,
   "id": "73032a11",
   "metadata": {},
   "outputs": [],
   "source": [
    "# Hprice 변수 추가\n",
    "strprice = sales[\"UnitPrice\"].astype(\"str\")\n",
    "sales[\"temp\"] = strprice.str.extract(\"([5-9]\\.|[1-9]\\d+\\.)\")\n",
    "sales[\"temp\"] = sales[\"temp\"].astype(\"float\")\n",
    "sales.loc[~sales[\"temp\"].isna(), \"temp\"] = 1"
   ]
  },
  {
   "cell_type": "code",
   "execution_count": 72,
   "id": "2c6c6e5a",
   "metadata": {},
   "outputs": [],
   "source": [
    "label_encoder.fit(sales[\"temp\"])\n",
    "labels = label_encoder.transform(sales[\"temp\"])\n",
    "temp = pd.DataFrame(data=labels, columns=[\"Hprice\"])\n",
    "temp[\"Hprice\"].replace({0:1, 1:0}, inplace=True)\n",
    "sales[\"Hprice\"] = temp[\"Hprice\"]"
   ]
  },
  {
   "cell_type": "code",
   "execution_count": 73,
   "id": "74c11f85",
   "metadata": {},
   "outputs": [],
   "source": [
    "# Lprice 변수 추가\n",
    "strprice = sales[\"UnitPrice\"].astype(\"str\")\n",
    "sales[\"temp\"] = strprice.str.extract(\"(0\\.)\")\n",
    "sales[\"temp\"] = sales[\"temp\"].astype(\"float\")\n",
    "sales.loc[~sales[\"temp\"].isna(), \"temp\"] = 1"
   ]
  },
  {
   "cell_type": "code",
   "execution_count": 74,
   "id": "fcbdafdc",
   "metadata": {},
   "outputs": [],
   "source": [
    "label_encoder.fit(sales[\"temp\"])\n",
    "labels = label_encoder.transform(sales[\"temp\"])\n",
    "temp = pd.DataFrame(data=labels, columns=[\"Lprice\"])\n",
    "temp[\"Lprice\"].replace({0:1, 1:0}, inplace=True)\n",
    "sales[\"Lprice\"] = temp[\"Lprice\"]"
   ]
  },
  {
   "cell_type": "markdown",
   "id": "18351b7b",
   "metadata": {},
   "source": [
    "### 상품 개수\n",
    "- hquant : quantity가 일정 수준(10) 이상일 때 1, o.w. 0\n",
    "- removed : quantity가 음수일 때 1, o.w. 0"
   ]
  },
  {
   "cell_type": "code",
   "execution_count": 76,
   "id": "26892faf",
   "metadata": {},
   "outputs": [],
   "source": [
    "# Hquant 변수 추가\n",
    "strquant = sales[\"Quantity\"].astype(\"str\")\n",
    "sales[\"temp\"] = strquant.str.extract(\"([1-9]\\d+)\")\n",
    "sales[\"temp\"] = sales[\"temp\"].astype(\"float\")\n",
    "sales.loc[~sales[\"temp\"].isna(), \"temp\"] = 1"
   ]
  },
  {
   "cell_type": "code",
   "execution_count": 77,
   "id": "5f17a958",
   "metadata": {},
   "outputs": [],
   "source": [
    "label_encoder.fit(sales[\"temp\"])\n",
    "labels = label_encoder.transform(sales[\"temp\"])\n",
    "temp = pd.DataFrame(data=labels, columns=[\"Hquant\"])\n",
    "temp[\"Hquant\"].replace({0:1, 1:0}, inplace=True)\n",
    "sales[\"Hquant\"] = temp[\"Hquant\"]"
   ]
  },
  {
   "cell_type": "code",
   "execution_count": 78,
   "id": "72ef97dc",
   "metadata": {},
   "outputs": [],
   "source": [
    "# Removed 변수 추가\n",
    "strquant = sales[\"Quantity\"].astype(\"str\")\n",
    "sales[\"temp\"] = strquant.str.extract(\"(\\-\\d+)\")\n",
    "sales[\"temp\"] = sales[\"temp\"].astype(\"float\")\n",
    "sales.loc[~sales[\"temp\"].isna(), \"temp\"] = 1"
   ]
  },
  {
   "cell_type": "code",
   "execution_count": 79,
   "id": "2d081bf6",
   "metadata": {},
   "outputs": [],
   "source": [
    "label_encoder.fit(sales[\"temp\"])\n",
    "labels = label_encoder.transform(sales[\"temp\"])\n",
    "temp = pd.DataFrame(data=labels, columns=[\"Removed\"])\n",
    "temp[\"Removed\"].replace({0:1, 1:0}, inplace=True)\n",
    "sales[\"Removed\"] = temp[\"Removed\"]"
   ]
  },
  {
   "cell_type": "markdown",
   "id": "86053f60",
   "metadata": {},
   "source": [
    "### 시계열 데이터\n",
    "- quarter : 분기(Q1~4)에 따라 원-핫 인코딩\n",
    "- year : 연도별 원-핫 인코딩\n",
    "- am : 오전이면 1, o.w. 0"
   ]
  },
  {
   "cell_type": "code",
   "execution_count": 80,
   "id": "8c38d28f",
   "metadata": {},
   "outputs": [
    {
     "name": "stderr",
     "output_type": "stream",
     "text": [
      "C:\\Users\\doram\\AppData\\Local\\Temp\\ipykernel_20240\\1493849751.py:4: SettingWithCopyWarning: \n",
      "A value is trying to be set on a copy of a slice from a DataFrame\n",
      "\n",
      "See the caveats in the documentation: https://pandas.pydata.org/pandas-docs/stable/user_guide/indexing.html#returning-a-view-versus-a-copy\n",
      "  sales[\"Quarter\"].replace({1:\"Q1\", 2:\"Q2\", 3:\"Q3\", 4:\"Q4\"}, inplace=True)\n"
     ]
    }
   ],
   "source": [
    "# Quarter 변수 추가 후 원-핫 인코딩\n",
    "sales[\"InvoiceDate\"] = pd.to_datetime(sales[\"InvoiceDate\"])\n",
    "sales[\"Quarter\"] = sales[\"InvoiceDate\"].dt.quarter\n",
    "sales[\"Quarter\"].replace({1:\"Q1\", 2:\"Q2\", 3:\"Q3\", 4:\"Q4\"}, inplace=True)\n",
    "\n",
    "oh_q = pd.get_dummies(sales[\"Quarter\"])\n",
    "sales = pd.concat([sales, oh_q], axis=1)\n",
    "sales.drop(columns=[\"Quarter\"], inplace=True)"
   ]
  },
  {
   "cell_type": "code",
   "execution_count": 81,
   "id": "04dc4871",
   "metadata": {},
   "outputs": [],
   "source": [
    "# Year 변수 추가 후 원-핫 인코딩\n",
    "sales[\"temp\"] = sales[\"InvoiceDate\"].dt.year\n",
    "oh_y = pd.get_dummies(sales[\"temp\"])\n",
    "df = pd.concat([sales, oh_y], axis=1)"
   ]
  },
  {
   "cell_type": "code",
   "execution_count": 82,
   "id": "6ca4ad51",
   "metadata": {},
   "outputs": [],
   "source": [
    "# Am 변수 추가\n",
    "sales[\"temp\"] = sales[\"InvoiceDate\"].dt.hour - 12\n",
    "sales.loc[sales[\"temp\"] >= 0, \"temp\"] = np.nan\n",
    "sales.loc[sales[\"temp\"] < 0, \"temp\"] = 1"
   ]
  },
  {
   "cell_type": "code",
   "execution_count": 83,
   "id": "52a7466e",
   "metadata": {},
   "outputs": [],
   "source": [
    "label_encoder.fit(sales[\"temp\"])\n",
    "labels = label_encoder.transform(sales[\"temp\"])\n",
    "temp = pd.DataFrame(data=labels, columns=[\"Am\"])\n",
    "temp[\"Am\"].replace({0:1, 1:0}, inplace=True)\n",
    "sales[\"Am\"] = temp[\"Am\"]"
   ]
  },
  {
   "cell_type": "markdown",
   "id": "2619b3ec",
   "metadata": {},
   "source": [
    "### 국가\n",
    "- country 변수를 이용해서 대륙별로 원-핫 인코딩\n",
    "- 데이터 대부분이 UK이기 때문에 따로 분류"
   ]
  },
  {
   "cell_type": "code",
   "execution_count": null,
   "id": "c67a0002",
   "metadata": {},
   "outputs": [],
   "source": [
    "# United Kingdom\n",
    "\n",
    "# Europe : Germany, France, EIRE, Netherlands, Belgium, Switzerland, \n",
    "#          Norway, Channel Islands, Finland, Sweden, Austria, \n",
    "#          Denmark, Poland, Iceland, European Community, Lithuania, \n",
    "#          Czech Republic, Italy, Spain, Portugal, Greece, Cyprus, Malta\n",
    "\n",
    "# Others : Unspecified, Australia, Japan, Israel, USA, Hong Kong, Singapore, Canada, \n",
    "#          United Arab Emirates, RSA, Lebanon, Brazil, Bahrain, Saudi Arabia"
   ]
  },
  {
   "cell_type": "code",
   "execution_count": 101,
   "id": "6d750cf2",
   "metadata": {},
   "outputs": [],
   "source": [
    "# 대륙별 원-핫 인코딩\n",
    "sales[\"temp\"] = 0\n",
    "sales.loc[sales[\"Country\"] == \"United Kingdom\", \"temp\"] = \"United Kingdom\"\n",
    "sales.loc[(sales[\"Country\"] == \"Germany\") | (sales[\"Country\"] == \"France\") | (sales[\"Country\"] == \"EIRE\") | (sales[\"Country\"] == \"Netherlands\") | (sales[\"Country\"] == \"Belgium\") | (sales[\"Country\"] == \"Switzerland\") | (sales[\"Country\"] == \"Norway\") | (sales[\"Country\"] == \"Channel Islands\") | (sales[\"Country\"] == \"Finland\") | (sales[\"Country\"] == \"Sweden\") | (sales[\"Country\"] == \"Austria\") | (sales[\"Country\"] == \"Denmark\") | (sales[\"Country\"] == \"Poland\") | (sales[\"Country\"] == \"Iceland\") | (sales[\"Country\"] == \"European Community\") | (sales[\"Country\"] == \"Lithuania\") | (sales[\"Country\"] == \"Czech Republic\") | (sales[\"Country\"] == \"Italy\") | (sales[\"Country\"] == \"Spain\") | (sales[\"Country\"] == \"Portugal\") | (sales[\"Country\"] == \"Greece\") | (sales[\"Country\"] == \"Cyprus\") | (sales[\"Country\"] == \"Malta\"), \"temp\"] = \"Europe\"\n",
    "sales.loc[(sales[\"Country\"] == \"Unspecified\") | (sales[\"Country\"] == \"Australia\") | (sales[\"Country\"] == \"Japan\") | (sales[\"Country\"] == \"Israel\") | (sales[\"Country\"] == \"USA\") | (sales[\"Country\"] == \"Hong Kong\") | (sales[\"Country\"] == \"Singapore\") | (sales[\"Country\"] == \"Canada\") | (sales[\"Country\"] == \"United Arab Emirates\") | (sales[\"Country\"] == \"RSA\") | (sales[\"Country\"] == \"Lebanon\") | (sales[\"Country\"] == \"Brazil\") | (sales[\"Country\"] == \"Bahrain\") | (sales[\"Country\"] == \"Saudi Arabia\"), \"temp\"] = \"Others\"\n",
    "\n",
    "oh_c = pd.get_dummies(sales[\"temp\"])\n",
    "sales = pd.concat([sales, oh_c], axis=1)"
   ]
  },
  {
   "cell_type": "code",
   "execution_count": 105,
   "id": "14c4b85d",
   "metadata": {},
   "outputs": [],
   "source": [
    "# 필요 없는 열 제거\n",
    "sales.drop(columns=[\"index\",\"temp\"], inplace=True)"
   ]
  },
  {
   "cell_type": "code",
   "execution_count": 107,
   "id": "405a60ab",
   "metadata": {},
   "outputs": [],
   "source": [
    "sales1 = sales.select_dtypes(include=[np.number])"
   ]
  },
  {
   "cell_type": "code",
   "execution_count": 108,
   "id": "93b45d35",
   "metadata": {},
   "outputs": [],
   "source": [
    "sales1 = sales1.astype(\"int\")"
   ]
  },
  {
   "cell_type": "code",
   "execution_count": 109,
   "id": "5ffaeb6e",
   "metadata": {},
   "outputs": [
    {
     "data": {
      "text/html": [
       "<div>\n",
       "<style scoped>\n",
       "    .dataframe tbody tr th:only-of-type {\n",
       "        vertical-align: middle;\n",
       "    }\n",
       "\n",
       "    .dataframe tbody tr th {\n",
       "        vertical-align: top;\n",
       "    }\n",
       "\n",
       "    .dataframe thead th {\n",
       "        text-align: right;\n",
       "    }\n",
       "</style>\n",
       "<table border=\"1\" class=\"dataframe\">\n",
       "  <thead>\n",
       "    <tr style=\"text-align: right;\">\n",
       "      <th></th>\n",
       "      <th>Quantity</th>\n",
       "      <th>UnitPrice</th>\n",
       "      <th>y</th>\n",
       "      <th>Packed</th>\n",
       "      <th>Numbered</th>\n",
       "      <th>Set</th>\n",
       "      <th>Box</th>\n",
       "      <th>Amp</th>\n",
       "      <th>Plus</th>\n",
       "      <th>BLACK</th>\n",
       "      <th>...</th>\n",
       "      <th>Hquant</th>\n",
       "      <th>Removed</th>\n",
       "      <th>1</th>\n",
       "      <th>2</th>\n",
       "      <th>3</th>\n",
       "      <th>4</th>\n",
       "      <th>Am</th>\n",
       "      <th>Europe</th>\n",
       "      <th>Others</th>\n",
       "      <th>United Kingdom</th>\n",
       "    </tr>\n",
       "  </thead>\n",
       "  <tbody>\n",
       "    <tr>\n",
       "      <th>0</th>\n",
       "      <td>6</td>\n",
       "      <td>2</td>\n",
       "      <td>1</td>\n",
       "      <td>0</td>\n",
       "      <td>0</td>\n",
       "      <td>0</td>\n",
       "      <td>0</td>\n",
       "      <td>0</td>\n",
       "      <td>0</td>\n",
       "      <td>0</td>\n",
       "      <td>...</td>\n",
       "      <td>0</td>\n",
       "      <td>0</td>\n",
       "      <td>0</td>\n",
       "      <td>0</td>\n",
       "      <td>0</td>\n",
       "      <td>1</td>\n",
       "      <td>1</td>\n",
       "      <td>0</td>\n",
       "      <td>0</td>\n",
       "      <td>1</td>\n",
       "    </tr>\n",
       "    <tr>\n",
       "      <th>1</th>\n",
       "      <td>6</td>\n",
       "      <td>3</td>\n",
       "      <td>0</td>\n",
       "      <td>0</td>\n",
       "      <td>0</td>\n",
       "      <td>0</td>\n",
       "      <td>0</td>\n",
       "      <td>0</td>\n",
       "      <td>0</td>\n",
       "      <td>0</td>\n",
       "      <td>...</td>\n",
       "      <td>0</td>\n",
       "      <td>0</td>\n",
       "      <td>0</td>\n",
       "      <td>0</td>\n",
       "      <td>0</td>\n",
       "      <td>1</td>\n",
       "      <td>1</td>\n",
       "      <td>0</td>\n",
       "      <td>0</td>\n",
       "      <td>1</td>\n",
       "    </tr>\n",
       "    <tr>\n",
       "      <th>2</th>\n",
       "      <td>8</td>\n",
       "      <td>2</td>\n",
       "      <td>0</td>\n",
       "      <td>0</td>\n",
       "      <td>0</td>\n",
       "      <td>0</td>\n",
       "      <td>0</td>\n",
       "      <td>0</td>\n",
       "      <td>0</td>\n",
       "      <td>0</td>\n",
       "      <td>...</td>\n",
       "      <td>0</td>\n",
       "      <td>0</td>\n",
       "      <td>0</td>\n",
       "      <td>0</td>\n",
       "      <td>0</td>\n",
       "      <td>1</td>\n",
       "      <td>1</td>\n",
       "      <td>0</td>\n",
       "      <td>0</td>\n",
       "      <td>1</td>\n",
       "    </tr>\n",
       "    <tr>\n",
       "      <th>3</th>\n",
       "      <td>6</td>\n",
       "      <td>3</td>\n",
       "      <td>0</td>\n",
       "      <td>0</td>\n",
       "      <td>0</td>\n",
       "      <td>0</td>\n",
       "      <td>0</td>\n",
       "      <td>0</td>\n",
       "      <td>0</td>\n",
       "      <td>0</td>\n",
       "      <td>...</td>\n",
       "      <td>0</td>\n",
       "      <td>0</td>\n",
       "      <td>0</td>\n",
       "      <td>0</td>\n",
       "      <td>0</td>\n",
       "      <td>1</td>\n",
       "      <td>1</td>\n",
       "      <td>0</td>\n",
       "      <td>0</td>\n",
       "      <td>1</td>\n",
       "    </tr>\n",
       "    <tr>\n",
       "      <th>4</th>\n",
       "      <td>6</td>\n",
       "      <td>3</td>\n",
       "      <td>0</td>\n",
       "      <td>0</td>\n",
       "      <td>0</td>\n",
       "      <td>0</td>\n",
       "      <td>0</td>\n",
       "      <td>0</td>\n",
       "      <td>0</td>\n",
       "      <td>0</td>\n",
       "      <td>...</td>\n",
       "      <td>0</td>\n",
       "      <td>0</td>\n",
       "      <td>0</td>\n",
       "      <td>0</td>\n",
       "      <td>0</td>\n",
       "      <td>1</td>\n",
       "      <td>1</td>\n",
       "      <td>0</td>\n",
       "      <td>0</td>\n",
       "      <td>1</td>\n",
       "    </tr>\n",
       "    <tr>\n",
       "      <th>...</th>\n",
       "      <td>...</td>\n",
       "      <td>...</td>\n",
       "      <td>...</td>\n",
       "      <td>...</td>\n",
       "      <td>...</td>\n",
       "      <td>...</td>\n",
       "      <td>...</td>\n",
       "      <td>...</td>\n",
       "      <td>...</td>\n",
       "      <td>...</td>\n",
       "      <td>...</td>\n",
       "      <td>...</td>\n",
       "      <td>...</td>\n",
       "      <td>...</td>\n",
       "      <td>...</td>\n",
       "      <td>...</td>\n",
       "      <td>...</td>\n",
       "      <td>...</td>\n",
       "      <td>...</td>\n",
       "      <td>...</td>\n",
       "      <td>...</td>\n",
       "    </tr>\n",
       "    <tr>\n",
       "      <th>540450</th>\n",
       "      <td>12</td>\n",
       "      <td>0</td>\n",
       "      <td>0</td>\n",
       "      <td>1</td>\n",
       "      <td>1</td>\n",
       "      <td>0</td>\n",
       "      <td>0</td>\n",
       "      <td>0</td>\n",
       "      <td>0</td>\n",
       "      <td>0</td>\n",
       "      <td>...</td>\n",
       "      <td>1</td>\n",
       "      <td>0</td>\n",
       "      <td>0</td>\n",
       "      <td>0</td>\n",
       "      <td>0</td>\n",
       "      <td>1</td>\n",
       "      <td>0</td>\n",
       "      <td>1</td>\n",
       "      <td>0</td>\n",
       "      <td>0</td>\n",
       "    </tr>\n",
       "    <tr>\n",
       "      <th>540451</th>\n",
       "      <td>6</td>\n",
       "      <td>2</td>\n",
       "      <td>0</td>\n",
       "      <td>0</td>\n",
       "      <td>0</td>\n",
       "      <td>0</td>\n",
       "      <td>0</td>\n",
       "      <td>0</td>\n",
       "      <td>0</td>\n",
       "      <td>0</td>\n",
       "      <td>...</td>\n",
       "      <td>0</td>\n",
       "      <td>0</td>\n",
       "      <td>0</td>\n",
       "      <td>0</td>\n",
       "      <td>0</td>\n",
       "      <td>1</td>\n",
       "      <td>0</td>\n",
       "      <td>1</td>\n",
       "      <td>0</td>\n",
       "      <td>0</td>\n",
       "    </tr>\n",
       "    <tr>\n",
       "      <th>540452</th>\n",
       "      <td>4</td>\n",
       "      <td>4</td>\n",
       "      <td>0</td>\n",
       "      <td>0</td>\n",
       "      <td>0</td>\n",
       "      <td>0</td>\n",
       "      <td>0</td>\n",
       "      <td>0</td>\n",
       "      <td>0</td>\n",
       "      <td>0</td>\n",
       "      <td>...</td>\n",
       "      <td>0</td>\n",
       "      <td>0</td>\n",
       "      <td>0</td>\n",
       "      <td>0</td>\n",
       "      <td>0</td>\n",
       "      <td>1</td>\n",
       "      <td>0</td>\n",
       "      <td>1</td>\n",
       "      <td>0</td>\n",
       "      <td>0</td>\n",
       "    </tr>\n",
       "    <tr>\n",
       "      <th>540453</th>\n",
       "      <td>4</td>\n",
       "      <td>4</td>\n",
       "      <td>0</td>\n",
       "      <td>0</td>\n",
       "      <td>0</td>\n",
       "      <td>0</td>\n",
       "      <td>0</td>\n",
       "      <td>0</td>\n",
       "      <td>0</td>\n",
       "      <td>0</td>\n",
       "      <td>...</td>\n",
       "      <td>0</td>\n",
       "      <td>0</td>\n",
       "      <td>0</td>\n",
       "      <td>0</td>\n",
       "      <td>0</td>\n",
       "      <td>1</td>\n",
       "      <td>0</td>\n",
       "      <td>1</td>\n",
       "      <td>0</td>\n",
       "      <td>0</td>\n",
       "    </tr>\n",
       "    <tr>\n",
       "      <th>540454</th>\n",
       "      <td>3</td>\n",
       "      <td>4</td>\n",
       "      <td>0</td>\n",
       "      <td>0</td>\n",
       "      <td>1</td>\n",
       "      <td>0</td>\n",
       "      <td>0</td>\n",
       "      <td>0</td>\n",
       "      <td>0</td>\n",
       "      <td>0</td>\n",
       "      <td>...</td>\n",
       "      <td>0</td>\n",
       "      <td>0</td>\n",
       "      <td>0</td>\n",
       "      <td>0</td>\n",
       "      <td>0</td>\n",
       "      <td>1</td>\n",
       "      <td>0</td>\n",
       "      <td>1</td>\n",
       "      <td>0</td>\n",
       "      <td>0</td>\n",
       "    </tr>\n",
       "  </tbody>\n",
       "</table>\n",
       "<p>540455 rows × 74 columns</p>\n",
       "</div>"
      ],
      "text/plain": [
       "        Quantity  UnitPrice  y  Packed  Numbered  Set  Box  Amp  Plus  BLACK  \\\n",
       "0              6          2  1       0         0    0    0    0     0      0   \n",
       "1              6          3  0       0         0    0    0    0     0      0   \n",
       "2              8          2  0       0         0    0    0    0     0      0   \n",
       "3              6          3  0       0         0    0    0    0     0      0   \n",
       "4              6          3  0       0         0    0    0    0     0      0   \n",
       "...          ...        ... ..     ...       ...  ...  ...  ...   ...    ...   \n",
       "540450        12          0  0       1         1    0    0    0     0      0   \n",
       "540451         6          2  0       0         0    0    0    0     0      0   \n",
       "540452         4          4  0       0         0    0    0    0     0      0   \n",
       "540453         4          4  0       0         0    0    0    0     0      0   \n",
       "540454         3          4  0       0         1    0    0    0     0      0   \n",
       "\n",
       "        ...  Hquant  Removed  1  2  3  4  Am  Europe  Others  United Kingdom  \n",
       "0       ...       0        0  0  0  0  1   1       0       0               1  \n",
       "1       ...       0        0  0  0  0  1   1       0       0               1  \n",
       "2       ...       0        0  0  0  0  1   1       0       0               1  \n",
       "3       ...       0        0  0  0  0  1   1       0       0               1  \n",
       "4       ...       0        0  0  0  0  1   1       0       0               1  \n",
       "...     ...     ...      ... .. .. .. ..  ..     ...     ...             ...  \n",
       "540450  ...       1        0  0  0  0  1   0       1       0               0  \n",
       "540451  ...       0        0  0  0  0  1   0       1       0               0  \n",
       "540452  ...       0        0  0  0  0  1   0       1       0               0  \n",
       "540453  ...       0        0  0  0  0  1   0       1       0               0  \n",
       "540454  ...       0        0  0  0  0  1   0       1       0               0  \n",
       "\n",
       "[540455 rows x 74 columns]"
      ]
     },
     "execution_count": 109,
     "metadata": {},
     "output_type": "execute_result"
    }
   ],
   "source": [
    "sales1"
   ]
  },
  {
   "cell_type": "code",
   "execution_count": 110,
   "id": "f7d4e59e",
   "metadata": {},
   "outputs": [
    {
     "data": {
      "text/plain": [
       "0"
      ]
     },
     "execution_count": 110,
     "metadata": {},
     "output_type": "execute_result"
    }
   ],
   "source": [
    "sales1.isna().sum().sum()"
   ]
  },
  {
   "cell_type": "code",
   "execution_count": 117,
   "id": "689cc6e5",
   "metadata": {},
   "outputs": [],
   "source": [
    "y_sales1 = sales1[['y']]\n",
    "X_sales1 = sales1.drop('y',axis=1)"
   ]
  },
  {
   "cell_type": "markdown",
   "id": "9ab7925e",
   "metadata": {},
   "source": [
    "### 교차검증\n",
    "- k=5인 교차검증을 진행"
   ]
  },
  {
   "cell_type": "code",
   "execution_count": 126,
   "id": "67e1f771",
   "metadata": {},
   "outputs": [
    {
     "name": "stdout",
     "output_type": "stream",
     "text": [
      "\n",
      "1 교차검증 정확도 :0.991, 교차검증 정밀도 :0.991 교차검증 재현율 :0.991\n",
      "\n",
      "2 교차검증 정확도 :0.991, 교차검증 정밀도 :0.991 교차검증 재현율 :0.991\n",
      "\n",
      "3 교차검증 정확도 :0.99, 교차검증 정밀도 :0.99 교차검증 재현율 :0.99\n",
      "\n",
      "4 교차검증 정확도 :0.989, 교차검증 정밀도 :0.989 교차검증 재현율 :0.989\n",
      "\n",
      "5 교차검증 정확도 :0.992, 교차검증 정밀도 :0.992 교차검증 재현율 :0.992\n",
      "\n",
      "\n",
      "\n",
      " 평균 검증 정확도 0.9905999999999999 0.9905999999999999 0.9905999999999999\n"
     ]
    }
   ],
   "source": [
    "# micro\n",
    "result_skfold = StratifiedKFold(n_splits=5)\n",
    "result_clf = DecisionTreeClassifier(random_state=100)\n",
    "n_iter = 0\n",
    "\n",
    "cv_accuracy = []\n",
    "cv_precision = []\n",
    "cv_recall = []\n",
    "\n",
    "for train_idx, test_idx in result_skfold.split(X_sales1, y_sales1):\n",
    "    X_train, X_test = X_sales1.iloc[train_idx], X_sales1.iloc[test_idx]\n",
    "    y_train, y_test = y_sales1.iloc[train_idx], y_sales1.iloc[test_idx]\n",
    "    \n",
    "    #학습을 진행\n",
    "    result_clf.fit(X_train.values, y_train)\n",
    "    \n",
    "    #예측\n",
    "    fold_pred = result_clf.predict(X_test.values)\n",
    "    \n",
    "    #정확도 측정\n",
    "    n_iter += 1\n",
    "    accuracy = np.round(accuracy_score(y_test, fold_pred), 3)\n",
    "    precision = np.round(precision_score(y_test, fold_pred, average=\"micro\"), 3)\n",
    "    recall = np.round(recall_score(y_test, fold_pred, average=\"micro\"), 3)\n",
    "    print(\"\\n{} 교차검증 정확도 :{}, 교차검증 정밀도 :{} 교차검증 재현율 :{}\".format(n_iter, accuracy, precision, recall))\n",
    "    \n",
    "    cv_accuracy.append(accuracy)\n",
    "    cv_precision.append(precision)\n",
    "    cv_recall.append(recall)\n",
    "    \n",
    "print(\"\\n\")\n",
    "print(\"\\n 평균 검증 정확도\", np.mean(cv_accuracy), np.mean(cv_precision), np.mean(cv_recall))"
   ]
  },
  {
   "cell_type": "code",
   "execution_count": 127,
   "id": "e189d8ea",
   "metadata": {},
   "outputs": [
    {
     "name": "stdout",
     "output_type": "stream",
     "text": [
      "\n",
      "1 교차검증 정확도 :0.991, 교차검증 정밀도 :0.732 교차검증 재현율 :0.607\n",
      "\n",
      "2 교차검증 정확도 :0.991, 교차검증 정밀도 :0.756 교차검증 재현율 :0.781\n",
      "\n",
      "3 교차검증 정확도 :0.99, 교차검증 정밀도 :0.689 교차검증 재현율 :0.741\n",
      "\n",
      "4 교차검증 정확도 :0.989, 교차검증 정밀도 :0.707 교차검증 재현율 :0.553\n",
      "\n",
      "5 교차검증 정확도 :0.992, 교차검증 정밀도 :0.928 교차검증 재현율 :0.635\n",
      "\n",
      "\n",
      "\n",
      " 평균 검증 정확도 0.9905999999999999 0.7624 0.6634\n"
     ]
    }
   ],
   "source": [
    "# macro\n",
    "result_skfold = StratifiedKFold(n_splits=5)\n",
    "result_clf = DecisionTreeClassifier(random_state=100)\n",
    "n_iter = 0\n",
    "\n",
    "cv_accuracy = []\n",
    "cv_precision = []\n",
    "cv_recall = []\n",
    "\n",
    "for train_idx, test_idx in result_skfold.split(X_sales1, y_sales1):\n",
    "    X_train, X_test = X_sales1.iloc[train_idx], X_sales1.iloc[test_idx]\n",
    "    y_train, y_test = y_sales1.iloc[train_idx], y_sales1.iloc[test_idx]\n",
    "    \n",
    "    #학습을 진행\n",
    "    result_clf.fit(X_train.values, y_train)\n",
    "    \n",
    "    #예측\n",
    "    fold_pred = result_clf.predict(X_test.values)\n",
    "    \n",
    "    #정확도 측정\n",
    "    n_iter += 1\n",
    "    accuracy = np.round(accuracy_score(y_test, fold_pred), 3)\n",
    "    precision = np.round(precision_score(y_test, fold_pred, average=\"macro\"), 3)\n",
    "    recall = np.round(recall_score(y_test, fold_pred, average=\"macro\"), 3)\n",
    "    print(\"\\n{} 교차검증 정확도 :{}, 교차검증 정밀도 :{} 교차검증 재현율 :{}\".format(n_iter, accuracy, precision, recall))\n",
    "    \n",
    "    cv_accuracy.append(accuracy)\n",
    "    cv_precision.append(precision)\n",
    "    cv_recall.append(recall)\n",
    "    \n",
    "print(\"\\n\")\n",
    "print(\"\\n 평균 검증 정확도\", np.mean(cv_accuracy), np.mean(cv_precision), np.mean(cv_recall))"
   ]
  },
  {
   "cell_type": "code",
   "execution_count": 128,
   "id": "929011e7",
   "metadata": {},
   "outputs": [
    {
     "name": "stdout",
     "output_type": "stream",
     "text": [
      "\n",
      "1 교차검증 정확도 :0.991, 교차검증 정밀도 :0.988 교차검증 재현율 :0.991\n",
      "\n",
      "2 교차검증 정확도 :0.991, 교차검증 정밀도 :0.992 교차검증 재현율 :0.991\n",
      "\n",
      "3 교차검증 정확도 :0.99, 교차검증 정밀도 :0.99 교차검증 재현율 :0.99\n",
      "\n",
      "4 교차검증 정확도 :0.989, 교차검증 정밀도 :0.986 교차검증 재현율 :0.989\n",
      "\n",
      "5 교차검증 정확도 :0.992, 교차검증 정밀도 :0.992 교차검증 재현율 :0.992\n",
      "\n",
      "\n",
      "\n",
      " 평균 검증 정확도 0.9905999999999999 0.9895999999999999 0.9905999999999999\n"
     ]
    }
   ],
   "source": [
    "# weighted\n",
    "result_skfold = StratifiedKFold(n_splits=5)\n",
    "result_clf = DecisionTreeClassifier(random_state=100)\n",
    "n_iter = 0\n",
    "\n",
    "cv_accuracy = []\n",
    "cv_precision = []\n",
    "cv_recall = []\n",
    "\n",
    "for train_idx, test_idx in result_skfold.split(X_sales1, y_sales1):\n",
    "    X_train, X_test = X_sales1.iloc[train_idx], X_sales1.iloc[test_idx]\n",
    "    y_train, y_test = y_sales1.iloc[train_idx], y_sales1.iloc[test_idx]\n",
    "    \n",
    "    #학습을 진행\n",
    "    result_clf.fit(X_train.values, y_train)\n",
    "    \n",
    "    #예측\n",
    "    fold_pred = result_clf.predict(X_test.values)\n",
    "    \n",
    "    #정확도 측정\n",
    "    n_iter += 1\n",
    "    accuracy = np.round(accuracy_score(y_test, fold_pred), 3)\n",
    "    precision = np.round(precision_score(y_test, fold_pred, average=\"weighted\"), 3)\n",
    "    recall = np.round(recall_score(y_test, fold_pred, average=\"weighted\"), 3)\n",
    "    print(\"\\n{} 교차검증 정확도 :{}, 교차검증 정밀도 :{} 교차검증 재현율 :{}\".format(n_iter, accuracy, precision, recall))\n",
    "    \n",
    "    cv_accuracy.append(accuracy)\n",
    "    cv_precision.append(precision)\n",
    "    cv_recall.append(recall)\n",
    "    \n",
    "print(\"\\n\")\n",
    "print(\"\\n 평균 검증 정확도\", np.mean(cv_accuracy), np.mean(cv_precision), np.mean(cv_recall))"
   ]
  },
  {
   "cell_type": "markdown",
   "id": "6f80f09a",
   "metadata": {},
   "source": [
    "- micro : 정확도, 정밀도, 재현율 모두 평균적으로 아주 높게 (>0.99) 나왔다.\n",
    "- macro : 정확도는 아주 높게 나왔지만, 정밀도는 평균적으로 약 0.76, 재현율은 약 0.66으로 낮게 나왔다.\n",
    "- weighted : 정확도, 정밀도, 재현율 모두 아주 높게 나왔다. 정밀도의 경우도 아주 높지만 정확도와 재현율에 비해 미세하게 낮게 나왔다.\n",
    "- macro average가 낮게 나온 것은 레이블별 데이터의 수의 차이가 원인인 것으로 보인다."
   ]
  }
 ],
 "metadata": {
  "kernelspec": {
   "display_name": "Python 3 (ipykernel)",
   "language": "python",
   "name": "python3"
  },
  "language_info": {
   "codemirror_mode": {
    "name": "ipython",
    "version": 3
   },
   "file_extension": ".py",
   "mimetype": "text/x-python",
   "name": "python",
   "nbconvert_exporter": "python",
   "pygments_lexer": "ipython3",
   "version": "3.9.12"
  }
 },
 "nbformat": 4,
 "nbformat_minor": 5
}
