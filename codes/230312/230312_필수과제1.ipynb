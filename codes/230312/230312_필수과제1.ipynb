{
 "cells": [
  {
   "cell_type": "markdown",
   "id": "83c46966",
   "metadata": {},
   "source": [
    "### 필수과제1. kfold, skf를 사용시 average가 총 3개가 나왔다.\n",
    "- micro\n",
    "- macro\n",
    "- weighted\n",
    "\n",
    "- 이 세 개의 차이점을 개념 정리해주시고, 직접 코드로 작성해서 정확도, 정밀도, 재현율이 어떻게 달라지는지 보여주세요!\n",
    "- iris 데이터를 가지고 진행"
   ]
  },
  {
   "cell_type": "markdown",
   "id": "0da17727",
   "metadata": {},
   "source": [
    "> *Precision을 기준으로 설명하였음*"
   ]
  },
  {
   "cell_type": "markdown",
   "id": "06e2ddd3",
   "metadata": {},
   "source": [
    "### micro (micro-averaged)"
   ]
  },
  {
   "cell_type": "code",
   "execution_count": 1,
   "id": "796bbc27",
   "metadata": {},
   "outputs": [],
   "source": [
    "from IPython.display import Image"
   ]
  },
  {
   "cell_type": "code",
   "execution_count": 2,
   "id": "b529f6f2",
   "metadata": {},
   "outputs": [
    {
     "data": {
      "image/png": "[encoded data removed]",
      "text/plain": [
       "<IPython.core.display.Image object>"
      ]
     },
     "execution_count": 2,
     "metadata": {},
     "output_type": "execute_result"
    }
   ],
   "source": [
    "Image(\"micro.png\")"
   ]
  },
  {
   "cell_type": "markdown",
   "id": "1eeca3b5",
   "metadata": {},
   "source": [
    "- 일반적인 전체 평균\n",
    "- global average\n",
    "- 모든 데이터값들이 균등하게 평균에 반영된다.\n",
    "- 레이블 종류가 평균에 영향을 주지 않는다."
   ]
  },
  {
   "cell_type": "markdown",
   "id": "1e8193ff",
   "metadata": {},
   "source": [
    "### macro (macro-averaged)"
   ]
  },
  {
   "cell_type": "code",
   "execution_count": 3,
   "id": "6b8f54ad",
   "metadata": {},
   "outputs": [
    {
     "data": {
      "image/png": "[encoded data removed]",
      "text/plain": [
       "<IPython.core.display.Image object>"
      ]
     },
     "execution_count": 3,
     "metadata": {},
     "output_type": "execute_result"
    }
   ],
   "source": [
    "Image(\"macro.png\")"
   ]
  },
  {
   "cell_type": "markdown",
   "id": "824563e3",
   "metadata": {},
   "source": [
    "- 그룹(레이블)별 평균의 평균\n",
    "- unweighted mean\n",
    "- 각 그룹(ex. iris 데이터의 0, 1, 2)의 평균을 구한 후, 그 평균값들을 다시 평균하여 구한다.\n",
    "- 모든 레이블값이 균등하게 평균에 반영된다.\n",
    "- 레이블의 비율은 평균에 영향을 주지 않는다."
   ]
  },
  {
   "cell_type": "markdown",
   "id": "9ebb09a7",
   "metadata": {},
   "source": [
    "### weighted (weighted-averaged)"
   ]
  },
  {
   "cell_type": "code",
   "execution_count": 4,
   "id": "ada245a2",
   "metadata": {},
   "outputs": [
    {
     "data": {
      "image/png": "[encoded data removed]",
      "text/plain": [
       "<IPython.core.display.Image object>"
      ]
     },
     "execution_count": 4,
     "metadata": {},
     "output_type": "execute_result"
    }
   ],
   "source": [
    "Image(\"weighted.png\")"
   ]
  },
  {
   "cell_type": "markdown",
   "id": "1a136d65",
   "metadata": {},
   "source": [
    "- 가중 평균\n",
    "- weighted mean\n",
    "- 각 그룹의 평균을 구한 후, 그 평균값들을 레이블별 데이터 수에 비례하여 다시 평균을 구한다.\n",
    "- 레이블의 비율이 높을수록 해당 레이블의 평균값이 가중 평균에 영향을 많이 준다."
   ]
  },
  {
   "cell_type": "markdown",
   "id": "e95d7996",
   "metadata": {},
   "source": [
    "### 코드 구현"
   ]
  },
  {
   "cell_type": "code",
   "execution_count": 8,
   "id": "c6120469",
   "metadata": {},
   "outputs": [],
   "source": [
    "from sklearn.datasets import load_iris\n",
    "from sklearn.tree import DecisionTreeClassifier\n",
    "from sklearn.model_selection import train_test_split\n",
    "from sklearn.metrics import accuracy_score, precision_score, recall_score # Confusion matrix 수업 때 진행할 예정\n",
    "from sklearn.model_selection import KFold, StratifiedKFold\n",
    "from sklearn.metrics import classification_report\n",
    "import numpy as np\n",
    "import pandas as pd"
   ]
  },
  {
   "cell_type": "markdown",
   "id": "72bc615d",
   "metadata": {},
   "source": [
    "- iris 데이터셋을 사용\n",
    "- 수업시간에 사용한 코드를 바탕으로 진행"
   ]
  },
  {
   "cell_type": "code",
   "execution_count": 9,
   "id": "e592d470",
   "metadata": {},
   "outputs": [],
   "source": [
    "fold_iris = load_iris()\n",
    "\n",
    "features = fold_iris.data\n",
    "label = fold_iris.target"
   ]
  },
  {
   "cell_type": "code",
   "execution_count": 16,
   "id": "cd913f7e",
   "metadata": {},
   "outputs": [],
   "source": [
    "result_p = pd.DataFrame()\n",
    "result_r = pd.DataFrame()"
   ]
  },
  {
   "cell_type": "code",
   "execution_count": 26,
   "id": "6d0064b5",
   "metadata": {
    "scrolled": true
   },
   "outputs": [
    {
     "name": "stdout",
     "output_type": "stream",
     "text": [
      "\n",
      "1 교차검증 정밀도 :0.98 교차검증 재현율 :0.98\n",
      "\n",
      "2 교차검증 정밀도 :0.92 교차검증 재현율 :0.92\n",
      "\n",
      "3 교차검증 정밀도 :0.96 교차검증 재현율 :0.96\n",
      "\n",
      "\n",
      "\n",
      " 평균 검증 정확도 0.9533333333333333 0.9533333333333333\n"
     ]
    }
   ],
   "source": [
    "# micro-averaged\n",
    "result_skfold = StratifiedKFold(n_splits=3)\n",
    "result_clf = DecisionTreeClassifier(random_state=100)\n",
    "n_iter = 0 # 5번 진행 예정이니 초기값 0 먼저 지정\n",
    "\n",
    "cv_precision = []\n",
    "cv_recall = []\n",
    "\n",
    "for train_idx, test_idx in result_skfold.split(features, label):\n",
    "    X_train, X_test = features[train_idx], features[test_idx]\n",
    "    y_train, y_test = label[train_idx], label[test_idx]\n",
    "    \n",
    "    #학습을 진행\n",
    "    result_clf.fit(X_train, y_train)\n",
    "    \n",
    "    #예측\n",
    "    fold_pred = result_clf.predict(X_test)\n",
    "    \n",
    "    #정확도 측정\n",
    "    n_iter += 1\n",
    "    precision = np.round(precision_score(y_test, fold_pred, average=\"micro\"), 3)\n",
    "    recall = np.round(recall_score(y_test, fold_pred, average=\"micro\"), 3)\n",
    "    print(\"\\n{} 교차검증 정밀도 :{} 교차검증 재현율 :{}\".format(n_iter, precision, recall))\n",
    "    \n",
    "    cv_precision.append(precision)\n",
    "    cv_recall.append(recall)\n",
    "    \n",
    "print(\"\\n\")\n",
    "print(\"\\n 평균 검증 정확도\", np.mean(cv_precision), np.mean(cv_recall))\n",
    "\n",
    "cv_precision.append(np.mean(cv_precision))\n",
    "result_p[\"micro\"] = pd.Series(cv_precision)\n",
    "cv_recall.append(np.mean(cv_recall))\n",
    "result_r[\"micro\"] = pd.Series(cv_recall)"
   ]
  },
  {
   "cell_type": "code",
   "execution_count": 28,
   "id": "d4c27a17",
   "metadata": {},
   "outputs": [
    {
     "name": "stdout",
     "output_type": "stream",
     "text": [
      "\n",
      "1 교차검증 정밀도 :0.981 교차검증 재현율 :0.979\n",
      "\n",
      "2 교차검증 정밀도 :0.919 교차검증 재현율 :0.919\n",
      "\n",
      "3 교차검증 정밀도 :0.961 교차검증 재현율 :0.961\n",
      "\n",
      "\n",
      "\n",
      " 평균 검증 정확도 0.9536666666666666 0.953\n"
     ]
    }
   ],
   "source": [
    "# macro-averaged\n",
    "result_skfold = StratifiedKFold(n_splits=3)\n",
    "result_clf = DecisionTreeClassifier(random_state=100)\n",
    "n_iter = 0 # 5번 진행 예정이니 초기값 0 먼저 지정\n",
    "\n",
    "cv_precision=[]\n",
    "cv_recall=[]\n",
    "\n",
    "for train_idx, test_idx in result_skfold.split(features, label):\n",
    "    X_train, X_test = features[train_idx], features[test_idx]\n",
    "    y_train, y_test = label[train_idx], label[test_idx]\n",
    "    \n",
    "    #학습을 진행\n",
    "    result_clf.fit(X_train, y_train)\n",
    "    \n",
    "    #예측\n",
    "    fold_pred = result_clf.predict(X_test)\n",
    "    \n",
    "    #정확도 측정\n",
    "    n_iter += 1\n",
    "    precision = np.round(precision_score(y_test, fold_pred, average=\"macro\"), 3)\n",
    "    recall = np.round(recall_score(y_test, fold_pred, average=\"macro\"), 3)\n",
    "    print(\"\\n{} 교차검증 정밀도 :{} 교차검증 재현율 :{}\".format(n_iter, precision, recall))\n",
    "    \n",
    "    cv_precision.append(precision)\n",
    "    cv_recall.append(recall)\n",
    "    \n",
    "print(\"\\n\")\n",
    "print(\"\\n 평균 검증 정확도\", np.mean(cv_precision), np.mean(cv_recall))\n",
    "\n",
    "cv_precision.append(np.mean(cv_precision))\n",
    "result_p[\"macro\"] = pd.Series(cv_precision)\n",
    "cv_recall.append(np.mean(cv_recall))\n",
    "result_r[\"macro\"] = pd.Series(cv_recall)"
   ]
  },
  {
   "cell_type": "code",
   "execution_count": 29,
   "id": "c0fa80d0",
   "metadata": {},
   "outputs": [
    {
     "name": "stdout",
     "output_type": "stream",
     "text": [
      "\n",
      "1 교차검증 정밀도 :0.981 교차검증 재현율 :0.98\n",
      "\n",
      "2 교차검증 정밀도 :0.92 교차검증 재현율 :0.92\n",
      "\n",
      "3 교차검증 정밀도 :0.96 교차검증 재현율 :0.96\n",
      "\n",
      "\n",
      "\n",
      " 평균 검증 정확도 0.9536666666666666 0.9533333333333333\n"
     ]
    }
   ],
   "source": [
    "# weighted-averaged\n",
    "result_skfold = StratifiedKFold(n_splits=3)\n",
    "result_clf = DecisionTreeClassifier(random_state=100)\n",
    "n_iter = 0 # 5번 진행 예정이니 초기값 0 먼저 지정\n",
    "\n",
    "cv_precision=[]\n",
    "cv_recall=[]\n",
    "\n",
    "for train_idx, test_idx in result_skfold.split(features, label):\n",
    "    X_train, X_test = features[train_idx], features[test_idx]\n",
    "    y_train, y_test = label[train_idx], label[test_idx]\n",
    "    \n",
    "    #학습을 진행\n",
    "    result_clf.fit(X_train, y_train)\n",
    "    \n",
    "    #예측\n",
    "    fold_pred = result_clf.predict(X_test)\n",
    "    \n",
    "    #정확도 측정\n",
    "    n_iter += 1\n",
    "    precision = np.round(precision_score(y_test, fold_pred, average=\"weighted\"), 3)\n",
    "    recall = np.round(recall_score(y_test, fold_pred, average=\"weighted\"), 3)\n",
    "    print(\"\\n{} 교차검증 정밀도 :{} 교차검증 재현율 :{}\".format(n_iter, precision, recall))\n",
    "    \n",
    "    cv_precision.append(precision)\n",
    "    cv_recall.append(recall)\n",
    "    \n",
    "print(\"\\n\")\n",
    "print(\"\\n 평균 검증 정확도\", np.mean(cv_precision), np.mean(cv_recall))\n",
    "\n",
    "cv_precision.append(np.mean(cv_precision))\n",
    "result_p[\"weighted\"] = pd.Series(cv_precision)\n",
    "cv_recall.append(np.mean(cv_recall))\n",
    "result_r[\"weighted\"] = pd.Series(cv_recall)"
   ]
  },
  {
   "cell_type": "code",
   "execution_count": 32,
   "id": "6c187e1a",
   "metadata": {},
   "outputs": [
    {
     "data": {
      "text/html": [
       "<div>\n",
       "<style scoped>\n",
       "    .dataframe tbody tr th:only-of-type {\n",
       "        vertical-align: middle;\n",
       "    }\n",
       "\n",
       "    .dataframe tbody tr th {\n",
       "        vertical-align: top;\n",
       "    }\n",
       "\n",
       "    .dataframe thead th {\n",
       "        text-align: right;\n",
       "    }\n",
       "</style>\n",
       "<table border=\"1\" class=\"dataframe\">\n",
       "  <thead>\n",
       "    <tr style=\"text-align: right;\">\n",
       "      <th></th>\n",
       "      <th>micro</th>\n",
       "      <th>macro</th>\n",
       "      <th>weighted</th>\n",
       "    </tr>\n",
       "  </thead>\n",
       "  <tbody>\n",
       "    <tr>\n",
       "      <th>0</th>\n",
       "      <td>0.980000</td>\n",
       "      <td>0.981000</td>\n",
       "      <td>0.981000</td>\n",
       "    </tr>\n",
       "    <tr>\n",
       "      <th>1</th>\n",
       "      <td>0.920000</td>\n",
       "      <td>0.919000</td>\n",
       "      <td>0.920000</td>\n",
       "    </tr>\n",
       "    <tr>\n",
       "      <th>2</th>\n",
       "      <td>0.960000</td>\n",
       "      <td>0.961000</td>\n",
       "      <td>0.960000</td>\n",
       "    </tr>\n",
       "    <tr>\n",
       "      <th>3</th>\n",
       "      <td>0.953333</td>\n",
       "      <td>0.953667</td>\n",
       "      <td>0.953667</td>\n",
       "    </tr>\n",
       "  </tbody>\n",
       "</table>\n",
       "</div>"
      ],
      "text/plain": [
       "      micro     macro  weighted\n",
       "0  0.980000  0.981000  0.981000\n",
       "1  0.920000  0.919000  0.920000\n",
       "2  0.960000  0.961000  0.960000\n",
       "3  0.953333  0.953667  0.953667"
      ]
     },
     "metadata": {},
     "output_type": "display_data"
    },
    {
     "data": {
      "text/html": [
       "<div>\n",
       "<style scoped>\n",
       "    .dataframe tbody tr th:only-of-type {\n",
       "        vertical-align: middle;\n",
       "    }\n",
       "\n",
       "    .dataframe tbody tr th {\n",
       "        vertical-align: top;\n",
       "    }\n",
       "\n",
       "    .dataframe thead th {\n",
       "        text-align: right;\n",
       "    }\n",
       "</style>\n",
       "<table border=\"1\" class=\"dataframe\">\n",
       "  <thead>\n",
       "    <tr style=\"text-align: right;\">\n",
       "      <th></th>\n",
       "      <th>micro</th>\n",
       "      <th>macro</th>\n",
       "      <th>weighted</th>\n",
       "    </tr>\n",
       "  </thead>\n",
       "  <tbody>\n",
       "    <tr>\n",
       "      <th>0</th>\n",
       "      <td>0.980000</td>\n",
       "      <td>0.979</td>\n",
       "      <td>0.980000</td>\n",
       "    </tr>\n",
       "    <tr>\n",
       "      <th>1</th>\n",
       "      <td>0.920000</td>\n",
       "      <td>0.919</td>\n",
       "      <td>0.920000</td>\n",
       "    </tr>\n",
       "    <tr>\n",
       "      <th>2</th>\n",
       "      <td>0.960000</td>\n",
       "      <td>0.961</td>\n",
       "      <td>0.960000</td>\n",
       "    </tr>\n",
       "    <tr>\n",
       "      <th>3</th>\n",
       "      <td>0.953333</td>\n",
       "      <td>0.953</td>\n",
       "      <td>0.953333</td>\n",
       "    </tr>\n",
       "  </tbody>\n",
       "</table>\n",
       "</div>"
      ],
      "text/plain": [
       "      micro  macro  weighted\n",
       "0  0.980000  0.979  0.980000\n",
       "1  0.920000  0.919  0.920000\n",
       "2  0.960000  0.961  0.960000\n",
       "3  0.953333  0.953  0.953333"
      ]
     },
     "metadata": {},
     "output_type": "display_data"
    }
   ],
   "source": [
    "display(result_p)\n",
    "display(result_r)"
   ]
  },
  {
   "cell_type": "markdown",
   "id": "e9a4c0ab",
   "metadata": {},
   "source": [
    "- 검증 결과값을 보면 미세하게 차이가 남을 확인할 수 있다.\n",
    "- 이번에는 레이블별 데이터수를 다르게 설정"
   ]
  },
  {
   "cell_type": "code",
   "execution_count": 67,
   "id": "8854a18d",
   "metadata": {},
   "outputs": [
    {
     "data": {
      "text/plain": [
       "array([0, 0, 0, 0, 0, 0, 0, 0, 0, 0])"
      ]
     },
     "metadata": {},
     "output_type": "display_data"
    },
    {
     "data": {
      "text/plain": [
       "array([1, 1, 1, 1, 1, 1, 1, 1, 1, 1, 1, 1, 1, 1, 1, 1, 1, 1, 1, 1, 1, 1,\n",
       "       1, 1, 1, 1, 1, 1, 1, 1])"
      ]
     },
     "metadata": {},
     "output_type": "display_data"
    },
    {
     "data": {
      "text/plain": [
       "array([2, 2, 2, 2, 2, 2, 2, 2, 2, 2, 2, 2, 2, 2, 2, 2, 2, 2, 2, 2, 2, 2,\n",
       "       2, 2, 2, 2, 2, 2, 2, 2, 2, 2, 2, 2, 2, 2, 2, 2, 2, 2, 2, 2, 2, 2,\n",
       "       2, 2, 2, 2, 2, 2])"
      ]
     },
     "metadata": {},
     "output_type": "display_data"
    }
   ],
   "source": [
    "# 레이블 별로 추출할 데이터\n",
    "display(label[0:10])    # 0: 10개 추출\n",
    "display(label[50:80])   # 1: 30개 추출\n",
    "display(label[100:150]) # 2: 50개 추출 (전부 추출)\n",
    "\n",
    "new_features = np.concatenate((features[0:10], features[50:80], features[100:150]))\n",
    "new_label = np.concatenate((label[0:10], label[50:80], label[100:150]))"
   ]
  },
  {
   "cell_type": "code",
   "execution_count": 70,
   "id": "2c63ddb2",
   "metadata": {},
   "outputs": [],
   "source": [
    "result_p2 = pd.DataFrame()\n",
    "result_r2 = pd.DataFrame()"
   ]
  },
  {
   "cell_type": "code",
   "execution_count": 71,
   "id": "c8c8da89",
   "metadata": {},
   "outputs": [
    {
     "name": "stdout",
     "output_type": "stream",
     "text": [
      "\n",
      "1 교차검증 정밀도 :1.0 교차검증 재현율 :1.0\n",
      "\n",
      "2 교차검증 정밀도 :1.0 교차검증 재현율 :1.0\n",
      "\n",
      "3 교차검증 정밀도 :0.933 교차검증 재현율 :0.933\n",
      "\n",
      "\n",
      "\n",
      " 평균 검증 정확도 0.9776666666666666 0.9776666666666666\n"
     ]
    }
   ],
   "source": [
    "# micro-averaged\n",
    "result_skfold = StratifiedKFold(n_splits=3)\n",
    "result_clf = DecisionTreeClassifier(random_state=100)\n",
    "n_iter = 0 # 5번 진행 예정이니 초기값 0 먼저 지정\n",
    "\n",
    "cv_precision = []\n",
    "cv_recall = []\n",
    "\n",
    "for train_idx, test_idx in result_skfold.split(new_features, new_label):\n",
    "    X_train, X_test = new_features[train_idx], new_features[test_idx]\n",
    "    y_train, y_test = new_label[train_idx], new_label[test_idx]\n",
    "    \n",
    "    #학습을 진행\n",
    "    result_clf.fit(X_train, y_train)\n",
    "    \n",
    "    #예측\n",
    "    fold_pred = result_clf.predict(X_test)\n",
    "    \n",
    "    #정확도 측정\n",
    "    n_iter += 1\n",
    "    precision = np.round(precision_score(y_test, fold_pred, average=\"micro\"), 3)\n",
    "    recall = np.round(recall_score(y_test, fold_pred, average=\"micro\"), 3)\n",
    "    print(\"\\n{} 교차검증 정밀도 :{} 교차검증 재현율 :{}\".format(n_iter, precision, recall))\n",
    "    \n",
    "    cv_precision.append(precision)\n",
    "    cv_recall.append(recall)\n",
    "    \n",
    "print(\"\\n\")\n",
    "print(\"\\n 평균 검증 정확도\", np.mean(cv_precision), np.mean(cv_recall))\n",
    "\n",
    "cv_precision.append(np.mean(cv_precision))\n",
    "result_p2[\"micro\"] = pd.Series(cv_precision)\n",
    "cv_recall.append(np.mean(cv_recall))\n",
    "result_r2[\"micro\"] = pd.Series(cv_recall)"
   ]
  },
  {
   "cell_type": "code",
   "execution_count": 72,
   "id": "5531a4c0",
   "metadata": {},
   "outputs": [
    {
     "name": "stdout",
     "output_type": "stream",
     "text": [
      "\n",
      "1 교차검증 정밀도 :1.0 교차검증 재현율 :1.0\n",
      "\n",
      "2 교차검증 정밀도 :1.0 교차검증 재현율 :1.0\n",
      "\n",
      "3 교차검증 정밀도 :0.965 교차검증 재현율 :0.933\n",
      "\n",
      "\n",
      "\n",
      " 평균 검증 정확도 0.9883333333333333 0.9776666666666666\n"
     ]
    }
   ],
   "source": [
    "# macro-averaged\n",
    "result_skfold = StratifiedKFold(n_splits=3)\n",
    "result_clf = DecisionTreeClassifier(random_state=100)\n",
    "n_iter = 0 # 5번 진행 예정이니 초기값 0 먼저 지정\n",
    "\n",
    "cv_precision=[]\n",
    "cv_recall=[]\n",
    "\n",
    "for train_idx, test_idx in result_skfold.split(new_features, new_label):\n",
    "    X_train, X_test = new_features[train_idx], new_features[test_idx]\n",
    "    y_train, y_test = new_label[train_idx], new_label[test_idx]\n",
    "    \n",
    "    #학습을 진행\n",
    "    result_clf.fit(X_train, y_train)\n",
    "    \n",
    "    #예측\n",
    "    fold_pred = result_clf.predict(X_test)\n",
    "    \n",
    "    #정확도 측정\n",
    "    n_iter += 1\n",
    "    precision = np.round(precision_score(y_test, fold_pred, average=\"macro\"), 3)\n",
    "    recall = np.round(recall_score(y_test, fold_pred, average=\"macro\"), 3)\n",
    "    print(\"\\n{} 교차검증 정밀도 :{} 교차검증 재현율 :{}\".format(n_iter, precision, recall))\n",
    "    \n",
    "    cv_precision.append(precision)\n",
    "    cv_recall.append(recall)\n",
    "    \n",
    "print(\"\\n\")\n",
    "print(\"\\n 평균 검증 정확도\", np.mean(cv_precision), np.mean(cv_recall))\n",
    "\n",
    "cv_precision.append(np.mean(cv_precision))\n",
    "result_p2[\"macro\"] = pd.Series(cv_precision)\n",
    "cv_recall.append(np.mean(cv_recall))\n",
    "result_r2[\"macro\"] = pd.Series(cv_recall)"
   ]
  },
  {
   "cell_type": "code",
   "execution_count": 73,
   "id": "c745fc7b",
   "metadata": {},
   "outputs": [
    {
     "name": "stdout",
     "output_type": "stream",
     "text": [
      "\n",
      "1 교차검증 정밀도 :1.0 교차검증 재현율 :1.0\n",
      "\n",
      "2 교차검증 정밀도 :1.0 교차검증 재현율 :1.0\n",
      "\n",
      "3 교차검증 정밀도 :0.94 교차검증 재현율 :0.933\n",
      "\n",
      "\n",
      "\n",
      " 평균 검증 정확도 0.98 0.9776666666666666\n"
     ]
    }
   ],
   "source": [
    "# weighted-averaged\n",
    "result_skfold = StratifiedKFold(n_splits=3)\n",
    "result_clf = DecisionTreeClassifier(random_state=100)\n",
    "n_iter = 0 # 5번 진행 예정이니 초기값 0 먼저 지정\n",
    "\n",
    "cv_precision=[]\n",
    "cv_recall=[]\n",
    "\n",
    "for train_idx, test_idx in result_skfold.split(new_features, new_label):\n",
    "    X_train, X_test = new_features[train_idx], new_features[test_idx]\n",
    "    y_train, y_test = new_label[train_idx], new_label[test_idx]\n",
    "    \n",
    "    #학습을 진행\n",
    "    result_clf.fit(X_train, y_train)\n",
    "    \n",
    "    #예측\n",
    "    fold_pred = result_clf.predict(X_test)\n",
    "    \n",
    "    #정확도 측정\n",
    "    n_iter += 1\n",
    "    precision = np.round(precision_score(y_test, fold_pred, average=\"weighted\"), 3)\n",
    "    recall = np.round(recall_score(y_test, fold_pred, average=\"weighted\"), 3)\n",
    "    print(\"\\n{} 교차검증 정밀도 :{} 교차검증 재현율 :{}\".format(n_iter, precision, recall))\n",
    "    \n",
    "    cv_precision.append(precision)\n",
    "    cv_recall.append(recall)\n",
    "    \n",
    "print(\"\\n\")\n",
    "print(\"\\n 평균 검증 정확도\", np.mean(cv_precision), np.mean(cv_recall))\n",
    "\n",
    "cv_precision.append(np.mean(cv_precision))\n",
    "result_p2[\"weighted\"] = pd.Series(cv_precision)\n",
    "cv_recall.append(np.mean(cv_recall))\n",
    "result_r2[\"weighted\"] = pd.Series(cv_recall)"
   ]
  },
  {
   "cell_type": "code",
   "execution_count": 74,
   "id": "0a1c6504",
   "metadata": {},
   "outputs": [
    {
     "data": {
      "text/html": [
       "<div>\n",
       "<style scoped>\n",
       "    .dataframe tbody tr th:only-of-type {\n",
       "        vertical-align: middle;\n",
       "    }\n",
       "\n",
       "    .dataframe tbody tr th {\n",
       "        vertical-align: top;\n",
       "    }\n",
       "\n",
       "    .dataframe thead th {\n",
       "        text-align: right;\n",
       "    }\n",
       "</style>\n",
       "<table border=\"1\" class=\"dataframe\">\n",
       "  <thead>\n",
       "    <tr style=\"text-align: right;\">\n",
       "      <th></th>\n",
       "      <th>micro</th>\n",
       "      <th>macro</th>\n",
       "      <th>weighted</th>\n",
       "    </tr>\n",
       "  </thead>\n",
       "  <tbody>\n",
       "    <tr>\n",
       "      <th>0</th>\n",
       "      <td>1.000000</td>\n",
       "      <td>1.000000</td>\n",
       "      <td>1.00</td>\n",
       "    </tr>\n",
       "    <tr>\n",
       "      <th>1</th>\n",
       "      <td>1.000000</td>\n",
       "      <td>1.000000</td>\n",
       "      <td>1.00</td>\n",
       "    </tr>\n",
       "    <tr>\n",
       "      <th>2</th>\n",
       "      <td>0.933000</td>\n",
       "      <td>0.965000</td>\n",
       "      <td>0.94</td>\n",
       "    </tr>\n",
       "    <tr>\n",
       "      <th>3</th>\n",
       "      <td>0.977667</td>\n",
       "      <td>0.988333</td>\n",
       "      <td>0.98</td>\n",
       "    </tr>\n",
       "  </tbody>\n",
       "</table>\n",
       "</div>"
      ],
      "text/plain": [
       "      micro     macro  weighted\n",
       "0  1.000000  1.000000      1.00\n",
       "1  1.000000  1.000000      1.00\n",
       "2  0.933000  0.965000      0.94\n",
       "3  0.977667  0.988333      0.98"
      ]
     },
     "metadata": {},
     "output_type": "display_data"
    },
    {
     "data": {
      "text/html": [
       "<div>\n",
       "<style scoped>\n",
       "    .dataframe tbody tr th:only-of-type {\n",
       "        vertical-align: middle;\n",
       "    }\n",
       "\n",
       "    .dataframe tbody tr th {\n",
       "        vertical-align: top;\n",
       "    }\n",
       "\n",
       "    .dataframe thead th {\n",
       "        text-align: right;\n",
       "    }\n",
       "</style>\n",
       "<table border=\"1\" class=\"dataframe\">\n",
       "  <thead>\n",
       "    <tr style=\"text-align: right;\">\n",
       "      <th></th>\n",
       "      <th>micro</th>\n",
       "      <th>macro</th>\n",
       "      <th>weighted</th>\n",
       "    </tr>\n",
       "  </thead>\n",
       "  <tbody>\n",
       "    <tr>\n",
       "      <th>0</th>\n",
       "      <td>1.000000</td>\n",
       "      <td>1.000000</td>\n",
       "      <td>1.000000</td>\n",
       "    </tr>\n",
       "    <tr>\n",
       "      <th>1</th>\n",
       "      <td>1.000000</td>\n",
       "      <td>1.000000</td>\n",
       "      <td>1.000000</td>\n",
       "    </tr>\n",
       "    <tr>\n",
       "      <th>2</th>\n",
       "      <td>0.933000</td>\n",
       "      <td>0.933000</td>\n",
       "      <td>0.933000</td>\n",
       "    </tr>\n",
       "    <tr>\n",
       "      <th>3</th>\n",
       "      <td>0.977667</td>\n",
       "      <td>0.977667</td>\n",
       "      <td>0.977667</td>\n",
       "    </tr>\n",
       "  </tbody>\n",
       "</table>\n",
       "</div>"
      ],
      "text/plain": [
       "      micro     macro  weighted\n",
       "0  1.000000  1.000000  1.000000\n",
       "1  1.000000  1.000000  1.000000\n",
       "2  0.933000  0.933000  0.933000\n",
       "3  0.977667  0.977667  0.977667"
      ]
     },
     "metadata": {},
     "output_type": "display_data"
    }
   ],
   "source": [
    "display(result_p2)\n",
    "display(result_r2)"
   ]
  },
  {
   "cell_type": "markdown",
   "id": "0a699775",
   "metadata": {},
   "source": [
    "- precision의 경우, macro > micro > weighted\n",
    "- recall의 경우, 세 개 모두 동일하게 나옴"
   ]
  },
  {
   "cell_type": "markdown",
   "id": "847ce748",
   "metadata": {},
   "source": [
    "- 각 레이블별 데이터 수가 부족한 경우나, 각 레이블별로 균등하게 평균에 반영하고 싶을 경우, macro가 좋다\n",
    "- 레이블의 수가 많은 경우(multilabel)나, 각 레이블별로 데이터 수가 균등할 때 전체 데이터의 평균을 알고 싶을 경우, micro가 좋다\n",
    "- 각 레이블별 데이터 수가 불균형하고 이를 평균에 반영하고 싶은 경우, weighted가 좋다."
   ]
  },
  {
   "cell_type": "code",
   "execution_count": null,
   "id": "a6cb6f12",
   "metadata": {},
   "outputs": [],
   "source": []
  }
 ],
 "metadata": {
  "kernelspec": {
   "display_name": "Python 3 (ipykernel)",
   "language": "python",
   "name": "python3"
  },
  "language_info": {
   "codemirror_mode": {
    "name": "ipython",
    "version": 3
   },
   "file_extension": ".py",
   "mimetype": "text/x-python",
   "name": "python",
   "nbconvert_exporter": "python",
   "pygments_lexer": "ipython3",
   "version": "3.9.12"
  }
 },
 "nbformat": 4,
 "nbformat_minor": 5
}
