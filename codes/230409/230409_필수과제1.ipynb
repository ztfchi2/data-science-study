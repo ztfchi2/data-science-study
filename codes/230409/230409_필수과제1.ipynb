{
 "cells": [
  {
   "cell_type": "markdown",
   "id": "6cd5ec40",
   "metadata": {},
   "source": [
    "### 필수과제1\n",
    "- kmeans의 군집화의 inertia값이 의미하는 것이 어떤 것인지?\n",
    "- 구체적으로 개념을 정리하고, 실제 시각화 코드를 통해서 인사이트를 도출해보기!"
   ]
  },
  {
   "cell_type": "markdown",
   "id": "59fbe03f",
   "metadata": {},
   "source": [
    "### inertia value\n",
    "- 군집의 응집도: 각 중심점에서 군집의 데이터 간 거리의 합\n",
    "- K-means를 수행하기 위한 클러스터의 개수를 정하기 위해 사용되는 지표\n",
    "- inertia 값이 작을수록, 군집의 개수(k)가 적을수록 좋은 모델이다.\n",
    "- 그러나 inertia 값과 군집의 개수(k)는 tradeoff 관계: 군집의 개수가 증가할수록 inertia 값이 감소한다.\n",
    "- 적절한 k값을 찾기 위해서 inertia 값을 이용하는 방법이 elbow method이다."
   ]
  },
  {
   "cell_type": "markdown",
   "id": "00f00fc6",
   "metadata": {},
   "source": [
    "### 시각화 코드\n",
    "- iris 데이터셋을 사용"
   ]
  },
  {
   "cell_type": "code",
   "execution_count": 1,
   "id": "f86753b4",
   "metadata": {},
   "outputs": [],
   "source": [
    "from sklearn import datasets\n",
    "from sklearn.preprocessing import scale\n",
    "from sklearn.cluster import KMeans\n",
    "import matplotlib.pyplot as plt\n",
    "import numpy as np\n",
    "import pandas as pd\n",
    "import seaborn as sns\n",
    "%matplotlib inline"
   ]
  },
  {
   "cell_type": "code",
   "execution_count": 2,
   "id": "df6445d0",
   "metadata": {},
   "outputs": [],
   "source": [
    "iris_df = datasets.load_iris()"
   ]
  },
  {
   "cell_type": "code",
   "execution_count": 3,
   "id": "d4aaa1d9",
   "metadata": {},
   "outputs": [
    {
     "data": {
      "text/html": [
       "<div>\n",
       "<style scoped>\n",
       "    .dataframe tbody tr th:only-of-type {\n",
       "        vertical-align: middle;\n",
       "    }\n",
       "\n",
       "    .dataframe tbody tr th {\n",
       "        vertical-align: top;\n",
       "    }\n",
       "\n",
       "    .dataframe thead th {\n",
       "        text-align: right;\n",
       "    }\n",
       "</style>\n",
       "<table border=\"1\" class=\"dataframe\">\n",
       "  <thead>\n",
       "    <tr style=\"text-align: right;\">\n",
       "      <th></th>\n",
       "      <th>Sepal_length</th>\n",
       "      <th>Sepal_width</th>\n",
       "      <th>Petal_length</th>\n",
       "      <th>Petal_width</th>\n",
       "      <th>labels</th>\n",
       "    </tr>\n",
       "  </thead>\n",
       "  <tbody>\n",
       "    <tr>\n",
       "      <th>0</th>\n",
       "      <td>5.1</td>\n",
       "      <td>3.5</td>\n",
       "      <td>1.4</td>\n",
       "      <td>0.2</td>\n",
       "      <td>0</td>\n",
       "    </tr>\n",
       "    <tr>\n",
       "      <th>1</th>\n",
       "      <td>4.9</td>\n",
       "      <td>3.0</td>\n",
       "      <td>1.4</td>\n",
       "      <td>0.2</td>\n",
       "      <td>0</td>\n",
       "    </tr>\n",
       "    <tr>\n",
       "      <th>2</th>\n",
       "      <td>4.7</td>\n",
       "      <td>3.2</td>\n",
       "      <td>1.3</td>\n",
       "      <td>0.2</td>\n",
       "      <td>0</td>\n",
       "    </tr>\n",
       "    <tr>\n",
       "      <th>3</th>\n",
       "      <td>4.6</td>\n",
       "      <td>3.1</td>\n",
       "      <td>1.5</td>\n",
       "      <td>0.2</td>\n",
       "      <td>0</td>\n",
       "    </tr>\n",
       "    <tr>\n",
       "      <th>4</th>\n",
       "      <td>5.0</td>\n",
       "      <td>3.6</td>\n",
       "      <td>1.4</td>\n",
       "      <td>0.2</td>\n",
       "      <td>0</td>\n",
       "    </tr>\n",
       "    <tr>\n",
       "      <th>...</th>\n",
       "      <td>...</td>\n",
       "      <td>...</td>\n",
       "      <td>...</td>\n",
       "      <td>...</td>\n",
       "      <td>...</td>\n",
       "    </tr>\n",
       "    <tr>\n",
       "      <th>145</th>\n",
       "      <td>6.7</td>\n",
       "      <td>3.0</td>\n",
       "      <td>5.2</td>\n",
       "      <td>2.3</td>\n",
       "      <td>2</td>\n",
       "    </tr>\n",
       "    <tr>\n",
       "      <th>146</th>\n",
       "      <td>6.3</td>\n",
       "      <td>2.5</td>\n",
       "      <td>5.0</td>\n",
       "      <td>1.9</td>\n",
       "      <td>2</td>\n",
       "    </tr>\n",
       "    <tr>\n",
       "      <th>147</th>\n",
       "      <td>6.5</td>\n",
       "      <td>3.0</td>\n",
       "      <td>5.2</td>\n",
       "      <td>2.0</td>\n",
       "      <td>2</td>\n",
       "    </tr>\n",
       "    <tr>\n",
       "      <th>148</th>\n",
       "      <td>6.2</td>\n",
       "      <td>3.4</td>\n",
       "      <td>5.4</td>\n",
       "      <td>2.3</td>\n",
       "      <td>2</td>\n",
       "    </tr>\n",
       "    <tr>\n",
       "      <th>149</th>\n",
       "      <td>5.9</td>\n",
       "      <td>3.0</td>\n",
       "      <td>5.1</td>\n",
       "      <td>1.8</td>\n",
       "      <td>2</td>\n",
       "    </tr>\n",
       "  </tbody>\n",
       "</table>\n",
       "<p>150 rows × 5 columns</p>\n",
       "</div>"
      ],
      "text/plain": [
       "     Sepal_length  Sepal_width  Petal_length  Petal_width  labels\n",
       "0             5.1          3.5           1.4          0.2       0\n",
       "1             4.9          3.0           1.4          0.2       0\n",
       "2             4.7          3.2           1.3          0.2       0\n",
       "3             4.6          3.1           1.5          0.2       0\n",
       "4             5.0          3.6           1.4          0.2       0\n",
       "..            ...          ...           ...          ...     ...\n",
       "145           6.7          3.0           5.2          2.3       2\n",
       "146           6.3          2.5           5.0          1.9       2\n",
       "147           6.5          3.0           5.2          2.0       2\n",
       "148           6.2          3.4           5.4          2.3       2\n",
       "149           5.9          3.0           5.1          1.8       2\n",
       "\n",
       "[150 rows x 5 columns]"
      ]
     },
     "execution_count": 3,
     "metadata": {},
     "output_type": "execute_result"
    }
   ],
   "source": [
    "labels = pd.DataFrame(iris_df.target, columns=[\"labels\"])\n",
    "data = pd.DataFrame(iris_df.data, columns=[\"Sepal_length\", \"Sepal_width\", \n",
    "                                           \"Petal_length\", \"Petal_width\"])\n",
    "data = pd.concat([data, labels], axis=1)\n",
    "data"
   ]
  },
  {
   "cell_type": "code",
   "execution_count": 4,
   "id": "c0785608",
   "metadata": {},
   "outputs": [],
   "source": [
    "def change_n_clusters(n_clusters, data):\n",
    "    sum_of_squared_distance=[]\n",
    "    for n_cluster in n_clusters:\n",
    "        kmeans = KMeans(n_clusters = n_cluster)\n",
    "        kmeans.fit(data)\n",
    "        sum_of_squared_distance.append(kmeans.inertia_)\n",
    "        print(kmeans.inertia_)\n",
    "        \n",
    "    plt.figure(1, figsize=(15,8))\n",
    "    plt.plot(n_clusters, sum_of_squared_distance, '*')\n",
    "    plt.plot(n_clusters, sum_of_squared_distance, '-', alpha=0.5)\n",
    "    plt.xlabel('Number of clusters')\n",
    "    plt.ylabel('Inertia')"
   ]
  },
  {
   "cell_type": "code",
   "execution_count": 5,
   "id": "e17a9f3b",
   "metadata": {},
   "outputs": [
    {
     "name": "stdout",
     "output_type": "stream",
     "text": [
      "179.05358288770051\n",
      "87.22062785114045\n",
      "66.84213762993764\n",
      "50.28098757763974\n",
      "42.91270454545454\n",
      "35.48785672459586\n",
      "31.52204674069892\n"
     ]
    },
    {
     "data": {
      "image/png": "[encoded data removed]",
      "text/plain": [
       "<Figure size 1080x576 with 1 Axes>"
      ]
     },
     "metadata": {
      "needs_background": "light"
     },
     "output_type": "display_data"
    }
   ],
   "source": [
    "n_clusters = [2,3,4,5,6,7,8]\n",
    "change_n_clusters(n_clusters, data)"
   ]
  },
  {
   "cell_type": "markdown",
   "id": "8f01d2f4",
   "metadata": {},
   "source": [
    "- inertia 데이터를 시각화한 결과, 군집의 개수가 증가할수록 inertia 값이 감소한다는 사실을 확인할 수 있다.\n",
    "- elbow method에서는 적절한 k값을 찾기 위해서 inertia 값이 급격히 감소한 지점을 찾지만, 결정하기 애매한 경우가 있다.\n",
    "- 이때는 다른 평가 지표를 함께 이용하는 것도 좋은 방법이다."
   ]
  },
  {
   "cell_type": "code",
   "execution_count": null,
   "id": "0c275947",
   "metadata": {},
   "outputs": [],
   "source": []
  }
 ],
 "metadata": {
  "kernelspec": {
   "display_name": "Python 3 (ipykernel)",
   "language": "python",
   "name": "python3"
  },
  "language_info": {
   "codemirror_mode": {
    "name": "ipython",
    "version": 3
   },
   "file_extension": ".py",
   "mimetype": "text/x-python",
   "name": "python",
   "nbconvert_exporter": "python",
   "pygments_lexer": "ipython3",
   "version": "3.9.12"
  }
 },
 "nbformat": 4,
 "nbformat_minor": 5
}
