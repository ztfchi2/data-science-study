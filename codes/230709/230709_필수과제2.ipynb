{
 "cells": [
  {
   "cell_type": "markdown",
   "id": "4d9ab0e2",
   "metadata": {},
   "source": [
    "### 필수과제2\n",
    "- 데이터를 제공할 예정\n",
    "- 해당 데이터를 가지고 기존에 배웠던, OLS~ 변수에 대한 설명령 이해 이런 부분에다가 추가로 오늘 배운 내용까지 해서 최적의 모델링, alpha 값까지 찾아서\n",
    "- 정리해서 제출해주세요!"
   ]
  },
  {
   "cell_type": "code",
   "execution_count": 1,
   "id": "e0bf79e8",
   "metadata": {},
   "outputs": [],
   "source": [
    "import numpy as np\n",
    "import pandas as pd\n",
    "import matplotlib.pyplot as plt\n",
    "import seaborn as sns"
   ]
  },
  {
   "cell_type": "code",
   "execution_count": 4,
   "id": "4ffe31f5",
   "metadata": {},
   "outputs": [],
   "source": [
    "dat = pd.read_csv(\"물류데이터.csv\")"
   ]
  },
  {
   "cell_type": "code",
   "execution_count": 5,
   "id": "b4343202",
   "metadata": {
    "scrolled": false
   },
   "outputs": [
    {
     "data": {
      "text/html": [
       "<div>\n",
       "<style scoped>\n",
       "    .dataframe tbody tr th:only-of-type {\n",
       "        vertical-align: middle;\n",
       "    }\n",
       "\n",
       "    .dataframe tbody tr th {\n",
       "        vertical-align: top;\n",
       "    }\n",
       "\n",
       "    .dataframe thead th {\n",
       "        text-align: right;\n",
       "    }\n",
       "</style>\n",
       "<table border=\"1\" class=\"dataframe\">\n",
       "  <thead>\n",
       "    <tr style=\"text-align: right;\">\n",
       "      <th></th>\n",
       "      <th>index</th>\n",
       "      <th>송하인_격자공간고유번호</th>\n",
       "      <th>수하인_격자공간고유번호</th>\n",
       "      <th>물품_카테고리</th>\n",
       "      <th>운송장_건수</th>\n",
       "    </tr>\n",
       "  </thead>\n",
       "  <tbody>\n",
       "    <tr>\n",
       "      <th>0</th>\n",
       "      <td>0</td>\n",
       "      <td>5011000595017300</td>\n",
       "      <td>2871000192069300</td>\n",
       "      <td>음반</td>\n",
       "      <td>3</td>\n",
       "    </tr>\n",
       "    <tr>\n",
       "      <th>1</th>\n",
       "      <td>1</td>\n",
       "      <td>4148000690043300</td>\n",
       "      <td>5011000264024400</td>\n",
       "      <td>문화컨텐츠</td>\n",
       "      <td>3</td>\n",
       "    </tr>\n",
       "    <tr>\n",
       "      <th>2</th>\n",
       "      <td>2</td>\n",
       "      <td>5011000078068400</td>\n",
       "      <td>1120000007005400</td>\n",
       "      <td>농산물</td>\n",
       "      <td>3</td>\n",
       "    </tr>\n",
       "    <tr>\n",
       "      <th>3</th>\n",
       "      <td>3</td>\n",
       "      <td>4127100048006400</td>\n",
       "      <td>5011000587019400</td>\n",
       "      <td>기타식품</td>\n",
       "      <td>7</td>\n",
       "    </tr>\n",
       "    <tr>\n",
       "      <th>4</th>\n",
       "      <td>4</td>\n",
       "      <td>5011000078068400</td>\n",
       "      <td>2823700010076300</td>\n",
       "      <td>농산물</td>\n",
       "      <td>3</td>\n",
       "    </tr>\n",
       "    <tr>\n",
       "      <th>...</th>\n",
       "      <td>...</td>\n",
       "      <td>...</td>\n",
       "      <td>...</td>\n",
       "      <td>...</td>\n",
       "      <td>...</td>\n",
       "    </tr>\n",
       "    <tr>\n",
       "      <th>31679</th>\n",
       "      <td>31679</td>\n",
       "      <td>4471000290087200</td>\n",
       "      <td>5011000213073200</td>\n",
       "      <td>스포츠잡화</td>\n",
       "      <td>3</td>\n",
       "    </tr>\n",
       "    <tr>\n",
       "      <th>31680</th>\n",
       "      <td>31680</td>\n",
       "      <td>1129000014045300</td>\n",
       "      <td>5011000319087100</td>\n",
       "      <td>스마트디바이스</td>\n",
       "      <td>4</td>\n",
       "    </tr>\n",
       "    <tr>\n",
       "      <th>31681</th>\n",
       "      <td>31681</td>\n",
       "      <td>1129000014045300</td>\n",
       "      <td>5011000263065200</td>\n",
       "      <td>스마트디바이스</td>\n",
       "      <td>6</td>\n",
       "    </tr>\n",
       "    <tr>\n",
       "      <th>31682</th>\n",
       "      <td>31682</td>\n",
       "      <td>4127300065073100</td>\n",
       "      <td>5011000264061200</td>\n",
       "      <td>지갑</td>\n",
       "      <td>7</td>\n",
       "    </tr>\n",
       "    <tr>\n",
       "      <th>31683</th>\n",
       "      <td>31683</td>\n",
       "      <td>2811000139076100</td>\n",
       "      <td>5011000520070100</td>\n",
       "      <td>세탁용품</td>\n",
       "      <td>4</td>\n",
       "    </tr>\n",
       "  </tbody>\n",
       "</table>\n",
       "<p>31684 rows × 5 columns</p>\n",
       "</div>"
      ],
      "text/plain": [
       "       index      송하인_격자공간고유번호      수하인_격자공간고유번호  물품_카테고리  운송장_건수\n",
       "0          0  5011000595017300  2871000192069300       음반       3\n",
       "1          1  4148000690043300  5011000264024400    문화컨텐츠       3\n",
       "2          2  5011000078068400  1120000007005400      농산물       3\n",
       "3          3  4127100048006400  5011000587019400     기타식품       7\n",
       "4          4  5011000078068400  2823700010076300      농산물       3\n",
       "...      ...               ...               ...      ...     ...\n",
       "31679  31679  4471000290087200  5011000213073200    스포츠잡화       3\n",
       "31680  31680  1129000014045300  5011000319087100  스마트디바이스       4\n",
       "31681  31681  1129000014045300  5011000263065200  스마트디바이스       6\n",
       "31682  31682  4127300065073100  5011000264061200       지갑       7\n",
       "31683  31683  2811000139076100  5011000520070100     세탁용품       4\n",
       "\n",
       "[31684 rows x 5 columns]"
      ]
     },
     "execution_count": 5,
     "metadata": {},
     "output_type": "execute_result"
    }
   ],
   "source": [
    "dat"
   ]
  },
  {
   "cell_type": "markdown",
   "id": "d6bcf21d",
   "metadata": {},
   "source": [
    "### 데이터 전처리"
   ]
  },
  {
   "cell_type": "code",
   "execution_count": 6,
   "id": "b533ea0c",
   "metadata": {},
   "outputs": [
    {
     "name": "stdout",
     "output_type": "stream",
     "text": [
      "<class 'pandas.core.frame.DataFrame'>\n",
      "RangeIndex: 31684 entries, 0 to 31683\n",
      "Data columns (total 5 columns):\n",
      " #   Column        Non-Null Count  Dtype \n",
      "---  ------        --------------  ----- \n",
      " 0   index         31684 non-null  int64 \n",
      " 1   송하인_격자공간고유번호  31684 non-null  int64 \n",
      " 2   수하인_격자공간고유번호  31684 non-null  int64 \n",
      " 3   물품_카테고리       31684 non-null  object\n",
      " 4   운송장_건수        31684 non-null  int64 \n",
      "dtypes: int64(4), object(1)\n",
      "memory usage: 1.2+ MB\n"
     ]
    }
   ],
   "source": [
    "dat.info()"
   ]
  },
  {
   "cell_type": "code",
   "execution_count": 7,
   "id": "8249b308",
   "metadata": {},
   "outputs": [
    {
     "data": {
      "text/html": [
       "<div>\n",
       "<style scoped>\n",
       "    .dataframe tbody tr th:only-of-type {\n",
       "        vertical-align: middle;\n",
       "    }\n",
       "\n",
       "    .dataframe tbody tr th {\n",
       "        vertical-align: top;\n",
       "    }\n",
       "\n",
       "    .dataframe thead th {\n",
       "        text-align: right;\n",
       "    }\n",
       "</style>\n",
       "<table border=\"1\" class=\"dataframe\">\n",
       "  <thead>\n",
       "    <tr style=\"text-align: right;\">\n",
       "      <th></th>\n",
       "      <th>index</th>\n",
       "      <th>송하인_격자공간고유번호</th>\n",
       "      <th>수하인_격자공간고유번호</th>\n",
       "      <th>운송장_건수</th>\n",
       "    </tr>\n",
       "  </thead>\n",
       "  <tbody>\n",
       "    <tr>\n",
       "      <th>count</th>\n",
       "      <td>31684.000000</td>\n",
       "      <td>3.168400e+04</td>\n",
       "      <td>3.168400e+04</td>\n",
       "      <td>31684.000000</td>\n",
       "    </tr>\n",
       "    <tr>\n",
       "      <th>mean</th>\n",
       "      <td>15841.500000</td>\n",
       "      <td>4.648814e+15</td>\n",
       "      <td>3.801369e+15</td>\n",
       "      <td>4.879308</td>\n",
       "    </tr>\n",
       "    <tr>\n",
       "      <th>std</th>\n",
       "      <td>9146.527301</td>\n",
       "      <td>8.341336e+14</td>\n",
       "      <td>1.314660e+15</td>\n",
       "      <td>6.756473</td>\n",
       "    </tr>\n",
       "    <tr>\n",
       "      <th>min</th>\n",
       "      <td>0.000000</td>\n",
       "      <td>1.111000e+15</td>\n",
       "      <td>1.111000e+15</td>\n",
       "      <td>3.000000</td>\n",
       "    </tr>\n",
       "    <tr>\n",
       "      <th>25%</th>\n",
       "      <td>7920.750000</td>\n",
       "      <td>4.713000e+15</td>\n",
       "      <td>2.826000e+15</td>\n",
       "      <td>3.000000</td>\n",
       "    </tr>\n",
       "    <tr>\n",
       "      <th>50%</th>\n",
       "      <td>15841.500000</td>\n",
       "      <td>5.011000e+15</td>\n",
       "      <td>4.159000e+15</td>\n",
       "      <td>3.000000</td>\n",
       "    </tr>\n",
       "    <tr>\n",
       "      <th>75%</th>\n",
       "      <td>23762.250000</td>\n",
       "      <td>5.013001e+15</td>\n",
       "      <td>5.011000e+15</td>\n",
       "      <td>5.000000</td>\n",
       "    </tr>\n",
       "    <tr>\n",
       "      <th>max</th>\n",
       "      <td>31683.000000</td>\n",
       "      <td>5.013001e+15</td>\n",
       "      <td>5.013001e+15</td>\n",
       "      <td>413.000000</td>\n",
       "    </tr>\n",
       "  </tbody>\n",
       "</table>\n",
       "</div>"
      ],
      "text/plain": [
       "              index  송하인_격자공간고유번호  수하인_격자공간고유번호        운송장_건수\n",
       "count  31684.000000  3.168400e+04  3.168400e+04  31684.000000\n",
       "mean   15841.500000  4.648814e+15  3.801369e+15      4.879308\n",
       "std     9146.527301  8.341336e+14  1.314660e+15      6.756473\n",
       "min        0.000000  1.111000e+15  1.111000e+15      3.000000\n",
       "25%     7920.750000  4.713000e+15  2.826000e+15      3.000000\n",
       "50%    15841.500000  5.011000e+15  4.159000e+15      3.000000\n",
       "75%    23762.250000  5.013001e+15  5.011000e+15      5.000000\n",
       "max    31683.000000  5.013001e+15  5.013001e+15    413.000000"
      ]
     },
     "execution_count": 7,
     "metadata": {},
     "output_type": "execute_result"
    }
   ],
   "source": [
    "dat.describe()"
   ]
  },
  {
   "cell_type": "code",
   "execution_count": 8,
   "id": "0cb56862",
   "metadata": {},
   "outputs": [
    {
     "data": {
      "text/plain": [
       "index           0\n",
       "송하인_격자공간고유번호    0\n",
       "수하인_격자공간고유번호    0\n",
       "물품_카테고리         0\n",
       "운송장_건수          0\n",
       "dtype: int64"
      ]
     },
     "execution_count": 8,
     "metadata": {},
     "output_type": "execute_result"
    }
   ],
   "source": [
    "# 결측치 확인\n",
    "dat.isnull().sum()"
   ]
  },
  {
   "cell_type": "code",
   "execution_count": 9,
   "id": "672753ea",
   "metadata": {},
   "outputs": [],
   "source": [
    "# index 컬럼 제거\n",
    "dat = dat.drop([\"index\"], axis=1, inplace=False)"
   ]
  },
  {
   "cell_type": "code",
   "execution_count": 10,
   "id": "5b567a8a",
   "metadata": {},
   "outputs": [],
   "source": [
    "# 송하인, 수하인 격자공간고유번호를 각각 4등분하여 별개의 변수로 저장\n",
    "dat[\"ship_1\"] = dat[\"송하인_격자공간고유번호\"].astype(str).str[0:4].astype(int)\n",
    "dat[\"ship_2\"] = dat[\"송하인_격자공간고유번호\"].astype(str).str[4:8].astype(int)\n",
    "dat[\"ship_3\"] = dat[\"송하인_격자공간고유번호\"].astype(str).str[8:12].astype(int)\n",
    "dat[\"ship_4\"] = dat[\"송하인_격자공간고유번호\"].astype(str).str[12:16].astype(int)\n",
    "\n",
    "dat[\"recv_1\"] = dat[\"수하인_격자공간고유번호\"].astype(str).str[0:4].astype(int)\n",
    "dat[\"recv_2\"] = dat[\"수하인_격자공간고유번호\"].astype(str).str[4:8].astype(int)\n",
    "dat[\"recv_3\"] = dat[\"수하인_격자공간고유번호\"].astype(str).str[8:12].astype(int)\n",
    "dat[\"recv_4\"] = dat[\"수하인_격자공간고유번호\"].astype(str).str[12:16].astype(int)\n",
    "\n",
    "# 기존의 송하인, 수하인 격자공간고유번호 컬럼 제거\n",
    "dat = dat.drop([\"송하인_격자공간고유번호\", \"수하인_격자공간고유번호\"], axis=1, inplace=False)"
   ]
  },
  {
   "cell_type": "code",
   "execution_count": 11,
   "id": "5a1b0f8c",
   "metadata": {},
   "outputs": [],
   "source": [
    "# 범주형 데이터에 대해 레이블 인코딩\n",
    "from sklearn.preprocessing import LabelEncoder\n",
    "\n",
    "dat2 = pd.DataFrame()\n",
    "encoder = LabelEncoder()\n",
    "\n",
    "encoder.fit(dat[\"물품_카테고리\"])\n",
    "dat2[\"물품_카테고리_en\"] = encoder.transform(dat[\"물품_카테고리\"])\n",
    "\n",
    "encoder.fit(dat[\"ship_1\"])\n",
    "dat2[\"ship_1_en\"] = encoder.transform(dat[\"ship_1\"])\n",
    "encoder.fit(dat[\"ship_2\"])\n",
    "dat2[\"ship_2_en\"] = encoder.transform(dat[\"ship_2\"])\n",
    "encoder.fit(dat[\"ship_3\"])\n",
    "dat2[\"ship_3_en\"] = encoder.transform(dat[\"ship_3\"])\n",
    "encoder.fit(dat[\"ship_4\"])\n",
    "dat2[\"ship_4_en\"] = encoder.transform(dat[\"ship_4\"])\n",
    "\n",
    "encoder.fit(dat[\"recv_1\"])\n",
    "dat2[\"recv_1_en\"] = encoder.transform(dat[\"recv_1\"])\n",
    "encoder.fit(dat[\"recv_2\"])\n",
    "dat2[\"recv_2_en\"] = encoder.transform(dat[\"recv_2\"])\n",
    "encoder.fit(dat[\"recv_3\"])\n",
    "dat2[\"recv_3_en\"] = encoder.transform(dat[\"recv_3\"])\n",
    "encoder.fit(dat[\"recv_4\"])\n",
    "dat2[\"recv_4_en\"] = encoder.transform(dat[\"recv_4\"])"
   ]
  },
  {
   "cell_type": "code",
   "execution_count": 12,
   "id": "1ca4d2fd",
   "metadata": {},
   "outputs": [],
   "source": [
    "# 데이터 스케일링\n",
    "#from sklearn.preprocessing import StandardScaler\n",
    "\n",
    "#scaler = StandardScaler()\n",
    "#dat2 = scaler.fit_transform(dat2)\n",
    "#dat2 = pd.DataFrame(dat2, columns=[\"물품_카테고리\", \"ship_1\", \"ship_2\", \"ship_3\", \"ship_4\", \"recv_1\", \"recv_2\", \"recv_3\", \"recv_4\"])\n",
    "\n",
    "dat2[\"운송장_건수\"] = dat[\"운송장_건수\"]"
   ]
  },
  {
   "cell_type": "code",
   "execution_count": 13,
   "id": "f1018492",
   "metadata": {},
   "outputs": [
    {
     "data": {
      "text/html": [
       "<div>\n",
       "<style scoped>\n",
       "    .dataframe tbody tr th:only-of-type {\n",
       "        vertical-align: middle;\n",
       "    }\n",
       "\n",
       "    .dataframe tbody tr th {\n",
       "        vertical-align: top;\n",
       "    }\n",
       "\n",
       "    .dataframe thead th {\n",
       "        text-align: right;\n",
       "    }\n",
       "</style>\n",
       "<table border=\"1\" class=\"dataframe\">\n",
       "  <thead>\n",
       "    <tr style=\"text-align: right;\">\n",
       "      <th></th>\n",
       "      <th>물품_카테고리</th>\n",
       "      <th>운송장_건수</th>\n",
       "      <th>ship_1</th>\n",
       "      <th>ship_2</th>\n",
       "      <th>ship_3</th>\n",
       "      <th>ship_4</th>\n",
       "      <th>recv_1</th>\n",
       "      <th>recv_2</th>\n",
       "      <th>recv_3</th>\n",
       "      <th>recv_4</th>\n",
       "    </tr>\n",
       "  </thead>\n",
       "  <tbody>\n",
       "    <tr>\n",
       "      <th>0</th>\n",
       "      <td>음반</td>\n",
       "      <td>3</td>\n",
       "      <td>5011</td>\n",
       "      <td>5</td>\n",
       "      <td>9501</td>\n",
       "      <td>7300</td>\n",
       "      <td>2871</td>\n",
       "      <td>1</td>\n",
       "      <td>9206</td>\n",
       "      <td>9300</td>\n",
       "    </tr>\n",
       "    <tr>\n",
       "      <th>1</th>\n",
       "      <td>문화컨텐츠</td>\n",
       "      <td>3</td>\n",
       "      <td>4148</td>\n",
       "      <td>6</td>\n",
       "      <td>9004</td>\n",
       "      <td>3300</td>\n",
       "      <td>5011</td>\n",
       "      <td>2</td>\n",
       "      <td>6402</td>\n",
       "      <td>4400</td>\n",
       "    </tr>\n",
       "    <tr>\n",
       "      <th>2</th>\n",
       "      <td>농산물</td>\n",
       "      <td>3</td>\n",
       "      <td>5011</td>\n",
       "      <td>0</td>\n",
       "      <td>7806</td>\n",
       "      <td>8400</td>\n",
       "      <td>1120</td>\n",
       "      <td>0</td>\n",
       "      <td>700</td>\n",
       "      <td>5400</td>\n",
       "    </tr>\n",
       "    <tr>\n",
       "      <th>3</th>\n",
       "      <td>기타식품</td>\n",
       "      <td>7</td>\n",
       "      <td>4127</td>\n",
       "      <td>1000</td>\n",
       "      <td>4800</td>\n",
       "      <td>6400</td>\n",
       "      <td>5011</td>\n",
       "      <td>5</td>\n",
       "      <td>8701</td>\n",
       "      <td>9400</td>\n",
       "    </tr>\n",
       "    <tr>\n",
       "      <th>4</th>\n",
       "      <td>농산물</td>\n",
       "      <td>3</td>\n",
       "      <td>5011</td>\n",
       "      <td>0</td>\n",
       "      <td>7806</td>\n",
       "      <td>8400</td>\n",
       "      <td>2823</td>\n",
       "      <td>7000</td>\n",
       "      <td>1007</td>\n",
       "      <td>6300</td>\n",
       "    </tr>\n",
       "  </tbody>\n",
       "</table>\n",
       "</div>"
      ],
      "text/plain": [
       "  물품_카테고리  운송장_건수  ship_1  ship_2  ship_3  ship_4  recv_1  recv_2  recv_3  \\\n",
       "0      음반       3    5011       5    9501    7300    2871       1    9206   \n",
       "1   문화컨텐츠       3    4148       6    9004    3300    5011       2    6402   \n",
       "2     농산물       3    5011       0    7806    8400    1120       0     700   \n",
       "3    기타식품       7    4127    1000    4800    6400    5011       5    8701   \n",
       "4     농산물       3    5011       0    7806    8400    2823    7000    1007   \n",
       "\n",
       "   recv_4  \n",
       "0    9300  \n",
       "1    4400  \n",
       "2    5400  \n",
       "3    9400  \n",
       "4    6300  "
      ]
     },
     "execution_count": 13,
     "metadata": {},
     "output_type": "execute_result"
    }
   ],
   "source": [
    "dat.head()"
   ]
  },
  {
   "cell_type": "code",
   "execution_count": 14,
   "id": "b5c5cfc6",
   "metadata": {},
   "outputs": [
    {
     "data": {
      "text/html": [
       "<div>\n",
       "<style scoped>\n",
       "    .dataframe tbody tr th:only-of-type {\n",
       "        vertical-align: middle;\n",
       "    }\n",
       "\n",
       "    .dataframe tbody tr th {\n",
       "        vertical-align: top;\n",
       "    }\n",
       "\n",
       "    .dataframe thead th {\n",
       "        text-align: right;\n",
       "    }\n",
       "</style>\n",
       "<table border=\"1\" class=\"dataframe\">\n",
       "  <thead>\n",
       "    <tr style=\"text-align: right;\">\n",
       "      <th></th>\n",
       "      <th>물품_카테고리_en</th>\n",
       "      <th>ship_1_en</th>\n",
       "      <th>ship_2_en</th>\n",
       "      <th>ship_3_en</th>\n",
       "      <th>ship_4_en</th>\n",
       "      <th>recv_1_en</th>\n",
       "      <th>recv_2_en</th>\n",
       "      <th>recv_3_en</th>\n",
       "      <th>recv_4_en</th>\n",
       "      <th>운송장_건수</th>\n",
       "    </tr>\n",
       "  </thead>\n",
       "  <tbody>\n",
       "    <tr>\n",
       "      <th>0</th>\n",
       "      <td>67</td>\n",
       "      <td>213</td>\n",
       "      <td>5</td>\n",
       "      <td>924</td>\n",
       "      <td>30</td>\n",
       "      <td>57</td>\n",
       "      <td>1</td>\n",
       "      <td>1003</td>\n",
       "      <td>38</td>\n",
       "      <td>3</td>\n",
       "    </tr>\n",
       "    <tr>\n",
       "      <th>1</th>\n",
       "      <td>34</td>\n",
       "      <td>92</td>\n",
       "      <td>6</td>\n",
       "      <td>887</td>\n",
       "      <td>14</td>\n",
       "      <td>227</td>\n",
       "      <td>2</td>\n",
       "      <td>699</td>\n",
       "      <td>19</td>\n",
       "      <td>3</td>\n",
       "    </tr>\n",
       "    <tr>\n",
       "      <th>2</th>\n",
       "      <td>27</td>\n",
       "      <td>213</td>\n",
       "      <td>0</td>\n",
       "      <td>776</td>\n",
       "      <td>35</td>\n",
       "      <td>3</td>\n",
       "      <td>0</td>\n",
       "      <td>77</td>\n",
       "      <td>23</td>\n",
       "      <td>3</td>\n",
       "    </tr>\n",
       "    <tr>\n",
       "      <th>3</th>\n",
       "      <td>17</td>\n",
       "      <td>81</td>\n",
       "      <td>14</td>\n",
       "      <td>482</td>\n",
       "      <td>27</td>\n",
       "      <td>227</td>\n",
       "      <td>5</td>\n",
       "      <td>945</td>\n",
       "      <td>39</td>\n",
       "      <td>7</td>\n",
       "    </tr>\n",
       "    <tr>\n",
       "      <th>4</th>\n",
       "      <td>27</td>\n",
       "      <td>213</td>\n",
       "      <td>0</td>\n",
       "      <td>776</td>\n",
       "      <td>35</td>\n",
       "      <td>54</td>\n",
       "      <td>37</td>\n",
       "      <td>117</td>\n",
       "      <td>26</td>\n",
       "      <td>3</td>\n",
       "    </tr>\n",
       "  </tbody>\n",
       "</table>\n",
       "</div>"
      ],
      "text/plain": [
       "   물품_카테고리_en  ship_1_en  ship_2_en  ship_3_en  ship_4_en  recv_1_en  \\\n",
       "0          67        213          5        924         30         57   \n",
       "1          34         92          6        887         14        227   \n",
       "2          27        213          0        776         35          3   \n",
       "3          17         81         14        482         27        227   \n",
       "4          27        213          0        776         35         54   \n",
       "\n",
       "   recv_2_en  recv_3_en  recv_4_en  운송장_건수  \n",
       "0          1       1003         38       3  \n",
       "1          2        699         19       3  \n",
       "2          0         77         23       3  \n",
       "3          5        945         39       7  \n",
       "4         37        117         26       3  "
      ]
     },
     "execution_count": 14,
     "metadata": {},
     "output_type": "execute_result"
    }
   ],
   "source": [
    "dat2.head()"
   ]
  },
  {
   "cell_type": "code",
   "execution_count": 36,
   "id": "cf2fbfec",
   "metadata": {},
   "outputs": [],
   "source": [
    "dat3 = dat2[[\"물품_카테고리_en\", \"ship_1_en\", \"recv_1_en\", \"recv_3_en\", \"운송장_건수\"]]"
   ]
  },
  {
   "cell_type": "markdown",
   "id": "b201d8ba",
   "metadata": {},
   "source": [
    "### 데이터 분할"
   ]
  },
  {
   "cell_type": "code",
   "execution_count": 15,
   "id": "b5fdf451",
   "metadata": {},
   "outputs": [],
   "source": [
    "from sklearn.model_selection import train_test_split"
   ]
  },
  {
   "cell_type": "code",
   "execution_count": 16,
   "id": "d0cf4496",
   "metadata": {},
   "outputs": [],
   "source": [
    "y = np.array(dat2[\"운송장_건수\"])\n",
    "X = dat2.drop([\"운송장_건수\"], axis=1, inplace=False)\n",
    "\n",
    "X_train, X_test , y_train, y_test = train_test_split(X, y, test_size=0.3, random_state=111)"
   ]
  },
  {
   "cell_type": "markdown",
   "id": "17bc9038",
   "metadata": {},
   "source": [
    "### 진행할 회귀분석\n",
    "- KNN 회귀\n",
    "- 단순 선형 회귀\n",
    "- 다중 회귀\n",
    "- 릿지, 라쏘, 엘라스틱넷 회귀"
   ]
  },
  {
   "cell_type": "markdown",
   "id": "6e42d516",
   "metadata": {},
   "source": [
    "### KNN 회귀"
   ]
  },
  {
   "cell_type": "code",
   "execution_count": 17,
   "id": "976cf7d0",
   "metadata": {},
   "outputs": [],
   "source": [
    "from sklearn.neighbors import KNeighborsRegressor\n",
    "from sklearn.metrics import mean_squared_error"
   ]
  },
  {
   "cell_type": "code",
   "execution_count": 18,
   "id": "cd04d711",
   "metadata": {
    "scrolled": false
   },
   "outputs": [
    {
     "name": "stdout",
     "output_type": "stream",
     "text": [
      "RMSE value k = 1 : 7.429449364683946\n",
      "RMSE value k = 2 : 6.35737534732898\n",
      "RMSE value k = 3 : 6.12258744658969\n",
      "RMSE value k = 4 : 5.990034475068517\n",
      "RMSE value k = 5 : 5.880103010574895\n",
      "RMSE value k = 6 : 5.775522561485559\n",
      "RMSE value k = 7 : 5.774300387309621\n",
      "RMSE value k = 8 : 5.763073264676051\n",
      "RMSE value k = 9 : 5.716002937667066\n",
      "RMSE value k = 10 : 5.697948150837634\n",
      "RMSE value k = 11 : 5.71120563597102\n",
      "RMSE value k = 12 : 5.68171239304214\n",
      "RMSE value k = 13 : 5.662722360655525\n",
      "RMSE value k = 14 : 5.642146597447499\n",
      "RMSE value k = 15 : 5.636323713471451\n",
      "RMSE value k = 16 : 5.643058271187773\n",
      "RMSE value k = 17 : 5.632535404287719\n",
      "RMSE value k = 18 : 5.625529009273409\n",
      "RMSE value k = 19 : 5.620109090542525\n",
      "RMSE value k = 20 : 5.615912606709914\n",
      "가장최소 rmse 5.615912606709914 가장 최소 k = 20\n"
     ]
    }
   ],
   "source": [
    "rmse_val = []\n",
    "for K in range(20):\n",
    "    K = K + 1\n",
    "    model = KNeighborsRegressor(n_neighbors=K, weights='distance', p=1)\n",
    "    model.fit(X_train, y_train)\n",
    "    pred = model.predict(X_test)\n",
    "    error = np.sqrt(mean_squared_error(y_test,pred))\n",
    "    rmse_val.append(error)\n",
    "    print('RMSE value k =',K,':',error)\n",
    "print('가장최소 rmse',min(rmse_val), '가장 최소 k =', rmse_val.index(min(rmse_val))+1)"
   ]
  },
  {
   "cell_type": "markdown",
   "id": "3f5093da",
   "metadata": {},
   "source": [
    "- k의 값이 커질수록 RMSE 값이 지속적으로 작아짐을 확인할 수 있다.\n",
    "- 범주형 데이터에서는 사용하기 어려운 것으로 보인다."
   ]
  },
  {
   "cell_type": "markdown",
   "id": "7995b542",
   "metadata": {},
   "source": [
    "### 단순 선형 회귀"
   ]
  },
  {
   "cell_type": "code",
   "execution_count": 19,
   "id": "85986313",
   "metadata": {},
   "outputs": [],
   "source": [
    "from statsmodels.formula.api import ols\n",
    "import statsmodels.api as sm"
   ]
  },
  {
   "cell_type": "code",
   "execution_count": 21,
   "id": "a45d8add",
   "metadata": {},
   "outputs": [
    {
     "data": {
      "text/html": [
       "<table class=\"simpletable\">\n",
       "<caption>OLS Regression Results</caption>\n",
       "<tr>\n",
       "  <th>Dep. Variable:</th>         <td>운송장_건수</td>      <th>  R-squared:         </th>  <td>   0.005</td>  \n",
       "</tr>\n",
       "<tr>\n",
       "  <th>Model:</th>                   <td>OLS</td>       <th>  Adj. R-squared:    </th>  <td>   0.005</td>  \n",
       "</tr>\n",
       "<tr>\n",
       "  <th>Method:</th>             <td>Least Squares</td>  <th>  F-statistic:       </th>  <td>   147.4</td>  \n",
       "</tr>\n",
       "<tr>\n",
       "  <th>Date:</th>             <td>Sun, 16 Jul 2023</td> <th>  Prob (F-statistic):</th>  <td>7.53e-34</td>  \n",
       "</tr>\n",
       "<tr>\n",
       "  <th>Time:</th>                 <td>01:10:54</td>     <th>  Log-Likelihood:    </th> <td>-1.0542e+05</td>\n",
       "</tr>\n",
       "<tr>\n",
       "  <th>No. Observations:</th>      <td> 31684</td>      <th>  AIC:               </th>  <td>2.108e+05</td> \n",
       "</tr>\n",
       "<tr>\n",
       "  <th>Df Residuals:</th>          <td> 31682</td>      <th>  BIC:               </th>  <td>2.109e+05</td> \n",
       "</tr>\n",
       "<tr>\n",
       "  <th>Df Model:</th>              <td>     1</td>      <th>                     </th>      <td> </td>     \n",
       "</tr>\n",
       "<tr>\n",
       "  <th>Covariance Type:</th>      <td>nonrobust</td>    <th>                     </th>      <td> </td>     \n",
       "</tr>\n",
       "</table>\n",
       "<table class=\"simpletable\">\n",
       "<tr>\n",
       "      <td></td>         <th>coef</th>     <th>std err</th>      <th>t</th>      <th>P>|t|</th>  <th>[0.025</th>    <th>0.975]</th>  \n",
       "</tr>\n",
       "<tr>\n",
       "  <th>Intercept</th> <td>    6.2330</td> <td>    0.118</td> <td>   52.937</td> <td> 0.000</td> <td>    6.002</td> <td>    6.464</td>\n",
       "</tr>\n",
       "<tr>\n",
       "  <th>ship_1_en</th> <td>   -0.0075</td> <td>    0.001</td> <td>  -12.142</td> <td> 0.000</td> <td>   -0.009</td> <td>   -0.006</td>\n",
       "</tr>\n",
       "</table>\n",
       "<table class=\"simpletable\">\n",
       "<tr>\n",
       "  <th>Omnibus:</th>       <td>66753.059</td> <th>  Durbin-Watson:     </th>   <td>   2.010</td>   \n",
       "</tr>\n",
       "<tr>\n",
       "  <th>Prob(Omnibus):</th>  <td> 0.000</td>   <th>  Jarque-Bera (JB):  </th> <td>554508532.540</td>\n",
       "</tr>\n",
       "<tr>\n",
       "  <th>Skew:</th>           <td>18.060</td>   <th>  Prob(JB):          </th>   <td>    0.00</td>   \n",
       "</tr>\n",
       "<tr>\n",
       "  <th>Kurtosis:</th>       <td>650.089</td>  <th>  Cond. No.          </th>   <td>    590.</td>   \n",
       "</tr>\n",
       "</table><br/><br/>Notes:<br/>[1] Standard Errors assume that the covariance matrix of the errors is correctly specified."
      ],
      "text/plain": [
       "<class 'statsmodels.iolib.summary.Summary'>\n",
       "\"\"\"\n",
       "                            OLS Regression Results                            \n",
       "==============================================================================\n",
       "Dep. Variable:                 운송장_건수   R-squared:                       0.005\n",
       "Model:                            OLS   Adj. R-squared:                  0.005\n",
       "Method:                 Least Squares   F-statistic:                     147.4\n",
       "Date:                Sun, 16 Jul 2023   Prob (F-statistic):           7.53e-34\n",
       "Time:                        01:10:54   Log-Likelihood:            -1.0542e+05\n",
       "No. Observations:               31684   AIC:                         2.108e+05\n",
       "Df Residuals:                   31682   BIC:                         2.109e+05\n",
       "Df Model:                           1                                         \n",
       "Covariance Type:            nonrobust                                         \n",
       "==============================================================================\n",
       "                 coef    std err          t      P>|t|      [0.025      0.975]\n",
       "------------------------------------------------------------------------------\n",
       "Intercept      6.2330      0.118     52.937      0.000       6.002       6.464\n",
       "ship_1_en     -0.0075      0.001    -12.142      0.000      -0.009      -0.006\n",
       "==============================================================================\n",
       "Omnibus:                    66753.059   Durbin-Watson:                   2.010\n",
       "Prob(Omnibus):                  0.000   Jarque-Bera (JB):        554508532.540\n",
       "Skew:                          18.060   Prob(JB):                         0.00\n",
       "Kurtosis:                     650.089   Cond. No.                         590.\n",
       "==============================================================================\n",
       "\n",
       "Notes:\n",
       "[1] Standard Errors assume that the covariance matrix of the errors is correctly specified.\n",
       "\"\"\""
      ]
     },
     "execution_count": 21,
     "metadata": {},
     "output_type": "execute_result"
    }
   ],
   "source": [
    "model1 = sm.OLS.from_formula(\"운송장_건수~ship_1_en\", data=dat2)\n",
    "res1 = model1.fit()\n",
    "res1.summary()"
   ]
  },
  {
   "cell_type": "code",
   "execution_count": 22,
   "id": "933c2fa3",
   "metadata": {},
   "outputs": [
    {
     "data": {
      "text/html": [
       "<table class=\"simpletable\">\n",
       "<caption>OLS Regression Results</caption>\n",
       "<tr>\n",
       "  <th>Dep. Variable:</th>         <td>운송장_건수</td>      <th>  R-squared:         </th>  <td>   0.000</td>  \n",
       "</tr>\n",
       "<tr>\n",
       "  <th>Model:</th>                   <td>OLS</td>       <th>  Adj. R-squared:    </th>  <td>   0.000</td>  \n",
       "</tr>\n",
       "<tr>\n",
       "  <th>Method:</th>             <td>Least Squares</td>  <th>  F-statistic:       </th>  <td>   4.250</td>  \n",
       "</tr>\n",
       "<tr>\n",
       "  <th>Date:</th>             <td>Sun, 16 Jul 2023</td> <th>  Prob (F-statistic):</th>   <td>0.0393</td>   \n",
       "</tr>\n",
       "<tr>\n",
       "  <th>Time:</th>                 <td>01:11:06</td>     <th>  Log-Likelihood:    </th> <td>-1.0549e+05</td>\n",
       "</tr>\n",
       "<tr>\n",
       "  <th>No. Observations:</th>      <td> 31684</td>      <th>  AIC:               </th>  <td>2.110e+05</td> \n",
       "</tr>\n",
       "<tr>\n",
       "  <th>Df Residuals:</th>          <td> 31682</td>      <th>  BIC:               </th>  <td>2.110e+05</td> \n",
       "</tr>\n",
       "<tr>\n",
       "  <th>Df Model:</th>              <td>     1</td>      <th>                     </th>      <td> </td>     \n",
       "</tr>\n",
       "<tr>\n",
       "  <th>Covariance Type:</th>      <td>nonrobust</td>    <th>                     </th>      <td> </td>     \n",
       "</tr>\n",
       "</table>\n",
       "<table class=\"simpletable\">\n",
       "<tr>\n",
       "       <td></td>         <th>coef</th>     <th>std err</th>      <th>t</th>      <th>P>|t|</th>  <th>[0.025</th>    <th>0.975]</th>  \n",
       "</tr>\n",
       "<tr>\n",
       "  <th>Intercept</th>  <td>    4.7320</td> <td>    0.081</td> <td>   58.490</td> <td> 0.000</td> <td>    4.573</td> <td>    4.891</td>\n",
       "</tr>\n",
       "<tr>\n",
       "  <th>물품_카테고리_en</th> <td>    0.0046</td> <td>    0.002</td> <td>    2.062</td> <td> 0.039</td> <td>    0.000</td> <td>    0.009</td>\n",
       "</tr>\n",
       "</table>\n",
       "<table class=\"simpletable\">\n",
       "<tr>\n",
       "  <th>Omnibus:</th>       <td>66797.202</td> <th>  Durbin-Watson:     </th>   <td>   2.011</td>   \n",
       "</tr>\n",
       "<tr>\n",
       "  <th>Prob(Omnibus):</th>  <td> 0.000</td>   <th>  Jarque-Bera (JB):  </th> <td>555123508.655</td>\n",
       "</tr>\n",
       "<tr>\n",
       "  <th>Skew:</th>           <td>18.089</td>   <th>  Prob(JB):          </th>   <td>    0.00</td>   \n",
       "</tr>\n",
       "<tr>\n",
       "  <th>Kurtosis:</th>       <td>650.446</td>  <th>  Cond. No.          </th>   <td>    76.8</td>   \n",
       "</tr>\n",
       "</table><br/><br/>Notes:<br/>[1] Standard Errors assume that the covariance matrix of the errors is correctly specified."
      ],
      "text/plain": [
       "<class 'statsmodels.iolib.summary.Summary'>\n",
       "\"\"\"\n",
       "                            OLS Regression Results                            \n",
       "==============================================================================\n",
       "Dep. Variable:                 운송장_건수   R-squared:                       0.000\n",
       "Model:                            OLS   Adj. R-squared:                  0.000\n",
       "Method:                 Least Squares   F-statistic:                     4.250\n",
       "Date:                Sun, 16 Jul 2023   Prob (F-statistic):             0.0393\n",
       "Time:                        01:11:06   Log-Likelihood:            -1.0549e+05\n",
       "No. Observations:               31684   AIC:                         2.110e+05\n",
       "Df Residuals:                   31682   BIC:                         2.110e+05\n",
       "Df Model:                           1                                         \n",
       "Covariance Type:            nonrobust                                         \n",
       "==============================================================================\n",
       "                 coef    std err          t      P>|t|      [0.025      0.975]\n",
       "------------------------------------------------------------------------------\n",
       "Intercept      4.7320      0.081     58.490      0.000       4.573       4.891\n",
       "물품_카테고리_en     0.0046      0.002      2.062      0.039       0.000       0.009\n",
       "==============================================================================\n",
       "Omnibus:                    66797.202   Durbin-Watson:                   2.011\n",
       "Prob(Omnibus):                  0.000   Jarque-Bera (JB):        555123508.655\n",
       "Skew:                          18.089   Prob(JB):                         0.00\n",
       "Kurtosis:                     650.446   Cond. No.                         76.8\n",
       "==============================================================================\n",
       "\n",
       "Notes:\n",
       "[1] Standard Errors assume that the covariance matrix of the errors is correctly specified.\n",
       "\"\"\""
      ]
     },
     "execution_count": 22,
     "metadata": {},
     "output_type": "execute_result"
    }
   ],
   "source": [
    "model4 = sm.OLS.from_formula(\"운송장_건수~물품_카테고리_en\", data=dat2)\n",
    "res4 = model4.fit()\n",
    "res4.summary()"
   ]
  },
  {
   "cell_type": "markdown",
   "id": "d12b111f",
   "metadata": {},
   "source": [
    "- R-squared가 매우 작게 나온다.\n",
    "- 모델이 적절하지 않음을 확인할 수 있다."
   ]
  },
  {
   "cell_type": "markdown",
   "id": "e6dec345",
   "metadata": {},
   "source": [
    "### 다중 회귀"
   ]
  },
  {
   "cell_type": "code",
   "execution_count": 23,
   "id": "2aedd036",
   "metadata": {},
   "outputs": [],
   "source": [
    "import matplotlib.gridspec as gridspec"
   ]
  },
  {
   "cell_type": "code",
   "execution_count": 24,
   "id": "4c9c7b17",
   "metadata": {},
   "outputs": [
    {
     "name": "stderr",
     "output_type": "stream",
     "text": [
      "C:\\ProgramData\\Anaconda3\\lib\\site-packages\\IPython\\core\\pylabtools.py:151: UserWarning: Glyph 47932 (\\N{HANGUL SYLLABLE MUL}) missing from current font.\n",
      "  fig.canvas.print_figure(bytes_io, **kw)\n",
      "C:\\ProgramData\\Anaconda3\\lib\\site-packages\\IPython\\core\\pylabtools.py:151: UserWarning: Glyph 54408 (\\N{HANGUL SYLLABLE PUM}) missing from current font.\n",
      "  fig.canvas.print_figure(bytes_io, **kw)\n",
      "C:\\ProgramData\\Anaconda3\\lib\\site-packages\\IPython\\core\\pylabtools.py:151: UserWarning: Glyph 52852 (\\N{HANGUL SYLLABLE KA}) missing from current font.\n",
      "  fig.canvas.print_figure(bytes_io, **kw)\n",
      "C:\\ProgramData\\Anaconda3\\lib\\site-packages\\IPython\\core\\pylabtools.py:151: UserWarning: Glyph 53580 (\\N{HANGUL SYLLABLE TE}) missing from current font.\n",
      "  fig.canvas.print_figure(bytes_io, **kw)\n",
      "C:\\ProgramData\\Anaconda3\\lib\\site-packages\\IPython\\core\\pylabtools.py:151: UserWarning: Glyph 44256 (\\N{HANGUL SYLLABLE GO}) missing from current font.\n",
      "  fig.canvas.print_figure(bytes_io, **kw)\n",
      "C:\\ProgramData\\Anaconda3\\lib\\site-packages\\IPython\\core\\pylabtools.py:151: UserWarning: Glyph 47532 (\\N{HANGUL SYLLABLE RI}) missing from current font.\n",
      "  fig.canvas.print_figure(bytes_io, **kw)\n",
      "C:\\ProgramData\\Anaconda3\\lib\\site-packages\\IPython\\core\\pylabtools.py:151: UserWarning: Glyph 50868 (\\N{HANGUL SYLLABLE UN}) missing from current font.\n",
      "  fig.canvas.print_figure(bytes_io, **kw)\n",
      "C:\\ProgramData\\Anaconda3\\lib\\site-packages\\IPython\\core\\pylabtools.py:151: UserWarning: Glyph 49569 (\\N{HANGUL SYLLABLE SONG}) missing from current font.\n",
      "  fig.canvas.print_figure(bytes_io, **kw)\n",
      "C:\\ProgramData\\Anaconda3\\lib\\site-packages\\IPython\\core\\pylabtools.py:151: UserWarning: Glyph 51109 (\\N{HANGUL SYLLABLE JANG}) missing from current font.\n",
      "  fig.canvas.print_figure(bytes_io, **kw)\n",
      "C:\\ProgramData\\Anaconda3\\lib\\site-packages\\IPython\\core\\pylabtools.py:151: UserWarning: Glyph 44148 (\\N{HANGUL SYLLABLE GEON}) missing from current font.\n",
      "  fig.canvas.print_figure(bytes_io, **kw)\n",
      "C:\\ProgramData\\Anaconda3\\lib\\site-packages\\IPython\\core\\pylabtools.py:151: UserWarning: Glyph 49688 (\\N{HANGUL SYLLABLE SU}) missing from current font.\n",
      "  fig.canvas.print_figure(bytes_io, **kw)\n"
     ]
    },
    {
     "data": {
      "image/png": "[encoded data removed]",
      "text/plain": [
       "<Figure size 1152x720 with 9 Axes>"
      ]
     },
     "metadata": {
      "needs_background": "light"
     },
     "output_type": "display_data"
    }
   ],
   "source": [
    "grid = gridspec.GridSpec(3,3)\n",
    "plt.figure(figsize=(16,10))\n",
    "plt.subplots_adjust(wspace= 0.5, hspace= 0.4)\n",
    "\n",
    "\n",
    "dat2_feature = [\"물품_카테고리_en\", \"ship_1_en\", \"ship_2_en\", \"ship_3_en\", \"ship_4_en\", \n",
    "                \"recv_1_en\", \"recv_2_en\", \"recv_3_en\", \"recv_4_en\"]\n",
    "\n",
    "for idx, feature in enumerate(dat2_feature):\n",
    "    ax = plt.subplot(grid[idx])\n",
    "    sns.scatterplot(x = feature,\n",
    "                   y='운송장_건수',\n",
    "                   data= dat2,\n",
    "                   ax= ax)\n",
    "    ax.set_title(f'{feature} Distribution')"
   ]
  },
  {
   "cell_type": "code",
   "execution_count": 27,
   "id": "bee8d046",
   "metadata": {},
   "outputs": [
    {
     "data": {
      "text/html": [
       "<table class=\"simpletable\">\n",
       "<caption>OLS Regression Results</caption>\n",
       "<tr>\n",
       "  <th>Dep. Variable:</th>         <td>운송장_건수</td>      <th>  R-squared:         </th>  <td>   0.009</td>  \n",
       "</tr>\n",
       "<tr>\n",
       "  <th>Model:</th>                   <td>OLS</td>       <th>  Adj. R-squared:    </th>  <td>   0.009</td>  \n",
       "</tr>\n",
       "<tr>\n",
       "  <th>Method:</th>             <td>Least Squares</td>  <th>  F-statistic:       </th>  <td>   18.97</td>  \n",
       "</tr>\n",
       "<tr>\n",
       "  <th>Date:</th>             <td>Sun, 16 Jul 2023</td> <th>  Prob (F-statistic):</th>  <td>9.33e-55</td>  \n",
       "</tr>\n",
       "<tr>\n",
       "  <th>Time:</th>                 <td>01:12:25</td>     <th>  Log-Likelihood:    </th> <td>-1.0534e+05</td>\n",
       "</tr>\n",
       "<tr>\n",
       "  <th>No. Observations:</th>      <td> 31684</td>      <th>  AIC:               </th>  <td>2.107e+05</td> \n",
       "</tr>\n",
       "<tr>\n",
       "  <th>Df Residuals:</th>          <td> 31667</td>      <th>  BIC:               </th>  <td>2.109e+05</td> \n",
       "</tr>\n",
       "<tr>\n",
       "  <th>Df Model:</th>              <td>    16</td>      <th>                     </th>      <td> </td>     \n",
       "</tr>\n",
       "<tr>\n",
       "  <th>Covariance Type:</th>      <td>nonrobust</td>    <th>                     </th>      <td> </td>     \n",
       "</tr>\n",
       "</table>\n",
       "<table class=\"simpletable\">\n",
       "<tr>\n",
       "                     <td></td>                        <th>coef</th>     <th>std err</th>      <th>t</th>      <th>P>|t|</th>  <th>[0.025</th>    <th>0.975]</th>  \n",
       "</tr>\n",
       "<tr>\n",
       "  <th>Intercept</th>                               <td>    5.9235</td> <td>    0.462</td> <td>   12.814</td> <td> 0.000</td> <td>    5.017</td> <td>    6.830</td>\n",
       "</tr>\n",
       "<tr>\n",
       "  <th>ship_1_en</th>                               <td>   -0.0099</td> <td>    0.003</td> <td>   -3.445</td> <td> 0.001</td> <td>   -0.016</td> <td>   -0.004</td>\n",
       "</tr>\n",
       "<tr>\n",
       "  <th>ship_2_en</th>                               <td>   -0.0481</td> <td>    0.044</td> <td>   -1.093</td> <td> 0.274</td> <td>   -0.134</td> <td>    0.038</td>\n",
       "</tr>\n",
       "<tr>\n",
       "  <th>ship_1_en:ship_2_en</th>                     <td>    0.0013</td> <td>    0.000</td> <td>    3.205</td> <td> 0.001</td> <td>    0.001</td> <td>    0.002</td>\n",
       "</tr>\n",
       "<tr>\n",
       "  <th>ship_3_en</th>                               <td>   -0.0017</td> <td>    0.001</td> <td>   -1.441</td> <td> 0.150</td> <td>   -0.004</td> <td>    0.001</td>\n",
       "</tr>\n",
       "<tr>\n",
       "  <th>ship_1_en:ship_3_en</th>                     <td> 1.775e-05</td> <td> 7.27e-06</td> <td>    2.442</td> <td> 0.015</td> <td> 3.51e-06</td> <td>  3.2e-05</td>\n",
       "</tr>\n",
       "<tr>\n",
       "  <th>ship_2_en:ship_3_en</th>                     <td>    0.0004</td> <td>    0.000</td> <td>    2.420</td> <td> 0.016</td> <td> 6.77e-05</td> <td>    0.001</td>\n",
       "</tr>\n",
       "<tr>\n",
       "  <th>ship_1_en:ship_2_en:ship_3_en</th>           <td> -3.41e-06</td> <td> 1.08e-06</td> <td>   -3.166</td> <td> 0.002</td> <td>-5.52e-06</td> <td> -1.3e-06</td>\n",
       "</tr>\n",
       "<tr>\n",
       "  <th>ship_4_en</th>                               <td>   -0.0110</td> <td>    0.020</td> <td>   -0.548</td> <td> 0.584</td> <td>   -0.051</td> <td>    0.028</td>\n",
       "</tr>\n",
       "<tr>\n",
       "  <th>ship_1_en:ship_4_en</th>                     <td>    0.0003</td> <td>    0.000</td> <td>    2.454</td> <td> 0.014</td> <td> 6.35e-05</td> <td>    0.001</td>\n",
       "</tr>\n",
       "<tr>\n",
       "  <th>ship_2_en:ship_4_en</th>                     <td>    0.0099</td> <td>    0.002</td> <td>    4.502</td> <td> 0.000</td> <td>    0.006</td> <td>    0.014</td>\n",
       "</tr>\n",
       "<tr>\n",
       "  <th>ship_1_en:ship_2_en:ship_4_en</th>           <td>   -0.0001</td> <td> 1.89e-05</td> <td>   -5.852</td> <td> 0.000</td> <td>   -0.000</td> <td>-7.35e-05</td>\n",
       "</tr>\n",
       "<tr>\n",
       "  <th>ship_3_en:ship_4_en</th>                     <td>    0.0001</td> <td>  5.3e-05</td> <td>    2.139</td> <td> 0.032</td> <td> 9.48e-06</td> <td>    0.000</td>\n",
       "</tr>\n",
       "<tr>\n",
       "  <th>ship_1_en:ship_3_en:ship_4_en</th>           <td>-1.106e-06</td> <td>    3e-07</td> <td>   -3.684</td> <td> 0.000</td> <td> -1.7e-06</td> <td>-5.18e-07</td>\n",
       "</tr>\n",
       "<tr>\n",
       "  <th>ship_2_en:ship_3_en:ship_4_en</th>           <td> -2.53e-05</td> <td>  6.9e-06</td> <td>   -3.668</td> <td> 0.000</td> <td>-3.88e-05</td> <td>-1.18e-05</td>\n",
       "</tr>\n",
       "<tr>\n",
       "  <th>ship_1_en:ship_2_en:ship_3_en:ship_4_en</th> <td> 2.434e-07</td> <td> 4.53e-08</td> <td>    5.367</td> <td> 0.000</td> <td> 1.54e-07</td> <td> 3.32e-07</td>\n",
       "</tr>\n",
       "<tr>\n",
       "  <th>물품_카테고리_en</th>                              <td>   -0.0033</td> <td>    0.002</td> <td>   -1.436</td> <td> 0.151</td> <td>   -0.008</td> <td>    0.001</td>\n",
       "</tr>\n",
       "</table>\n",
       "<table class=\"simpletable\">\n",
       "<tr>\n",
       "  <th>Omnibus:</th>       <td>66667.647</td> <th>  Durbin-Watson:     </th>   <td>   2.009</td>   \n",
       "</tr>\n",
       "<tr>\n",
       "  <th>Prob(Omnibus):</th>  <td> 0.000</td>   <th>  Jarque-Bera (JB):  </th> <td>550655112.900</td>\n",
       "</tr>\n",
       "<tr>\n",
       "  <th>Skew:</th>           <td>18.006</td>   <th>  Prob(JB):          </th>   <td>    0.00</td>   \n",
       "</tr>\n",
       "<tr>\n",
       "  <th>Kurtosis:</th>       <td>647.836</td>  <th>  Cond. No.          </th>   <td>1.42e+08</td>   \n",
       "</tr>\n",
       "</table><br/><br/>Notes:<br/>[1] Standard Errors assume that the covariance matrix of the errors is correctly specified.<br/>[2] The condition number is large, 1.42e+08. This might indicate that there are<br/>strong multicollinearity or other numerical problems."
      ],
      "text/plain": [
       "<class 'statsmodels.iolib.summary.Summary'>\n",
       "\"\"\"\n",
       "                            OLS Regression Results                            \n",
       "==============================================================================\n",
       "Dep. Variable:                 운송장_건수   R-squared:                       0.009\n",
       "Model:                            OLS   Adj. R-squared:                  0.009\n",
       "Method:                 Least Squares   F-statistic:                     18.97\n",
       "Date:                Sun, 16 Jul 2023   Prob (F-statistic):           9.33e-55\n",
       "Time:                        01:12:25   Log-Likelihood:            -1.0534e+05\n",
       "No. Observations:               31684   AIC:                         2.107e+05\n",
       "Df Residuals:                   31667   BIC:                         2.109e+05\n",
       "Df Model:                          16                                         \n",
       "Covariance Type:            nonrobust                                         \n",
       "===========================================================================================================\n",
       "                                              coef    std err          t      P>|t|      [0.025      0.975]\n",
       "-----------------------------------------------------------------------------------------------------------\n",
       "Intercept                                   5.9235      0.462     12.814      0.000       5.017       6.830\n",
       "ship_1_en                                  -0.0099      0.003     -3.445      0.001      -0.016      -0.004\n",
       "ship_2_en                                  -0.0481      0.044     -1.093      0.274      -0.134       0.038\n",
       "ship_1_en:ship_2_en                         0.0013      0.000      3.205      0.001       0.001       0.002\n",
       "ship_3_en                                  -0.0017      0.001     -1.441      0.150      -0.004       0.001\n",
       "ship_1_en:ship_3_en                      1.775e-05   7.27e-06      2.442      0.015    3.51e-06     3.2e-05\n",
       "ship_2_en:ship_3_en                         0.0004      0.000      2.420      0.016    6.77e-05       0.001\n",
       "ship_1_en:ship_2_en:ship_3_en            -3.41e-06   1.08e-06     -3.166      0.002   -5.52e-06    -1.3e-06\n",
       "ship_4_en                                  -0.0110      0.020     -0.548      0.584      -0.051       0.028\n",
       "ship_1_en:ship_4_en                         0.0003      0.000      2.454      0.014    6.35e-05       0.001\n",
       "ship_2_en:ship_4_en                         0.0099      0.002      4.502      0.000       0.006       0.014\n",
       "ship_1_en:ship_2_en:ship_4_en              -0.0001   1.89e-05     -5.852      0.000      -0.000   -7.35e-05\n",
       "ship_3_en:ship_4_en                         0.0001    5.3e-05      2.139      0.032    9.48e-06       0.000\n",
       "ship_1_en:ship_3_en:ship_4_en           -1.106e-06      3e-07     -3.684      0.000    -1.7e-06   -5.18e-07\n",
       "ship_2_en:ship_3_en:ship_4_en            -2.53e-05    6.9e-06     -3.668      0.000   -3.88e-05   -1.18e-05\n",
       "ship_1_en:ship_2_en:ship_3_en:ship_4_en  2.434e-07   4.53e-08      5.367      0.000    1.54e-07    3.32e-07\n",
       "물품_카테고리_en                                 -0.0033      0.002     -1.436      0.151      -0.008       0.001\n",
       "==============================================================================\n",
       "Omnibus:                    66667.647   Durbin-Watson:                   2.009\n",
       "Prob(Omnibus):                  0.000   Jarque-Bera (JB):        550655112.900\n",
       "Skew:                          18.006   Prob(JB):                         0.00\n",
       "Kurtosis:                     647.836   Cond. No.                     1.42e+08\n",
       "==============================================================================\n",
       "\n",
       "Notes:\n",
       "[1] Standard Errors assume that the covariance matrix of the errors is correctly specified.\n",
       "[2] The condition number is large, 1.42e+08. This might indicate that there are\n",
       "strong multicollinearity or other numerical problems.\n",
       "\"\"\""
      ]
     },
     "execution_count": 27,
     "metadata": {},
     "output_type": "execute_result"
    }
   ],
   "source": [
    "model5 = sm.OLS.from_formula(\"운송장_건수~\"+\"*\".join([\"ship_1_en\",\"ship_2_en\",\"ship_3_en\",\"ship_4_en\"]) + \"+물품_카테고리_en\", data=dat2)\n",
    "res5 = model5.fit()\n",
    "res5.summary()"
   ]
  },
  {
   "cell_type": "code",
   "execution_count": 28,
   "id": "f9080ec0",
   "metadata": {},
   "outputs": [
    {
     "data": {
      "text/plain": [
       "6.726025994617539"
      ]
     },
     "execution_count": 28,
     "metadata": {},
     "output_type": "execute_result"
    }
   ],
   "source": [
    "np.sqrt(res5.mse_resid)"
   ]
  },
  {
   "cell_type": "code",
   "execution_count": 29,
   "id": "a8a8b2b6",
   "metadata": {},
   "outputs": [
    {
     "name": "stderr",
     "output_type": "stream",
     "text": [
      "C:\\ProgramData\\Anaconda3\\lib\\site-packages\\sklearn\\linear_model\\_logistic.py:814: ConvergenceWarning: lbfgs failed to converge (status=1):\n",
      "STOP: TOTAL NO. of ITERATIONS REACHED LIMIT.\n",
      "\n",
      "Increase the number of iterations (max_iter) or scale the data as shown in:\n",
      "    https://scikit-learn.org/stable/modules/preprocessing.html\n",
      "Please also refer to the documentation for alternative solver options:\n",
      "    https://scikit-learn.org/stable/modules/linear_model.html#logistic-regression\n",
      "  n_iter_i = _check_optimize_result(\n"
     ]
    },
    {
     "data": {
      "text/plain": [
       "5.873482005499369"
      ]
     },
     "execution_count": 29,
     "metadata": {},
     "output_type": "execute_result"
    }
   ],
   "source": [
    "# 로지스틱 회귀\n",
    "from sklearn.linear_model import LogisticRegression\n",
    "\n",
    "logistic_model = LogisticRegression()\n",
    "logistic_model.fit(X_train, y_train)\n",
    "y_pred = logistic_model.predict(X_test)\n",
    "np.sqrt(mean_squared_error(y_test, y_pred))"
   ]
  },
  {
   "cell_type": "markdown",
   "id": "bb0d7355",
   "metadata": {},
   "source": [
    "### 릿지, 라쏘, 엘라스틱넷 회귀"
   ]
  },
  {
   "cell_type": "code",
   "execution_count": 30,
   "id": "8270c6f0",
   "metadata": {},
   "outputs": [],
   "source": [
    "from sklearn.model_selection import cross_val_score\n",
    "from sklearn.pipeline import Pipeline\n",
    "from sklearn.linear_model import Ridge, Lasso, ElasticNet"
   ]
  },
  {
   "cell_type": "code",
   "execution_count": 31,
   "id": "2bb5253a",
   "metadata": {},
   "outputs": [],
   "source": [
    "def get_linear_reg_eval(model_name, params = None, X_data_n =None, y_target_n=None,\n",
    "                       verbose= True, return_coeff=True):\n",
    "    coeff_df =pd.DataFrame()\n",
    "    if verbose : print('######', model_name,'#######')\n",
    "    for param in params:\n",
    "        if model_name =='Ridge' : model = Ridge(alpha=param)\n",
    "        elif model_name =='Lasso' : model = Lasso(alpha=param)\n",
    "        elif model_name =='ElasticNet' : model = ElasticNet(alpha=param, l1_ratio=0.7)\n",
    "        neg_mse_scores = cross_val_score(model, X_data_n,\n",
    "                                        y_target_n, scoring= 'neg_mean_squared_error',cv= 5)\n",
    "        avg_rmse = np.mean(np.sqrt(-1 * neg_mse_scores))\n",
    "        print('alpha {0} 일 때 5 폴드 세트의 평균 RMSE : {1:.3f}'.format(param, avg_rmse))\n",
    "        #cross_val_score 는 evaluation metric만 반환하므로 모델을 다시 학습하여 회귀 계수 추출\n",
    "        \n",
    "        model.fit(X_data_n, y_target_n)\n",
    "        if return_coeff:\n",
    "            #alpha에 따른 피처별 회귀 계수를 Series로 변환하고 이를 DataFrame의 컬럼 추가\n",
    "            coeff = pd.Series(data=model.coef_, index =X_data_n.columns)\n",
    "            colname = 'alpha:'+str(param)\n",
    "            coeff_df[colname] = coeff\n",
    "    return coeff_df"
   ]
  },
  {
   "cell_type": "code",
   "execution_count": 32,
   "id": "41708420",
   "metadata": {},
   "outputs": [
    {
     "name": "stdout",
     "output_type": "stream",
     "text": [
      "###### Ridge #######\n",
      "alpha 0.07 일 때 5 폴드 세트의 평균 RMSE : 6.989\n",
      "alpha 0.1 일 때 5 폴드 세트의 평균 RMSE : 6.989\n",
      "alpha 0.5 일 때 5 폴드 세트의 평균 RMSE : 6.989\n",
      "alpha 1 일 때 5 폴드 세트의 평균 RMSE : 6.989\n",
      "alpha 3 일 때 5 폴드 세트의 평균 RMSE : 6.989\n"
     ]
    }
   ],
   "source": [
    "# 릿지에 사용될 alpha 파라미터 값 정의\n",
    "ridge_alphas = [0.07, 0.1, 0.5, 1, 3]\n",
    "coeff_ridge_df = get_linear_reg_eval('Ridge', params= ridge_alphas, X_data_n =X_train, y_target_n= y_train)"
   ]
  },
  {
   "cell_type": "code",
   "execution_count": 33,
   "id": "56b85314",
   "metadata": {},
   "outputs": [
    {
     "name": "stdout",
     "output_type": "stream",
     "text": [
      "###### Lasso #######\n",
      "alpha 0.07 일 때 5 폴드 세트의 평균 RMSE : 6.989\n",
      "alpha 0.1 일 때 5 폴드 세트의 평균 RMSE : 6.989\n",
      "alpha 0.5 일 때 5 폴드 세트의 평균 RMSE : 6.989\n",
      "alpha 1 일 때 5 폴드 세트의 평균 RMSE : 6.992\n",
      "alpha 3 일 때 5 폴드 세트의 평균 RMSE : 6.995\n"
     ]
    }
   ],
   "source": [
    "# 라쏘에 사용될 alpha 파라미터 값 정의\n",
    "lasso_alphas = [0.07, 0.1, 0.5, 1, 3]\n",
    "coeff_lasso_df = get_linear_reg_eval('Lasso', params= lasso_alphas, X_data_n =X_train, y_target_n= y_train)"
   ]
  },
  {
   "cell_type": "code",
   "execution_count": 34,
   "id": "3ec4d326",
   "metadata": {},
   "outputs": [
    {
     "name": "stdout",
     "output_type": "stream",
     "text": [
      "###### ElasticNet #######\n",
      "alpha 0.07 일 때 5 폴드 세트의 평균 RMSE : 6.989\n",
      "alpha 0.1 일 때 5 폴드 세트의 평균 RMSE : 6.989\n",
      "alpha 0.5 일 때 5 폴드 세트의 평균 RMSE : 6.989\n",
      "alpha 1 일 때 5 폴드 세트의 평균 RMSE : 6.990\n",
      "alpha 3 일 때 5 폴드 세트의 평균 RMSE : 6.995\n"
     ]
    }
   ],
   "source": [
    "elastic_alphas = [0.07, 0.1, 0.5, 1, 3]\n",
    "coeff_elastic_df = get_linear_reg_eval('ElasticNet',params = elastic_alphas, X_data_n = X_train, y_target_n = y_train)"
   ]
  },
  {
   "cell_type": "markdown",
   "id": "8735a10f",
   "metadata": {},
   "source": [
    "- alpha 값이 1 이하일 때 평균 RMSE 값이 가장 작다.\n",
    "- 그럼에도 RMSE 값이 크며, 그나마 로지스틱 회귀와 K가 충분히 큰 KNN 회귀의 RMSE 값이 상대적으로 가장 작다."
   ]
  }
 ],
 "metadata": {
  "kernelspec": {
   "display_name": "Python 3 (ipykernel)",
   "language": "python",
   "name": "python3"
  },
  "language_info": {
   "codemirror_mode": {
    "name": "ipython",
    "version": 3
   },
   "file_extension": ".py",
   "mimetype": "text/x-python",
   "name": "python",
   "nbconvert_exporter": "python",
   "pygments_lexer": "ipython3",
   "version": "3.9.12"
  }
 },
 "nbformat": 4,
 "nbformat_minor": 5
}
