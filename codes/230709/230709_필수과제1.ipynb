{
 "cells": [
  {
   "cell_type": "markdown",
   "id": "20cfeff0",
   "metadata": {},
   "source": [
    "### 필수과제1\n",
    "- 3차 다항식을 만들고 -> 원리를 주석으로 간단하게 정리해 주세요!"
   ]
  },
  {
   "cell_type": "code",
   "execution_count": 1,
   "id": "4adb1a4e",
   "metadata": {},
   "outputs": [],
   "source": [
    "import numpy as np\n",
    "import pandas as pd\n",
    "import matplotlib.pyplot as plt\n",
    "import seaborn as sns"
   ]
  },
  {
   "cell_type": "code",
   "execution_count": 2,
   "id": "b066fe22",
   "metadata": {},
   "outputs": [
    {
     "name": "stdout",
     "output_type": "stream",
     "text": [
      "1차 단항식의 계수 피쳐 [[0 1]\n",
      " [2 3]]\n",
      "변환된 2차 다항식 계수 [[1. 0. 1. 0. 0. 1.]\n",
      " [1. 2. 3. 4. 6. 9.]]\n"
     ]
    }
   ],
   "source": [
    "################ 지난 시간 복습 ################\n",
    "from sklearn.preprocessing import PolynomialFeatures\n",
    "\n",
    "X = np.arange(4).reshape(2,2)\n",
    "print(\"1차 단항식의 계수 피쳐\", X)\n",
    "\n",
    "# 2차 3차로 바뀌는 방식이 무엇인지를 이해해 보면\n",
    "# 2차 다항식\n",
    "poly = PolynomialFeatures(degree=2)\n",
    "poly.fit(X)\n",
    "poly_ftr = poly.transform(X)\n",
    "print(\"변환된 2차 다항식 계수\", poly_ftr)"
   ]
  },
  {
   "cell_type": "code",
   "execution_count": 3,
   "id": "edf4d727",
   "metadata": {},
   "outputs": [
    {
     "name": "stdout",
     "output_type": "stream",
     "text": [
      "변환된 3차 다항식 계수 [[ 1.  0.  1.  0.  0.  1.  0.  0.  0.  1.]\n",
      " [ 1.  2.  3.  4.  6.  9.  8. 12. 18. 27.]]\n"
     ]
    }
   ],
   "source": [
    "# 3차 다항식\n",
    "poly = PolynomialFeatures(degree=3)\n",
    "poly.fit(X)\n",
    "poly_ftr = poly.transform(X)\n",
    "print(\"변환된 3차 다항식 계수\", poly_ftr)"
   ]
  },
  {
   "cell_type": "markdown",
   "id": "62545ada",
   "metadata": {},
   "source": [
    "- 단항식 [X1, X2]\n",
    "- 3차 다항식으로 바꾸는 방법:\n",
    "- [1, \n",
    "\n",
    "   X1, X2, \n",
    "   \n",
    "   X1 ** 2, X1 * X2, X2 ** 2, \n",
    "   \n",
    "   X1 ** 3, (X1 ** 2) * X2, X1 * (X2 ** 2), X2 ** 3]"
   ]
  }
 ],
 "metadata": {
  "kernelspec": {
   "display_name": "Python 3 (ipykernel)",
   "language": "python",
   "name": "python3"
  },
  "language_info": {
   "codemirror_mode": {
    "name": "ipython",
    "version": 3
   },
   "file_extension": ".py",
   "mimetype": "text/x-python",
   "name": "python",
   "nbconvert_exporter": "python",
   "pygments_lexer": "ipython3",
   "version": "3.9.12"
  }
 },
 "nbformat": 4,
 "nbformat_minor": 5
}
