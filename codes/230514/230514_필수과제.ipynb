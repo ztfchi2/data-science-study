{
 "cells": [
  {
   "cell_type": "markdown",
   "id": "5606efbd",
   "metadata": {},
   "source": [
    "### 필수과제 \n",
    "- 영화데이터의 평점을 예측하는 KNN 회귀 모델링 진행하기"
   ]
  },
  {
   "cell_type": "code",
   "execution_count": 1,
   "id": "40bd849f",
   "metadata": {},
   "outputs": [],
   "source": [
    "from sklearn.neighbors import KNeighborsRegressor\n",
    "from sklearn.model_selection import train_test_split\n",
    "from sklearn.metrics import mean_squared_error\n",
    "from math import sqrt\n",
    "import numpy as np\n",
    "import pandas as pd\n",
    "import matplotlib.pyplot as plt"
   ]
  },
  {
   "cell_type": "code",
   "execution_count": 2,
   "id": "e9d19b67",
   "metadata": {},
   "outputs": [],
   "source": [
    "mov = pd.read_csv(\"basic_movie.tsv\", delimiter=\"\\t\")"
   ]
  },
  {
   "cell_type": "code",
   "execution_count": 3,
   "id": "0ea0ae55",
   "metadata": {},
   "outputs": [
    {
     "data": {
      "text/html": [
       "<div>\n",
       "<style scoped>\n",
       "    .dataframe tbody tr th:only-of-type {\n",
       "        vertical-align: middle;\n",
       "    }\n",
       "\n",
       "    .dataframe tbody tr th {\n",
       "        vertical-align: top;\n",
       "    }\n",
       "\n",
       "    .dataframe thead th {\n",
       "        text-align: right;\n",
       "    }\n",
       "</style>\n",
       "<table border=\"1\" class=\"dataframe\">\n",
       "  <thead>\n",
       "    <tr style=\"text-align: right;\">\n",
       "      <th></th>\n",
       "      <th>tconst</th>\n",
       "      <th>averageRating</th>\n",
       "      <th>numVotes</th>\n",
       "    </tr>\n",
       "  </thead>\n",
       "  <tbody>\n",
       "    <tr>\n",
       "      <th>0</th>\n",
       "      <td>tt0000001</td>\n",
       "      <td>5.7</td>\n",
       "      <td>1972</td>\n",
       "    </tr>\n",
       "    <tr>\n",
       "      <th>1</th>\n",
       "      <td>tt0000002</td>\n",
       "      <td>5.8</td>\n",
       "      <td>263</td>\n",
       "    </tr>\n",
       "    <tr>\n",
       "      <th>2</th>\n",
       "      <td>tt0000003</td>\n",
       "      <td>6.5</td>\n",
       "      <td>1819</td>\n",
       "    </tr>\n",
       "    <tr>\n",
       "      <th>3</th>\n",
       "      <td>tt0000004</td>\n",
       "      <td>5.6</td>\n",
       "      <td>178</td>\n",
       "    </tr>\n",
       "    <tr>\n",
       "      <th>4</th>\n",
       "      <td>tt0000005</td>\n",
       "      <td>6.2</td>\n",
       "      <td>2614</td>\n",
       "    </tr>\n",
       "    <tr>\n",
       "      <th>...</th>\n",
       "      <td>...</td>\n",
       "      <td>...</td>\n",
       "      <td>...</td>\n",
       "    </tr>\n",
       "    <tr>\n",
       "      <th>1311563</th>\n",
       "      <td>tt9916730</td>\n",
       "      <td>8.3</td>\n",
       "      <td>10</td>\n",
       "    </tr>\n",
       "    <tr>\n",
       "      <th>1311564</th>\n",
       "      <td>tt9916766</td>\n",
       "      <td>7.0</td>\n",
       "      <td>21</td>\n",
       "    </tr>\n",
       "    <tr>\n",
       "      <th>1311565</th>\n",
       "      <td>tt9916778</td>\n",
       "      <td>7.2</td>\n",
       "      <td>36</td>\n",
       "    </tr>\n",
       "    <tr>\n",
       "      <th>1311566</th>\n",
       "      <td>tt9916840</td>\n",
       "      <td>7.5</td>\n",
       "      <td>7</td>\n",
       "    </tr>\n",
       "    <tr>\n",
       "      <th>1311567</th>\n",
       "      <td>tt9916880</td>\n",
       "      <td>7.0</td>\n",
       "      <td>7</td>\n",
       "    </tr>\n",
       "  </tbody>\n",
       "</table>\n",
       "<p>1311568 rows × 3 columns</p>\n",
       "</div>"
      ],
      "text/plain": [
       "            tconst  averageRating  numVotes\n",
       "0        tt0000001            5.7      1972\n",
       "1        tt0000002            5.8       263\n",
       "2        tt0000003            6.5      1819\n",
       "3        tt0000004            5.6       178\n",
       "4        tt0000005            6.2      2614\n",
       "...            ...            ...       ...\n",
       "1311563  tt9916730            8.3        10\n",
       "1311564  tt9916766            7.0        21\n",
       "1311565  tt9916778            7.2        36\n",
       "1311566  tt9916840            7.5         7\n",
       "1311567  tt9916880            7.0         7\n",
       "\n",
       "[1311568 rows x 3 columns]"
      ]
     },
     "execution_count": 3,
     "metadata": {},
     "output_type": "execute_result"
    }
   ],
   "source": [
    "mov"
   ]
  },
  {
   "cell_type": "code",
   "execution_count": 4,
   "id": "a7d63ea0",
   "metadata": {},
   "outputs": [],
   "source": [
    "data = mov.drop([\"tconst\",\"averageRating\"], axis=1) # 문자형 컬럼은 분석에서 제외\n",
    "target = mov[\"averageRating\"]"
   ]
  },
  {
   "cell_type": "code",
   "execution_count": 5,
   "id": "d75cc56e",
   "metadata": {},
   "outputs": [
    {
     "data": {
      "text/html": [
       "<div>\n",
       "<style scoped>\n",
       "    .dataframe tbody tr th:only-of-type {\n",
       "        vertical-align: middle;\n",
       "    }\n",
       "\n",
       "    .dataframe tbody tr th {\n",
       "        vertical-align: top;\n",
       "    }\n",
       "\n",
       "    .dataframe thead th {\n",
       "        text-align: right;\n",
       "    }\n",
       "</style>\n",
       "<table border=\"1\" class=\"dataframe\">\n",
       "  <thead>\n",
       "    <tr style=\"text-align: right;\">\n",
       "      <th></th>\n",
       "      <th>numVotes</th>\n",
       "    </tr>\n",
       "  </thead>\n",
       "  <tbody>\n",
       "    <tr>\n",
       "      <th>0</th>\n",
       "      <td>1972</td>\n",
       "    </tr>\n",
       "    <tr>\n",
       "      <th>1</th>\n",
       "      <td>263</td>\n",
       "    </tr>\n",
       "    <tr>\n",
       "      <th>2</th>\n",
       "      <td>1819</td>\n",
       "    </tr>\n",
       "    <tr>\n",
       "      <th>3</th>\n",
       "      <td>178</td>\n",
       "    </tr>\n",
       "    <tr>\n",
       "      <th>4</th>\n",
       "      <td>2614</td>\n",
       "    </tr>\n",
       "    <tr>\n",
       "      <th>...</th>\n",
       "      <td>...</td>\n",
       "    </tr>\n",
       "    <tr>\n",
       "      <th>1311563</th>\n",
       "      <td>10</td>\n",
       "    </tr>\n",
       "    <tr>\n",
       "      <th>1311564</th>\n",
       "      <td>21</td>\n",
       "    </tr>\n",
       "    <tr>\n",
       "      <th>1311565</th>\n",
       "      <td>36</td>\n",
       "    </tr>\n",
       "    <tr>\n",
       "      <th>1311566</th>\n",
       "      <td>7</td>\n",
       "    </tr>\n",
       "    <tr>\n",
       "      <th>1311567</th>\n",
       "      <td>7</td>\n",
       "    </tr>\n",
       "  </tbody>\n",
       "</table>\n",
       "<p>1311568 rows × 1 columns</p>\n",
       "</div>"
      ],
      "text/plain": [
       "         numVotes\n",
       "0            1972\n",
       "1             263\n",
       "2            1819\n",
       "3             178\n",
       "4            2614\n",
       "...           ...\n",
       "1311563        10\n",
       "1311564        21\n",
       "1311565        36\n",
       "1311566         7\n",
       "1311567         7\n",
       "\n",
       "[1311568 rows x 1 columns]"
      ]
     },
     "execution_count": 5,
     "metadata": {},
     "output_type": "execute_result"
    }
   ],
   "source": [
    "data"
   ]
  },
  {
   "cell_type": "code",
   "execution_count": 6,
   "id": "aceef7e5",
   "metadata": {},
   "outputs": [
    {
     "data": {
      "text/plain": [
       "0          5.7\n",
       "1          5.8\n",
       "2          6.5\n",
       "3          5.6\n",
       "4          6.2\n",
       "          ... \n",
       "1311563    8.3\n",
       "1311564    7.0\n",
       "1311565    7.2\n",
       "1311566    7.5\n",
       "1311567    7.0\n",
       "Name: averageRating, Length: 1311568, dtype: float64"
      ]
     },
     "execution_count": 6,
     "metadata": {},
     "output_type": "execute_result"
    }
   ],
   "source": [
    "target"
   ]
  },
  {
   "cell_type": "code",
   "execution_count": 7,
   "id": "30a9573f",
   "metadata": {},
   "outputs": [],
   "source": [
    "X_train, X_test, y_train, y_test = train_test_split(data, target, test_size=0.25)"
   ]
  },
  {
   "cell_type": "code",
   "execution_count": 8,
   "id": "2849ca2d",
   "metadata": {},
   "outputs": [
    {
     "data": {
      "text/html": [
       "<div>\n",
       "<style scoped>\n",
       "    .dataframe tbody tr th:only-of-type {\n",
       "        vertical-align: middle;\n",
       "    }\n",
       "\n",
       "    .dataframe tbody tr th {\n",
       "        vertical-align: top;\n",
       "    }\n",
       "\n",
       "    .dataframe thead th {\n",
       "        text-align: right;\n",
       "    }\n",
       "</style>\n",
       "<table border=\"1\" class=\"dataframe\">\n",
       "  <thead>\n",
       "    <tr style=\"text-align: right;\">\n",
       "      <th></th>\n",
       "      <th>numVotes</th>\n",
       "    </tr>\n",
       "  </thead>\n",
       "  <tbody>\n",
       "    <tr>\n",
       "      <th>122440</th>\n",
       "      <td>16</td>\n",
       "    </tr>\n",
       "    <tr>\n",
       "      <th>1198419</th>\n",
       "      <td>11</td>\n",
       "    </tr>\n",
       "    <tr>\n",
       "      <th>889644</th>\n",
       "      <td>28</td>\n",
       "    </tr>\n",
       "    <tr>\n",
       "      <th>1166038</th>\n",
       "      <td>231</td>\n",
       "    </tr>\n",
       "    <tr>\n",
       "      <th>1061750</th>\n",
       "      <td>28</td>\n",
       "    </tr>\n",
       "    <tr>\n",
       "      <th>...</th>\n",
       "      <td>...</td>\n",
       "    </tr>\n",
       "    <tr>\n",
       "      <th>870880</th>\n",
       "      <td>399</td>\n",
       "    </tr>\n",
       "    <tr>\n",
       "      <th>1181707</th>\n",
       "      <td>123</td>\n",
       "    </tr>\n",
       "    <tr>\n",
       "      <th>733210</th>\n",
       "      <td>43</td>\n",
       "    </tr>\n",
       "    <tr>\n",
       "      <th>404040</th>\n",
       "      <td>14</td>\n",
       "    </tr>\n",
       "    <tr>\n",
       "      <th>436831</th>\n",
       "      <td>22</td>\n",
       "    </tr>\n",
       "  </tbody>\n",
       "</table>\n",
       "<p>983676 rows × 1 columns</p>\n",
       "</div>"
      ],
      "text/plain": [
       "         numVotes\n",
       "122440         16\n",
       "1198419        11\n",
       "889644         28\n",
       "1166038       231\n",
       "1061750        28\n",
       "...           ...\n",
       "870880        399\n",
       "1181707       123\n",
       "733210         43\n",
       "404040         14\n",
       "436831         22\n",
       "\n",
       "[983676 rows x 1 columns]"
      ]
     },
     "execution_count": 8,
     "metadata": {},
     "output_type": "execute_result"
    }
   ],
   "source": [
    "X_train"
   ]
  },
  {
   "cell_type": "code",
   "execution_count": 9,
   "id": "69397f2e",
   "metadata": {},
   "outputs": [
    {
     "data": {
      "text/plain": [
       "122440     5.2\n",
       "1198419    5.2\n",
       "889644     7.6\n",
       "1166038    7.4\n",
       "1061750    7.2\n",
       "          ... \n",
       "870880     4.4\n",
       "1181707    7.0\n",
       "733210     8.0\n",
       "404040     8.0\n",
       "436831     6.3\n",
       "Name: averageRating, Length: 983676, dtype: float64"
      ]
     },
     "execution_count": 9,
     "metadata": {},
     "output_type": "execute_result"
    }
   ],
   "source": [
    "y_train"
   ]
  },
  {
   "cell_type": "markdown",
   "id": "a7674337",
   "metadata": {},
   "source": [
    "### KNN회귀 알고리즘으로 RMSE 구해보기"
   ]
  },
  {
   "cell_type": "code",
   "execution_count": 10,
   "id": "2eb4f23b",
   "metadata": {},
   "outputs": [
    {
     "name": "stdout",
     "output_type": "stream",
     "text": [
      "RMSE value k 1 = 1.8523736989453747\n",
      "RMSE value k 2 = 1.6144680774464322\n",
      "RMSE value k 3 = 1.5963245418826566\n",
      "RMSE value k 4 = 1.5631922020837161\n",
      "RMSE value k 5 = 1.519698162134579\n",
      "RMSE value k 6 = 1.4940778968770396\n",
      "RMSE value k 7 = 1.4704435813265293\n",
      "RMSE value k 8 = 1.4627792006872258\n",
      "RMSE value k 9 = 1.4550702152242248\n",
      "RMSE value k 10 = 1.4566890417833553\n",
      "가장최소 rmse 1.4550702152242248\n"
     ]
    }
   ],
   "source": [
    "# rmse값 구하기 (default, K=1~10)\n",
    "rmse_val = []\n",
    "for K in range(10):\n",
    "    K = K+1\n",
    "    model = KNeighborsRegressor(n_neighbors = K)\n",
    "    model.fit(X_train, y_train)\n",
    "    pred = model.predict(X_test)\n",
    "    error = sqrt(mean_squared_error(y_test,pred))\n",
    "    rmse_val.append(error)\n",
    "    print('RMSE value k',K,'=',error)\n",
    "print('가장최소 rmse',min(rmse_val))"
   ]
  },
  {
   "cell_type": "code",
   "execution_count": 11,
   "id": "b5b8e623",
   "metadata": {},
   "outputs": [
    {
     "name": "stdout",
     "output_type": "stream",
     "text": [
      "RMSE value k 11 = 1.4441515724848353\n",
      "RMSE value k 12 = 1.4429167215350487\n",
      "RMSE value k 13 = 1.437116435629495\n",
      "RMSE value k 14 = 1.437177494676663\n",
      "RMSE value k 15 = 1.4322465789610592\n",
      "RMSE value k 16 = 1.4298022613228174\n",
      "RMSE value k 17 = 1.42465249318509\n",
      "RMSE value k 18 = 1.4192999034188594\n",
      "RMSE value k 19 = 1.4121095049564916\n",
      "RMSE value k 20 = 1.4136518878468818\n",
      "가장최소 rmse 1.4121095049564916\n"
     ]
    }
   ],
   "source": [
    "# rmse값 구하기 (default, K=11~20)\n",
    "rmse_val = []\n",
    "for K in range(10,20):\n",
    "    K = K+1\n",
    "    model = KNeighborsRegressor(n_neighbors = K)\n",
    "    model.fit(X_train, y_train)\n",
    "    pred = model.predict(X_test)\n",
    "    error = sqrt(mean_squared_error(y_test,pred))\n",
    "    rmse_val.append(error)\n",
    "    print('RMSE value k',K,'=',error)\n",
    "print('가장최소 rmse',min(rmse_val))"
   ]
  },
  {
   "cell_type": "markdown",
   "id": "4066ca81",
   "metadata": {},
   "source": [
    "- K=19의 RMSE가 가장 작은 것으로 나타났다."
   ]
  },
  {
   "cell_type": "code",
   "execution_count": 13,
   "id": "5bc06e9b",
   "metadata": {},
   "outputs": [],
   "source": [
    "# K=5 일 때 예측값과 정답 비교\n",
    "model_5 = KNeighborsRegressor(n_neighbors = 5)"
   ]
  },
  {
   "cell_type": "code",
   "execution_count": 14,
   "id": "70784393",
   "metadata": {},
   "outputs": [
    {
     "data": {
      "text/plain": [
       "KNeighborsRegressor()"
      ]
     },
     "execution_count": 14,
     "metadata": {},
     "output_type": "execute_result"
    }
   ],
   "source": [
    "model_5.fit(X_train, y_train)"
   ]
  },
  {
   "cell_type": "code",
   "execution_count": 15,
   "id": "c11eeb2c",
   "metadata": {},
   "outputs": [],
   "source": [
    "pred = model_5.predict(X_test)"
   ]
  },
  {
   "cell_type": "code",
   "execution_count": 33,
   "id": "5bfe56b9",
   "metadata": {},
   "outputs": [
    {
     "data": {
      "text/html": [
       "<div>\n",
       "<style scoped>\n",
       "    .dataframe tbody tr th:only-of-type {\n",
       "        vertical-align: middle;\n",
       "    }\n",
       "\n",
       "    .dataframe tbody tr th {\n",
       "        vertical-align: top;\n",
       "    }\n",
       "\n",
       "    .dataframe thead th {\n",
       "        text-align: right;\n",
       "    }\n",
       "</style>\n",
       "<table border=\"1\" class=\"dataframe\">\n",
       "  <thead>\n",
       "    <tr style=\"text-align: right;\">\n",
       "      <th></th>\n",
       "      <th>y</th>\n",
       "      <th>pred</th>\n",
       "    </tr>\n",
       "  </thead>\n",
       "  <tbody>\n",
       "    <tr>\n",
       "      <th>1271608</th>\n",
       "      <td>7.8</td>\n",
       "      <td>7.16</td>\n",
       "    </tr>\n",
       "    <tr>\n",
       "      <th>387156</th>\n",
       "      <td>8.5</td>\n",
       "      <td>6.28</td>\n",
       "    </tr>\n",
       "    <tr>\n",
       "      <th>1281251</th>\n",
       "      <td>8.8</td>\n",
       "      <td>7.20</td>\n",
       "    </tr>\n",
       "    <tr>\n",
       "      <th>243167</th>\n",
       "      <td>6.9</td>\n",
       "      <td>5.80</td>\n",
       "    </tr>\n",
       "    <tr>\n",
       "      <th>33409</th>\n",
       "      <td>7.2</td>\n",
       "      <td>6.30</td>\n",
       "    </tr>\n",
       "    <tr>\n",
       "      <th>...</th>\n",
       "      <td>...</td>\n",
       "      <td>...</td>\n",
       "    </tr>\n",
       "    <tr>\n",
       "      <th>432950</th>\n",
       "      <td>8.2</td>\n",
       "      <td>7.66</td>\n",
       "    </tr>\n",
       "    <tr>\n",
       "      <th>758679</th>\n",
       "      <td>8.8</td>\n",
       "      <td>6.96</td>\n",
       "    </tr>\n",
       "    <tr>\n",
       "      <th>855387</th>\n",
       "      <td>5.1</td>\n",
       "      <td>7.16</td>\n",
       "    </tr>\n",
       "    <tr>\n",
       "      <th>980046</th>\n",
       "      <td>8.1</td>\n",
       "      <td>6.44</td>\n",
       "    </tr>\n",
       "    <tr>\n",
       "      <th>1212621</th>\n",
       "      <td>5.0</td>\n",
       "      <td>7.16</td>\n",
       "    </tr>\n",
       "  </tbody>\n",
       "</table>\n",
       "<p>327892 rows × 2 columns</p>\n",
       "</div>"
      ],
      "text/plain": [
       "           y  pred\n",
       "1271608  7.8  7.16\n",
       "387156   8.5  6.28\n",
       "1281251  8.8  7.20\n",
       "243167   6.9  5.80\n",
       "33409    7.2  6.30\n",
       "...      ...   ...\n",
       "432950   8.2  7.66\n",
       "758679   8.8  6.96\n",
       "855387   5.1  7.16\n",
       "980046   8.1  6.44\n",
       "1212621  5.0  7.16\n",
       "\n",
       "[327892 rows x 2 columns]"
      ]
     },
     "execution_count": 33,
     "metadata": {},
     "output_type": "execute_result"
    }
   ],
   "source": [
    "comp = pd.DataFrame({\"y\":y_test, \"pred\":pred})\n",
    "comp"
   ]
  },
  {
   "cell_type": "code",
   "execution_count": 46,
   "id": "467aaf94",
   "metadata": {},
   "outputs": [
    {
     "data": {
      "text/plain": [
       "[]"
      ]
     },
     "execution_count": 46,
     "metadata": {},
     "output_type": "execute_result"
    },
    {
     "data": {
      "image/png": "[encoded data removed]",
      "text/plain": [
       "<Figure size 432x432 with 1 Axes>"
      ]
     },
     "metadata": {
      "needs_background": "light"
     },
     "output_type": "display_data"
    }
   ],
   "source": [
    "plt.figure(figsize=(6,6))\n",
    "plt.scatter(x=comp.y.head(1000), y=comp.pred.head(1000))\n",
    "plt.xlim(0,11)\n",
    "plt.ylim(0,11)\n",
    "plt.plot()"
   ]
  },
  {
   "cell_type": "code",
   "execution_count": 47,
   "id": "08d350c5",
   "metadata": {},
   "outputs": [
    {
     "data": {
      "text/html": [
       "<div>\n",
       "<style scoped>\n",
       "    .dataframe tbody tr th:only-of-type {\n",
       "        vertical-align: middle;\n",
       "    }\n",
       "\n",
       "    .dataframe tbody tr th {\n",
       "        vertical-align: top;\n",
       "    }\n",
       "\n",
       "    .dataframe thead th {\n",
       "        text-align: right;\n",
       "    }\n",
       "</style>\n",
       "<table border=\"1\" class=\"dataframe\">\n",
       "  <thead>\n",
       "    <tr style=\"text-align: right;\">\n",
       "      <th></th>\n",
       "      <th>y</th>\n",
       "      <th>pred</th>\n",
       "    </tr>\n",
       "  </thead>\n",
       "  <tbody>\n",
       "    <tr>\n",
       "      <th>count</th>\n",
       "      <td>327892.000000</td>\n",
       "      <td>327892.000000</td>\n",
       "    </tr>\n",
       "    <tr>\n",
       "      <th>mean</th>\n",
       "      <td>6.950811</td>\n",
       "      <td>6.949314</td>\n",
       "    </tr>\n",
       "    <tr>\n",
       "      <th>std</th>\n",
       "      <td>1.385577</td>\n",
       "      <td>0.662260</td>\n",
       "    </tr>\n",
       "    <tr>\n",
       "      <th>min</th>\n",
       "      <td>1.000000</td>\n",
       "      <td>4.140000</td>\n",
       "    </tr>\n",
       "    <tr>\n",
       "      <th>25%</th>\n",
       "      <td>6.200000</td>\n",
       "      <td>6.520000</td>\n",
       "    </tr>\n",
       "    <tr>\n",
       "      <th>50%</th>\n",
       "      <td>7.100000</td>\n",
       "      <td>7.020000</td>\n",
       "    </tr>\n",
       "    <tr>\n",
       "      <th>75%</th>\n",
       "      <td>7.900000</td>\n",
       "      <td>7.380000</td>\n",
       "    </tr>\n",
       "    <tr>\n",
       "      <th>max</th>\n",
       "      <td>10.000000</td>\n",
       "      <td>8.980000</td>\n",
       "    </tr>\n",
       "  </tbody>\n",
       "</table>\n",
       "</div>"
      ],
      "text/plain": [
       "                   y           pred\n",
       "count  327892.000000  327892.000000\n",
       "mean        6.950811       6.949314\n",
       "std         1.385577       0.662260\n",
       "min         1.000000       4.140000\n",
       "25%         6.200000       6.520000\n",
       "50%         7.100000       7.020000\n",
       "75%         7.900000       7.380000\n",
       "max        10.000000       8.980000"
      ]
     },
     "execution_count": 47,
     "metadata": {},
     "output_type": "execute_result"
    }
   ],
   "source": [
    "comp.describe()"
   ]
  },
  {
   "cell_type": "markdown",
   "id": "d7d653e2",
   "metadata": {},
   "source": [
    "- 실제 정답값은 1 ~ 10 사이의 값을 갖지만, 예측값은 더 적은 범위의 값들을 갖는다(4 ~ 9).\n",
    "- 평균과 중앙값은 거의 같게 나온다\n",
    "- 실제 값이 낮은 평점은 높게, 높은 평점은 낮게 추정되었다."
   ]
  },
  {
   "cell_type": "code",
   "execution_count": null,
   "id": "09e52ef3",
   "metadata": {},
   "outputs": [],
   "source": []
  }
 ],
 "metadata": {
  "kernelspec": {
   "display_name": "Python 3 (ipykernel)",
   "language": "python",
   "name": "python3"
  },
  "language_info": {
   "codemirror_mode": {
    "name": "ipython",
    "version": 3
   },
   "file_extension": ".py",
   "mimetype": "text/x-python",
   "name": "python",
   "nbconvert_exporter": "python",
   "pygments_lexer": "ipython3",
   "version": "3.9.12"
  }
 },
 "nbformat": 4,
 "nbformat_minor": 5
}
