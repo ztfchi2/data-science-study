{
 "cells": [
  {
   "cell_type": "markdown",
   "id": "b6536e26",
   "metadata": {},
   "source": [
    "### K-최근접 이웃 회귀 (K-Nearest Neighbors)\n",
    "- 전에 진행한 knn 비지도학습\n",
    "- 지도학습, 정답이 있음\n",
    "- 전에 했던 것은 정답이 없기 때문에 이웃에 대한 라벨을 정할 때 정답이 아닌 실루엣, 엘보우 같은 지표를 사용해서 최적의 k를 찾았다.\n",
    "- 회귀 지도학습 -> 정답이 있다.\n",
    "- 정답 값을 가지고 k 개수를 찾아볼 수 있다.\n",
    "- knn 이웃에 접근하는 방법만 같지, 회귀와 분류로 나눠진다.\n",
    "- knn 회귀 (Regression), 분류(Classification)도 있다."
   ]
  },
  {
   "cell_type": "markdown",
   "id": "37a61844",
   "metadata": {},
   "source": [
    "- 원리를 살펴보면?\n",
    "- 거리기반의 가장 가까운 k개 이웃을 찾고 근처 k개의 정답의 평균을 계산해서 예측\n",
    "- 영화평점 데이터에서\n",
    "- 가장 가까운 (특성이 유사한) 영화가 3개 있는데 5.0, 6.8, 9.2의 등급을 가졌다면 해당 값은 3개의 평균인 7.0이라고 예측 (정답)"
   ]
  },
  {
   "cell_type": "markdown",
   "id": "568d075a",
   "metadata": {},
   "source": [
    "- 3개의 영화를 k 군집으로 잡았는데, 해당 3개 영화 중에서 더 가까운 데이터가 있을 것\n",
    "- 단순하게 평균으로만 잡게되면 가중치를 놓칠 수가 있다.\n",
    "- 해당 3개 영화의 데이터에 거리까지 입력해서 평점을 예측해야한다.\n",
    "- 가중평균을 이용해서 거리가 가까울수록 데이터가 더 유사할 것이라고 보고 가중치를 부여하는 것"
   ]
  },
  {
   "cell_type": "markdown",
   "id": "3dbad493",
   "metadata": {},
   "source": [
    "- ex)\n",
    "- A 영화 / 평점 5.0 / x까지 거리 3.2\n",
    "- B 영화 / 평점 6.8 / x까지 거리 10.5\n",
    "- C 영화 / 평점 9.2 / x까지 거리 1.1\n",
    "- 단순 평균 계산인 경우는 예측 값이 7.0이지만\n",
    "- 거리기반으로 가중평균을 계산해 보면 다른 값이 나온다."
   ]
  },
  {
   "cell_type": "code",
   "execution_count": 1,
   "id": "bc95a92f",
   "metadata": {},
   "outputs": [
    {
     "data": {
      "text/plain": [
       "7.0"
      ]
     },
     "execution_count": 1,
     "metadata": {},
     "output_type": "execute_result"
    }
   ],
   "source": [
    "(5.0+6.8+9.2)/3 # 그냥 평균 계산"
   ]
  },
  {
   "cell_type": "code",
   "execution_count": 2,
   "id": "2f25f9eb",
   "metadata": {},
   "outputs": [
    {
     "data": {
      "text/plain": [
       "8.02971029381549"
      ]
     },
     "execution_count": 2,
     "metadata": {},
     "output_type": "execute_result"
    }
   ],
   "source": [
    "(5.0/3.2+6.8/10.5+9.2/1.1)/(1/3.2+1/10.5+1/1.1) # 가중평균 계산"
   ]
  },
  {
   "cell_type": "code",
   "execution_count": 3,
   "id": "82bebdd5",
   "metadata": {},
   "outputs": [],
   "source": [
    "from sklearn.neighbors import KNeighborsRegressor"
   ]
  },
  {
   "cell_type": "code",
   "execution_count": 4,
   "id": "c7245f84",
   "metadata": {},
   "outputs": [],
   "source": [
    "import numpy as np\n",
    "x1 = np.arange(1,11)\n",
    "x = x1.reshape(-1,1)\n",
    "y = np.arange(1,11)*5"
   ]
  },
  {
   "cell_type": "code",
   "execution_count": 5,
   "id": "57f9890e",
   "metadata": {},
   "outputs": [
    {
     "data": {
      "text/plain": [
       "array([[ 1],\n",
       "       [ 2],\n",
       "       [ 3],\n",
       "       [ 4],\n",
       "       [ 5],\n",
       "       [ 6],\n",
       "       [ 7],\n",
       "       [ 8],\n",
       "       [ 9],\n",
       "       [10]])"
      ]
     },
     "execution_count": 5,
     "metadata": {},
     "output_type": "execute_result"
    }
   ],
   "source": [
    "x"
   ]
  },
  {
   "cell_type": "code",
   "execution_count": 6,
   "id": "cff2e5b8",
   "metadata": {},
   "outputs": [
    {
     "data": {
      "text/plain": [
       "array([ 5, 10, 15, 20, 25, 30, 35, 40, 45, 50])"
      ]
     },
     "execution_count": 6,
     "metadata": {},
     "output_type": "execute_result"
    }
   ],
   "source": [
    "y"
   ]
  },
  {
   "cell_type": "code",
   "execution_count": 7,
   "id": "9a08e79d",
   "metadata": {},
   "outputs": [
    {
     "data": {
      "image/png": "[encoded data removed]",
      "text/plain": [
       "<Figure size 432x288 with 1 Axes>"
      ]
     },
     "metadata": {
      "needs_background": "light"
     },
     "output_type": "display_data"
    }
   ],
   "source": [
    "import matplotlib.pyplot as plt\n",
    "plt.figure()\n",
    "plt.scatter(x,y)\n",
    "plt.show()"
   ]
  },
  {
   "cell_type": "code",
   "execution_count": 8,
   "id": "31cb0018",
   "metadata": {},
   "outputs": [],
   "source": [
    "knn_model = KNeighborsRegressor(n_neighbors=2).fit(x,y)"
   ]
  },
  {
   "cell_type": "code",
   "execution_count": 9,
   "id": "3bb8edc8",
   "metadata": {},
   "outputs": [
    {
     "data": {
      "text/plain": [
       "KNeighborsRegressor(n_neighbors=2)"
      ]
     },
     "execution_count": 9,
     "metadata": {},
     "output_type": "execute_result"
    }
   ],
   "source": [
    "knn_model"
   ]
  },
  {
   "cell_type": "code",
   "execution_count": 10,
   "id": "fb671179",
   "metadata": {},
   "outputs": [
    {
     "name": "stdout",
     "output_type": "stream",
     "text": [
      "[12.5]\n"
     ]
    }
   ],
   "source": [
    "print(knn_model.predict([[3]]))"
   ]
  },
  {
   "cell_type": "code",
   "execution_count": 11,
   "id": "124b3851",
   "metadata": {},
   "outputs": [
    {
     "data": {
      "text/plain": [
       "12.5"
      ]
     },
     "execution_count": 11,
     "metadata": {},
     "output_type": "execute_result"
    }
   ],
   "source": [
    "(10+15)/2"
   ]
  },
  {
   "cell_type": "markdown",
   "id": "948d7041",
   "metadata": {},
   "source": [
    "- knn 한계"
   ]
  },
  {
   "cell_type": "code",
   "execution_count": 12,
   "id": "7fb1688d",
   "metadata": {},
   "outputs": [
    {
     "name": "stdout",
     "output_type": "stream",
     "text": [
      "[47.5]\n"
     ]
    }
   ],
   "source": [
    "print(knn_model.predict([[10]]))"
   ]
  },
  {
   "cell_type": "code",
   "execution_count": 13,
   "id": "f13558e7",
   "metadata": {},
   "outputs": [
    {
     "name": "stdout",
     "output_type": "stream",
     "text": [
      "[47.5]\n"
     ]
    }
   ],
   "source": [
    "print(knn_model.predict([[15]]))"
   ]
  },
  {
   "cell_type": "code",
   "execution_count": 14,
   "id": "5e9dcdae",
   "metadata": {},
   "outputs": [
    {
     "name": "stdout",
     "output_type": "stream",
     "text": [
      "[47.5]\n"
     ]
    }
   ],
   "source": [
    "print(knn_model.predict([[30]]))"
   ]
  },
  {
   "cell_type": "code",
   "execution_count": 15,
   "id": "b37eabfd",
   "metadata": {},
   "outputs": [
    {
     "name": "stdout",
     "output_type": "stream",
     "text": [
      "[47.5]\n"
     ]
    }
   ],
   "source": [
    "print(knn_model.predict([[100]]))"
   ]
  },
  {
   "cell_type": "markdown",
   "id": "d946ddeb",
   "metadata": {},
   "source": [
    "- 거리기반이다보니 기존에 나타난 데이터에서 벗어난 범위는 정확하게 예측하기가 어렵다."
   ]
  },
  {
   "cell_type": "markdown",
   "id": "8c598d1b",
   "metadata": {},
   "source": [
    "- 가중평균을 주고 데이터 값을 예측해 보자!"
   ]
  },
  {
   "cell_type": "code",
   "execution_count": 16,
   "id": "5529b6d6",
   "metadata": {},
   "outputs": [],
   "source": [
    "knn_model = KNeighborsRegressor(n_neighbors=2, weights=\"distance\").fit(x,y)"
   ]
  },
  {
   "cell_type": "code",
   "execution_count": 17,
   "id": "a5c845e3",
   "metadata": {},
   "outputs": [
    {
     "data": {
      "text/plain": [
       "KNeighborsRegressor(n_neighbors=2, weights='distance')"
      ]
     },
     "execution_count": 17,
     "metadata": {},
     "output_type": "execute_result"
    }
   ],
   "source": [
    "knn_model"
   ]
  },
  {
   "cell_type": "code",
   "execution_count": 20,
   "id": "06526b35",
   "metadata": {
    "scrolled": true
   },
   "outputs": [
    {
     "name": "stdout",
     "output_type": "stream",
     "text": [
      "[15.]\n"
     ]
    }
   ],
   "source": [
    "print(knn_model.predict(np.arange(3,4).reshape(-1,1)))"
   ]
  },
  {
   "cell_type": "markdown",
   "id": "37ddb169",
   "metadata": {},
   "source": [
    "- KNeighborsRegressor(algorithm='auto', leaf_size=30, metric='minkowski', metric_params=None, n_jobs=None, n_neighbors=2, p=2, weights='uniform')\n",
    "- weights=\"uniform\" 거리기반 파라미터 {\"uniform\" 디폴트값, \"distance\" 거리기반}, 사용자 함수로 거리를 만들 수 있다.\n",
    "- algorithm=\"auto\", Brute Force, K-DTree, Ball Tree 등이 있다.\n",
    "- p 값\n",
    "- 민코프스키 거리를 가지고 차수를 증가해서 p1이 되면 민코프스키, p2가 되면 유클리디안. p값이 올라갈수록 체비셰프 거리\n",
    "- 거리를 어떤 식으로 측정하냐에 따라서 달라질 수 있다."
   ]
  },
  {
   "cell_type": "code",
   "execution_count": 44,
   "id": "832ca677",
   "metadata": {},
   "outputs": [],
   "source": [
    "from sklearn.datasets import load_boston\n",
    "from sklearn.model_selection import train_test_split\n",
    "from sklearn.metrics import mean_squared_error\n",
    "from math import sqrt\n",
    "import pandas as pd"
   ]
  },
  {
   "cell_type": "code",
   "execution_count": 51,
   "id": "5ecb831d",
   "metadata": {
    "scrolled": false
   },
   "outputs": [
    {
     "name": "stderr",
     "output_type": "stream",
     "text": [
      "C:\\ProgramData\\Anaconda3\\lib\\site-packages\\sklearn\\utils\\deprecation.py:87: FutureWarning: Function load_boston is deprecated; `load_boston` is deprecated in 1.0 and will be removed in 1.2.\n",
      "\n",
      "    The Boston housing prices dataset has an ethical problem. You can refer to\n",
      "    the documentation of this function for further details.\n",
      "\n",
      "    The scikit-learn maintainers therefore strongly discourage the use of this\n",
      "    dataset unless the purpose of the code is to study and educate about\n",
      "    ethical issues in data science and machine learning.\n",
      "\n",
      "    In this special case, you can fetch the dataset from the original\n",
      "    source::\n",
      "\n",
      "        import pandas as pd\n",
      "        import numpy as np\n",
      "\n",
      "\n",
      "        data_url = \"http://lib.stat.cmu.edu/datasets/boston\"\n",
      "        raw_df = pd.read_csv(data_url, sep=\"\\s+\", skiprows=22, header=None)\n",
      "        data = np.hstack([raw_df.values[::2, :], raw_df.values[1::2, :2]])\n",
      "        target = raw_df.values[1::2, 2]\n",
      "\n",
      "    Alternative datasets include the California housing dataset (i.e.\n",
      "    :func:`~sklearn.datasets.fetch_california_housing`) and the Ames housing\n",
      "    dataset. You can load the datasets as follows::\n",
      "\n",
      "        from sklearn.datasets import fetch_california_housing\n",
      "        housing = fetch_california_housing()\n",
      "\n",
      "    for the California housing dataset and::\n",
      "\n",
      "        from sklearn.datasets import fetch_openml\n",
      "        housing = fetch_openml(name=\"house_prices\", as_frame=True)\n",
      "\n",
      "    for the Ames housing dataset.\n",
      "    \n",
      "  warnings.warn(msg, category=FutureWarning)\n"
     ]
    },
    {
     "data": {
      "text/html": [
       "<div>\n",
       "<style scoped>\n",
       "    .dataframe tbody tr th:only-of-type {\n",
       "        vertical-align: middle;\n",
       "    }\n",
       "\n",
       "    .dataframe tbody tr th {\n",
       "        vertical-align: top;\n",
       "    }\n",
       "\n",
       "    .dataframe thead th {\n",
       "        text-align: right;\n",
       "    }\n",
       "</style>\n",
       "<table border=\"1\" class=\"dataframe\">\n",
       "  <thead>\n",
       "    <tr style=\"text-align: right;\">\n",
       "      <th></th>\n",
       "      <th>CRIM</th>\n",
       "      <th>ZN</th>\n",
       "      <th>INDUS</th>\n",
       "      <th>CHAS</th>\n",
       "      <th>NOX</th>\n",
       "      <th>RM</th>\n",
       "      <th>AGE</th>\n",
       "      <th>DIS</th>\n",
       "      <th>RAD</th>\n",
       "      <th>TAX</th>\n",
       "      <th>PTRATIO</th>\n",
       "      <th>B</th>\n",
       "      <th>LSTAT</th>\n",
       "      <th>target</th>\n",
       "    </tr>\n",
       "  </thead>\n",
       "  <tbody>\n",
       "    <tr>\n",
       "      <th>0</th>\n",
       "      <td>0.00632</td>\n",
       "      <td>18.0</td>\n",
       "      <td>2.31</td>\n",
       "      <td>0.0</td>\n",
       "      <td>0.538</td>\n",
       "      <td>6.575</td>\n",
       "      <td>65.2</td>\n",
       "      <td>4.0900</td>\n",
       "      <td>1.0</td>\n",
       "      <td>296.0</td>\n",
       "      <td>15.3</td>\n",
       "      <td>396.90</td>\n",
       "      <td>4.98</td>\n",
       "      <td>24.0</td>\n",
       "    </tr>\n",
       "    <tr>\n",
       "      <th>1</th>\n",
       "      <td>0.02731</td>\n",
       "      <td>0.0</td>\n",
       "      <td>7.07</td>\n",
       "      <td>0.0</td>\n",
       "      <td>0.469</td>\n",
       "      <td>6.421</td>\n",
       "      <td>78.9</td>\n",
       "      <td>4.9671</td>\n",
       "      <td>2.0</td>\n",
       "      <td>242.0</td>\n",
       "      <td>17.8</td>\n",
       "      <td>396.90</td>\n",
       "      <td>9.14</td>\n",
       "      <td>21.6</td>\n",
       "    </tr>\n",
       "    <tr>\n",
       "      <th>2</th>\n",
       "      <td>0.02729</td>\n",
       "      <td>0.0</td>\n",
       "      <td>7.07</td>\n",
       "      <td>0.0</td>\n",
       "      <td>0.469</td>\n",
       "      <td>7.185</td>\n",
       "      <td>61.1</td>\n",
       "      <td>4.9671</td>\n",
       "      <td>2.0</td>\n",
       "      <td>242.0</td>\n",
       "      <td>17.8</td>\n",
       "      <td>392.83</td>\n",
       "      <td>4.03</td>\n",
       "      <td>34.7</td>\n",
       "    </tr>\n",
       "    <tr>\n",
       "      <th>3</th>\n",
       "      <td>0.03237</td>\n",
       "      <td>0.0</td>\n",
       "      <td>2.18</td>\n",
       "      <td>0.0</td>\n",
       "      <td>0.458</td>\n",
       "      <td>6.998</td>\n",
       "      <td>45.8</td>\n",
       "      <td>6.0622</td>\n",
       "      <td>3.0</td>\n",
       "      <td>222.0</td>\n",
       "      <td>18.7</td>\n",
       "      <td>394.63</td>\n",
       "      <td>2.94</td>\n",
       "      <td>33.4</td>\n",
       "    </tr>\n",
       "    <tr>\n",
       "      <th>4</th>\n",
       "      <td>0.06905</td>\n",
       "      <td>0.0</td>\n",
       "      <td>2.18</td>\n",
       "      <td>0.0</td>\n",
       "      <td>0.458</td>\n",
       "      <td>7.147</td>\n",
       "      <td>54.2</td>\n",
       "      <td>6.0622</td>\n",
       "      <td>3.0</td>\n",
       "      <td>222.0</td>\n",
       "      <td>18.7</td>\n",
       "      <td>396.90</td>\n",
       "      <td>5.33</td>\n",
       "      <td>36.2</td>\n",
       "    </tr>\n",
       "    <tr>\n",
       "      <th>...</th>\n",
       "      <td>...</td>\n",
       "      <td>...</td>\n",
       "      <td>...</td>\n",
       "      <td>...</td>\n",
       "      <td>...</td>\n",
       "      <td>...</td>\n",
       "      <td>...</td>\n",
       "      <td>...</td>\n",
       "      <td>...</td>\n",
       "      <td>...</td>\n",
       "      <td>...</td>\n",
       "      <td>...</td>\n",
       "      <td>...</td>\n",
       "      <td>...</td>\n",
       "    </tr>\n",
       "    <tr>\n",
       "      <th>501</th>\n",
       "      <td>0.06263</td>\n",
       "      <td>0.0</td>\n",
       "      <td>11.93</td>\n",
       "      <td>0.0</td>\n",
       "      <td>0.573</td>\n",
       "      <td>6.593</td>\n",
       "      <td>69.1</td>\n",
       "      <td>2.4786</td>\n",
       "      <td>1.0</td>\n",
       "      <td>273.0</td>\n",
       "      <td>21.0</td>\n",
       "      <td>391.99</td>\n",
       "      <td>9.67</td>\n",
       "      <td>22.4</td>\n",
       "    </tr>\n",
       "    <tr>\n",
       "      <th>502</th>\n",
       "      <td>0.04527</td>\n",
       "      <td>0.0</td>\n",
       "      <td>11.93</td>\n",
       "      <td>0.0</td>\n",
       "      <td>0.573</td>\n",
       "      <td>6.120</td>\n",
       "      <td>76.7</td>\n",
       "      <td>2.2875</td>\n",
       "      <td>1.0</td>\n",
       "      <td>273.0</td>\n",
       "      <td>21.0</td>\n",
       "      <td>396.90</td>\n",
       "      <td>9.08</td>\n",
       "      <td>20.6</td>\n",
       "    </tr>\n",
       "    <tr>\n",
       "      <th>503</th>\n",
       "      <td>0.06076</td>\n",
       "      <td>0.0</td>\n",
       "      <td>11.93</td>\n",
       "      <td>0.0</td>\n",
       "      <td>0.573</td>\n",
       "      <td>6.976</td>\n",
       "      <td>91.0</td>\n",
       "      <td>2.1675</td>\n",
       "      <td>1.0</td>\n",
       "      <td>273.0</td>\n",
       "      <td>21.0</td>\n",
       "      <td>396.90</td>\n",
       "      <td>5.64</td>\n",
       "      <td>23.9</td>\n",
       "    </tr>\n",
       "    <tr>\n",
       "      <th>504</th>\n",
       "      <td>0.10959</td>\n",
       "      <td>0.0</td>\n",
       "      <td>11.93</td>\n",
       "      <td>0.0</td>\n",
       "      <td>0.573</td>\n",
       "      <td>6.794</td>\n",
       "      <td>89.3</td>\n",
       "      <td>2.3889</td>\n",
       "      <td>1.0</td>\n",
       "      <td>273.0</td>\n",
       "      <td>21.0</td>\n",
       "      <td>393.45</td>\n",
       "      <td>6.48</td>\n",
       "      <td>22.0</td>\n",
       "    </tr>\n",
       "    <tr>\n",
       "      <th>505</th>\n",
       "      <td>0.04741</td>\n",
       "      <td>0.0</td>\n",
       "      <td>11.93</td>\n",
       "      <td>0.0</td>\n",
       "      <td>0.573</td>\n",
       "      <td>6.030</td>\n",
       "      <td>80.8</td>\n",
       "      <td>2.5050</td>\n",
       "      <td>1.0</td>\n",
       "      <td>273.0</td>\n",
       "      <td>21.0</td>\n",
       "      <td>396.90</td>\n",
       "      <td>7.88</td>\n",
       "      <td>11.9</td>\n",
       "    </tr>\n",
       "  </tbody>\n",
       "</table>\n",
       "<p>506 rows × 14 columns</p>\n",
       "</div>"
      ],
      "text/plain": [
       "        CRIM    ZN  INDUS  CHAS    NOX     RM   AGE     DIS  RAD    TAX  \\\n",
       "0    0.00632  18.0   2.31   0.0  0.538  6.575  65.2  4.0900  1.0  296.0   \n",
       "1    0.02731   0.0   7.07   0.0  0.469  6.421  78.9  4.9671  2.0  242.0   \n",
       "2    0.02729   0.0   7.07   0.0  0.469  7.185  61.1  4.9671  2.0  242.0   \n",
       "3    0.03237   0.0   2.18   0.0  0.458  6.998  45.8  6.0622  3.0  222.0   \n",
       "4    0.06905   0.0   2.18   0.0  0.458  7.147  54.2  6.0622  3.0  222.0   \n",
       "..       ...   ...    ...   ...    ...    ...   ...     ...  ...    ...   \n",
       "501  0.06263   0.0  11.93   0.0  0.573  6.593  69.1  2.4786  1.0  273.0   \n",
       "502  0.04527   0.0  11.93   0.0  0.573  6.120  76.7  2.2875  1.0  273.0   \n",
       "503  0.06076   0.0  11.93   0.0  0.573  6.976  91.0  2.1675  1.0  273.0   \n",
       "504  0.10959   0.0  11.93   0.0  0.573  6.794  89.3  2.3889  1.0  273.0   \n",
       "505  0.04741   0.0  11.93   0.0  0.573  6.030  80.8  2.5050  1.0  273.0   \n",
       "\n",
       "     PTRATIO       B  LSTAT  target  \n",
       "0       15.3  396.90   4.98    24.0  \n",
       "1       17.8  396.90   9.14    21.6  \n",
       "2       17.8  392.83   4.03    34.7  \n",
       "3       18.7  394.63   2.94    33.4  \n",
       "4       18.7  396.90   5.33    36.2  \n",
       "..       ...     ...    ...     ...  \n",
       "501     21.0  391.99   9.67    22.4  \n",
       "502     21.0  396.90   9.08    20.6  \n",
       "503     21.0  396.90   5.64    23.9  \n",
       "504     21.0  393.45   6.48    22.0  \n",
       "505     21.0  396.90   7.88    11.9  \n",
       "\n",
       "[506 rows x 14 columns]"
      ]
     },
     "execution_count": 51,
     "metadata": {},
     "output_type": "execute_result"
    }
   ],
   "source": [
    "boston = load_boston()\n",
    "\n",
    "data = pd.DataFrame(boston[\"data\"], columns=boston[\"feature_names\"])\n",
    "target = pd.DataFrame(boston[\"target\"], columns=[\"target\"])\n",
    "\n",
    "df = pd.concat([data, target], axis=1)\n",
    "df"
   ]
  },
  {
   "cell_type": "code",
   "execution_count": 52,
   "id": "47c1093b",
   "metadata": {},
   "outputs": [],
   "source": [
    "X_train, X_test, y_train, y_test = train_test_split(boston.data, boston.target, test_size=0.2)"
   ]
  },
  {
   "cell_type": "code",
   "execution_count": 53,
   "id": "7854deb7",
   "metadata": {},
   "outputs": [
    {
     "data": {
      "text/plain": [
       "array([[2.00900e-02, 9.50000e+01, 2.68000e+00, ..., 1.47000e+01,\n",
       "        3.90550e+02, 2.88000e+00],\n",
       "       [7.50260e-01, 0.00000e+00, 8.14000e+00, ..., 2.10000e+01,\n",
       "        3.94330e+02, 1.63000e+01],\n",
       "       [6.28807e+00, 0.00000e+00, 1.81000e+01, ..., 2.02000e+01,\n",
       "        3.18010e+02, 1.77900e+01],\n",
       "       ...,\n",
       "       [3.73800e-02, 0.00000e+00, 5.19000e+00, ..., 2.02000e+01,\n",
       "        3.89400e+02, 6.75000e+00],\n",
       "       [9.96654e+00, 0.00000e+00, 1.81000e+01, ..., 2.02000e+01,\n",
       "        3.86730e+02, 1.88500e+01],\n",
       "       [6.26300e-02, 0.00000e+00, 1.19300e+01, ..., 2.10000e+01,\n",
       "        3.91990e+02, 9.67000e+00]])"
      ]
     },
     "execution_count": 53,
     "metadata": {},
     "output_type": "execute_result"
    }
   ],
   "source": [
    "X_train"
   ]
  },
  {
   "cell_type": "markdown",
   "id": "1bad2bb8",
   "metadata": {},
   "source": [
    "### 회귀이기 때문에 정답에 대해서 평가하는 방법이 RMSE\n",
    "- k값의 변화에 따라 어떤 식으로 값이 달라지는지 확인해 보자!"
   ]
  },
  {
   "cell_type": "code",
   "execution_count": 54,
   "id": "7e603a0d",
   "metadata": {},
   "outputs": [
    {
     "name": "stdout",
     "output_type": "stream",
     "text": [
      "RMSE value k 1 = 8.627634579151607\n",
      "RMSE value k 2 = 8.169950320246391\n",
      "RMSE value k 3 = 8.00817732941982\n",
      "RMSE value k 4 = 7.959997644472013\n",
      "RMSE value k 5 = 8.226191075330254\n",
      "RMSE value k 6 = 8.304104623303541\n",
      "RMSE value k 7 = 8.55597825532313\n",
      "RMSE value k 8 = 8.576741055456491\n",
      "RMSE value k 9 = 8.61865549052138\n",
      "RMSE value k 10 = 8.668654994390117\n",
      "RMSE value k 11 = 8.736804203529564\n",
      "RMSE value k 12 = 8.442672928108962\n",
      "RMSE value k 13 = 8.342591527298021\n",
      "RMSE value k 14 = 8.180129755029785\n",
      "RMSE value k 15 = 8.30500382017727\n",
      "RMSE value k 16 = 8.372335849852213\n",
      "RMSE value k 17 = 8.352125632328212\n",
      "RMSE value k 18 = 8.354460491648263\n",
      "RMSE value k 19 = 8.351824121803205\n",
      "RMSE value k 20 = 8.368602780631901\n"
     ]
    }
   ],
   "source": [
    "rmse_val = []\n",
    "for K in range(20):\n",
    "    K = K+1\n",
    "    model = KNeighborsRegressor(n_neighbors=K)\n",
    "    model.fit(X_train, y_train)\n",
    "    pred = model.predict(X_test)\n",
    "    error = sqrt(mean_squared_error(y_test, pred))\n",
    "    rmse_val.append(error)\n",
    "    print(\"RMSE value k\", K, \"=\", error)"
   ]
  },
  {
   "cell_type": "code",
   "execution_count": 55,
   "id": "fbf3cfe4",
   "metadata": {},
   "outputs": [
    {
     "name": "stdout",
     "output_type": "stream",
     "text": [
      "RMSE value k 1 = 8.627634579151607\n",
      "RMSE value k 2 = 8.166333993560812\n",
      "RMSE value k 3 = 8.028767566606533\n",
      "RMSE value k 4 = 7.949253130121881\n",
      "RMSE value k 5 = 8.114734398327467\n",
      "RMSE value k 6 = 8.116574755021013\n",
      "RMSE value k 7 = 8.320669219775985\n",
      "RMSE value k 8 = 8.338315672700977\n",
      "RMSE value k 9 = 8.368760408069937\n",
      "RMSE value k 10 = 8.402172261393302\n",
      "RMSE value k 11 = 8.447092216022686\n",
      "RMSE value k 12 = 8.237257099359168\n",
      "RMSE value k 13 = 8.19309525304304\n",
      "RMSE value k 14 = 8.081594703118897\n",
      "RMSE value k 15 = 8.164722493876576\n",
      "RMSE value k 16 = 8.204041492063862\n",
      "RMSE value k 17 = 8.195321818780197\n",
      "RMSE value k 18 = 8.199746894872725\n",
      "RMSE value k 19 = 8.194196355163827\n",
      "RMSE value k 20 = 8.203950000848371\n",
      "최솟값 rmse 7.949253130121881\n"
     ]
    }
   ],
   "source": [
    "rmse_val = []\n",
    "for K in range(20):\n",
    "    K = K+1\n",
    "    model = KNeighborsRegressor(n_neighbors=K, weights=\"distance\")\n",
    "    model.fit(X_train, y_train)\n",
    "    pred = model.predict(X_test)\n",
    "    error = sqrt(mean_squared_error(y_test, pred))\n",
    "    rmse_val.append(error)\n",
    "    print(\"RMSE value k\", K, \"=\", error)\n",
    "print(\"최솟값 rmse\", min(rmse_val))"
   ]
  },
  {
   "cell_type": "code",
   "execution_count": 56,
   "id": "b1812dbb",
   "metadata": {
    "scrolled": true
   },
   "outputs": [
    {
     "data": {
      "text/plain": [
       "<AxesSubplot:>"
      ]
     },
     "execution_count": 56,
     "metadata": {},
     "output_type": "execute_result"
    },
    {
     "data": {
      "image/png": "[encoded data removed]",
      "text/plain": [
       "<Figure size 432x288 with 1 Axes>"
      ]
     },
     "metadata": {
      "needs_background": "light"
     },
     "output_type": "display_data"
    }
   ],
   "source": [
    "curve = pd.DataFrame(rmse_val)\n",
    "curve.plot()"
   ]
  },
  {
   "cell_type": "markdown",
   "id": "359c810f",
   "metadata": {},
   "source": [
    "### 거리기반의 차이를 시각화로 확인해보자!"
   ]
  },
  {
   "cell_type": "code",
   "execution_count": 57,
   "id": "53b4c613",
   "metadata": {},
   "outputs": [],
   "source": [
    "import numpy as np\n",
    "import matplotlib.pyplot as plt\n",
    "from sklearn import neighbors\n",
    "\n",
    "np.random.seed(0)\n",
    "X = np.sort(5 * np.random.rand(40, 1), axis=0)\n",
    "T = np.linspace(0, 5, 500)[:, np.newaxis]\n",
    "y = np.sin(X).ravel()\n",
    "\n",
    "# Add noise to targets\n",
    "y[::5] += 1 * (0.5 - np.random.rand(8))"
   ]
  },
  {
   "cell_type": "code",
   "execution_count": 58,
   "id": "36765bb7",
   "metadata": {},
   "outputs": [
    {
     "data": {
      "image/png": "[encoded data removed]",
      "text/plain": [
       "<Figure size 432x288 with 2 Axes>"
      ]
     },
     "metadata": {
      "needs_background": "light"
     },
     "output_type": "display_data"
    }
   ],
   "source": [
    "n_neighbors = 5\n",
    "\n",
    "for i, weights in enumerate([\"uniform\", \"distance\"]):\n",
    "    knn = neighbors.KNeighborsRegressor(n_neighbors, weights=weights)\n",
    "    y_ = knn.fit(X, y).predict(T)\n",
    "\n",
    "    plt.subplot(2, 1, i + 1)\n",
    "    plt.scatter(X, y, color=\"darkorange\", label=\"data\")\n",
    "    plt.plot(T, y_, color=\"navy\", label=\"prediction\")\n",
    "    plt.axis(\"tight\")\n",
    "    plt.legend()\n",
    "    plt.title(\"KNeighborsRegressor (k = %i, weights = '%s')\" % (n_neighbors, weights))\n",
    "\n",
    "plt.tight_layout()\n",
    "plt.show()"
   ]
  },
  {
   "cell_type": "code",
   "execution_count": 59,
   "id": "8d417279",
   "metadata": {},
   "outputs": [
    {
     "name": "stdout",
     "output_type": "stream",
     "text": [
      "RMSE value k 1 = 8.487372396453358\n",
      "RMSE value k 2 = 7.338921227359025\n",
      "RMSE value k 3 = 7.305424295373708\n",
      "RMSE value k 4 = 7.1505073620028385\n",
      "RMSE value k 5 = 7.260017996062522\n",
      "RMSE value k 6 = 7.345289855305774\n",
      "RMSE value k 7 = 7.22923625107395\n",
      "RMSE value k 8 = 7.389635807465889\n",
      "RMSE value k 9 = 7.540195921582799\n",
      "RMSE value k 10 = 7.5769986457689695\n",
      "RMSE value k 11 = 7.643875400041863\n",
      "RMSE value k 12 = 7.650332759756515\n",
      "RMSE value k 13 = 7.7435729419105614\n",
      "RMSE value k 14 = 7.687575256034083\n",
      "RMSE value k 15 = 7.739394434118203\n",
      "RMSE value k 16 = 7.777063841844893\n",
      "RMSE value k 17 = 7.770140264520188\n",
      "RMSE value k 18 = 7.824215282910025\n",
      "RMSE value k 19 = 7.837100942461452\n",
      "RMSE value k 20 = 7.828063395377962\n",
      "최솟값 rmse 7.1505073620028385\n"
     ]
    }
   ],
   "source": [
    "# 민코프스키 거리\n",
    "rmse_val = []\n",
    "for K in range(20):\n",
    "    K = K+1\n",
    "    model = KNeighborsRegressor(n_neighbors=K, weights=\"distance\", p=1)\n",
    "    model.fit(X_train, y_train)\n",
    "    pred = model.predict(X_test)\n",
    "    error = sqrt(mean_squared_error(y_test, pred))\n",
    "    rmse_val.append(error)\n",
    "    print(\"RMSE value k\", K, \"=\", error)\n",
    "print(\"최솟값 rmse\", min(rmse_val))"
   ]
  },
  {
   "cell_type": "code",
   "execution_count": 60,
   "id": "b2255723",
   "metadata": {},
   "outputs": [
    {
     "name": "stdout",
     "output_type": "stream",
     "text": [
      "RMSE value k 1 = 8.627634579151607\n",
      "RMSE value k 2 = 8.166333993560812\n",
      "RMSE value k 3 = 8.028767566606533\n",
      "RMSE value k 4 = 7.949253130121881\n",
      "RMSE value k 5 = 8.114734398327467\n",
      "RMSE value k 6 = 8.116574755021013\n",
      "RMSE value k 7 = 8.320669219775985\n",
      "RMSE value k 8 = 8.338315672700977\n",
      "RMSE value k 9 = 8.368760408069937\n",
      "RMSE value k 10 = 8.402172261393302\n",
      "RMSE value k 11 = 8.447092216022686\n",
      "RMSE value k 12 = 8.237257099359168\n",
      "RMSE value k 13 = 8.19309525304304\n",
      "RMSE value k 14 = 8.081594703118897\n",
      "RMSE value k 15 = 8.164722493876576\n",
      "RMSE value k 16 = 8.204041492063862\n",
      "RMSE value k 17 = 8.195321818780197\n",
      "RMSE value k 18 = 8.199746894872725\n",
      "RMSE value k 19 = 8.194196355163827\n",
      "RMSE value k 20 = 8.203950000848371\n",
      "최솟값 rmse 7.949253130121881\n"
     ]
    }
   ],
   "source": [
    "# 유클리디안 거리\n",
    "rmse_val = []\n",
    "for K in range(20):\n",
    "    K = K+1\n",
    "    model = KNeighborsRegressor(n_neighbors=K, weights=\"distance\", p=2)\n",
    "    model.fit(X_train, y_train)\n",
    "    pred = model.predict(X_test)\n",
    "    error = sqrt(mean_squared_error(y_test, pred))\n",
    "    rmse_val.append(error)\n",
    "    print(\"RMSE value k\", K, \"=\", error)\n",
    "print(\"최솟값 rmse\", min(rmse_val))"
   ]
  },
  {
   "cell_type": "code",
   "execution_count": 61,
   "id": "458b3a18",
   "metadata": {},
   "outputs": [
    {
     "name": "stdout",
     "output_type": "stream",
     "text": [
      "RMSE value k 1 = 8.902296465122983\n",
      "RMSE value k 2 = 8.208431259166355\n",
      "RMSE value k 3 = 8.220112344758808\n",
      "RMSE value k 4 = 8.288269845684312\n",
      "RMSE value k 5 = 8.402661183046016\n",
      "RMSE value k 6 = 8.501645061527405\n",
      "RMSE value k 7 = 8.350254685048096\n",
      "RMSE value k 8 = 8.408344550347815\n",
      "RMSE value k 9 = 8.448723415134573\n",
      "RMSE value k 10 = 8.478217829713593\n",
      "RMSE value k 11 = 8.39340382285723\n",
      "RMSE value k 12 = 8.355144542540868\n",
      "RMSE value k 13 = 8.39998938455885\n",
      "RMSE value k 14 = 8.404153210340404\n",
      "RMSE value k 15 = 8.406801341107766\n",
      "RMSE value k 16 = 8.38781982069027\n",
      "RMSE value k 17 = 8.40309699666376\n",
      "RMSE value k 18 = 8.33086752101871\n",
      "RMSE value k 19 = 8.301064078849926\n",
      "RMSE value k 20 = 8.32175828596284\n",
      "최솟값 rmse 8.208431259166355\n"
     ]
    }
   ],
   "source": [
    "# 체비셰프 거리\n",
    "rmse_val = []\n",
    "for K in range(20):\n",
    "    K = K+1\n",
    "    model = KNeighborsRegressor(n_neighbors=K, weights=\"distance\", p=3)\n",
    "    model.fit(X_train, y_train)\n",
    "    pred = model.predict(X_test)\n",
    "    error = sqrt(mean_squared_error(y_test, pred))\n",
    "    rmse_val.append(error)\n",
    "    print(\"RMSE value k\", K, \"=\", error)\n",
    "print(\"최솟값 rmse\", min(rmse_val))"
   ]
  },
  {
   "cell_type": "markdown",
   "id": "bbe263c4",
   "metadata": {},
   "source": [
    "### RadiusNeighborsRegressor(radius=K)\n",
    "- 고정된 반지름의 길이를 지정하여 그 기반으로 근접이웃을 설정하여 값을 계산한다."
   ]
  },
  {
   "cell_type": "markdown",
   "id": "6710f399",
   "metadata": {},
   "source": [
    "### 필수과제\n",
    "- 영화데이터의 평점을 예측하는 KNN 회귀 모델링 진행하기\n"
   ]
  }
 ],
 "metadata": {
  "kernelspec": {
   "display_name": "Python 3 (ipykernel)",
   "language": "python",
   "name": "python3"
  },
  "language_info": {
   "codemirror_mode": {
    "name": "ipython",
    "version": 3
   },
   "file_extension": ".py",
   "mimetype": "text/x-python",
   "name": "python",
   "nbconvert_exporter": "python",
   "pygments_lexer": "ipython3",
   "version": "3.9.12"
  }
 },
 "nbformat": 4,
 "nbformat_minor": 5
}
