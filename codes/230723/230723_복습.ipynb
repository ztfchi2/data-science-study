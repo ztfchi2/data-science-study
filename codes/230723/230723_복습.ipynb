{
 "cells": [
  {
   "cell_type": "markdown",
   "id": "723c7943",
   "metadata": {},
   "source": [
    "### 분류\n",
    "- 분류 -> 명시적인 답이 있는, 레이블이 있는 머신러닝 학습 방식으로 지도학습의 대표적인 것\n",
    "- 이진분류, 다중분류 등 여러가지 분류가 진행된다.\n",
    "- 가장 기본적인 의사결정 나무 원리를 정확히 이해하자.\n",
    "- 분류 알고리즘 -> 앙상블\n",
    "- 앙상블 : 서로 같거나 다른 알고리즘을 결합하는 형태\n",
    "- 배깅 / 부스팅 방식으로 나뉜다."
   ]
  },
  {
   "cell_type": "markdown",
   "id": "4ae04d1a",
   "metadata": {},
   "source": [
    "### 결정트리\n",
    "- 가지치기 형태로 나무 형태기 때문에 \"의사결정 나무\"\n",
    "- 분류하기 위해서 나무 형태로 나누게 된다.\n",
    "- 너무나 쉽고 이해하기 좋다.\n",
    "- 스케일링, 정규화 영향이 적다.\n",
    "\n",
    "\n",
    "- 단점 -> 트리가 깊을수록 과적합이 될 확률이 높음\n",
    "- 잘 사용하지는 않는다. 단순한 분할로 인해서 예측 정확도도 높지 않고\n",
    "- 간단한 시각화 정도로 해당 데이터에 대한 인사이트는 볼 수 있다.\n",
    "\n",
    "\n",
    "- 분할 -> if/else 나누는 개념\n",
    "- 시작점인 뿌리(root node)에서 -> 규칙 노드들과 마지막 리프 노드(leaf node)\n",
    "- 과적합 문제이기 때문에 가능한 가장 적은 분할 결정 노드로 예측 정확도를 높여야 하는데...\n",
    "- 가지치기, 즉 분류에 대한 규칙이 필요하다.\n",
    "- 어떤 식으로 데이터를 나눠서 분류할 것인가?"
   ]
  },
  {
   "cell_type": "markdown",
   "id": "35c2dffe",
   "metadata": {},
   "source": [
    "### 데이터를 어떤 식으로 분리해야 하는가?\n",
    "- 분리에 대해 어떤 기준?\n",
    "- 동질성과 이질성\n",
    "- 데이터가 균일한 것들로 나눠지는 것"
   ]
  },
  {
   "cell_type": "markdown",
   "id": "59ae1ab2",
   "metadata": {},
   "source": [
    "### 균일한 것이 무엇인가?\n",
    "- ex) 주머니 3개가 있다.\n",
    "- A 주머니 : 빨간공 3 / 노란공 2\n",
    "- B 주머니 : 빨간공 4 / 노란공 1\n",
    "- C 주머니 : 빨간공 5 / 노란공 0\n",
    "- 어떤 게 균일한 것일까?\n",
    "- 가장 균일한 것은 C 주머니다.\n",
    "- 주머니 안에 들어간 \"내용물\"이 동일하다.\n",
    "---\n",
    "- 결국에는 데이터를 나눈다는 것이 균일도가 높은 데이터 세트를 먼저 선택해서 점점 나눠지는 것이다.\n",
    "- 정보의 균일도 : 데이터 세트로 쪼개지면서 가지치면서 또 균일도에 따라 서브 데이터를 만들고 내려가면서 가지치기 형태로 반복을 하는 것이 DT\n",
    "---\n",
    "- 정보의 균일도 측정하는 기준?\n",
    "- 엔트로피 지수\n",
    "- 지니 지수\n",
    "- 정보 이득을 위해서 측정을 하는 것 IG (Information Gain) : 정보를 얼마나 얻을 수 있는가?\n",
    "- 결국 정보 이득에 대해서 엔트로피와 지니 지수 중 어떤 것으로 선택하는 것!"
   ]
  },
  {
   "cell_type": "markdown",
   "id": "9b1045cc",
   "metadata": {},
   "source": [
    "### 엔트로피 지수는 무엇인가?\n",
    "- 정보 이득의 개념\n",
    "- 데이터의 혼잡도를 나타낸다.\n",
    "- 서로 다른 값이 섞여있으면 엔트로피 값이 높고, 같은 값이 섞여 있으면 엔트로피 값이 낮다.\n",
    "- 무질서, 혼잡도\n",
    "- 무질서한 정도를 나타내는 지표\n",
    "- 사전 엔트로피 - 사후 엔트로피 (불확실성이 얼마나 줄어들었는가?)\n",
    "- 이 값이 크면 불확실성이 많이 감소했다.\n",
    "- IGR (Information Gain Ratio)"
   ]
  },
  {
   "cell_type": "code",
   "execution_count": 1,
   "id": "f799f197",
   "metadata": {},
   "outputs": [],
   "source": [
    "import numpy as np\n",
    "import pandas as pd\n",
    "import matplotlib.pyplot as plt\n",
    "import seaborn as sns"
   ]
  },
  {
   "cell_type": "code",
   "execution_count": 2,
   "id": "f0ca6f9a",
   "metadata": {},
   "outputs": [],
   "source": [
    "def entropy(x):\n",
    "    return (-x * np.log2(x)).sum()"
   ]
  },
  {
   "cell_type": "markdown",
   "id": "17ad7901",
   "metadata": {},
   "source": [
    "- entropy 예시\n",
    "- 출석률을 생각해 보자\n",
    "- 데이터분석 중급반 (상) 10번 출석\n",
    "- 1 출석\n",
    "- 2 출석\n",
    "- 3 출석\n",
    "- 4 출석\n",
    "- 5 출석\n",
    "- 6 출석\n",
    "- 7 불참\n",
    "- 8 불참\n",
    "- 9 불참\n",
    "- 10 출석"
   ]
  },
  {
   "cell_type": "markdown",
   "id": "11bb4257",
   "metadata": {},
   "source": [
    "- 엔트로피를 계산해 보자!\n",
    "- 엔트로피 계산을 위해서는 1차적으로 (출석, 불참) 발생한 비율을 계산해야 한다.\n",
    "- 출석 p(7/10) + 불참 p(3/10)"
   ]
  },
  {
   "cell_type": "code",
   "execution_count": 3,
   "id": "51d71819",
   "metadata": {},
   "outputs": [
    {
     "name": "stdout",
     "output_type": "stream",
     "text": [
      "0.7 출석\n",
      "0.3 불참\n"
     ]
    }
   ],
   "source": [
    "print(0.7, \"출석\")\n",
    "print(0.3, \"불참\")"
   ]
  },
  {
   "cell_type": "code",
   "execution_count": 4,
   "id": "9c15b70b",
   "metadata": {},
   "outputs": [
    {
     "name": "stdout",
     "output_type": "stream",
     "text": [
      "0.3602012209808308 0.5210896782498619\n"
     ]
    }
   ],
   "source": [
    "df_t = entropy(0.7)\n",
    "df_f = entropy(0.3)\n",
    "print(df_t, df_f)"
   ]
  },
  {
   "cell_type": "code",
   "execution_count": 5,
   "id": "9b445bf9",
   "metadata": {},
   "outputs": [
    {
     "data": {
      "text/plain": [
       "0.8812908992306927"
      ]
     },
     "execution_count": 5,
     "metadata": {},
     "output_type": "execute_result"
    }
   ],
   "source": [
    "df_t + df_f"
   ]
  },
  {
   "cell_type": "code",
   "execution_count": 6,
   "id": "3a5d2cd6",
   "metadata": {},
   "outputs": [
    {
     "name": "stdout",
     "output_type": "stream",
     "text": [
      "0.9 출석\n",
      "0.1 불참\n"
     ]
    }
   ],
   "source": [
    "print(0.9, \"출석\")\n",
    "print(0.1, \"불참\")"
   ]
  },
  {
   "cell_type": "code",
   "execution_count": 7,
   "id": "cda2cb1e",
   "metadata": {},
   "outputs": [
    {
     "name": "stdout",
     "output_type": "stream",
     "text": [
      "0.13680278410054494 0.33219280948873625\n"
     ]
    }
   ],
   "source": [
    "df_t = entropy(0.9)\n",
    "df_f = entropy(0.1)\n",
    "print(df_t, df_f)"
   ]
  },
  {
   "cell_type": "code",
   "execution_count": 8,
   "id": "7b72e52c",
   "metadata": {},
   "outputs": [
    {
     "data": {
      "text/plain": [
       "0.4689955935892812"
      ]
     },
     "execution_count": 8,
     "metadata": {},
     "output_type": "execute_result"
    }
   ],
   "source": [
    "df_t + df_f"
   ]
  },
  {
   "cell_type": "code",
   "execution_count": 9,
   "id": "2cff2abe",
   "metadata": {},
   "outputs": [],
   "source": [
    "# 샘플데이터를 생성합니다.\n",
    "group_1 = np.array([0.3, 0.4, 0.3])\n",
    "group_2 = np.array([0.7, 0.2, 0.1])\n",
    "group_3 = np.array([0.01, 0.01, 0.98])"
   ]
  },
  {
   "cell_type": "code",
   "execution_count": 10,
   "id": "f7745133",
   "metadata": {},
   "outputs": [
    {
     "data": {
      "image/png": "[encoded data removed]",
      "text/plain": [
       "<Figure size 864x288 with 3 Axes>"
      ]
     },
     "metadata": {
      "needs_background": "light"
     },
     "output_type": "display_data"
    }
   ],
   "source": [
    "fig, axes = plt.subplots(1, 3)\n",
    "fig.set_size_inches(12, 4)\n",
    "axes[0].bar(np.arange(3), group_1, color=\"blue\")\n",
    "axes[0].set_title(\"Group 1\")\n",
    "axes[1].bar(np.arange(3), group_2, color=\"red\")\n",
    "axes[1].set_title(\"Group 2\")\n",
    "axes[2].bar(np.arange(3), group_3, color=\"green\")\n",
    "axes[2].set_title(\"Group 3\")\n",
    "plt.show()"
   ]
  },
  {
   "cell_type": "code",
   "execution_count": 11,
   "id": "a3cabab1",
   "metadata": {},
   "outputs": [
    {
     "name": "stdout",
     "output_type": "stream",
     "text": [
      "Group 1: 1.571\n",
      "Group 2: 1.157\n",
      "Group_3: 0.161\n"
     ]
    }
   ],
   "source": [
    "entropy_1 = entropy(group_1)\n",
    "entropy_2 = entropy(group_2)\n",
    "entropy_3 = entropy(group_3)\n",
    "\n",
    "print(f\"Group 1: {entropy_1:.3f}\\nGroup 2: {entropy_2:.3f}\\nGroup_3: {entropy_3:.3f}\")"
   ]
  },
  {
   "cell_type": "code",
   "execution_count": 12,
   "id": "d17c4b72",
   "metadata": {},
   "outputs": [
    {
     "data": {
      "image/png": "[encoded data removed]",
      "text/plain": [
       "<Figure size 360x360 with 1 Axes>"
      ]
     },
     "metadata": {
      "needs_background": "light"
     },
     "output_type": "display_data"
    }
   ],
   "source": [
    "plt.figure(figsize=(5, 5))\n",
    "plt.bar([\"Group 1\", \"Group 2\", \"Group 3\"], [entropy_1, entropy_2, entropy_3])\n",
    "plt.title(\"Entropy\", fontsize=15)\n",
    "plt.show()"
   ]
  },
  {
   "cell_type": "markdown",
   "id": "3ad74fa9",
   "metadata": {},
   "source": [
    "### 지니 계수\n",
    "- 불평등 지수\n",
    "- 0이 가장 평등, 1로 갈수록 불평등\n",
    "- 지니 계수가 낮을수록 균일도가 높다는 것으로 해석, 지니 계수가 낮은 속성으로 기준 분할\n",
    "- 코라도 지니가 만든 지니 계수\n",
    "- 소득 분배 완전히 평등하면 기울기가 1인 대각선이 된다.\n",
    "- 지니 계수가 궁금하신 분은 키워드 검색하시면 됩니다. "
   ]
  },
  {
   "cell_type": "code",
   "execution_count": 13,
   "id": "f355df9d",
   "metadata": {},
   "outputs": [],
   "source": [
    "def gini(x):\n",
    "    return 1 - ((x/x.sum())**2).sum()"
   ]
  },
  {
   "cell_type": "markdown",
   "id": "e8d167d8",
   "metadata": {},
   "source": [
    "- 지니 계수 예시로 만들어 보기"
   ]
  },
  {
   "cell_type": "code",
   "execution_count": 14,
   "id": "6e9b53fd",
   "metadata": {},
   "outputs": [],
   "source": [
    "df_gn = pd.DataFrame({\"중급반\":[0,1,2,3,4], \"기초반\":[10,9,8,7,6]})"
   ]
  },
  {
   "cell_type": "code",
   "execution_count": 15,
   "id": "bc2b78ea",
   "metadata": {},
   "outputs": [
    {
     "data": {
      "text/html": [
       "<div>\n",
       "<style scoped>\n",
       "    .dataframe tbody tr th:only-of-type {\n",
       "        vertical-align: middle;\n",
       "    }\n",
       "\n",
       "    .dataframe tbody tr th {\n",
       "        vertical-align: top;\n",
       "    }\n",
       "\n",
       "    .dataframe thead th {\n",
       "        text-align: right;\n",
       "    }\n",
       "</style>\n",
       "<table border=\"1\" class=\"dataframe\">\n",
       "  <thead>\n",
       "    <tr style=\"text-align: right;\">\n",
       "      <th></th>\n",
       "      <th>중급반</th>\n",
       "      <th>기초반</th>\n",
       "    </tr>\n",
       "  </thead>\n",
       "  <tbody>\n",
       "    <tr>\n",
       "      <th>0</th>\n",
       "      <td>0</td>\n",
       "      <td>10</td>\n",
       "    </tr>\n",
       "    <tr>\n",
       "      <th>1</th>\n",
       "      <td>1</td>\n",
       "      <td>9</td>\n",
       "    </tr>\n",
       "    <tr>\n",
       "      <th>2</th>\n",
       "      <td>2</td>\n",
       "      <td>8</td>\n",
       "    </tr>\n",
       "    <tr>\n",
       "      <th>3</th>\n",
       "      <td>3</td>\n",
       "      <td>7</td>\n",
       "    </tr>\n",
       "    <tr>\n",
       "      <th>4</th>\n",
       "      <td>4</td>\n",
       "      <td>6</td>\n",
       "    </tr>\n",
       "  </tbody>\n",
       "</table>\n",
       "</div>"
      ],
      "text/plain": [
       "   중급반  기초반\n",
       "0    0   10\n",
       "1    1    9\n",
       "2    2    8\n",
       "3    3    7\n",
       "4    4    6"
      ]
     },
     "execution_count": 15,
     "metadata": {},
     "output_type": "execute_result"
    }
   ],
   "source": [
    "df_gn"
   ]
  },
  {
   "cell_type": "markdown",
   "id": "4373588c",
   "metadata": {},
   "source": [
    "- 0~4 인덱스 전체는 10\n",
    "- 지니 계수 계산해 보자!\n",
    "- 조건부확률로 접근한다.\n",
    "- index 0 : 1 - ((0/10) ** 2 + (10/10) ** 2) = 0\n",
    "- index 1 : 1 - ((1/10) ** 2 + (9/10) ** 2) = 0.18\n",
    "- index 2 : 1 - ((2/10) ** 2 + (8/10) ** 2) = 0.32\n",
    "- index 3 : 1 - ((3/10) ** 2 + (7/10) ** 2) = 0.42\n",
    "- index 4 : 1 - ((4/10) ** 2 + (6/10) ** 2) = 0.48"
   ]
  },
  {
   "cell_type": "code",
   "execution_count": 16,
   "id": "c04ae12c",
   "metadata": {},
   "outputs": [
    {
     "data": {
      "text/plain": [
       "0.17999999999999994"
      ]
     },
     "execution_count": 16,
     "metadata": {},
     "output_type": "execute_result"
    }
   ],
   "source": [
    "1 - ((1/10) ** 2 + (9/10) ** 2)"
   ]
  },
  {
   "cell_type": "code",
   "execution_count": 17,
   "id": "2b3a0a66",
   "metadata": {},
   "outputs": [
    {
     "data": {
      "text/plain": [
       "0.31999999999999984"
      ]
     },
     "execution_count": 17,
     "metadata": {},
     "output_type": "execute_result"
    }
   ],
   "source": [
    "1 - ((2/10) ** 2 + (8/10) ** 2)"
   ]
  },
  {
   "cell_type": "code",
   "execution_count": 18,
   "id": "caa34ee4",
   "metadata": {},
   "outputs": [
    {
     "data": {
      "text/plain": [
       "0.42000000000000004"
      ]
     },
     "execution_count": 18,
     "metadata": {},
     "output_type": "execute_result"
    }
   ],
   "source": [
    "1 - ((3/10) ** 2 + (7/10) ** 2)"
   ]
  },
  {
   "cell_type": "code",
   "execution_count": 19,
   "id": "1d075c2a",
   "metadata": {},
   "outputs": [
    {
     "data": {
      "text/plain": [
       "0.48"
      ]
     },
     "execution_count": 19,
     "metadata": {},
     "output_type": "execute_result"
    }
   ],
   "source": [
    "1 - ((4/10) ** 2 + (6/10) ** 2)"
   ]
  },
  {
   "cell_type": "code",
   "execution_count": 20,
   "id": "f8d73dbb",
   "metadata": {},
   "outputs": [],
   "source": [
    "# 샘플데이터를 생성합니다.\n",
    "group_1 = np.array([50, 50])\n",
    "group_2 = np.array([30, 70])\n",
    "group_3 = np.array([0, 100])"
   ]
  },
  {
   "cell_type": "code",
   "execution_count": 21,
   "id": "1f32db19",
   "metadata": {},
   "outputs": [
    {
     "data": {
      "image/png": "[encoded data removed]",
      "text/plain": [
       "<Figure size 864x288 with 3 Axes>"
      ]
     },
     "metadata": {
      "needs_background": "light"
     },
     "output_type": "display_data"
    }
   ],
   "source": [
    "fig, axes = plt.subplots(1, 3)\n",
    "fig.set_size_inches(12, 4)\n",
    "axes[0].bar([\"Positive\", \"Negative\"], group_1, color=\"blue\")\n",
    "axes[0].set_title(\"Group 1\")\n",
    "axes[1].bar([\"Positive\", \"Negative\"], group_2, color=\"red\")\n",
    "axes[1].set_title(\"Group 2\")\n",
    "axes[2].bar([\"Positive\", \"Negative\"], group_3, color=\"green\")\n",
    "axes[2].set_title(\"Group 3\")\n",
    "plt.show()"
   ]
  },
  {
   "cell_type": "code",
   "execution_count": 22,
   "id": "5dc214e5",
   "metadata": {},
   "outputs": [
    {
     "name": "stdout",
     "output_type": "stream",
     "text": [
      "Group 1: 0.500\n",
      "Group 2: 0.420\n",
      "Group 3: 0.000\n"
     ]
    }
   ],
   "source": [
    "gini_1 = gini(group_1)\n",
    "gini_2 = gini(group_2)\n",
    "gini_3 = gini(group_3)\n",
    "\n",
    "print(f\"Group 1: {gini_1:.3f}\\nGroup 2: {gini_2:.3f}\\nGroup 3: {gini_3:.3f}\")"
   ]
  },
  {
   "cell_type": "code",
   "execution_count": 23,
   "id": "80d26053",
   "metadata": {},
   "outputs": [
    {
     "data": {
      "image/png": "[encoded data removed]",
      "text/plain": [
       "<Figure size 360x360 with 1 Axes>"
      ]
     },
     "metadata": {
      "needs_background": "light"
     },
     "output_type": "display_data"
    }
   ],
   "source": [
    "plt.figure(figsize=(5, 5))\n",
    "plt.bar([\"Group 1\", \"Group 2\", \"Group 3\"], [gini_1, gini_2, gini_3])\n",
    "plt.title(\"Gini\", fontsize=15)\n",
    "plt.show()"
   ]
  },
  {
   "cell_type": "markdown",
   "id": "137389ae",
   "metadata": {},
   "source": [
    "### DT 알고리즘도 여러가지 있다.\n",
    "- CART (Classification and Regression Tree)\n",
    "- C4.5, C5.0\n",
    "- CHAID (카이제곱분석 방법으로)\n",
    "\n",
    "\n",
    "- 이진분류냐 다중분류에 따라 달라지고\n",
    "- 데이터가 종속형 범주형이냐에 따라 달라진다.\n",
    "- 기본적으로 우리가 디폴트로 사용하는 이진분류 방식은 CART 지니 계수로 진행한다."
   ]
  },
  {
   "cell_type": "markdown",
   "id": "a72fea94",
   "metadata": {},
   "source": [
    "### 필수과제\n",
    "- 지니, 엔트로피 지수 개념 정리하기\n",
    "- 위의 예시 코드 외에 새로운 예시를 만들어서 직접 계산해 보기"
   ]
  }
 ],
 "metadata": {
  "kernelspec": {
   "display_name": "Python 3 (ipykernel)",
   "language": "python",
   "name": "python3"
  },
  "language_info": {
   "codemirror_mode": {
    "name": "ipython",
    "version": 3
   },
   "file_extension": ".py",
   "mimetype": "text/x-python",
   "name": "python",
   "nbconvert_exporter": "python",
   "pygments_lexer": "ipython3",
   "version": "3.9.12"
  }
 },
 "nbformat": 4,
 "nbformat_minor": 5
}
