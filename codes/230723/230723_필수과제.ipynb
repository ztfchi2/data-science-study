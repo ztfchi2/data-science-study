{
 "cells": [
  {
   "cell_type": "markdown",
   "id": "f5e98f84",
   "metadata": {},
   "source": [
    "### 필수과제\n",
    "- 지니, 엔트로피 지수 개념 정리하기\n",
    "- 위의 예시 코드 외에 새로운 예시를 만들어서 직접 계산해 보기"
   ]
  },
  {
   "cell_type": "markdown",
   "id": "6f0a3937",
   "metadata": {},
   "source": [
    "### 엔트로피\n",
    "$$ H(X) = -\\sum_{i=1}^{n}p_{i}\\;log_{2}\\;p_{i} $$\n",
    "- 무질서한 정도를 정량화/수치화한 값\n",
    "- 불손도를 측정하는 지표, 정보량의 기댓값\n",
    "- 불손할수록 엔트로피는 큰 값을 갖게 됨\n",
    "\n",
    "---\n",
    "\n",
    "### 정보 이득\n",
    "- Decision Tree에서 모델을 선택하는 기준으로 사용\n",
    "- 즉, 트리 분할 후 정보 이득(Information Gain)이 많은 쪽을 선택\n",
    "- 분할 전 총 엔트로피에서 분할 후 엔트로피를 뺀 것"
   ]
  },
  {
   "cell_type": "code",
   "execution_count": 1,
   "id": "480d257c",
   "metadata": {},
   "outputs": [],
   "source": [
    "import numpy as np\n",
    "import pandas as pd\n",
    "import matplotlib.pyplot as plt\n",
    "import seaborn as sns"
   ]
  },
  {
   "cell_type": "code",
   "execution_count": 2,
   "id": "3543ecdb",
   "metadata": {},
   "outputs": [],
   "source": [
    "def entropy(x):\n",
    "    return (-x * np.log2(x)).sum()"
   ]
  },
  {
   "cell_type": "code",
   "execution_count": 14,
   "id": "f2b4c03e",
   "metadata": {},
   "outputs": [],
   "source": [
    "group_1 = np.array([0.25, 0.25, 0.25, 0.25])\n",
    "group_2 = np.array([0.5, 0.2, 0.1, 0.2])\n",
    "group_3 = np.array([0.01, 0.01, 0.01, 0.97])\n",
    "group_4 = np.array([0.05, 0, 0.05, 0.9])\n",
    "group_5 = np.array([0.45, 0.05, 0.45, 0.05])\n",
    "group_6 = np.array([0.1, 0.1, 0.7, 0.1])"
   ]
  },
  {
   "cell_type": "code",
   "execution_count": 15,
   "id": "bd74f923",
   "metadata": {},
   "outputs": [
    {
     "data": {
      "image/png": "[encoded data removed]",
      "text/plain": [
       "<Figure size 864x432 with 6 Axes>"
      ]
     },
     "metadata": {
      "needs_background": "light"
     },
     "output_type": "display_data"
    }
   ],
   "source": [
    "fig, axes = plt.subplots(2, 3)\n",
    "fig.set_size_inches(12, 6)\n",
    "axes[0,0].bar(np.arange(4), group_1, color=\"blue\")\n",
    "axes[0,0].set_title(\"Group 1\")\n",
    "axes[0,1].bar(np.arange(4), group_2, color=\"red\")\n",
    "axes[0,1].set_title(\"Group 2\")\n",
    "axes[0,2].bar(np.arange(4), group_3, color=\"green\")\n",
    "axes[0,2].set_title(\"Group 3\")\n",
    "axes[1,0].bar(np.arange(4), group_4, color=\"magenta\")\n",
    "axes[1,0].set_title(\"Group 4\")\n",
    "axes[1,1].bar(np.arange(4), group_5, color=\"orange\")\n",
    "axes[1,1].set_title(\"Group 5\")\n",
    "axes[1,2].bar(np.arange(4), group_6, color=\"navy\")\n",
    "axes[1,2].set_title(\"Group 6\")\n",
    "plt.show()"
   ]
  },
  {
   "cell_type": "code",
   "execution_count": 16,
   "id": "457a0ee2",
   "metadata": {},
   "outputs": [
    {
     "name": "stdout",
     "output_type": "stream",
     "text": [
      "Group 1: 2.000\n",
      "Group 2: 1.761\n",
      "Group_3: 0.242\n",
      "Group 4: nan\n",
      "Group 5: 1.469\n",
      "Group_6: 1.357\n"
     ]
    },
    {
     "name": "stderr",
     "output_type": "stream",
     "text": [
      "C:\\Users\\doram\\AppData\\Local\\Temp\\ipykernel_23228\\2433760103.py:2: RuntimeWarning: divide by zero encountered in log2\n",
      "  return (-x * np.log2(x)).sum()\n",
      "C:\\Users\\doram\\AppData\\Local\\Temp\\ipykernel_23228\\2433760103.py:2: RuntimeWarning: invalid value encountered in multiply\n",
      "  return (-x * np.log2(x)).sum()\n"
     ]
    }
   ],
   "source": [
    "entropy_1 = entropy(group_1)\n",
    "entropy_2 = entropy(group_2)\n",
    "entropy_3 = entropy(group_3)\n",
    "entropy_4 = entropy(group_4)\n",
    "entropy_5 = entropy(group_5)\n",
    "entropy_6 = entropy(group_6)\n",
    "\n",
    "print(f\"Group 1: {entropy_1:.3f}\\nGroup 2: {entropy_2:.3f}\\nGroup_3: {entropy_3:.3f}\\nGroup 4: {entropy_4:.3f}\\nGroup 5: {entropy_5:.3f}\\nGroup_6: {entropy_6:.3f}\")"
   ]
  },
  {
   "cell_type": "markdown",
   "id": "a8a23040",
   "metadata": {},
   "source": [
    "- 데이터 구성이 균일할수록 엔트로피 값이 작아진다.\n",
    "- 매우 균일한 그룹의 경우 엔트로피 값이 0에 가깝다.\n",
    "- 위의 식에서는 특정 항목이 0인 경우 제대로 계산되지 않는 것을 확인할 수 있다 (Group 4).\n",
    "- 실제로는 log 안의 값이 0이 되어버리지만, 그 값에 0이 곱해지므로 오류 없이 계산할 수 있다."
   ]
  },
  {
   "cell_type": "code",
   "execution_count": 17,
   "id": "734f56d7",
   "metadata": {},
   "outputs": [
    {
     "data": {
      "text/plain": [
       "0.5689955935892812"
      ]
     },
     "execution_count": 17,
     "metadata": {},
     "output_type": "execute_result"
    }
   ],
   "source": [
    "# Group 4의 엔트로피 값\n",
    "-0.05 * np.log2(0.05) + 0 + -0.05 * np.log2(0.05) + -0.9 * np.log2(0.9)"
   ]
  },
  {
   "cell_type": "markdown",
   "id": "02a7143c",
   "metadata": {},
   "source": [
    "### 지니 지수\n",
    "$$ Gini = 1-\\sum_{i=1}^{C}(p_{i})^{2} $$\n",
    "- 데이터의 산포도를 정량화한 값, 불순도를 측정하는 값\n",
    "- 지니 지수가 높을수록 엔트로피가 높고 데이터가 분산됨"
   ]
  },
  {
   "cell_type": "code",
   "execution_count": 18,
   "id": "1f8aede8",
   "metadata": {},
   "outputs": [],
   "source": [
    "def gini(x):\n",
    "    return 1 - ((x/x.sum())**2).sum()"
   ]
  },
  {
   "cell_type": "code",
   "execution_count": 21,
   "id": "5b54760c",
   "metadata": {},
   "outputs": [],
   "source": [
    "group_1 = np.array([33, 33, 34])\n",
    "group_2 = np.array([50, 20, 30])\n",
    "group_3 = np.array([0, 100, 0])\n",
    "group_4 = np.array([20, 20, 80])\n",
    "group_5 = np.array([5, 5, 90])\n",
    "group_6 = np.array([99, 0, 1])"
   ]
  },
  {
   "cell_type": "code",
   "execution_count": 22,
   "id": "4b0cc7dd",
   "metadata": {},
   "outputs": [
    {
     "data": {
      "image/png": "[encoded data removed]",
      "text/plain": [
       "<Figure size 864x432 with 6 Axes>"
      ]
     },
     "metadata": {
      "needs_background": "light"
     },
     "output_type": "display_data"
    }
   ],
   "source": [
    "fig, axes = plt.subplots(2, 3)\n",
    "fig.set_size_inches(12, 6)\n",
    "axes[0,0].bar(np.arange(3), group_1, color=\"blue\")\n",
    "axes[0,0].set_title(\"Group 1\")\n",
    "axes[0,1].bar(np.arange(3), group_2, color=\"red\")\n",
    "axes[0,1].set_title(\"Group 2\")\n",
    "axes[0,2].bar(np.arange(3), group_3, color=\"green\")\n",
    "axes[0,2].set_title(\"Group 3\")\n",
    "axes[1,0].bar(np.arange(3), group_4, color=\"magenta\")\n",
    "axes[1,0].set_title(\"Group 4\")\n",
    "axes[1,1].bar(np.arange(3), group_5, color=\"orange\")\n",
    "axes[1,1].set_title(\"Group 5\")\n",
    "axes[1,2].bar(np.arange(3), group_6, color=\"navy\")\n",
    "axes[1,2].set_title(\"Group 6\")\n",
    "plt.show()"
   ]
  },
  {
   "cell_type": "code",
   "execution_count": 23,
   "id": "770b2a51",
   "metadata": {},
   "outputs": [
    {
     "name": "stdout",
     "output_type": "stream",
     "text": [
      "Group 1: 0.667\n",
      "Group 2: 0.620\n",
      "Group_3: 0.000\n",
      "Group 4: 0.500\n",
      "Group 5: 0.185\n",
      "Group_6: 0.020\n"
     ]
    }
   ],
   "source": [
    "gini_1 = gini(group_1)\n",
    "gini_2 = gini(group_2)\n",
    "gini_3 = gini(group_3)\n",
    "gini_4 = gini(group_4)\n",
    "gini_5 = gini(group_5)\n",
    "gini_6 = gini(group_6)\n",
    "\n",
    "print(f\"Group 1: {gini_1:.3f}\\nGroup 2: {gini_2:.3f}\\nGroup_3: {gini_3:.3f}\\nGroup 4: {gini_4:.3f}\\nGroup 5: {gini_5:.3f}\\nGroup_6: {gini_6:.3f}\")"
   ]
  },
  {
   "cell_type": "markdown",
   "id": "b846851c",
   "metadata": {},
   "source": [
    "- 데이터의 구성이 균일할수록 지니 지수 값이 작아진다.\n",
    "- 완전히 균일한 그룹의 경우 지니 지수의 값이 0이다.\n",
    "- 불순도가 높을수록 1에 가까워진다."
   ]
  }
 ],
 "metadata": {
  "kernelspec": {
   "display_name": "Python 3 (ipykernel)",
   "language": "python",
   "name": "python3"
  },
  "language_info": {
   "codemirror_mode": {
    "name": "ipython",
    "version": 3
   },
   "file_extension": ".py",
   "mimetype": "text/x-python",
   "name": "python",
   "nbconvert_exporter": "python",
   "pygments_lexer": "ipython3",
   "version": "3.9.12"
  }
 },
 "nbformat": 4,
 "nbformat_minor": 5
}
