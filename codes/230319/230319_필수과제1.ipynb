{
 "cells": [
  {
   "cell_type": "code",
   "execution_count": 1,
   "id": "0ac9f5e6",
   "metadata": {},
   "outputs": [],
   "source": [
    "from sklearn.tree import DecisionTreeClassifier\n",
    "from sklearn.model_selection import cross_val_score\n",
    "\n",
    "from sklearn.datasets import load_iris\n",
    "import numpy as np"
   ]
  },
  {
   "cell_type": "code",
   "execution_count": 2,
   "id": "ad0c8c5c",
   "metadata": {},
   "outputs": [],
   "source": [
    "iris_data = load_iris()\n",
    "dt_clf = DecisionTreeClassifier(random_state=111)\n",
    "\n",
    "data = iris_data.data\n",
    "label = iris_data.target"
   ]
  },
  {
   "cell_type": "markdown",
   "id": "01801df0",
   "metadata": {},
   "source": [
    "### 필수과제1\n",
    "- 데이터와 분석 목적에 따라서 교차검증을 선택할 수 있다.\n",
    "- shuffleSplit - 반복 횟수를 훈련 세트, 테스트 세트를 독립적으로 조절해야 하는 경우\n",
    "- GroupKFold - 데이터 안에 연관된 그룹들이 있을 때\n",
    "- RepeatedStratifiedKFold, RepeatedKFold - 데이터가 적을 때 안정된 점수를 얻기 위해서 교차검증을 여러번 반복\n",
    "- Lvo 등 사이킷런에서 찾아보기!\n",
    "\n",
    "\n",
    "- 위에 언급한 추가교차검증 사이킷런에서 제공하는 다양한 교차검증 내용을 리서치하고\n",
    "- 개념 정리와 코드 정리를 함께 공유해 주세요!\n",
    "- 최소 3개 이상 정리해 주세요!"
   ]
  },
  {
   "cell_type": "markdown",
   "id": "4d2e7c53",
   "metadata": {},
   "source": [
    "### ShuffleSplit\n",
    "- test셋과 train셋을 주어진 비율에 따라 랜덤으로 여러번 나눠야할 경우 사용되는 교차검증 방법\n",
    "- test셋과 train셋의 크기를 지정할 수 있다는 장점이 있다.\n",
    "> #### 파라미터\n",
    "> - n_splits : 폴드 개수 (2 이상)\n",
    "> - test_size : 전체 데이터 중 test셋의 비율, 0~1 사이의 값\n",
    "> - train_size : 전체 데이터 중 train셋의 비율, 0~1 사이의 값\n",
    "> - random_state : 시드 번호 지정"
   ]
  },
  {
   "cell_type": "code",
   "execution_count": 3,
   "id": "d774dbbf",
   "metadata": {},
   "outputs": [],
   "source": [
    "# ShuffleSplit 코드 정리\n",
    "from sklearn.model_selection import ShuffleSplit"
   ]
  },
  {
   "cell_type": "code",
   "execution_count": 4,
   "id": "7bddcdbd",
   "metadata": {},
   "outputs": [
    {
     "name": "stdout",
     "output_type": "stream",
     "text": [
      "test score: [0.9    0.9    0.9    1.     0.9667 0.9    0.9667]\n",
      "mean score: 0.9333\n"
     ]
    }
   ],
   "source": [
    "# 교차검증 진행 (accuracy)\n",
    "ss = ShuffleSplit(n_splits=7, test_size=0.2, random_state=111)\n",
    "\n",
    "scores = cross_val_score(dt_clf, data, label, scoring=\"accuracy\", cv=ss)\n",
    "print(\"test score:\", np.round(scores, 4))\n",
    "print(\"mean score:\", np.round(np.mean(scores), 4))"
   ]
  },
  {
   "cell_type": "code",
   "execution_count": 5,
   "id": "6c8527b5",
   "metadata": {},
   "outputs": [
    {
     "name": "stdout",
     "output_type": "stream",
     "text": [
      "test score: [0.8968 0.9    0.9167 1.     0.9524 0.8968 0.9583]\n",
      "mean score: 0.9316\n"
     ]
    }
   ],
   "source": [
    "# 교차검증 진행 (precision)\n",
    "scores = cross_val_score(dt_clf, data, label, scoring=\"precision_macro\", cv=ss)\n",
    "print(\"test score:\", np.round(scores, 4))\n",
    "print(\"mean score:\", np.round(np.mean(scores), 4))"
   ]
  },
  {
   "cell_type": "code",
   "execution_count": 6,
   "id": "727e9c5c",
   "metadata": {},
   "outputs": [
    {
     "name": "stdout",
     "output_type": "stream",
     "text": [
      "test score: [0.8791 0.9    0.8889 1.     0.9524 0.8864 0.9722]\n",
      "mean score: 0.9256\n"
     ]
    }
   ],
   "source": [
    "# 교차검증 진행 (recall)\n",
    "scores = cross_val_score(dt_clf, data, label, scoring=\"recall_macro\", cv=ss)\n",
    "print(\"test score:\", np.round(scores, 4))\n",
    "print(\"mean score:\", np.round(np.mean(scores), 4))"
   ]
  },
  {
   "cell_type": "code",
   "execution_count": 7,
   "id": "011062aa",
   "metadata": {},
   "outputs": [
    {
     "name": "stdout",
     "output_type": "stream",
     "text": [
      "test score: [0.886  0.8824 0.8857 1.     0.9487 0.8899 0.9633]\n",
      "mean score: 0.9223\n"
     ]
    }
   ],
   "source": [
    "# 교차검증 진행 (f1 score)\n",
    "scores = cross_val_score(dt_clf, data, label, scoring=\"f1_macro\", cv=ss)\n",
    "print(\"test score:\", np.round(scores, 4))\n",
    "print(\"mean score:\", np.round(np.mean(scores), 4))"
   ]
  },
  {
   "cell_type": "markdown",
   "id": "8ff26834",
   "metadata": {},
   "source": [
    "### GroupKFold\n",
    "- 동일한 그룹이 test셋과 train셋에 동시에 포함되지 않도록 하는 교차검증 방법\n",
    "- 각 그룹은 폴드에 정확히 한 번씩만 들어간다.\n",
    "> #### 파라미터\n",
    "> - n_splits : 폴드 개수 (2 이상)"
   ]
  },
  {
   "cell_type": "code",
   "execution_count": 8,
   "id": "74dc782c",
   "metadata": {},
   "outputs": [],
   "source": [
    "# GroupKFold 코드 정리\n",
    "from sklearn.model_selection import GroupKFold"
   ]
  },
  {
   "cell_type": "code",
   "execution_count": 28,
   "id": "c35ed549",
   "metadata": {
    "scrolled": true
   },
   "outputs": [
    {
     "name": "stdout",
     "output_type": "stream",
     "text": [
      "test score: [0.84 0.94 0.96]\n",
      "mean score: 0.9133\n"
     ]
    }
   ],
   "source": [
    "# 교차검증 진행 (accuracy)\n",
    "gk = GroupKFold(n_splits=3)\n",
    "grp = [0]*25 + [1]*25 + [2]*25 + [0]*25 + [1]*25 + [2]*25\n",
    "\n",
    "scores = cross_val_score(dt_clf, data, label, scoring=\"accuracy\", groups=grp, cv=gk)\n",
    "print(\"test score:\", np.round(scores, 4))\n",
    "print(\"mean score:\", np.round(np.mean(scores), 4))"
   ]
  },
  {
   "cell_type": "code",
   "execution_count": 29,
   "id": "a5ca33f4",
   "metadata": {},
   "outputs": [
    {
     "name": "stdout",
     "output_type": "stream",
     "text": [
      "test score: [0.8422 0.6667 0.6667]\n",
      "mean score: 0.7252\n"
     ]
    }
   ],
   "source": [
    "# 교차검증 진행 (precision)\n",
    "scores = cross_val_score(dt_clf, data, label, scoring=\"precision_macro\", groups=grp, cv=gk)\n",
    "print(\"test score:\", np.round(scores, 4))\n",
    "print(\"mean score:\", np.round(np.mean(scores), 4))"
   ]
  },
  {
   "cell_type": "code",
   "execution_count": 30,
   "id": "be613645",
   "metadata": {},
   "outputs": [
    {
     "name": "stdout",
     "output_type": "stream",
     "text": [
      "test score: [0.84   0.6267 0.64  ]\n",
      "mean score: 0.7022\n"
     ]
    },
    {
     "name": "stderr",
     "output_type": "stream",
     "text": [
      "C:\\ProgramData\\Anaconda3\\lib\\site-packages\\sklearn\\metrics\\_classification.py:1318: UndefinedMetricWarning: Recall is ill-defined and being set to 0.0 in labels with no true samples. Use `zero_division` parameter to control this behavior.\n",
      "  _warn_prf(average, modifier, msg_start, len(result))\n",
      "C:\\ProgramData\\Anaconda3\\lib\\site-packages\\sklearn\\metrics\\_classification.py:1318: UndefinedMetricWarning: Recall is ill-defined and being set to 0.0 in labels with no true samples. Use `zero_division` parameter to control this behavior.\n",
      "  _warn_prf(average, modifier, msg_start, len(result))\n"
     ]
    }
   ],
   "source": [
    "# 교차검증 진행 (recall)\n",
    "scores = cross_val_score(dt_clf, data, label, scoring=\"recall_macro\", groups=grp, cv=gk)\n",
    "print(\"test score:\", np.round(scores, 4))\n",
    "print(\"mean score:\", np.round(np.mean(scores), 4))"
   ]
  },
  {
   "cell_type": "code",
   "execution_count": 31,
   "id": "262290f1",
   "metadata": {},
   "outputs": [
    {
     "name": "stdout",
     "output_type": "stream",
     "text": [
      "test score: [0.8397 0.6454 0.6528]\n",
      "mean score: 0.7126\n"
     ]
    }
   ],
   "source": [
    "# 교차검증 진행 (f1 score)\n",
    "scores = cross_val_score(dt_clf, data, label, scoring=\"f1_macro\", groups=grp, cv=gk)\n",
    "print(\"test score:\", np.round(scores, 4))\n",
    "print(\"mean score:\", np.round(np.mean(scores), 4))"
   ]
  },
  {
   "cell_type": "markdown",
   "id": "71185671",
   "metadata": {},
   "source": [
    "### RepeatedStratifiedKFold / RepeatedKFold\n",
    "- 교차검증을 반복해서 안정적인 학습을 수행하는 교차검증 방법\n",
    "- 데이터 수가 적을 때 사용한다.\n",
    "> #### 파라미터\n",
    "> - n_splits : 폴드 개수 (2 이상)\n",
    "> - n_repeats : 반복 횟수\n",
    "> - random_state : 시드 번호 지정"
   ]
  },
  {
   "cell_type": "code",
   "execution_count": 32,
   "id": "d3648b82",
   "metadata": {},
   "outputs": [],
   "source": [
    "# RepeatedStratifiedKFold 코드 정리\n",
    "from sklearn.model_selection import RepeatedStratifiedKFold"
   ]
  },
  {
   "cell_type": "code",
   "execution_count": 34,
   "id": "de9ec72e",
   "metadata": {},
   "outputs": [
    {
     "name": "stdout",
     "output_type": "stream",
     "text": [
      "test score: [0.9545 0.9091 1.     1.     0.9048 1.     0.9048 0.9545 0.9545 0.9545\n",
      " 0.9048 0.9524 0.9524 1.     0.9545 0.8182 0.9091 0.9524 1.     0.9524\n",
      " 0.9524]\n",
      "mean score: 0.9469\n"
     ]
    }
   ],
   "source": [
    "# 교차검증 진행 (accuracy)\n",
    "rkf = RepeatedStratifiedKFold(n_splits=7, n_repeats=3, random_state=111)\n",
    "\n",
    "scores = cross_val_score(dt_clf, data, label, scoring=\"accuracy\", cv=rkf)\n",
    "print(\"test score:\", np.round(scores, 4))\n",
    "print(\"mean score:\", np.round(np.mean(scores), 4))"
   ]
  },
  {
   "cell_type": "code",
   "execution_count": 35,
   "id": "8ec25d8c",
   "metadata": {},
   "outputs": [
    {
     "name": "stdout",
     "output_type": "stream",
     "text": [
      "test score: [0.9583 0.9107 1.     1.     0.9259 1.     0.9259 0.9583 0.963  0.963\n",
      " 0.9259 0.9583 0.9583 1.     0.9583 0.8333 0.9107 0.9583 1.     0.9583\n",
      " 0.9583]\n",
      "mean score: 0.9536\n"
     ]
    }
   ],
   "source": [
    "# 교차검증 진행 (precision)\n",
    "scores = cross_val_score(dt_clf, data, label, scoring=\"precision_macro\", cv=rkf)\n",
    "print(\"test score:\", np.round(scores, 4))\n",
    "print(\"mean score:\", np.round(np.mean(scores), 4))"
   ]
  },
  {
   "cell_type": "code",
   "execution_count": 36,
   "id": "12167362",
   "metadata": {},
   "outputs": [
    {
     "name": "stdout",
     "output_type": "stream",
     "text": [
      "test score: [0.9524 0.9107 1.     1.     0.9048 1.     0.9048 0.9524 0.9524 0.9524\n",
      " 0.9048 0.9524 0.9524 1.     0.9524 0.8155 0.9107 0.9524 1.     0.9524\n",
      " 0.9524]\n",
      "mean score: 0.9464\n"
     ]
    }
   ],
   "source": [
    "# 교차검증 진행 (recall)\n",
    "scores = cross_val_score(dt_clf, data, label, scoring=\"recall_macro\", cv=rkf)\n",
    "print(\"test score:\", np.round(scores, 4))\n",
    "print(\"mean score:\", np.round(np.mean(scores), 4))"
   ]
  },
  {
   "cell_type": "code",
   "execution_count": 37,
   "id": "3c804b76",
   "metadata": {},
   "outputs": [
    {
     "name": "stdout",
     "output_type": "stream",
     "text": [
      "test score: [0.9521 0.9107 1.     1.     0.9028 1.     0.9028 0.9521 0.9548 0.9548\n",
      " 0.9028 0.9521 0.9521 1.     0.9521 0.8148 0.9107 0.9521 1.     0.9521\n",
      " 0.9521]\n",
      "mean score: 0.9462\n"
     ]
    }
   ],
   "source": [
    "# 교차검증 진행 (f1 score)\n",
    "scores = cross_val_score(dt_clf, data, label, scoring=\"f1_macro\", cv=rkf)\n",
    "print(\"test score:\", np.round(scores, 4))\n",
    "print(\"mean score:\", np.round(np.mean(scores), 4))"
   ]
  },
  {
   "cell_type": "markdown",
   "id": "66114723",
   "metadata": {},
   "source": [
    "*+) Lvo에 대해서 정확히 찾을 수 없었음.*"
   ]
  },
  {
   "cell_type": "code",
   "execution_count": null,
   "id": "b59b270e",
   "metadata": {},
   "outputs": [],
   "source": []
  }
 ],
 "metadata": {
  "kernelspec": {
   "display_name": "Python 3 (ipykernel)",
   "language": "python",
   "name": "python3"
  },
  "language_info": {
   "codemirror_mode": {
    "name": "ipython",
    "version": 3
   },
   "file_extension": ".py",
   "mimetype": "text/x-python",
   "name": "python",
   "nbconvert_exporter": "python",
   "pygments_lexer": "ipython3",
   "version": "3.9.12"
  }
 },
 "nbformat": 4,
 "nbformat_minor": 5
}
