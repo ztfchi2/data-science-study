{
 "cells": [
  {
   "cell_type": "markdown",
   "id": "4174dcd8",
   "metadata": {},
   "source": [
    "### 필수과제 1\n",
    "- 수업시간에 제공한 데이터를 가지고\n",
    "- DT나 다른 알고리즘으로 진행했을 때 어떤 결과가 나오는지?\n",
    "- 수치만 적는 게 아니라 꼭 모델링별로 설명도 부탁드립니다."
   ]
  },
  {
   "cell_type": "code",
   "execution_count": 1,
   "id": "5719bcdf",
   "metadata": {},
   "outputs": [],
   "source": [
    "import numpy as np\n",
    "import pandas as pd\n",
    "import matplotlib.pyplot as plt\n",
    "import seaborn as sns\n",
    "import warnings\n",
    "warnings.filterwarnings(\"ignore\")"
   ]
  },
  {
   "cell_type": "code",
   "execution_count": 2,
   "id": "e15566c2",
   "metadata": {},
   "outputs": [],
   "source": [
    "from sklearn.model_selection import train_test_split\n",
    "from sklearn.linear_model import LogisticRegression\n",
    "from sklearn.neighbors import KNeighborsClassifier\n",
    "from sklearn.tree import DecisionTreeClassifier\n",
    "from sklearn.ensemble import VotingClassifier\n",
    "from sklearn.model_selection import GridSearchCV\n",
    "from sklearn.metrics import accuracy_score\n",
    "import category_encoders as ce"
   ]
  },
  {
   "cell_type": "code",
   "execution_count": 3,
   "id": "2ee5f5aa",
   "metadata": {},
   "outputs": [],
   "source": [
    "df = pd.read_excel(\"car_evaluation.xlsx\")"
   ]
  },
  {
   "cell_type": "code",
   "execution_count": 4,
   "id": "02826e39",
   "metadata": {},
   "outputs": [
    {
     "data": {
      "text/html": [
       "<div>\n",
       "<style scoped>\n",
       "    .dataframe tbody tr th:only-of-type {\n",
       "        vertical-align: middle;\n",
       "    }\n",
       "\n",
       "    .dataframe tbody tr th {\n",
       "        vertical-align: top;\n",
       "    }\n",
       "\n",
       "    .dataframe thead th {\n",
       "        text-align: right;\n",
       "    }\n",
       "</style>\n",
       "<table border=\"1\" class=\"dataframe\">\n",
       "  <thead>\n",
       "    <tr style=\"text-align: right;\">\n",
       "      <th></th>\n",
       "      <th>buying</th>\n",
       "      <th>maint</th>\n",
       "      <th>doors</th>\n",
       "      <th>persons</th>\n",
       "      <th>lug_boot</th>\n",
       "      <th>safety</th>\n",
       "      <th>class</th>\n",
       "    </tr>\n",
       "  </thead>\n",
       "  <tbody>\n",
       "    <tr>\n",
       "      <th>0</th>\n",
       "      <td>vhigh</td>\n",
       "      <td>vhigh</td>\n",
       "      <td>2</td>\n",
       "      <td>2</td>\n",
       "      <td>small</td>\n",
       "      <td>low</td>\n",
       "      <td>unacc</td>\n",
       "    </tr>\n",
       "    <tr>\n",
       "      <th>1</th>\n",
       "      <td>vhigh</td>\n",
       "      <td>vhigh</td>\n",
       "      <td>2</td>\n",
       "      <td>2</td>\n",
       "      <td>small</td>\n",
       "      <td>med</td>\n",
       "      <td>unacc</td>\n",
       "    </tr>\n",
       "    <tr>\n",
       "      <th>2</th>\n",
       "      <td>vhigh</td>\n",
       "      <td>vhigh</td>\n",
       "      <td>2</td>\n",
       "      <td>2</td>\n",
       "      <td>small</td>\n",
       "      <td>high</td>\n",
       "      <td>unacc</td>\n",
       "    </tr>\n",
       "    <tr>\n",
       "      <th>3</th>\n",
       "      <td>vhigh</td>\n",
       "      <td>vhigh</td>\n",
       "      <td>2</td>\n",
       "      <td>2</td>\n",
       "      <td>med</td>\n",
       "      <td>low</td>\n",
       "      <td>unacc</td>\n",
       "    </tr>\n",
       "    <tr>\n",
       "      <th>4</th>\n",
       "      <td>vhigh</td>\n",
       "      <td>vhigh</td>\n",
       "      <td>2</td>\n",
       "      <td>2</td>\n",
       "      <td>med</td>\n",
       "      <td>med</td>\n",
       "      <td>unacc</td>\n",
       "    </tr>\n",
       "    <tr>\n",
       "      <th>...</th>\n",
       "      <td>...</td>\n",
       "      <td>...</td>\n",
       "      <td>...</td>\n",
       "      <td>...</td>\n",
       "      <td>...</td>\n",
       "      <td>...</td>\n",
       "      <td>...</td>\n",
       "    </tr>\n",
       "    <tr>\n",
       "      <th>1723</th>\n",
       "      <td>low</td>\n",
       "      <td>low</td>\n",
       "      <td>5more</td>\n",
       "      <td>more</td>\n",
       "      <td>med</td>\n",
       "      <td>med</td>\n",
       "      <td>good</td>\n",
       "    </tr>\n",
       "    <tr>\n",
       "      <th>1724</th>\n",
       "      <td>low</td>\n",
       "      <td>low</td>\n",
       "      <td>5more</td>\n",
       "      <td>more</td>\n",
       "      <td>med</td>\n",
       "      <td>high</td>\n",
       "      <td>vgood</td>\n",
       "    </tr>\n",
       "    <tr>\n",
       "      <th>1725</th>\n",
       "      <td>low</td>\n",
       "      <td>low</td>\n",
       "      <td>5more</td>\n",
       "      <td>more</td>\n",
       "      <td>big</td>\n",
       "      <td>low</td>\n",
       "      <td>unacc</td>\n",
       "    </tr>\n",
       "    <tr>\n",
       "      <th>1726</th>\n",
       "      <td>low</td>\n",
       "      <td>low</td>\n",
       "      <td>5more</td>\n",
       "      <td>more</td>\n",
       "      <td>big</td>\n",
       "      <td>med</td>\n",
       "      <td>good</td>\n",
       "    </tr>\n",
       "    <tr>\n",
       "      <th>1727</th>\n",
       "      <td>low</td>\n",
       "      <td>low</td>\n",
       "      <td>5more</td>\n",
       "      <td>more</td>\n",
       "      <td>big</td>\n",
       "      <td>high</td>\n",
       "      <td>vgood</td>\n",
       "    </tr>\n",
       "  </tbody>\n",
       "</table>\n",
       "<p>1728 rows × 7 columns</p>\n",
       "</div>"
      ],
      "text/plain": [
       "     buying  maint  doors persons lug_boot safety  class\n",
       "0     vhigh  vhigh      2       2    small    low  unacc\n",
       "1     vhigh  vhigh      2       2    small    med  unacc\n",
       "2     vhigh  vhigh      2       2    small   high  unacc\n",
       "3     vhigh  vhigh      2       2      med    low  unacc\n",
       "4     vhigh  vhigh      2       2      med    med  unacc\n",
       "...     ...    ...    ...     ...      ...    ...    ...\n",
       "1723    low    low  5more    more      med    med   good\n",
       "1724    low    low  5more    more      med   high  vgood\n",
       "1725    low    low  5more    more      big    low  unacc\n",
       "1726    low    low  5more    more      big    med   good\n",
       "1727    low    low  5more    more      big   high  vgood\n",
       "\n",
       "[1728 rows x 7 columns]"
      ]
     },
     "execution_count": 4,
     "metadata": {},
     "output_type": "execute_result"
    }
   ],
   "source": [
    "df"
   ]
  },
  {
   "cell_type": "code",
   "execution_count": 5,
   "id": "a7c1a5ab",
   "metadata": {},
   "outputs": [
    {
     "name": "stdout",
     "output_type": "stream",
     "text": [
      "<class 'pandas.core.frame.DataFrame'>\n",
      "RangeIndex: 1728 entries, 0 to 1727\n",
      "Data columns (total 7 columns):\n",
      " #   Column    Non-Null Count  Dtype \n",
      "---  ------    --------------  ----- \n",
      " 0   buying    1728 non-null   object\n",
      " 1   maint     1728 non-null   object\n",
      " 2   doors     1728 non-null   object\n",
      " 3   persons   1728 non-null   object\n",
      " 4   lug_boot  1728 non-null   object\n",
      " 5   safety    1728 non-null   object\n",
      " 6   class     1728 non-null   object\n",
      "dtypes: object(7)\n",
      "memory usage: 94.6+ KB\n"
     ]
    }
   ],
   "source": [
    "df.info()"
   ]
  },
  {
   "cell_type": "code",
   "execution_count": 6,
   "id": "4f8cc154",
   "metadata": {},
   "outputs": [
    {
     "data": {
      "text/plain": [
       "buying      0\n",
       "maint       0\n",
       "doors       0\n",
       "persons     0\n",
       "lug_boot    0\n",
       "safety      0\n",
       "class       0\n",
       "dtype: int64"
      ]
     },
     "execution_count": 6,
     "metadata": {},
     "output_type": "execute_result"
    }
   ],
   "source": [
    "# 결측치 확인\n",
    "df.isna().sum()"
   ]
  },
  {
   "cell_type": "code",
   "execution_count": 7,
   "id": "41a96395",
   "metadata": {},
   "outputs": [],
   "source": [
    "X = df.drop([\"class\"], axis=1)\n",
    "y = df[\"class\"]\n",
    "\n",
    "X_train, X_test, y_train, y_test = train_test_split(X, y, test_size=0.3, random_state=1)"
   ]
  },
  {
   "cell_type": "code",
   "execution_count": 8,
   "id": "9f2369a3",
   "metadata": {},
   "outputs": [],
   "source": [
    "encoder = ce.OrdinalEncoder(cols=['buying', 'maint', 'doors', 'persons', 'lug_boot', 'safety'])"
   ]
  },
  {
   "cell_type": "code",
   "execution_count": 9,
   "id": "4cd2e3db",
   "metadata": {},
   "outputs": [],
   "source": [
    "X_train = encoder.fit_transform(X_train)\n",
    "X_test = encoder.transform(X_test)"
   ]
  },
  {
   "cell_type": "markdown",
   "id": "9eac719b",
   "metadata": {},
   "source": [
    "### LogisticRegression"
   ]
  },
  {
   "cell_type": "code",
   "execution_count": 10,
   "id": "fc0f15ac",
   "metadata": {},
   "outputs": [
    {
     "name": "stdout",
     "output_type": "stream",
     "text": [
      "모델 정확도 0.6821\n"
     ]
    }
   ],
   "source": [
    "lr_clf = LogisticRegression(random_state=111)\n",
    "lr_clf.fit(X_train, y_train)\n",
    "y_pred = lr_clf.predict(X_test)\n",
    "\n",
    "print(\"모델 정확도 {0:0.4f}\".format(accuracy_score(y_test, y_pred)))"
   ]
  },
  {
   "cell_type": "code",
   "execution_count": 11,
   "id": "f4c1f85a",
   "metadata": {},
   "outputs": [
    {
     "name": "stdout",
     "output_type": "stream",
     "text": [
      "Fitting 3 folds for each of 48 candidates, totalling 144 fits\n",
      "평균 정확도:0.6964\n",
      "최적의 하이퍼파라미터 {'C': 0.01, 'max_iter': 100, 'penalty': 'l2'}\n"
     ]
    }
   ],
   "source": [
    "lr_params = {\n",
    "    \"penalty\": [\"l1\", \"l2\", \"elasticnet\", None], \n",
    "    \"C\": [0.01, 0.1, 1, 5, 10, 100], \n",
    "    \"max_iter\": [100, 500]\n",
    "}\n",
    "\n",
    "grid_cv = GridSearchCV(lr_clf, param_grid=lr_params, scoring=\"accuracy\", cv=3, verbose=1)\n",
    "grid_cv.fit(X_train, y_train)\n",
    "print(\"평균 정확도:{0:.4f}\".format(grid_cv.best_score_))\n",
    "print(\"최적의 하이퍼파라미터\", grid_cv.best_params_)"
   ]
  },
  {
   "cell_type": "code",
   "execution_count": 12,
   "id": "656ee074",
   "metadata": {},
   "outputs": [
    {
     "name": "stdout",
     "output_type": "stream",
     "text": [
      "Fitting 3 folds for each of 36 candidates, totalling 108 fits\n",
      "평균 정확도:0.6998\n",
      "최적의 하이퍼파라미터 {'C': 0.01, 'class_weight': None, 'max_iter': 100, 'penalty': 'l2', 'solver': 'liblinear'}\n"
     ]
    }
   ],
   "source": [
    "lr_params = {\n",
    "    \"penalty\": [\"l2\"], \n",
    "    \"C\": [0, 0.01, 0.05], \n",
    "    \"class_weight\": [\"balanced\", None], \n",
    "    \"max_iter\": [100], \n",
    "    \"solver\": [\"lbfgs\", \"liblinear\", \"newton-cg\", \"newton-cholesky\", \"sag\", \"saga\"]\n",
    "}\n",
    "\n",
    "grid_cv = GridSearchCV(lr_clf, param_grid=lr_params, scoring=\"accuracy\", cv=3, verbose=1)\n",
    "grid_cv.fit(X_train, y_train)\n",
    "print(\"평균 정확도:{0:.4f}\".format(grid_cv.best_score_))\n",
    "print(\"최적의 하이퍼파라미터\", grid_cv.best_params_)"
   ]
  },
  {
   "cell_type": "code",
   "execution_count": 13,
   "id": "b5011f0f",
   "metadata": {},
   "outputs": [
    {
     "name": "stdout",
     "output_type": "stream",
     "text": [
      "모델 정확도 0.7071\n"
     ]
    }
   ],
   "source": [
    "lr_clf = LogisticRegression(C=0.01, max_iter=100, penalty=\"l2\", solver=\"liblinear\", random_state=111)\n",
    "lr_clf.fit(X_train, y_train)\n",
    "y_pred = lr_clf.predict(X_test)\n",
    "\n",
    "print(\"모델 정확도 {0:0.4f}\".format(accuracy_score(y_test, y_pred)))"
   ]
  },
  {
   "cell_type": "markdown",
   "id": "edb61cb9",
   "metadata": {},
   "source": [
    "- 튜닝 전 정확도 0.6821, 튜닝 후 정확도 0.7071\n",
    "- 로지스틱 회귀는 데이터의 선형 관계를 가정하기 때문에 선형 관계가 아닌 데이터에서는 성능이 떨어진다."
   ]
  },
  {
   "cell_type": "markdown",
   "id": "6e704876",
   "metadata": {},
   "source": [
    "### KNeighborsClassifier"
   ]
  },
  {
   "cell_type": "code",
   "execution_count": 14,
   "id": "7906c138",
   "metadata": {},
   "outputs": [
    {
     "name": "stdout",
     "output_type": "stream",
     "text": [
      "k = 1 0.7071290944123314\n",
      "k = 2 0.6820809248554913\n",
      "k = 3 0.7938342967244701\n",
      "k = 4 0.74373795761079\n",
      "k = 5 0.7996146435452793\n",
      "k = 6 0.7842003853564548\n",
      "k = 7 0.7803468208092486\n",
      "k = 8 0.7784200385356455\n",
      "k = 9 0.7784200385356455\n",
      "k = 10 0.7649325626204239\n",
      "k = 11 0.7687861271676301\n",
      "k = 12 0.7726396917148363\n",
      "k = 13 0.7475915221579962\n",
      "k = 14 0.7398843930635838\n",
      "k = 15 0.7398843930635838\n",
      "k = 16 0.7418111753371869\n",
      "k = 17 0.7456647398843931\n",
      "k = 18 0.7475915221579962\n",
      "k = 19 0.7360308285163777\n",
      "k = 20 0.7456647398843931\n"
     ]
    }
   ],
   "source": [
    "acc_val = []\n",
    "for K in range(20):\n",
    "    K = K+1\n",
    "    model = KNeighborsClassifier(n_neighbors=K)\n",
    "    model.fit(X_train, y_train)\n",
    "    pred = model.predict(X_test)\n",
    "    accuracy = accuracy_score(y_test, pred)\n",
    "    acc_val.append(accuracy)\n",
    "    print(\"k\", \"=\", K, accuracy)"
   ]
  },
  {
   "cell_type": "code",
   "execution_count": 17,
   "id": "3ddffcd8",
   "metadata": {},
   "outputs": [
    {
     "name": "stdout",
     "output_type": "stream",
     "text": [
      "모델 정확도 0.7996\n"
     ]
    }
   ],
   "source": [
    "knn_clf = KNeighborsClassifier(n_neighbors=5)\n",
    "knn_clf.fit(X_train, y_train)\n",
    "y_pred = knn_clf.predict(X_test)\n",
    "\n",
    "print(\"모델 정확도 {0:0.4f}\".format(accuracy_score(y_test, y_pred)))"
   ]
  },
  {
   "cell_type": "markdown",
   "id": "f7a50ed1",
   "metadata": {},
   "source": [
    "- k=5일 때 정확도 0.7996\n",
    "- 약 0.8 정도의 정확도로, 로지스틱 회귀보다 높게 나타난다."
   ]
  },
  {
   "cell_type": "markdown",
   "id": "acbc2a91",
   "metadata": {},
   "source": [
    "### DecisionTreeClassifier"
   ]
  },
  {
   "cell_type": "code",
   "execution_count": 18,
   "id": "1d085760",
   "metadata": {},
   "outputs": [
    {
     "name": "stdout",
     "output_type": "stream",
     "text": [
      "모델 정확도 0.9056\n"
     ]
    }
   ],
   "source": [
    "dt_clf = DecisionTreeClassifier(random_state=111)\n",
    "dt_clf.fit(X_train, y_train)\n",
    "y_pred = dt_clf.predict(X_test)\n",
    "\n",
    "print(\"모델 정확도 {0:0.4f}\".format(accuracy_score(y_test, y_pred)))"
   ]
  },
  {
   "cell_type": "code",
   "execution_count": 19,
   "id": "3d7b6ef0",
   "metadata": {},
   "outputs": [
    {
     "name": "stdout",
     "output_type": "stream",
     "text": [
      "Fitting 3 folds for each of 336 candidates, totalling 1008 fits\n",
      "평균 정확도:0.8718\n",
      "최적의 하이퍼파라미터 {'criterion': 'gini', 'max_depth': 12, 'max_features': 6, 'min_samples_split': 5}\n"
     ]
    }
   ],
   "source": [
    "dt_params = {\n",
    "    \"criterion\": [\"gini\", \"entropy\", \"log_loss\"], \n",
    "    \"max_depth\": [4,8,12,16], \n",
    "    \"min_samples_split\": [5,10,15,20], \n",
    "    \"max_features\": [1,2,3,4,5,6,7]\n",
    "}\n",
    "\n",
    "grid_cv = GridSearchCV(dt_clf, param_grid=dt_params, scoring=\"accuracy\", cv=3, verbose=1)\n",
    "grid_cv.fit(X_train, y_train)\n",
    "print(\"평균 정확도:{0:.4f}\".format(grid_cv.best_score_))\n",
    "print(\"최적의 하이퍼파라미터\", grid_cv.best_params_)"
   ]
  },
  {
   "cell_type": "code",
   "execution_count": 20,
   "id": "11fbbc7a",
   "metadata": {},
   "outputs": [
    {
     "name": "stdout",
     "output_type": "stream",
     "text": [
      "Fitting 3 folds for each of 56 candidates, totalling 168 fits\n",
      "평균 정확도:0.8850\n",
      "최적의 하이퍼파라미터 {'max_depth': 11, 'max_features': 5, 'min_samples_split': 3}\n"
     ]
    }
   ],
   "source": [
    "dt_params = {\n",
    "    \"max_depth\": [9,10,11,12,13,14,15], \n",
    "    \"min_samples_split\": [2,3,4,5,6,7,8,9], \n",
    "    \"max_features\": [5]\n",
    "}\n",
    "\n",
    "grid_cv = GridSearchCV(dt_clf, param_grid=dt_params, scoring=\"accuracy\", cv=3, verbose=1)\n",
    "grid_cv.fit(X_train, y_train)\n",
    "print(\"평균 정확도:{0:.4f}\".format(grid_cv.best_score_))\n",
    "print(\"최적의 하이퍼파라미터\", grid_cv.best_params_)"
   ]
  },
  {
   "cell_type": "code",
   "execution_count": 21,
   "id": "28820b07",
   "metadata": {},
   "outputs": [
    {
     "name": "stdout",
     "output_type": "stream",
     "text": [
      "모델 정확도 0.9056\n"
     ]
    }
   ],
   "source": [
    "dt_clf = DecisionTreeClassifier(max_depth=11, max_features=5, min_samples_split=3, random_state=111)\n",
    "dt_clf.fit(X_train, y_train)\n",
    "y_pred = dt_clf.predict(X_test)\n",
    "\n",
    "print(\"모델 정확도 {0:0.4f}\".format(accuracy_score(y_test, y_pred)))"
   ]
  },
  {
   "cell_type": "markdown",
   "id": "82523499",
   "metadata": {},
   "source": [
    "- 튜닝 전 정확도 0.9056, 튜닝 후 정확도 0.9056\n",
    "- 로지스틱 회귀와 KNN 회귀보다 높은 정확도를 보인다."
   ]
  },
  {
   "cell_type": "markdown",
   "id": "aeba4954",
   "metadata": {},
   "source": [
    "### VotingClassifier"
   ]
  },
  {
   "cell_type": "code",
   "execution_count": 25,
   "id": "d823f7ba",
   "metadata": {},
   "outputs": [
    {
     "name": "stdout",
     "output_type": "stream",
     "text": [
      "0.8208092485549133\n"
     ]
    }
   ],
   "source": [
    "# hard default\n",
    "lr_clf = LogisticRegression()\n",
    "knn_clf = KNeighborsClassifier(n_neighbors=5)\n",
    "dt_clf = DecisionTreeClassifier()\n",
    "\n",
    "vo_clf = VotingClassifier(estimators=[(\"LR\",lr_clf),(\"KNN\",knn_clf),(\"DT\",dt_clf)])\n",
    "\n",
    "vo_clf.fit(X_train, y_train)\n",
    "pred = vo_clf.predict(X_test)\n",
    "print(accuracy_score(y_test, pred))"
   ]
  },
  {
   "cell_type": "code",
   "execution_count": 26,
   "id": "b612456c",
   "metadata": {},
   "outputs": [
    {
     "name": "stdout",
     "output_type": "stream",
     "text": [
      "0.8921001926782274\n"
     ]
    }
   ],
   "source": [
    "# soft default\n",
    "lr_clf = LogisticRegression()\n",
    "knn_clf = KNeighborsClassifier(n_neighbors=5)\n",
    "dt_clf = DecisionTreeClassifier()\n",
    "\n",
    "vo_clf = VotingClassifier(estimators=[(\"LR\",lr_clf),(\"KNN\",knn_clf),(\"DT\",dt_clf)], \n",
    "                          voting=\"soft\")\n",
    "\n",
    "vo_clf.fit(X_train, y_train)\n",
    "pred = vo_clf.predict(X_test)\n",
    "print(accuracy_score(y_test, pred))"
   ]
  },
  {
   "cell_type": "code",
   "execution_count": 27,
   "id": "f98463d4",
   "metadata": {},
   "outputs": [
    {
     "name": "stdout",
     "output_type": "stream",
     "text": [
      "0.8188824662813102\n"
     ]
    }
   ],
   "source": [
    "# hard tunned\n",
    "lr_clf = LogisticRegression(C=0.01, max_iter=100, penalty=\"l2\", solver=\"liblinear\", random_state=111)\n",
    "knn_clf = KNeighborsClassifier(n_neighbors=5)\n",
    "dt_clf = DecisionTreeClassifier(max_depth=11, max_features=5, min_samples_split=3, random_state=111)\n",
    "\n",
    "vo_clf = VotingClassifier(estimators=[(\"LR\",lr_clf),(\"KNN\",knn_clf),(\"DT\",dt_clf)])\n",
    "\n",
    "vo_clf.fit(X_train, y_train)\n",
    "pred = vo_clf.predict(X_test)\n",
    "print(accuracy_score(y_test, pred))"
   ]
  },
  {
   "cell_type": "code",
   "execution_count": 28,
   "id": "c5310a57",
   "metadata": {},
   "outputs": [
    {
     "name": "stdout",
     "output_type": "stream",
     "text": [
      "0.882466281310212\n"
     ]
    }
   ],
   "source": [
    "# soft tunned\n",
    "lr_clf = LogisticRegression(C=0.01, max_iter=100, penalty=\"l2\", solver=\"liblinear\", random_state=111)\n",
    "knn_clf = KNeighborsClassifier(n_neighbors=5)\n",
    "dt_clf = DecisionTreeClassifier(max_depth=11, max_features=5, min_samples_split=3, random_state=111)\n",
    "\n",
    "vo_clf = VotingClassifier(estimators=[(\"LR\",lr_clf),(\"KNN\",knn_clf),(\"DT\",dt_clf)], \n",
    "                          voting=\"soft\")\n",
    "\n",
    "vo_clf.fit(X_train, y_train)\n",
    "pred = vo_clf.predict(X_test)\n",
    "print(accuracy_score(y_test, pred))"
   ]
  },
  {
   "cell_type": "markdown",
   "id": "0d43bc8d",
   "metadata": {},
   "source": [
    "- 기본값 파라미터의 soft voting이 가장 높은 정확도 0.8921를 보인다.\n",
    "- 전반적으로 모든 모델에서 과적합이 발생하였고, 모두 Random Forest에 비해 성능이 떨어진다는 공통점이 있다."
   ]
  }
 ],
 "metadata": {
  "kernelspec": {
   "display_name": "Python 3 (ipykernel)",
   "language": "python",
   "name": "python3"
  },
  "language_info": {
   "codemirror_mode": {
    "name": "ipython",
    "version": 3
   },
   "file_extension": ".py",
   "mimetype": "text/x-python",
   "name": "python",
   "nbconvert_exporter": "python",
   "pygments_lexer": "ipython3",
   "version": "3.9.12"
  }
 },
 "nbformat": 4,
 "nbformat_minor": 5
}
